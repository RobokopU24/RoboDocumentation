{
 "cells": [
  {
   "cell_type": "code",
   "execution_count": null,
   "id": "spatial-chrome",
   "metadata": {},
   "outputs": [],
   "source": [
    "import requests\n",
    "import json"
   ]
  },
  {
   "cell_type": "code",
   "execution_count": null,
   "id": "cc3b151f-50b5-4090-889b-a7d60c28d584",
   "metadata": {},
   "outputs": [],
   "source": [
    "import pprint\n",
    "pp = pprint.PrettyPrinter(indent=5)"
   ]
  },
  {
   "cell_type": "markdown",
   "id": "younger-affect",
   "metadata": {
    "tags": []
   },
   "source": [
    "In addition to the methods using TRAPI, outlined in `HelloRobokop_TRAPI.ipynb` and `HelloRobokop_TRAPI_multiple_IDs.ipynb`, you can use the Cypher Query Language to talk to the graph.  An intro to using the Cypher Query Language can be found here: https://neo4j.com/developer/cypher/guide-cypher-basics/\n",
    "\n",
    "There are two instances for accessing the graph using cypher.  There is one at http://robokopkg.renci.org which has a cypher browser on it, or you can write cypher and post it there.\n",
    "\n",
    "The example query below asks \"Find me a Gene that is related to both `PUBCHEM.COMPOUND:644073` (Buprenorphine) and `HP:0001337` (Tremor)\"."
   ]
  },
  {
   "cell_type": "code",
   "execution_count": 6,
   "id": "5570c171-b7f4-4dec-9f93-bd3571d5e010",
   "metadata": {},
   "outputs": [],
   "source": [
    "# Buprenorphine -> [Gene] -> Tremor\n",
    "cypher = f\"\"\"MATCH (n0_0:`biolink:ChemicalEntity`)-[r0_0]-(n1_0:`biolink:Gene`)-[r1_0]-(n2_0:`biolink:DiseaseOrPhenotypicFeature`) \\\n",
    "WHERE n0_0.name IN ['Buprenorphine'] AND n2_0.name IN ['Tremor'] \\\n",
    "RETURN [startNode(r0_0),[type(r0_0),properties(r0_0)],endNode(r0_0)] as edge_1, \\ \n",
    "[startNode(r1_0),[type(r1_0),properties(r1_0)],endNode(r1_0)] as edge_2, \\\n",
    "[n0_0.name, n1_0.name, n2_0.name] as node_names LIMIT 100\"\"\"\n"
   ]
  },
  {
   "cell_type": "markdown",
   "id": "a164c3ad-e364-498e-a427-09be1d93b1d0",
   "metadata": {},
   "source": [
    "The `MATCH` portion tells the structure of the query and names each node and edge. The first node is designated `n0_0` and has the type `biolink:ChemicalEntity`, which is a defined property used in the ROBOKOP KG.  Similarly, the second node is designated `n1_0` with the type `biolink:Gene`, and the third node is designated `n2_0` with the type `biolink:DiseaseOrPhenotypicFeature`.  Between the nodes are the edges, designated `r0_0` for the first edge and `r1_0` for the second edge.\n",
    "\n",
    "The `WHERE` piece defines the names to use in the query, where `Buprenorphine` for `n0_0` and `Tremor` for `n2_0`.\n",
    "\n",
    "Three query results are returned in this example in the `RETURN` portion.  The first contains the subject and object nodes and the edge properties of the first edge as `edge_1`.  The second contains the subject and object nodes and the edge properties of the second edge as `edge_2`.  The third contains each of the nodes and their names as `node_names`.\n",
    "\n",
    "Any adjustments made to the `RETURN` section will need further adjustments downstream when extracting results in the sections below."
   ]
  },
  {
   "cell_type": "markdown",
   "id": "3bcf9c74-9dc9-44bc-a56e-b0707c20639b",
   "metadata": {
    "tags": []
   },
   "source": [
    "## Cypher - robokopkg.renci.org\n",
    "\n",
    "The first instance for accessing the graph using cypher is here using the bolt protocol.  After defining the Neo4jConnection class, the query is sent to http://robokopkg.renci.org"
   ]
  },
  {
   "cell_type": "code",
   "execution_count": 38,
   "id": "3e262083-238b-4e64-befb-7633d431ec59",
   "metadata": {},
   "outputs": [],
   "source": [
    "from neo4j import GraphDatabase\n",
    "class Neo4jConnection:\n",
    "    \n",
    "    def __init__(self, uri, user, pwd):\n",
    "        self.__uri = uri\n",
    "        self.__user = user\n",
    "        self.__pwd = pwd\n",
    "        self.__driver = None\n",
    "        try:\n",
    "            self.__driver = GraphDatabase.driver(self.__uri, auth=(self.__user, self.__pwd))\n",
    "        except Exception as e:\n",
    "            print(\"Failed to create the driver:\", e)\n",
    "        \n",
    "    def close(self):\n",
    "        if self.__driver is not None:\n",
    "            self.__driver.close()\n",
    "        \n",
    "    def query(self, query, db=None):\n",
    "        assert self.__driver is not None, \"Driver not initialized!\"\n",
    "        session = None\n",
    "        response = None\n",
    "        try: \n",
    "            session = self.__driver.session(database=db) if db is not None else self.__driver.session()\n",
    "            response = list(session.run(query))\n",
    "        except Exception as e:\n",
    "            print(\"Query failed:\", e)\n",
    "        finally: \n",
    "            if session is not None:\n",
    "                session.close()\n",
    "        return response"
   ]
  },
  {
   "cell_type": "code",
   "execution_count": 5,
   "id": "f00dc13a-3b7f-4e7a-a394-6ce724536e93",
   "metadata": {},
   "outputs": [],
   "source": [
    "pw = ''\n",
    "conn = Neo4jConnection(uri=\"bolt://robokopkg.renci.org:7687\", user = 'neo4j', pwd = pw)\n",
    "record_list = conn.query(cypher)"
   ]
  },
  {
   "cell_type": "code",
   "execution_count": 6,
   "id": "4b331306-cd9a-4548-80ee-4551d98f4f70",
   "metadata": {},
   "outputs": [],
   "source": [
    "from datetime import datetime\n",
    "from pathlib import Path\n",
    "\n",
    "now = datetime.now()\n",
    "dt_string = now.strftime(\"%Y-%m-%d_%H%M%S\")\n",
    "write_dir = Path(\"output/Cypher_robokopkg\",str(dt_string))\n",
    "write_dir.mkdir(parents=True, exist_ok=True)"
   ]
  },
  {
   "cell_type": "markdown",
   "id": "13649715-a35a-40d5-8f30-73f9a72b14b6",
   "metadata": {},
   "source": [
    "A list of records is returned from the query, where the data can be accessed using the `data()` method.  Known keys can be passed to `data()`, but leaving it blank will return everything.  Data in records are returned with columns labeled for nodes and relationships/edges.  Results are extracted and stored in the format of `subject` -> `predicate` -> `object`, followed by the remaining edge properties.  Including the edge properties helps to distinguish edges that may have the same predicates.  Unique entries are appended to a list, counted, and then written to a text file.\n",
    "\n",
    "The code below extracts results based on the structure of the original cypher query in the section above.  Any changes to the `RETURN` part of the query will require adjustments to the code below."
   ]
  },
  {
   "cell_type": "code",
   "execution_count": 28,
   "id": "3a6645df-df09-48fc-bee6-8d1c40a962ce",
   "metadata": {},
   "outputs": [
    {
     "name": "stdout",
     "output_type": "stream",
     "text": [
      "Buprenorphine_CYP2D6_Tremor\n",
      "{    'Buprenorphine -> biolink:affects -> CYP2D6': 1,\n",
      "     'Buprenorphine -> biolink:directly_physically_interacts_with -> CYP2D6': 1,\n",
      "     'Buprenorphine -> biolink:regulates -> CYP2D6': 1,\n",
      "     'CYP2D6 -> biolink:affects -> Buprenorphine': 1,\n",
      "     'CYP2D6 -> biolink:genetic_association -> Tremor': 2}\n"
     ]
    }
   ],
   "source": [
    "import os\n",
    "from collections import Counter\n",
    "\n",
    "i = 0\n",
    "\n",
    "string_out_list = []\n",
    "for record in record_list: \n",
    "    record_data = record.data()\n",
    "    j = 0\n",
    "    record_data_first2 = {k: record_data[k] for k in list(record_data)[:2]}\n",
    "    for label, data in record_data_first2.items():\n",
    "        string_out = f\"{data[0]['name']} -> {data[1][0]} -> {data[2]['name']}||{data[1][1]}\"\n",
    "        # print(f\"{data[0]['name']} -> {data[1][0]} -> {data[2]['name']}\")\n",
    "        # print(f\"Edge properties: {data[1][1]}\")\n",
    "        if string_out not in string_out_list:\n",
    "            string_out_list.append(string_out)\n",
    "        j = j + 1\n",
    "    # print(\"\")\n",
    "\n",
    "    i = i + 1\n",
    "    # if i > 0:\n",
    "        # break\n",
    "\n",
    "combined_node_list = \"_\".join(list(record_list[0].data('node_names').values())[0])\n",
    "print(combined_node_list)\n",
    "\n",
    "string_out_list = [i.split('||', 1)[0] for i in string_out_list]\n",
    "\n",
    "string_out_dict = dict(Counter(string_out_list).items())\n",
    "pp.pprint(string_out_dict)\n",
    "\n",
    "with open(os.path.join(write_dir,combined_node_list+\".txt\"), 'w') as convert_file:\n",
    "    convert_file.write(json.dumps(string_out_dict))"
   ]
  },
  {
   "cell_type": "markdown",
   "id": "collectible-burlington",
   "metadata": {
    "tags": []
   },
   "source": [
    "## Cypher - automat.renci.org\n",
    "\n",
    "The second instance of accessing the graph using cypher is to send through the automat interface (https://automat.renci.org/robokopkg/cypher), using the same cypher query from above, submitted in a format compatible with json."
   ]
  },
  {
   "cell_type": "markdown",
   "id": "39f34879-bc32-4324-83db-9daf7a4e50f3",
   "metadata": {},
   "source": [
    "The data is returned in a JSON format and can be extracted in a similar way as above after calling the right property of the resulting JSON string."
   ]
  },
  {
   "cell_type": "code",
   "execution_count": 30,
   "id": "fantastic-updating",
   "metadata": {},
   "outputs": [
    {
     "name": "stdout",
     "output_type": "stream",
     "text": [
      "200\n",
      "['edge_1', 'edge_2', 'node_names']\n"
     ]
    }
   ],
   "source": [
    "j = {'query': cypher}\n",
    "results = requests.post('https://automat.renci.org/robokopkg/cypher',json=j)\n",
    "print(results.status_code)\n",
    "results_json = results.json()\n",
    "print(results_json['results'][0]['columns'])\n",
    "column_names = results_json['results'][0]['columns']"
   ]
  },
  {
   "cell_type": "code",
   "execution_count": 31,
   "id": "b7eff2c6-cd4c-40b3-8baa-a189afd187f9",
   "metadata": {},
   "outputs": [],
   "source": [
    "from datetime import datetime\n",
    "from pathlib import Path\n",
    "\n",
    "now = datetime.now()\n",
    "dt_string = now.strftime(\"%Y-%m-%d_%H%M%S\")\n",
    "write_dir = Path(\"output/Cypher_automat\",str(dt_string))\n",
    "write_dir.mkdir(parents=True, exist_ok=True)"
   ]
  },
  {
   "cell_type": "markdown",
   "id": "8a14389d-3933-4008-b16d-ac7915505e09",
   "metadata": {},
   "source": [
    "The code below extracts results based on the structure of the original cypher query in the section above.  Any changes to the `RETURN` part of the query will require adjustments to the code below."
   ]
  },
  {
   "cell_type": "code",
   "execution_count": 32,
   "id": "imposed-cross",
   "metadata": {},
   "outputs": [
    {
     "name": "stdout",
     "output_type": "stream",
     "text": [
      "Buprenorphine_CYP2D6_Tremor\n",
      "{    'Buprenorphine -> biolink:affects -> CYP2D6': 1,\n",
      "     'Buprenorphine -> biolink:directly_physically_interacts_with -> CYP2D6': 1,\n",
      "     'CYP2D6 -> biolink:affects -> Buprenorphine': 1,\n",
      "     'CYP2D6 -> biolink:genetic_association -> Tremor': 2}\n"
     ]
    }
   ],
   "source": [
    "import os\n",
    "from collections import Counter\n",
    "\n",
    "i = 0\n",
    "\n",
    "string_out_list = []\n",
    "for result in results_json['results'][0]['data']:\n",
    "    j = 0\n",
    "    for item in result['row'][0:2]:\n",
    "        string_out = f\"{item[0]['name']} -> {item[1][0]} -> {item[2]['name']}||{item[1][1]}\"\n",
    "        if string_out not in string_out_list:\n",
    "            string_out_list.append(string_out)\n",
    "        j = j + 1\n",
    "\n",
    "    i = i + 1\n",
    "    # if i > 0:\n",
    "    #     break\n",
    "    \n",
    "combined_node_list = \"_\".join(results_json['results'][0]['data'][0]['row'][2]).replace(\" \", \"_\")\n",
    "print(combined_node_list)\n",
    "\n",
    "string_out_list = [i.split('||', 1)[0] for i in string_out_list]\n",
    "\n",
    "string_out_dict = dict(Counter(string_out_list).items())\n",
    "pp.pprint(string_out_dict)\n",
    "\n",
    "with open(os.path.join(write_dir,combined_node_list+\".txt\"), 'w') as convert_file:\n",
    "    convert_file.write(json.dumps(string_out_dict))"
   ]
  },
  {
   "cell_type": "markdown",
   "id": "1311f295-694e-476b-8223-d37a050f5913",
   "metadata": {
    "tags": []
   },
   "source": [
    "## ExEmPLAR"
   ]
  },
  {
   "cell_type": "markdown",
   "id": "108da294-ed62-4b33-a6f2-45fbfc546911",
   "metadata": {},
   "source": [
    "ExEmPLAR (https://www.exemplar.mml.unc.edu/) is an additional GUI-based tool that uses Cypher to explore the ROBOKOP KG.  Start and End Nodes can be specified by type and have multiple terms specified.  The labels applied to the Start and End Nodes can be checked against the KG for presence or absence.  Additionally, the number of nodes in-between can be specified along with edge types.  A query from ExEmPLAR will return a collapsed version of edge results.  Note that directionality is not preserved in the query results, but the orientation of the nodes are preserved.  For example, `Buprenorphine` - `CYP2D6` - `Tremor` will be returned with edge labels, but not which direction the edge applies.\n",
    "\n",
    "Using the same `Buprenorphine` - `Gene` - `Tremor` example as above, three rows are returned.  These are in a collapsed form of the results from queries to `robokopkg.renci.org` above, summarized below.\n",
    " - `Buprenorphine` - `affects` - `CYP2D6`\n",
    " - `Buprenorphine` - `directly physically interacts with` - `CYP2D6`\n",
    " - `Buprenorphine` - `regulates` - `CYP2D6`\n",
    " - `CYP2D6` - `genetic association` - `Tremor`\n",
    "\n",
    "Additionally, cypher queries can be generated by clicking the `Copy` button from the ExEmPLAR tool after setting up a query pattern.  An example using the copied pre-genereated cypher query to each of `automat.renci.org` and `robokopkg.renci.org` is below.\n",
    "\n",
    "The difficulty faced with the copied query is that \"RETURN \\*\" is not specific with the structures given back.  In the queries to `automat.renci.org` and `robokopkg.renci.org`, while the nodes and their respective information are preserved, the edges have differing amounts of information returned.  The query to `automat.renci.org` gets most of the edge properties except for the edge predicate and subject/object nodes, thus directionality.  The query to `robokopkg.renci.org` returns the opposite, where the edge predicate is solely returned with no edge properties, which makes the returned information appear redundant."
   ]
  },
  {
   "cell_type": "code",
   "execution_count": 1,
   "id": "1a96fcdf-3ff0-42e3-92a9-50a093a55ebf",
   "metadata": {},
   "outputs": [],
   "source": [
    "cypher_exemplar = \"MATCH (n0_0:`biolink:ChemicalEntity`)-[r0_0]-(n1_0:`biolink:Gene`)-[r1_0]-(n2_0:`biolink:DiseaseOrPhenotypicFeature`) WHERE n0_0.name IN ['Buprenorphine'] AND n2_0.name IN ['Tremor'] RETURN * LIMIT 100\""
   ]
  },
  {
   "cell_type": "code",
   "execution_count": 9,
   "id": "751e9cbe-e195-4510-80f0-4384908dc3c2",
   "metadata": {},
   "outputs": [],
   "source": [
    "import pprint\n",
    "pp = pprint.PrettyPrinter(indent=5)"
   ]
  },
  {
   "cell_type": "code",
   "execution_count": 10,
   "id": "f8b69955-b655-4d99-8032-7a5bb9803d8e",
   "metadata": {},
   "outputs": [
    {
     "name": "stdout",
     "output_type": "stream",
     "text": [
      "200\n",
      "['n0_0', 'n1_0', 'n2_0', 'r0_0', 'r1_0']\n"
     ]
    }
   ],
   "source": [
    "import requests\n",
    "import json\n",
    "\n",
    "j = {'query': cypher_exemplar}\n",
    "results = requests.post('https://automat.renci.org/robokopkg/cypher',json=j)\n",
    "results_json = results.json()"
   ]
  },
  {
   "cell_type": "code",
   "execution_count": 44,
   "id": "71e5736e-62ea-4007-b1de-af1e7f9d7143",
   "metadata": {},
   "outputs": [
    {
     "name": "stdout",
     "output_type": "stream",
     "text": [
      "Result 1\n",
      "Buprenorphine -> biolink:causes -> CYP2D6 -> NOT FOUND -> Tremor\n",
      "Edge 1 info: {'object_direction_qualifier': 'decreased', 'qualified_predicate': 'biolink:causes', 'biolink:primary_knowledge_source': 'infores:ctd', 'description': 'decreases activity of', 'NCBITaxon': '9606', 'object_aspect_qualifier': 'activity', 'publications': ['PMID:12756210']}\n",
      "Edge 2 info: {'biolink:primary_knowledge_source': 'infores:disgenet', 'biolink:aggregator_knowledge_source': ['infores:pharos']}\n",
      "\n",
      "Result 2\n",
      "Buprenorphine -> biolink:causes -> CYP2D6 -> NOT FOUND -> Tremor\n",
      "Edge 1 info: {'object_direction_qualifier': 'increased', 'qualified_predicate': 'biolink:causes', 'biolink:primary_knowledge_source': 'infores:ctd', 'description': 'increases metabolic processing of', 'NCBITaxon': '9606', 'object_aspect_qualifier': 'metabolic_processing', 'publications': ['PMID:12756210']}\n",
      "Edge 2 info: {'biolink:primary_knowledge_source': 'infores:disgenet', 'biolink:aggregator_knowledge_source': ['infores:pharos']}\n",
      "\n",
      "Result 3\n",
      "Buprenorphine -> NOT FOUND -> CYP2D6 -> NOT FOUND -> Tremor\n",
      "Edge 1 info: {'biolink:primary_knowledge_source': 'infores:hetionet', 'hetio_source': ['DrugBank (enzyme)']}\n",
      "Edge 2 info: {'biolink:primary_knowledge_source': 'infores:disgenet', 'biolink:aggregator_knowledge_source': ['infores:pharos']}\n",
      "\n",
      "Result 4\n",
      "Buprenorphine -> biolink:causes -> CYP2D6 -> NOT FOUND -> Tremor\n",
      "Edge 1 info: {'object_direction_qualifier': 'decreased', 'qualified_predicate': 'biolink:causes', 'biolink:primary_knowledge_source': 'infores:ctd', 'description': 'decreases activity of', 'NCBITaxon': '9606', 'object_aspect_qualifier': 'activity', 'publications': ['PMID:12756210']}\n",
      "Edge 2 info: {'biolink:primary_knowledge_source': 'infores:ctd', 'biolink:aggregator_knowledge_source': ['infores:pharos']}\n",
      "\n",
      "Result 5\n",
      "Buprenorphine -> biolink:causes -> CYP2D6 -> NOT FOUND -> Tremor\n",
      "Edge 1 info: {'object_direction_qualifier': 'increased', 'qualified_predicate': 'biolink:causes', 'biolink:primary_knowledge_source': 'infores:ctd', 'description': 'increases metabolic processing of', 'NCBITaxon': '9606', 'object_aspect_qualifier': 'metabolic_processing', 'publications': ['PMID:12756210']}\n",
      "Edge 2 info: {'biolink:primary_knowledge_source': 'infores:ctd', 'biolink:aggregator_knowledge_source': ['infores:pharos']}\n",
      "\n",
      "Result 6\n",
      "Buprenorphine -> NOT FOUND -> CYP2D6 -> NOT FOUND -> Tremor\n",
      "Edge 1 info: {'biolink:primary_knowledge_source': 'infores:hetionet', 'hetio_source': ['DrugBank (enzyme)']}\n",
      "Edge 2 info: {'biolink:primary_knowledge_source': 'infores:ctd', 'biolink:aggregator_knowledge_source': ['infores:pharos']}\n",
      "\n"
     ]
    }
   ],
   "source": [
    "print(\"Query to automat.renci.org\")\n",
    "i = 0\n",
    "for result in results_json['results'][0]['data']:\n",
    "    j = 0\n",
    "    i = i + 1\n",
    "    n1 = result['row'][0].get('name') or \"NOT FOUND\"\n",
    "    n2 = result['row'][1].get('name') or \"NOT FOUND\"\n",
    "    n3 = result['row'][2].get('name') or \"NOT FOUND\"\n",
    "    e1 = result['row'][3].get('qualified_predicate') or \"NOT FOUND\"\n",
    "    e2 = result['row'][4].get('qualified_predicate') or \"NOT FOUND\"\n",
    "    print(f\"Result {i}\")\n",
    "    print(f\"{n1} -> {e1} -> {n2} -> {e2} -> {n3}\")\n",
    "    print(f\"Edge 1 info: {result['row'][3]}\")\n",
    "    print(f\"Edge 2 info: {result['row'][4]}\\n\")\n",
    "    "
   ]
  },
  {
   "cell_type": "code",
   "execution_count": 39,
   "id": "092d6013-b069-4457-a571-c5a504d86932",
   "metadata": {},
   "outputs": [],
   "source": [
    "pw = ''\n",
    "conn = Neo4jConnection(uri=\"bolt://robokopkg.renci.org:7687\", user = 'neo4j', pwd = pw)\n",
    "record_list = conn.query(cypher_exemplar)"
   ]
  },
  {
   "cell_type": "code",
   "execution_count": 61,
   "id": "045310ba-c5d8-4717-8979-8adb8e728733",
   "metadata": {},
   "outputs": [
    {
     "name": "stdout",
     "output_type": "stream",
     "text": [
      "Result 1:\n",
      "Buprenorphine - biolink:affects - CYP2D6\n",
      "CYP2D6 - biolink:genetic_association - Tremor\n",
      "\n",
      "Result 2:\n",
      "CYP2D6 - biolink:affects - Buprenorphine\n",
      "CYP2D6 - biolink:genetic_association - Tremor\n",
      "\n",
      "Result 3:\n",
      "Buprenorphine - biolink:regulates - CYP2D6\n",
      "CYP2D6 - biolink:genetic_association - Tremor\n",
      "\n",
      "Result 4:\n",
      "Buprenorphine - biolink:directly_physically_interacts_with - CYP2D6\n",
      "CYP2D6 - biolink:genetic_association - Tremor\n",
      "\n",
      "Result 5:\n",
      "Buprenorphine - biolink:affects - CYP2D6\n",
      "CYP2D6 - biolink:genetic_association - Tremor\n",
      "\n",
      "Result 6:\n",
      "CYP2D6 - biolink:affects - Buprenorphine\n",
      "CYP2D6 - biolink:genetic_association - Tremor\n",
      "\n",
      "Result 7:\n",
      "Buprenorphine - biolink:regulates - CYP2D6\n",
      "CYP2D6 - biolink:genetic_association - Tremor\n",
      "\n",
      "Result 8:\n",
      "Buprenorphine - biolink:directly_physically_interacts_with - CYP2D6\n",
      "CYP2D6 - biolink:genetic_association - Tremor\n",
      "\n"
     ]
    }
   ],
   "source": [
    "import os\n",
    "\n",
    "print(\"Query to robokopkg.renci.org\")\n",
    "\n",
    "i = 0\n",
    "for record in record_list: \n",
    "    i = i + 1\n",
    "    record_data = record.data()\n",
    "    \n",
    "    print(f\"Result {i}:\")\n",
    "    for label, data in record_data.items():\n",
    "        if 'r' in label:\n",
    "            print(f\"{data[0]['name']} - {data[1]} - {data[2]['name']}\")\n",
    "    print()\n",
    "    # if i > 0:\n",
    "        # break"
   ]
  },
  {
   "cell_type": "markdown",
   "id": "93ce63fc-0d7e-463c-9daf-2a4890a0c104",
   "metadata": {},
   "source": [
    "To summarize, we encountered issues with using the notation \"RETURN \\*\", mainly because this is not specific with what to return.  Queries to `automat` return edge properties, not including direction or predicates, but queries to `robokopkg.renci.org` return the direction and predicates, not including edge properties.  Above, for `robokopkg.renci.org`, it appears as if results 1 & 5, 2 & 6, 3 & 7, and 4 & 8 are duplicates of each other, while for `automat.renci.org`, edge predicates are missing.  We replaced the \"\\*\" with a format to get node pairs and specific relationship information, including the type and properties.  This is demonstrated in the sections [Cypher - robokopkg.renci.org](#Cypher---robokopkg.renci.org) and [Cypher - automat.renci.org](#Cypher---automat.renci.org)"
   ]
  },
  {
   "cell_type": "code",
   "execution_count": null,
   "id": "7cab1276-8733-4f79-a593-c59b17338307",
   "metadata": {},
   "outputs": [],
   "source": []
  }
 ],
 "metadata": {
  "kernelspec": {
   "display_name": "Python 3 (ipykernel)",
   "language": "python",
   "name": "python3"
  },
  "language_info": {
   "codemirror_mode": {
    "name": "ipython",
    "version": 3
   },
   "file_extension": ".py",
   "mimetype": "text/x-python",
   "name": "python",
   "nbconvert_exporter": "python",
   "pygments_lexer": "ipython3",
   "version": "3.8.10"
  }
 },
 "nbformat": 4,
 "nbformat_minor": 5
}
