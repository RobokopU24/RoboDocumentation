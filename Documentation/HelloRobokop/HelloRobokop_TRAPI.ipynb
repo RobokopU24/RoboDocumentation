{
 "cells": [
  {
   "cell_type": "code",
   "execution_count": 1,
   "id": "spatial-chrome",
   "metadata": {},
   "outputs": [],
   "source": [
    "import requests\n",
    "import json"
   ]
  },
  {
   "cell_type": "markdown",
   "id": "reasonable-nicholas",
   "metadata": {},
   "source": [
    "TRAPI Documentation: https://github.com/NCATSTranslator/ReasonerAPI\n",
    "\n",
    "Most TRAPI documents contain a `message` key.  Within that `message` are a `query_graph` denoting the user query,\n",
    "a `knowledge_graph` consisting of the union of all nodes and edges that match the `query_graph` pattern, and a list of `results` that bind `query_graph` elements to `knowledge_graph` elements.\n",
    "\n",
    "The following message contains only a `query_graph`.  This query graph consists of 3 nodes connected together in a line.   Two of the nodes (`n00` and `n02`) have specified identifiers, while the middle node of the line does not.  Rather the middle node has a list of `categories` that are acceptable.\n",
    "\n",
    "For a researcher who is starting from a `name` who wants to use TRAPI, they can use the Node Resolver tool to get the identifers for the nodes.  For example, finding IDs for `Tremor` and `Buprenorphine` are below.\n",
    "\n",
    "This query asks \"Find me a Biological Process or Activity, or a Gene, or a Pathway that is related to both `PUBCHEM.COMPOUND:644073` (Buprenorphine) and `HP:0001337` (Tremor)."
   ]
  },
  {
   "cell_type": "code",
   "execution_count": 2,
   "id": "pressing-genesis",
   "metadata": {},
   "outputs": [],
   "source": [
    "query={\n",
    "    \"message\": {\n",
    "      \"query_graph\": {\n",
    "        \"edges\": {\n",
    "          \"e00\": {\n",
    "            \"subject\": \"n00\",\n",
    "              \"object\": \"n01\",\n",
    "          \"predicates\":[\"biolink:related_to\"]\n",
    "          },\n",
    "          \"e01\": {\n",
    "            \"subject\": \"n01\",\n",
    "              \"object\": \"n02\",\n",
    "          \"predicates\":[\"biolink:related_to\"]\n",
    "          }\n",
    "        },\n",
    "        \"nodes\": {\n",
    "          \"n00\": {\n",
    "            \"ids\": [\"PUBCHEM.COMPOUND:644073\"],\n",
    "            \"categories\": [\"biolink:ChemicalEntity\"]\n",
    "          },\n",
    "          \"n01\": {\n",
    "              \"categories\": [\"biolink:BiologicalProcessOrActivity\",\"biolink:Gene\",\"biolink:Pathway\"]\n",
    "          },\n",
    "          \"n02\": {\n",
    "            \"ids\": [\"HP:0001337\"],\n",
    "            \"categories\": [\"biolink:DiseaseOrPhenotypicFeature\"]\n",
    "          }\n",
    "        }\n",
    "      }\n",
    "    }\n",
    "  }\n"
   ]
  },
  {
   "cell_type": "markdown",
   "id": "figured-wesley",
   "metadata": {},
   "source": [
    "This query can be sent to various components of Translator as needed.  It can be sent directly to the ROBOKOP database like this:"
   ]
  },
  {
   "cell_type": "code",
   "execution_count": 3,
   "id": "greek-warrant",
   "metadata": {},
   "outputs": [],
   "source": [
    "robokop_submit_url = \"https://automat.renci.org/robokopkg/1.3/query\"\n",
    "response = requests.post(robokop_submit_url,json=query)"
   ]
  },
  {
   "cell_type": "code",
   "execution_count": 4,
   "id": "respective-participation",
   "metadata": {},
   "outputs": [
    {
     "name": "stdout",
     "output_type": "stream",
     "text": [
      "200\n"
     ]
    }
   ],
   "source": [
    "print(response.status_code)"
   ]
  },
  {
   "cell_type": "code",
   "execution_count": 5,
   "id": "elect-artist",
   "metadata": {},
   "outputs": [
    {
     "name": "stdout",
     "output_type": "stream",
     "text": [
      "7\n"
     ]
    }
   ],
   "source": [
    "print(len(response.json()['message']['results']))"
   ]
  },
  {
   "cell_type": "code",
   "execution_count": 6,
   "id": "91cf025e-2064-4b72-9020-f2aec6db11f6",
   "metadata": {},
   "outputs": [],
   "source": [
    "import pprint\n",
    "pp = pprint.PrettyPrinter(indent=5)"
   ]
  },
  {
   "cell_type": "markdown",
   "id": "c699bcf6-ff46-40fe-b515-914ea5aa707e",
   "metadata": {},
   "source": [
    "The response in JSON form is a python dictionary with three main keys, the `message`, `log_level`, and `workflow`.  The `message` component contains the `query_graph`, `knowledge_graph`, and `results` from the query."
   ]
  },
  {
   "cell_type": "code",
   "execution_count": 7,
   "id": "723de57e-3741-4243-9e52-b9309b2a9469",
   "metadata": {},
   "outputs": [
    {
     "name": "stdout",
     "output_type": "stream",
     "text": [
      "dict_keys(['message', 'log_level', 'workflow'])\n",
      "dict_keys(['query_graph', 'knowledge_graph', 'results'])\n"
     ]
    }
   ],
   "source": [
    "print(response.json().keys())\n",
    "print(response.json()['message'].keys())"
   ]
  },
  {
   "cell_type": "markdown",
   "id": "f6afbea5-c52b-4a06-a4d1-0fee3b4d5bc8",
   "metadata": {},
   "source": [
    "The `results` component contains pathways resulting from the query message. Each pathway is organized into edge_bindings and node bindings and contains results for the edges and nodes specified in the query message.  Results are represented in identifier form, which can be found in the `knowledge_graph` component of the `message` section of the response."
   ]
  },
  {
   "cell_type": "code",
   "execution_count": 8,
   "id": "e74cda7c-2541-4d6c-97d0-325505ab435b",
   "metadata": {},
   "outputs": [
    {
     "name": "stdout",
     "output_type": "stream",
     "text": [
      "{    'edge_bindings': {    'e00': [    {'attributes': None, 'id': '70512752'},\n",
      "                                       {'attributes': None, 'id': '53738502'},\n",
      "                                       {'attributes': None, 'id': '114867359'},\n",
      "                                       {'attributes': None, 'id': '34805007'},\n",
      "                                       {'attributes': None, 'id': '52520264'},\n",
      "                                       {'attributes': None, 'id': '17306890'}],\n",
      "                           'e01': [{'attributes': None, 'id': '122503186'}]},\n",
      "     'node_bindings': {    'n00': [    {    'attributes': None,\n",
      "                                            'id': 'PUBCHEM.COMPOUND:644073',\n",
      "                                            'qnode_id': 'PUBCHEM.COMPOUND:644073',\n",
      "                                            'query_id': None}],\n",
      "                           'n01': [    {    'attributes': None,\n",
      "                                            'id': 'NCBIGene:4988',\n",
      "                                            'query_id': None}],\n",
      "                           'n02': [    {    'attributes': None,\n",
      "                                            'id': 'HP:0012164',\n",
      "                                            'qnode_id': 'HP:0001337',\n",
      "                                            'query_id': None}]},\n",
      "     'score': None}\n"
     ]
    }
   ],
   "source": [
    "pp.pprint(response.json()['message']['results'][0])"
   ]
  },
  {
   "cell_type": "markdown",
   "id": "d5775775-294c-4fe2-a199-b1771dd984b2",
   "metadata": {},
   "source": [
    "The `knowledge_graph` contains information about each of the Nodes and Edges found in `results`.  An example of a Node and an Edge are shown below."
   ]
  },
  {
   "cell_type": "code",
   "execution_count": 9,
   "id": "e87f0afc-0f5f-4158-8036-11ab0cadf2ba",
   "metadata": {},
   "outputs": [
    {
     "name": "stdout",
     "output_type": "stream",
     "text": [
      "dict_keys(['nodes', 'edges'])\n"
     ]
    }
   ],
   "source": [
    "pp.pprint(response.json()['message']['knowledge_graph'].keys())\n"
   ]
  },
  {
   "cell_type": "markdown",
   "id": "96b8b435-0518-4995-9b1e-c498a8d8c325",
   "metadata": {},
   "source": [
    "Information returned for the each Node includes the concept ID (key), biolink categories, the name/label, attributes, the value type, and others.  Note that each entry under the `nodes` level is itemized in dictionary format and not lists.  The content for one Node is shown below."
   ]
  },
  {
   "cell_type": "code",
   "execution_count": 10,
   "id": "55280b02-94c3-4478-9596-8b8961c92a1a",
   "metadata": {},
   "outputs": [
    {
     "data": {
      "text/plain": [
       "('HP:0012164',\n",
       " {'categories': ['biolink:Entity',\n",
       "   'biolink:ThingWithTaxon',\n",
       "   'biolink:DiseaseOrPhenotypicFeature',\n",
       "   'biolink:PhenotypicFeature',\n",
       "   'biolink:BiologicalEntity',\n",
       "   'biolink:NamedThing'],\n",
       "  'name': 'Asterixis',\n",
       "  'attributes': [{'attribute_type_id': 'biolink:same_as',\n",
       "    'value': ['UMLS:C0232766',\n",
       "     'MEDDRA:10003547',\n",
       "     'HP:0012164',\n",
       "     'MEDDRA:10057580',\n",
       "     'SNOMEDCT:32838008',\n",
       "     'NCIT:C86048'],\n",
       "    'value_type_id': 'metatype:uriorcurie',\n",
       "    'original_attribute_name': 'equivalent_identifiers',\n",
       "    'value_url': None,\n",
       "    'attribute_source': None,\n",
       "    'description': None,\n",
       "    'attributes': None},\n",
       "   {'attribute_type_id': 'biolink:Attribute',\n",
       "    'value': 100.0,\n",
       "    'value_type_id': 'EDAM:data_0006',\n",
       "    'original_attribute_name': 'information_content',\n",
       "    'value_url': None,\n",
       "    'attribute_source': None,\n",
       "    'description': None,\n",
       "    'attributes': None}]})"
      ]
     },
     "execution_count": 10,
     "metadata": {},
     "output_type": "execute_result"
    }
   ],
   "source": [
    "next(iter( response.json()['message']['knowledge_graph']['nodes'].items() ))"
   ]
  },
  {
   "cell_type": "markdown",
   "id": "f5427165-8500-4ebb-b933-2dc38c071636",
   "metadata": {},
   "source": [
    "Information returned for the each Edge includes the edge ID (key), the subject's concept ID, the object's concept ID, the edge's predicate, any qualifiers, and attributes.  Note that each entry under the `edges` level is itemized in dictionary format and not lists.  The content for one Edge is shown below."
   ]
  },
  {
   "cell_type": "code",
   "execution_count": 11,
   "id": "dc1f6149-0499-42b1-9426-43f2d5470305",
   "metadata": {},
   "outputs": [
    {
     "data": {
      "text/plain": [
       "('104671278',\n",
       " {'subject': 'NCBIGene:1565',\n",
       "  'object': 'HP:0001337',\n",
       "  'predicate': 'biolink:genetic_association',\n",
       "  'qualifiers': None,\n",
       "  'attributes': [{'attribute_type_id': 'biolink:primary_knowledge_source',\n",
       "    'value': ['DisGeNET'],\n",
       "    'value_type_id': 'biolink:InformationResource',\n",
       "    'original_attribute_name': 'biolink:primary_knowledge_source',\n",
       "    'value_url': None,\n",
       "    'attribute_source': 'infores:automat-robokop',\n",
       "    'description': None,\n",
       "    'attributes': None},\n",
       "   {'attribute_type_id': 'biolink:aggregator_knowledge_source',\n",
       "    'value': ['infores:automat-robokop'],\n",
       "    'value_type_id': 'biolink:InformationResource',\n",
       "    'original_attribute_name': 'biolink:aggregator_knowledge_source',\n",
       "    'value_url': None,\n",
       "    'attribute_source': 'infores:automat-robokop',\n",
       "    'description': None,\n",
       "    'attributes': None},\n",
       "   {'attribute_type_id': 'biolink:aggregator_knowledge_source',\n",
       "    'value': ['infores:pharos'],\n",
       "    'value_type_id': 'biolink:InformationResource',\n",
       "    'original_attribute_name': 'biolink:aggregator_knowledge_source',\n",
       "    'value_url': None,\n",
       "    'attribute_source': 'infores:automat-robokop',\n",
       "    'description': None,\n",
       "    'attributes': None}]})"
      ]
     },
     "execution_count": 11,
     "metadata": {},
     "output_type": "execute_result"
    }
   ],
   "source": [
    "next(iter( response.json()['message']['knowledge_graph']['edges'].items() ))"
   ]
  },
  {
   "cell_type": "markdown",
   "id": "056aee28-ea91-49be-bc87-164a6f9284fd",
   "metadata": {},
   "source": [
    "Since the edge and node contents are returned as CURIES (Compact URIs) instead of labels, a sample workflow was written to show how to use the above edge information and the Node Normalizer tool to convert results into a human readble form.  This workflow does the following steps:\n",
    "- combine edge_binding IDs and convert edge IDs to labels for each result\n",
    "- use output from the `knowledge_graph` to convert node IDs to labels\n",
    "- write the output dictionary as a CSV"
   ]
  },
  {
   "cell_type": "code",
   "execution_count": 12,
   "id": "b1de0960-b877-4bde-b4a4-e308c36742a4",
   "metadata": {},
   "outputs": [
    {
     "name": "stdout",
     "output_type": "stream",
     "text": [
      "['e00', 'e01', 'n00', 'n01', 'n02']\n",
      "{'e00': {}, 'e01': {}, 'n00': {}, 'n01': {}, 'n02': {}}\n"
     ]
    }
   ],
   "source": [
    "edges = response.json()['message']['results'][0]['edge_bindings'].keys()\n",
    "nodes = response.json()['message']['results'][0]['node_bindings'].keys()\n",
    "edges_nodes = sorted(edges|nodes)\n",
    "\n",
    "edges_nodes_keys = [s for s in edges_nodes if not s.startswith('s')]\n",
    "print(edges_nodes_keys)\n",
    "\n",
    "# Initializing a base dictionary containing edge and node IDs from message results\n",
    "base_dict = {}\n",
    "for key in edges_nodes_keys:\n",
    "    base_dict[key] = {}\n",
    "print(base_dict)"
   ]
  },
  {
   "cell_type": "code",
   "execution_count": 13,
   "id": "b9579057-99d6-43d1-b1a1-90439649d7d3",
   "metadata": {},
   "outputs": [
    {
     "name": "stdout",
     "output_type": "stream",
     "text": [
      "{    'edge_bindings': {    'e00': [    {'attributes': None, 'id': '70512752'},\n",
      "                                       {'attributes': None, 'id': '53738502'},\n",
      "                                       {'attributes': None, 'id': '114867359'},\n",
      "                                       {'attributes': None, 'id': '34805007'},\n",
      "                                       {'attributes': None, 'id': '52520264'},\n",
      "                                       {'attributes': None, 'id': '17306890'}],\n",
      "                           'e01': [{'attributes': None, 'id': '122503186'}]},\n",
      "     'node_bindings': {    'n00': [    {    'attributes': None,\n",
      "                                            'id': 'PUBCHEM.COMPOUND:644073',\n",
      "                                            'qnode_id': 'PUBCHEM.COMPOUND:644073',\n",
      "                                            'query_id': None}],\n",
      "                           'n01': [    {    'attributes': None,\n",
      "                                            'id': 'NCBIGene:4988',\n",
      "                                            'query_id': None}],\n",
      "                           'n02': [    {    'attributes': None,\n",
      "                                            'id': 'HP:0012164',\n",
      "                                            'qnode_id': 'HP:0001337',\n",
      "                                            'query_id': None}]},\n",
      "     'score': None}\n"
     ]
    }
   ],
   "source": [
    "# Illustrating the structure of each pathway result from the message component\n",
    "pp.pprint(response.json()['message']['results'][0])"
   ]
  },
  {
   "cell_type": "code",
   "execution_count": 14,
   "id": "41bc5a47-dbe4-478c-905a-34c2a98064bf",
   "metadata": {},
   "outputs": [
    {
     "name": "stdout",
     "output_type": "stream",
     "text": [
      "{    'e00': {    0: '70512752',\n",
      "                 1: '29152440',\n",
      "                 2: '29152440',\n",
      "                 3: '29152440',\n",
      "                 4: '29152440',\n",
      "                 5: '29152440',\n",
      "                 6: '29152440'},\n",
      "     'e01': {    0: '122503186',\n",
      "                 1: '36237079',\n",
      "                 2: '40300787',\n",
      "                 3: '100241886',\n",
      "                 4: '14737677',\n",
      "                 5: '93297435',\n",
      "                 6: '132474660'},\n",
      "     'n00': {    0: 'PUBCHEM.COMPOUND:644073',\n",
      "                 1: 'PUBCHEM.COMPOUND:644073',\n",
      "                 2: 'PUBCHEM.COMPOUND:644073',\n",
      "                 3: 'PUBCHEM.COMPOUND:644073',\n",
      "                 4: 'PUBCHEM.COMPOUND:644073',\n",
      "                 5: 'PUBCHEM.COMPOUND:644073',\n",
      "                 6: 'PUBCHEM.COMPOUND:644073'},\n",
      "     'n01': {    0: 'NCBIGene:4988',\n",
      "                 1: 'NCBIGene:1565',\n",
      "                 2: 'NCBIGene:1565',\n",
      "                 3: 'NCBIGene:1565',\n",
      "                 4: 'NCBIGene:1565',\n",
      "                 5: 'NCBIGene:1565',\n",
      "                 6: 'NCBIGene:1565'},\n",
      "     'n02': {    0: 'HP:0012164',\n",
      "                 1: 'HP:0200085',\n",
      "                 2: 'HP:0002322',\n",
      "                 3: 'HP:0025387',\n",
      "                 4: 'HP:0001337',\n",
      "                 5: 'HP:0002345',\n",
      "                 6: 'HP:0002174'}}\n"
     ]
    }
   ],
   "source": [
    "# - populate base_dict with entries from response.json()['message']['results']\n",
    "i = 0\n",
    "for entry in response.json()['message']['results']:\n",
    "    for edge_id in edges:\n",
    "        base_dict[edge_id][i] = entry['edge_bindings'][edge_id][0]['id']\n",
    "    for node_id in nodes:\n",
    "        base_dict[node_id][i] = entry['node_bindings'][node_id][0]['id']\n",
    "    i = i + 1\n",
    "        \n",
    "pp.pprint(base_dict)"
   ]
  },
  {
   "cell_type": "code",
   "execution_count": 15,
   "id": "2b5887c6-5bd3-406c-b5e7-e687a9631aa8",
   "metadata": {},
   "outputs": [
    {
     "name": "stdout",
     "output_type": "stream",
     "text": [
      "{    'e00': {    0: 'biolink:affects',\n",
      "                 1: 'biolink:directly_physically_interacts_with',\n",
      "                 2: 'biolink:directly_physically_interacts_with',\n",
      "                 3: 'biolink:directly_physically_interacts_with',\n",
      "                 4: 'biolink:directly_physically_interacts_with',\n",
      "                 5: 'biolink:directly_physically_interacts_with',\n",
      "                 6: 'biolink:directly_physically_interacts_with'},\n",
      "     'e01': {    0: 'biolink:genetic_association',\n",
      "                 1: 'biolink:genetic_association',\n",
      "                 2: 'biolink:genetic_association',\n",
      "                 3: 'biolink:genetic_association',\n",
      "                 4: 'biolink:genetic_association',\n",
      "                 5: 'biolink:genetic_association',\n",
      "                 6: 'biolink:genetic_association'},\n",
      "     'n00': {    0: 'PUBCHEM.COMPOUND:644073',\n",
      "                 1: 'PUBCHEM.COMPOUND:644073',\n",
      "                 2: 'PUBCHEM.COMPOUND:644073',\n",
      "                 3: 'PUBCHEM.COMPOUND:644073',\n",
      "                 4: 'PUBCHEM.COMPOUND:644073',\n",
      "                 5: 'PUBCHEM.COMPOUND:644073',\n",
      "                 6: 'PUBCHEM.COMPOUND:644073'},\n",
      "     'n01': {    0: 'NCBIGene:4988',\n",
      "                 1: 'NCBIGene:1565',\n",
      "                 2: 'NCBIGene:1565',\n",
      "                 3: 'NCBIGene:1565',\n",
      "                 4: 'NCBIGene:1565',\n",
      "                 5: 'NCBIGene:1565',\n",
      "                 6: 'NCBIGene:1565'},\n",
      "     'n02': {    0: 'HP:0012164',\n",
      "                 1: 'HP:0200085',\n",
      "                 2: 'HP:0002322',\n",
      "                 3: 'HP:0025387',\n",
      "                 4: 'HP:0001337',\n",
      "                 5: 'HP:0002345',\n",
      "                 6: 'HP:0002174'}}\n"
     ]
    }
   ],
   "source": [
    "import copy\n",
    "output_dict = copy.deepcopy(base_dict)\n",
    "edge_list = [x for x in output_dict.keys() if 'e' in x]\n",
    "#print(edge_list)\n",
    "\n",
    "# - convert and combine edge_binding IDs for each result\n",
    "for edge_id in edge_list:\n",
    "    for edge_index, edge_number in output_dict[edge_id].items():\n",
    "        # Getting the predicate/label using the edge_binding ID from the knowledge graph\n",
    "        output_dict[edge_id][edge_index] = response.json()['message']['knowledge_graph']['edges'][edge_number]['predicate']\n",
    "\n",
    "pp.pprint(output_dict)"
   ]
  },
  {
   "cell_type": "code",
   "execution_count": 16,
   "id": "4397ca11-b789-4cbf-9d2f-8aaa378bd896",
   "metadata": {},
   "outputs": [
    {
     "name": "stdout",
     "output_type": "stream",
     "text": [
      "{    'e00': {    0: 'biolink:affects',\n",
      "                 1: 'biolink:directly_physically_interacts_with',\n",
      "                 2: 'biolink:directly_physically_interacts_with',\n",
      "                 3: 'biolink:directly_physically_interacts_with',\n",
      "                 4: 'biolink:directly_physically_interacts_with',\n",
      "                 5: 'biolink:directly_physically_interacts_with',\n",
      "                 6: 'biolink:directly_physically_interacts_with'},\n",
      "     'e01': {    0: 'biolink:genetic_association',\n",
      "                 1: 'biolink:genetic_association',\n",
      "                 2: 'biolink:genetic_association',\n",
      "                 3: 'biolink:genetic_association',\n",
      "                 4: 'biolink:genetic_association',\n",
      "                 5: 'biolink:genetic_association',\n",
      "                 6: 'biolink:genetic_association'},\n",
      "     'n00': {    0: 'Buprenorphine',\n",
      "                 1: 'Buprenorphine',\n",
      "                 2: 'Buprenorphine',\n",
      "                 3: 'Buprenorphine',\n",
      "                 4: 'Buprenorphine',\n",
      "                 5: 'Buprenorphine',\n",
      "                 6: 'Buprenorphine'},\n",
      "     'n01': {    0: 'OPRM1',\n",
      "                 1: 'CYP2D6',\n",
      "                 2: 'CYP2D6',\n",
      "                 3: 'CYP2D6',\n",
      "                 4: 'CYP2D6',\n",
      "                 5: 'CYP2D6',\n",
      "                 6: 'CYP2D6'},\n",
      "     'n02': {    0: 'Asterixis',\n",
      "                 1: 'Limb tremor',\n",
      "                 2: 'Resting tremor',\n",
      "                 3: 'Pill-rolling tremor',\n",
      "                 4: 'Tremor',\n",
      "                 5: 'Action tremor',\n",
      "                 6: 'Postural tremor'}}\n"
     ]
    }
   ],
   "source": [
    "node_list = [x for x in output_dict.keys() if 'n' in x]\n",
    "\n",
    "for node_id in node_list:\n",
    "    for node_index, node_value in output_dict[node_id].items():\n",
    "        # Getting the 'name' label using the node ID from the knowledge graph\n",
    "        output_dict[node_id][node_index] = response.json()['message']['knowledge_graph']['nodes'][node_value]['name']\n",
    "        \n",
    "pp.pprint(output_dict)"
   ]
  },
  {
   "cell_type": "code",
   "execution_count": 19,
   "id": "1c5a0700-b3cd-4a31-8982-e0dad5ed606f",
   "metadata": {},
   "outputs": [
    {
     "ename": "OSError",
     "evalue": "Cannot save file into a non-existent directory: '\\output'",
     "output_type": "error",
     "traceback": [
      "\u001b[1;31m---------------------------------------------------------------------------\u001b[0m",
      "\u001b[1;31mOSError\u001b[0m                                   Traceback (most recent call last)",
      "Cell \u001b[1;32mIn [19], line 7\u001b[0m\n\u001b[0;32m      5\u001b[0m json_str \u001b[38;5;241m=\u001b[39m json\u001b[38;5;241m.\u001b[39mdumps(output_dict, indent\u001b[38;5;241m=\u001b[39m\u001b[38;5;241m4\u001b[39m)\n\u001b[0;32m      6\u001b[0m df \u001b[38;5;241m=\u001b[39m pd\u001b[38;5;241m.\u001b[39mread_json(json_str)\n\u001b[1;32m----> 7\u001b[0m \u001b[43mdf\u001b[49m\u001b[38;5;241;43m.\u001b[39;49m\u001b[43mto_csv\u001b[49m\u001b[43m(\u001b[49m\u001b[38;5;124;43m'\u001b[39;49m\u001b[38;5;124;43m/output/results_TRAPI_automat.csv\u001b[39;49m\u001b[38;5;124;43m'\u001b[39;49m\u001b[43m)\u001b[49m\n",
      "File \u001b[1;32mc:\\users\\dnwilliams\\.pyenv\\pyenv-win\\versions\\3.8.10\\lib\\site-packages\\pandas\\util\\_decorators.py:211\u001b[0m, in \u001b[0;36mdeprecate_kwarg.<locals>._deprecate_kwarg.<locals>.wrapper\u001b[1;34m(*args, **kwargs)\u001b[0m\n\u001b[0;32m    209\u001b[0m     \u001b[38;5;28;01melse\u001b[39;00m:\n\u001b[0;32m    210\u001b[0m         kwargs[new_arg_name] \u001b[38;5;241m=\u001b[39m new_arg_value\n\u001b[1;32m--> 211\u001b[0m \u001b[38;5;28;01mreturn\u001b[39;00m \u001b[43mfunc\u001b[49m\u001b[43m(\u001b[49m\u001b[38;5;241;43m*\u001b[39;49m\u001b[43margs\u001b[49m\u001b[43m,\u001b[49m\u001b[43m \u001b[49m\u001b[38;5;241;43m*\u001b[39;49m\u001b[38;5;241;43m*\u001b[39;49m\u001b[43mkwargs\u001b[49m\u001b[43m)\u001b[49m\n",
      "File \u001b[1;32mc:\\users\\dnwilliams\\.pyenv\\pyenv-win\\versions\\3.8.10\\lib\\site-packages\\pandas\\core\\generic.py:3721\u001b[0m, in \u001b[0;36mNDFrame.to_csv\u001b[1;34m(self, path_or_buf, sep, na_rep, float_format, columns, header, index, index_label, mode, encoding, compression, quoting, quotechar, lineterminator, chunksize, date_format, doublequote, escapechar, decimal, errors, storage_options)\u001b[0m\n\u001b[0;32m   3710\u001b[0m df \u001b[38;5;241m=\u001b[39m \u001b[38;5;28mself\u001b[39m \u001b[38;5;28;01mif\u001b[39;00m \u001b[38;5;28misinstance\u001b[39m(\u001b[38;5;28mself\u001b[39m, ABCDataFrame) \u001b[38;5;28;01melse\u001b[39;00m \u001b[38;5;28mself\u001b[39m\u001b[38;5;241m.\u001b[39mto_frame()\n\u001b[0;32m   3712\u001b[0m formatter \u001b[38;5;241m=\u001b[39m DataFrameFormatter(\n\u001b[0;32m   3713\u001b[0m     frame\u001b[38;5;241m=\u001b[39mdf,\n\u001b[0;32m   3714\u001b[0m     header\u001b[38;5;241m=\u001b[39mheader,\n\u001b[1;32m   (...)\u001b[0m\n\u001b[0;32m   3718\u001b[0m     decimal\u001b[38;5;241m=\u001b[39mdecimal,\n\u001b[0;32m   3719\u001b[0m )\n\u001b[1;32m-> 3721\u001b[0m \u001b[38;5;28;01mreturn\u001b[39;00m \u001b[43mDataFrameRenderer\u001b[49m\u001b[43m(\u001b[49m\u001b[43mformatter\u001b[49m\u001b[43m)\u001b[49m\u001b[38;5;241;43m.\u001b[39;49m\u001b[43mto_csv\u001b[49m\u001b[43m(\u001b[49m\n\u001b[0;32m   3722\u001b[0m \u001b[43m    \u001b[49m\u001b[43mpath_or_buf\u001b[49m\u001b[43m,\u001b[49m\n\u001b[0;32m   3723\u001b[0m \u001b[43m    \u001b[49m\u001b[43mlineterminator\u001b[49m\u001b[38;5;241;43m=\u001b[39;49m\u001b[43mlineterminator\u001b[49m\u001b[43m,\u001b[49m\n\u001b[0;32m   3724\u001b[0m \u001b[43m    \u001b[49m\u001b[43msep\u001b[49m\u001b[38;5;241;43m=\u001b[39;49m\u001b[43msep\u001b[49m\u001b[43m,\u001b[49m\n\u001b[0;32m   3725\u001b[0m \u001b[43m    \u001b[49m\u001b[43mencoding\u001b[49m\u001b[38;5;241;43m=\u001b[39;49m\u001b[43mencoding\u001b[49m\u001b[43m,\u001b[49m\n\u001b[0;32m   3726\u001b[0m \u001b[43m    \u001b[49m\u001b[43merrors\u001b[49m\u001b[38;5;241;43m=\u001b[39;49m\u001b[43merrors\u001b[49m\u001b[43m,\u001b[49m\n\u001b[0;32m   3727\u001b[0m \u001b[43m    \u001b[49m\u001b[43mcompression\u001b[49m\u001b[38;5;241;43m=\u001b[39;49m\u001b[43mcompression\u001b[49m\u001b[43m,\u001b[49m\n\u001b[0;32m   3728\u001b[0m \u001b[43m    \u001b[49m\u001b[43mquoting\u001b[49m\u001b[38;5;241;43m=\u001b[39;49m\u001b[43mquoting\u001b[49m\u001b[43m,\u001b[49m\n\u001b[0;32m   3729\u001b[0m \u001b[43m    \u001b[49m\u001b[43mcolumns\u001b[49m\u001b[38;5;241;43m=\u001b[39;49m\u001b[43mcolumns\u001b[49m\u001b[43m,\u001b[49m\n\u001b[0;32m   3730\u001b[0m \u001b[43m    \u001b[49m\u001b[43mindex_label\u001b[49m\u001b[38;5;241;43m=\u001b[39;49m\u001b[43mindex_label\u001b[49m\u001b[43m,\u001b[49m\n\u001b[0;32m   3731\u001b[0m \u001b[43m    \u001b[49m\u001b[43mmode\u001b[49m\u001b[38;5;241;43m=\u001b[39;49m\u001b[43mmode\u001b[49m\u001b[43m,\u001b[49m\n\u001b[0;32m   3732\u001b[0m \u001b[43m    \u001b[49m\u001b[43mchunksize\u001b[49m\u001b[38;5;241;43m=\u001b[39;49m\u001b[43mchunksize\u001b[49m\u001b[43m,\u001b[49m\n\u001b[0;32m   3733\u001b[0m \u001b[43m    \u001b[49m\u001b[43mquotechar\u001b[49m\u001b[38;5;241;43m=\u001b[39;49m\u001b[43mquotechar\u001b[49m\u001b[43m,\u001b[49m\n\u001b[0;32m   3734\u001b[0m \u001b[43m    \u001b[49m\u001b[43mdate_format\u001b[49m\u001b[38;5;241;43m=\u001b[39;49m\u001b[43mdate_format\u001b[49m\u001b[43m,\u001b[49m\n\u001b[0;32m   3735\u001b[0m \u001b[43m    \u001b[49m\u001b[43mdoublequote\u001b[49m\u001b[38;5;241;43m=\u001b[39;49m\u001b[43mdoublequote\u001b[49m\u001b[43m,\u001b[49m\n\u001b[0;32m   3736\u001b[0m \u001b[43m    \u001b[49m\u001b[43mescapechar\u001b[49m\u001b[38;5;241;43m=\u001b[39;49m\u001b[43mescapechar\u001b[49m\u001b[43m,\u001b[49m\n\u001b[0;32m   3737\u001b[0m \u001b[43m    \u001b[49m\u001b[43mstorage_options\u001b[49m\u001b[38;5;241;43m=\u001b[39;49m\u001b[43mstorage_options\u001b[49m\u001b[43m,\u001b[49m\n\u001b[0;32m   3738\u001b[0m \u001b[43m\u001b[49m\u001b[43m)\u001b[49m\n",
      "File \u001b[1;32mc:\\users\\dnwilliams\\.pyenv\\pyenv-win\\versions\\3.8.10\\lib\\site-packages\\pandas\\util\\_decorators.py:211\u001b[0m, in \u001b[0;36mdeprecate_kwarg.<locals>._deprecate_kwarg.<locals>.wrapper\u001b[1;34m(*args, **kwargs)\u001b[0m\n\u001b[0;32m    209\u001b[0m     \u001b[38;5;28;01melse\u001b[39;00m:\n\u001b[0;32m    210\u001b[0m         kwargs[new_arg_name] \u001b[38;5;241m=\u001b[39m new_arg_value\n\u001b[1;32m--> 211\u001b[0m \u001b[38;5;28;01mreturn\u001b[39;00m \u001b[43mfunc\u001b[49m\u001b[43m(\u001b[49m\u001b[38;5;241;43m*\u001b[39;49m\u001b[43margs\u001b[49m\u001b[43m,\u001b[49m\u001b[43m \u001b[49m\u001b[38;5;241;43m*\u001b[39;49m\u001b[38;5;241;43m*\u001b[39;49m\u001b[43mkwargs\u001b[49m\u001b[43m)\u001b[49m\n",
      "File \u001b[1;32mc:\\users\\dnwilliams\\.pyenv\\pyenv-win\\versions\\3.8.10\\lib\\site-packages\\pandas\\io\\formats\\format.py:1189\u001b[0m, in \u001b[0;36mDataFrameRenderer.to_csv\u001b[1;34m(self, path_or_buf, encoding, sep, columns, index_label, mode, compression, quoting, quotechar, lineterminator, chunksize, date_format, doublequote, escapechar, errors, storage_options)\u001b[0m\n\u001b[0;32m   1168\u001b[0m     created_buffer \u001b[38;5;241m=\u001b[39m \u001b[38;5;28;01mFalse\u001b[39;00m\n\u001b[0;32m   1170\u001b[0m csv_formatter \u001b[38;5;241m=\u001b[39m CSVFormatter(\n\u001b[0;32m   1171\u001b[0m     path_or_buf\u001b[38;5;241m=\u001b[39mpath_or_buf,\n\u001b[0;32m   1172\u001b[0m     lineterminator\u001b[38;5;241m=\u001b[39mlineterminator,\n\u001b[1;32m   (...)\u001b[0m\n\u001b[0;32m   1187\u001b[0m     formatter\u001b[38;5;241m=\u001b[39m\u001b[38;5;28mself\u001b[39m\u001b[38;5;241m.\u001b[39mfmt,\n\u001b[0;32m   1188\u001b[0m )\n\u001b[1;32m-> 1189\u001b[0m \u001b[43mcsv_formatter\u001b[49m\u001b[38;5;241;43m.\u001b[39;49m\u001b[43msave\u001b[49m\u001b[43m(\u001b[49m\u001b[43m)\u001b[49m\n\u001b[0;32m   1191\u001b[0m \u001b[38;5;28;01mif\u001b[39;00m created_buffer:\n\u001b[0;32m   1192\u001b[0m     \u001b[38;5;28;01massert\u001b[39;00m \u001b[38;5;28misinstance\u001b[39m(path_or_buf, StringIO)\n",
      "File \u001b[1;32mc:\\users\\dnwilliams\\.pyenv\\pyenv-win\\versions\\3.8.10\\lib\\site-packages\\pandas\\io\\formats\\csvs.py:241\u001b[0m, in \u001b[0;36mCSVFormatter.save\u001b[1;34m(self)\u001b[0m\n\u001b[0;32m    237\u001b[0m \u001b[38;5;124;03m\"\"\"\u001b[39;00m\n\u001b[0;32m    238\u001b[0m \u001b[38;5;124;03mCreate the writer & save.\u001b[39;00m\n\u001b[0;32m    239\u001b[0m \u001b[38;5;124;03m\"\"\"\u001b[39;00m\n\u001b[0;32m    240\u001b[0m \u001b[38;5;66;03m# apply compression and byte/text conversion\u001b[39;00m\n\u001b[1;32m--> 241\u001b[0m \u001b[38;5;28;01mwith\u001b[39;00m \u001b[43mget_handle\u001b[49m\u001b[43m(\u001b[49m\n\u001b[0;32m    242\u001b[0m \u001b[43m    \u001b[49m\u001b[38;5;28;43mself\u001b[39;49m\u001b[38;5;241;43m.\u001b[39;49m\u001b[43mfilepath_or_buffer\u001b[49m\u001b[43m,\u001b[49m\n\u001b[0;32m    243\u001b[0m \u001b[43m    \u001b[49m\u001b[38;5;28;43mself\u001b[39;49m\u001b[38;5;241;43m.\u001b[39;49m\u001b[43mmode\u001b[49m\u001b[43m,\u001b[49m\n\u001b[0;32m    244\u001b[0m \u001b[43m    \u001b[49m\u001b[43mencoding\u001b[49m\u001b[38;5;241;43m=\u001b[39;49m\u001b[38;5;28;43mself\u001b[39;49m\u001b[38;5;241;43m.\u001b[39;49m\u001b[43mencoding\u001b[49m\u001b[43m,\u001b[49m\n\u001b[0;32m    245\u001b[0m \u001b[43m    \u001b[49m\u001b[43merrors\u001b[49m\u001b[38;5;241;43m=\u001b[39;49m\u001b[38;5;28;43mself\u001b[39;49m\u001b[38;5;241;43m.\u001b[39;49m\u001b[43merrors\u001b[49m\u001b[43m,\u001b[49m\n\u001b[0;32m    246\u001b[0m \u001b[43m    \u001b[49m\u001b[43mcompression\u001b[49m\u001b[38;5;241;43m=\u001b[39;49m\u001b[38;5;28;43mself\u001b[39;49m\u001b[38;5;241;43m.\u001b[39;49m\u001b[43mcompression\u001b[49m\u001b[43m,\u001b[49m\n\u001b[0;32m    247\u001b[0m \u001b[43m    \u001b[49m\u001b[43mstorage_options\u001b[49m\u001b[38;5;241;43m=\u001b[39;49m\u001b[38;5;28;43mself\u001b[39;49m\u001b[38;5;241;43m.\u001b[39;49m\u001b[43mstorage_options\u001b[49m\u001b[43m,\u001b[49m\n\u001b[0;32m    248\u001b[0m \u001b[43m\u001b[49m\u001b[43m)\u001b[49m \u001b[38;5;28;01mas\u001b[39;00m handles:\n\u001b[0;32m    249\u001b[0m \n\u001b[0;32m    250\u001b[0m     \u001b[38;5;66;03m# Note: self.encoding is irrelevant here\u001b[39;00m\n\u001b[0;32m    251\u001b[0m     \u001b[38;5;28mself\u001b[39m\u001b[38;5;241m.\u001b[39mwriter \u001b[38;5;241m=\u001b[39m csvlib\u001b[38;5;241m.\u001b[39mwriter(\n\u001b[0;32m    252\u001b[0m         handles\u001b[38;5;241m.\u001b[39mhandle,\n\u001b[0;32m    253\u001b[0m         lineterminator\u001b[38;5;241m=\u001b[39m\u001b[38;5;28mself\u001b[39m\u001b[38;5;241m.\u001b[39mlineterminator,\n\u001b[1;32m   (...)\u001b[0m\n\u001b[0;32m    258\u001b[0m         quotechar\u001b[38;5;241m=\u001b[39m\u001b[38;5;28mself\u001b[39m\u001b[38;5;241m.\u001b[39mquotechar,\n\u001b[0;32m    259\u001b[0m     )\n\u001b[0;32m    261\u001b[0m     \u001b[38;5;28mself\u001b[39m\u001b[38;5;241m.\u001b[39m_save()\n",
      "File \u001b[1;32mc:\\users\\dnwilliams\\.pyenv\\pyenv-win\\versions\\3.8.10\\lib\\site-packages\\pandas\\io\\common.py:735\u001b[0m, in \u001b[0;36mget_handle\u001b[1;34m(path_or_buf, mode, encoding, compression, memory_map, is_text, errors, storage_options)\u001b[0m\n\u001b[0;32m    733\u001b[0m \u001b[38;5;66;03m# Only for write methods\u001b[39;00m\n\u001b[0;32m    734\u001b[0m \u001b[38;5;28;01mif\u001b[39;00m \u001b[38;5;124m\"\u001b[39m\u001b[38;5;124mr\u001b[39m\u001b[38;5;124m\"\u001b[39m \u001b[38;5;129;01mnot\u001b[39;00m \u001b[38;5;129;01min\u001b[39;00m mode \u001b[38;5;129;01mand\u001b[39;00m is_path:\n\u001b[1;32m--> 735\u001b[0m     \u001b[43mcheck_parent_directory\u001b[49m\u001b[43m(\u001b[49m\u001b[38;5;28;43mstr\u001b[39;49m\u001b[43m(\u001b[49m\u001b[43mhandle\u001b[49m\u001b[43m)\u001b[49m\u001b[43m)\u001b[49m\n\u001b[0;32m    737\u001b[0m \u001b[38;5;28;01mif\u001b[39;00m compression:\n\u001b[0;32m    738\u001b[0m     \u001b[38;5;28;01mif\u001b[39;00m compression \u001b[38;5;241m!=\u001b[39m \u001b[38;5;124m\"\u001b[39m\u001b[38;5;124mzstd\u001b[39m\u001b[38;5;124m\"\u001b[39m:\n\u001b[0;32m    739\u001b[0m         \u001b[38;5;66;03m# compression libraries do not like an explicit text-mode\u001b[39;00m\n",
      "File \u001b[1;32mc:\\users\\dnwilliams\\.pyenv\\pyenv-win\\versions\\3.8.10\\lib\\site-packages\\pandas\\io\\common.py:598\u001b[0m, in \u001b[0;36mcheck_parent_directory\u001b[1;34m(path)\u001b[0m\n\u001b[0;32m    596\u001b[0m parent \u001b[38;5;241m=\u001b[39m Path(path)\u001b[38;5;241m.\u001b[39mparent\n\u001b[0;32m    597\u001b[0m \u001b[38;5;28;01mif\u001b[39;00m \u001b[38;5;129;01mnot\u001b[39;00m parent\u001b[38;5;241m.\u001b[39mis_dir():\n\u001b[1;32m--> 598\u001b[0m     \u001b[38;5;28;01mraise\u001b[39;00m \u001b[38;5;167;01mOSError\u001b[39;00m(\u001b[38;5;124mrf\u001b[39m\u001b[38;5;124m\"\u001b[39m\u001b[38;5;124mCannot save file into a non-existent directory: \u001b[39m\u001b[38;5;124m'\u001b[39m\u001b[38;5;132;01m{\u001b[39;00mparent\u001b[38;5;132;01m}\u001b[39;00m\u001b[38;5;124m'\u001b[39m\u001b[38;5;124m\"\u001b[39m)\n",
      "\u001b[1;31mOSError\u001b[0m: Cannot save file into a non-existent directory: '\\output'"
     ]
    }
   ],
   "source": [
    "import pandas as pd\n",
    "\n",
    "# Convert JSON String to CSV File\n",
    "# Read json from String\n",
    "json_str = json.dumps(output_dict, indent=4)\n",
    "df = pd.read_json(json_str)\n",
    "df.to_csv('output/results_TRAPI_automat.csv')"
   ]
  },
  {
   "cell_type": "markdown",
   "id": "radio-buyer",
   "metadata": {},
   "source": [
    "A separate name resolver is shown here.  The name-resolver: https://name-resolution-sri.renci.org/docs has a lookup function that can take a string and return potential identifiers.  Here, we look up the string \"tremor\""
   ]
  },
  {
   "cell_type": "code",
   "execution_count": 11,
   "id": "geographic-grove",
   "metadata": {},
   "outputs": [],
   "source": [
    "search_string = 'tremor'\n",
    "results = requests.post(f'https://name-resolution-sri.renci.org/lookup?string={search_string}&offset=0&limit=10')"
   ]
  },
  {
   "cell_type": "code",
   "execution_count": 12,
   "id": "musical-strip",
   "metadata": {},
   "outputs": [
    {
     "name": "stdout",
     "output_type": "stream",
     "text": [
      "{\n",
      "    \"HP:0001337\": [\n",
      "        \"Tremor\",\n",
      "        \"tremor\",\n",
      "        \"TREMOR\",\n",
      "        \"TREMORS\",\n",
      "        \"Tremors\",\n",
      "        \"tremors\",\n",
      "        \"d tremors\",\n",
      "        \"Tremor NOS\",\n",
      "        \"Tremor, NOS\",\n",
      "        \"Has a tremor\",\n",
      "        \"A46-A47 TREMORS\",\n",
      "        \"Shaking/Tremors\",\n",
      "        \"Tremor (finding)\",\n",
      "        \"tremors as symptom\",\n",
      "        \"tremor (diagnosis)\",\n",
      "        \"Tremor, unspecified\",\n",
      "        \"tremor (physical finding)\",\n",
      "        \"motor exam involuntary movements tremor trembles\",\n",
      "        \"involuntary shaking or trembling movements (tremor)\",\n",
      "        \"shake\",\n",
      "        \"shakes\",\n",
      "        \"quiver\",\n",
      "        \"Shakes\",\n",
      "        \"tremble\",\n",
      "        \"Shaking\",\n",
      "        \"shaking\",\n",
      "        \"Tremble\",\n",
      "        \"quivers\",\n",
      "        \"SHAKING\",\n",
      "        \"Trembled\",\n",
      "        \"Quivered\",\n",
      "        \"trembles\",\n",
      "        \"Trembles\",\n",
      "        \"TREMBLING\",\n",
      "        \"TREMULOUS\",\n",
      "        \"Trembling\",\n",
      "        \"trembling\",\n",
      "        \"Quivering\",\n",
      "        \"quivering\",\n",
      "        \"tremulous\",\n",
      "        \"The shakes\",\n",
      "        \"the shakes\",\n",
      "        \"Shaking all over\",\n",
      "        \"Trembles (finding)\",\n",
      "        \"Involuntary quiver\",\n",
      "        \"Involuntary Quiver\",\n",
      "        \"Involuntary Quivers\",\n",
      "        \"Quiver, Involuntary\",\n",
      "        \"Involuntary shaking\",\n",
      "        \"Quivers, Involuntary\",\n",
      "        \"Involuntary trembling\",\n",
      "        \"trembles (physical finding)\",\n",
      "        \"involuntary shaking or trembling movements\",\n",
      "        \"involuntary shaking or trembling movements (symptom)\"\n",
      "    ],\n",
      "    \"NCIT:C55596\": [\n",
      "        \"Tremor\",\n",
      "        \"Tremor, CTCAE_3\",\n",
      "        \"Tremor, CTCAE 3.0\"\n",
      "    ],\n",
      "    \"NCIT:C146780\": [\n",
      "        \"Tremor\",\n",
      "        \"Tremor, CTCAE_5\",\n",
      "        \"Tremor, CTCAE 5.0\"\n",
      "    ],\n",
      "    \"PUBCHEM.COMPOUND:5534\": [\n",
      "        \"Tremorine\",\n",
      "        \"TREMORINE\",\n",
      "        \"CHEMBL1483237\",\n",
      "        \"1-[4-(1-pyrrolidinyl)but-2-ynyl]pyrrolidine\"\n",
      "    ],\n",
      "    \"UMLS:C1836697\": [\n",
      "        \"No tremor\"\n",
      "    ],\n",
      "    \"PUBCHEM.COMPOUND:337313\": [\n",
      "        \"tremortin\",\n",
      "        \"Tremortin A\"\n",
      "    ],\n",
      "    \"HMDB:HMDB0242736\": [\n",
      "        \"Tremortin\",\n",
      "        \"Tremortin a\",\n",
      "        \"Tremortin b\",\n",
      "        \"Penitrems\",\n",
      "        \"penitrem A\",\n",
      "        \"Penitrem b\",\n",
      "        \"Penitrem e\",\n",
      "        \"Penitrem D\"\n",
      "    ],\n",
      "    \"UMLS:C0240081\": [\n",
      "        \"JAW TREMOR\",\n",
      "        \"jaw tremor\",\n",
      "        \"jaw tremors\"\n",
      "    ],\n",
      "    \"HP:0032006\": [\n",
      "        \"Lip tremor\",\n",
      "        \"tremor lip\",\n",
      "        \"lip tremor\",\n",
      "        \"LIP TREMOR\",\n",
      "        \"lip tremors\"\n",
      "    ],\n",
      "    \"UMLS:C1961111\": [\n",
      "        \"Tremor NEC\",\n",
      "        \"Tremor NEC in ICD9CM_2014\",\n",
      "        \"Essential and other specified forms of tremor\"\n",
      "    ]\n",
      "}\n"
     ]
    }
   ],
   "source": [
    "print(json.dumps(results.json(),indent=4))"
   ]
  },
  {
   "cell_type": "markdown",
   "id": "satellite-crazy",
   "metadata": {},
   "source": [
    "The node normalizer (https://nodenormalization-sri.renci.org/docs) takes CURIES and returns all other CURIES that are synonymous with the input. It also returns labels for the node, the biolink classes of the node, and often the information content of the node."
   ]
  },
  {
   "cell_type": "code",
   "execution_count": 13,
   "id": "south-preservation",
   "metadata": {},
   "outputs": [],
   "source": [
    "nn_query = {\n",
    "  \"curies\": [\n",
    "    \"NCBIGene:4988\",\n",
    "  ],\n",
    "  \"conflate\": True\n",
    "}\n",
    "results = requests.post('https://nodenormalization-sri.renci.org/get_normalized_nodes',json=nn_query)"
   ]
  },
  {
   "cell_type": "code",
   "execution_count": 14,
   "id": "absent-array",
   "metadata": {},
   "outputs": [
    {
     "name": "stdout",
     "output_type": "stream",
     "text": [
      "{\n",
      "    \"NCBIGene:4988\": {\n",
      "        \"id\": {\n",
      "            \"identifier\": \"NCBIGene:4988\",\n",
      "            \"label\": \"OPRM1\"\n",
      "        },\n",
      "        \"equivalent_identifiers\": [\n",
      "            {\n",
      "                \"identifier\": \"NCBIGene:4988\",\n",
      "                \"label\": \"OPRM1\"\n",
      "            },\n",
      "            {\n",
      "                \"identifier\": \"ENSEMBL:ENSG00000112038\"\n",
      "            },\n",
      "            {\n",
      "                \"identifier\": \"HGNC:8156\",\n",
      "                \"label\": \"OPRM1\"\n",
      "            },\n",
      "            {\n",
      "                \"identifier\": \"OMIM:600018\"\n",
      "            },\n",
      "            {\n",
      "                \"identifier\": \"UMLS:C1417965\",\n",
      "                \"label\": \"OPRM1 gene\"\n",
      "            },\n",
      "            {\n",
      "                \"identifier\": \"UniProtKB:B8K2Q5\",\n",
      "                \"label\": \"B8K2Q5_HUMAN Mu opioid receptor splice variant MOR-1H (Fragment) (trembl)\"\n",
      "            },\n",
      "            {\n",
      "                \"identifier\": \"UniProtKB:G8XRH4\",\n",
      "                \"label\": \"G8XRH4_HUMAN Mu opioid receptor splice variant hMOR-1S (trembl)\"\n",
      "            },\n",
      "            {\n",
      "                \"identifier\": \"UniProtKB:G8XRH5\",\n",
      "                \"label\": \"G8XRH5_HUMAN Mu-type opioid receptor (trembl)\"\n",
      "            },\n",
      "            {\n",
      "                \"identifier\": \"UniProtKB:L0E130\",\n",
      "                \"label\": \"L0E130_HUMAN Mu-type opioid receptor (trembl)\"\n",
      "            },\n",
      "            {\n",
      "                \"identifier\": \"ENSEMBL:ENSP00000353598.5\"\n",
      "            },\n",
      "            {\n",
      "                \"identifier\": \"UniProtKB:P35372\",\n",
      "                \"label\": \"OPRM_HUMAN Mu-type opioid receptor (sprot)\"\n",
      "            },\n",
      "            {\n",
      "                \"identifier\": \"PR:P35372\",\n",
      "                \"label\": \"mu-type opioid receptor (human)\"\n",
      "            },\n",
      "            {\n",
      "                \"identifier\": \"UMLS:C1436808\",\n",
      "                \"label\": \"OPRM1 protein, human\"\n",
      "            }\n",
      "        ],\n",
      "        \"type\": [\n",
      "            \"biolink:Gene\",\n",
      "            \"biolink:GeneOrGeneProduct\",\n",
      "            \"biolink:GenomicEntity\",\n",
      "            \"biolink:ChemicalEntityOrGeneOrGeneProduct\",\n",
      "            \"biolink:PhysicalEssence\",\n",
      "            \"biolink:OntologyClass\",\n",
      "            \"biolink:BiologicalEntity\",\n",
      "            \"biolink:NamedThing\",\n",
      "            \"biolink:Entity\",\n",
      "            \"biolink:PhysicalEssenceOrOccurrent\",\n",
      "            \"biolink:ThingWithTaxon\",\n",
      "            \"biolink:MacromolecularMachineMixin\",\n",
      "            \"biolink:Protein\",\n",
      "            \"biolink:GeneProductMixin\",\n",
      "            \"biolink:Polypeptide\",\n",
      "            \"biolink:ChemicalEntityOrProteinOrPolypeptide\"\n",
      "        ],\n",
      "        \"information_content\": 100.0\n",
      "    }\n",
      "}\n"
     ]
    }
   ],
   "source": [
    "print(json.dumps(results.json(),indent=4))"
   ]
  },
  {
   "cell_type": "markdown",
   "id": "expensive-broad",
   "metadata": {},
   "source": [
    "The results above are just database matches, there are no scores or other additions.  You can instead send the TRAPI to the robokop application using Aragorn (rather than just to the graph)"
   ]
  },
  {
   "cell_type": "code",
   "execution_count": 22,
   "id": "chronic-gregory",
   "metadata": {},
   "outputs": [],
   "source": [
    "ara_robokop_submit_url = \"https://aragorn.renci.org/robokop/query\"\n",
    "response = requests.post(ara_robokop_submit_url,json=query)"
   ]
  },
  {
   "cell_type": "code",
   "execution_count": 23,
   "id": "marked-relevance",
   "metadata": {},
   "outputs": [
    {
     "data": {
      "text/plain": [
       "500"
      ]
     },
     "execution_count": 23,
     "metadata": {},
     "output_type": "execute_result"
    }
   ],
   "source": [
    "response.status_code"
   ]
  },
  {
   "cell_type": "code",
   "execution_count": 16,
   "id": "tough-iraqi",
   "metadata": {},
   "outputs": [
    {
     "ename": "KeyError",
     "evalue": "'results'",
     "output_type": "error",
     "traceback": [
      "\u001b[1;31m---------------------------------------------------------------------------\u001b[0m",
      "\u001b[1;31mKeyError\u001b[0m                                  Traceback (most recent call last)",
      "Cell \u001b[1;32mIn [16], line 1\u001b[0m\n\u001b[1;32m----> 1\u001b[0m \u001b[38;5;28mlen\u001b[39m(\u001b[43mresponse_ara\u001b[49m\u001b[38;5;241;43m.\u001b[39;49m\u001b[43mjson\u001b[49m\u001b[43m(\u001b[49m\u001b[43m)\u001b[49m\u001b[43m[\u001b[49m\u001b[38;5;124;43m'\u001b[39;49m\u001b[38;5;124;43mmessage\u001b[39;49m\u001b[38;5;124;43m'\u001b[39;49m\u001b[43m]\u001b[49m\u001b[43m[\u001b[49m\u001b[38;5;124;43m'\u001b[39;49m\u001b[38;5;124;43mresults\u001b[39;49m\u001b[38;5;124;43m'\u001b[39;49m\u001b[43m]\u001b[49m)\n",
      "\u001b[1;31mKeyError\u001b[0m: 'results'"
     ]
    }
   ],
   "source": [
    "len(response_ara.json()['message']['results'])"
   ]
  },
  {
   "cell_type": "code",
   "execution_count": 12,
   "id": "cb4dcf32-c88d-46ce-9d9d-553f279f1806",
   "metadata": {},
   "outputs": [
    {
     "name": "stdout",
     "output_type": "stream",
     "text": [
      "[    {    'edge_bindings': {    'e00': [    {    'attributes': None,\n",
      "                                                 'id': '8766602'},\n",
      "                                            {    'attributes': None,\n",
      "                                                 'id': '29152440'},\n",
      "                                            {    'attributes': None,\n",
      "                                                 'id': '115770418'}],\n",
      "                                'e01': [    {    'attributes': None,\n",
      "                                                 'id': '14737677'},\n",
      "                                            {    'attributes': None,\n",
      "                                                 'id': '104671278'}]},\n",
      "          'node_bindings': {    'n00': [    {    'attributes': None,\n",
      "                                                 'id': 'PUBCHEM.COMPOUND:644073',\n",
      "                                                 'qnode_id': 'PUBCHEM.COMPOUND:644073',\n",
      "                                                 'query_id': None}],\n",
      "                                'n01': [    {    'attributes': None,\n",
      "                                                 'id': 'NCBIGene:1565',\n",
      "                                                 'query_id': None}],\n",
      "                                'n02': [    {    'attributes': None,\n",
      "                                                 'id': 'HP:0001337',\n",
      "                                                 'qnode_id': 'HP:0001337',\n",
      "                                                 'query_id': None}]},\n",
      "          'score': None},\n",
      "     {    'edge_bindings': {    'e00': [    {    'attributes': None,\n",
      "                                                 'id': '8766602'},\n",
      "                                            {    'attributes': None,\n",
      "                                                 'id': '29152440'},\n",
      "                                            {    'attributes': None,\n",
      "                                                 'id': '115770418'}],\n",
      "                                'e01': [    {    'attributes': None,\n",
      "                                                 'id': '93297435'}]},\n",
      "          'node_bindings': {    'n00': [    {    'attributes': None,\n",
      "                                                 'id': 'PUBCHEM.COMPOUND:644073',\n",
      "                                                 'qnode_id': 'PUBCHEM.COMPOUND:644073',\n",
      "                                                 'query_id': None}],\n",
      "                                'n01': [    {    'attributes': None,\n",
      "                                                 'id': 'NCBIGene:1565',\n",
      "                                                 'query_id': None}],\n",
      "                                'n02': [    {    'attributes': None,\n",
      "                                                 'id': 'HP:0002345',\n",
      "                                                 'qnode_id': 'HP:0001337',\n",
      "                                                 'query_id': None}]},\n",
      "          'score': None},\n",
      "     {    'edge_bindings': {    'e00': [    {    'attributes': None,\n",
      "                                                 'id': '8766602'},\n",
      "                                            {    'attributes': None,\n",
      "                                                 'id': '29152440'},\n",
      "                                            {    'attributes': None,\n",
      "                                                 'id': '115770418'}],\n",
      "                                'e01': [    {    'attributes': None,\n",
      "                                                 'id': '40300787'}]},\n",
      "          'node_bindings': {    'n00': [    {    'attributes': None,\n",
      "                                                 'id': 'PUBCHEM.COMPOUND:644073',\n",
      "                                                 'qnode_id': 'PUBCHEM.COMPOUND:644073',\n",
      "                                                 'query_id': None}],\n",
      "                                'n01': [    {    'attributes': None,\n",
      "                                                 'id': 'NCBIGene:1565',\n",
      "                                                 'query_id': None}],\n",
      "                                'n02': [    {    'attributes': None,\n",
      "                                                 'id': 'HP:0002322',\n",
      "                                                 'qnode_id': 'HP:0001337',\n",
      "                                                 'query_id': None}]},\n",
      "          'score': None},\n",
      "     {    'edge_bindings': {    'e00': [    {    'attributes': None,\n",
      "                                                 'id': '52520264'},\n",
      "                                            {    'attributes': None,\n",
      "                                                 'id': '17306890'},\n",
      "                                            {    'attributes': None,\n",
      "                                                 'id': '70512752'},\n",
      "                                            {    'attributes': None,\n",
      "                                                 'id': '53738502'},\n",
      "                                            {    'attributes': None,\n",
      "                                                 'id': '114867359'},\n",
      "                                            {    'attributes': None,\n",
      "                                                 'id': '34805007'}],\n",
      "                                'e01': [    {    'attributes': None,\n",
      "                                                 'id': '122503186'}]},\n",
      "          'node_bindings': {    'n00': [    {    'attributes': None,\n",
      "                                                 'id': 'PUBCHEM.COMPOUND:644073',\n",
      "                                                 'qnode_id': 'PUBCHEM.COMPOUND:644073',\n",
      "                                                 'query_id': None}],\n",
      "                                'n01': [    {    'attributes': None,\n",
      "                                                 'id': 'NCBIGene:4988',\n",
      "                                                 'query_id': None}],\n",
      "                                'n02': [    {    'attributes': None,\n",
      "                                                 'id': 'HP:0012164',\n",
      "                                                 'qnode_id': 'HP:0001337',\n",
      "                                                 'query_id': None}]},\n",
      "          'score': None},\n",
      "     {    'edge_bindings': {    'e00': [    {    'attributes': None,\n",
      "                                                 'id': '8766602'},\n",
      "                                            {    'attributes': None,\n",
      "                                                 'id': '29152440'},\n",
      "                                            {    'attributes': None,\n",
      "                                                 'id': '115770418'}],\n",
      "                                'e01': [    {    'attributes': None,\n",
      "                                                 'id': '36237079'}]},\n",
      "          'node_bindings': {    'n00': [    {    'attributes': None,\n",
      "                                                 'id': 'PUBCHEM.COMPOUND:644073',\n",
      "                                                 'qnode_id': 'PUBCHEM.COMPOUND:644073',\n",
      "                                                 'query_id': None}],\n",
      "                                'n01': [    {    'attributes': None,\n",
      "                                                 'id': 'NCBIGene:1565',\n",
      "                                                 'query_id': None}],\n",
      "                                'n02': [    {    'attributes': None,\n",
      "                                                 'id': 'HP:0200085',\n",
      "                                                 'qnode_id': 'HP:0001337',\n",
      "                                                 'query_id': None}]},\n",
      "          'score': None},\n",
      "     {    'edge_bindings': {    'e00': [    {    'attributes': None,\n",
      "                                                 'id': '8766602'},\n",
      "                                            {    'attributes': None,\n",
      "                                                 'id': '29152440'},\n",
      "                                            {    'attributes': None,\n",
      "                                                 'id': '115770418'}],\n",
      "                                'e01': [    {    'attributes': None,\n",
      "                                                 'id': '100241886'}]},\n",
      "          'node_bindings': {    'n00': [    {    'attributes': None,\n",
      "                                                 'id': 'PUBCHEM.COMPOUND:644073',\n",
      "                                                 'qnode_id': 'PUBCHEM.COMPOUND:644073',\n",
      "                                                 'query_id': None}],\n",
      "                                'n01': [    {    'attributes': None,\n",
      "                                                 'id': 'NCBIGene:1565',\n",
      "                                                 'query_id': None}],\n",
      "                                'n02': [    {    'attributes': None,\n",
      "                                                 'id': 'HP:0025387',\n",
      "                                                 'qnode_id': 'HP:0001337',\n",
      "                                                 'query_id': None}]},\n",
      "          'score': None},\n",
      "     {    'edge_bindings': {    'e00': [    {    'attributes': None,\n",
      "                                                 'id': '8766602'},\n",
      "                                            {    'attributes': None,\n",
      "                                                 'id': '29152440'},\n",
      "                                            {    'attributes': None,\n",
      "                                                 'id': '115770418'}],\n",
      "                                'e01': [    {    'attributes': None,\n",
      "                                                 'id': '132474660'}]},\n",
      "          'node_bindings': {    'n00': [    {    'attributes': None,\n",
      "                                                 'id': 'PUBCHEM.COMPOUND:644073',\n",
      "                                                 'qnode_id': 'PUBCHEM.COMPOUND:644073',\n",
      "                                                 'query_id': None}],\n",
      "                                'n01': [    {    'attributes': None,\n",
      "                                                 'id': 'NCBIGene:1565',\n",
      "                                                 'query_id': None}],\n",
      "                                'n02': [    {    'attributes': None,\n",
      "                                                 'id': 'HP:0002174',\n",
      "                                                 'qnode_id': 'HP:0001337',\n",
      "                                                 'query_id': None}]},\n",
      "          'score': None}]\n"
     ]
    }
   ],
   "source": [
    "pp.pprint(response_ara.json()['message']['results'])"
   ]
  },
  {
   "cell_type": "code",
   "execution_count": 15,
   "id": "fleet-digit",
   "metadata": {},
   "outputs": [
    {
     "name": "stdout",
     "output_type": "stream",
     "text": [
      "0.17813345082933518\n",
      "0.1425630949413046\n",
      "0.13187243298012225\n",
      "0.11703906793268541\n",
      "0.11044291163893882\n",
      "0.11020806196762686\n",
      "0.10694929389416649\n",
      "0.1062578101411532\n",
      "0.10610022630555455\n",
      "0.10201048277292121\n",
      "0.10139427809144123\n",
      "0.10108536708640792\n",
      "0.1010853670864079\n",
      "0.1010853670864079\n"
     ]
    }
   ],
   "source": [
    "for result in response.json()['message']['results']:\n",
    "    print(result['score'])"
   ]
  }
 ],
 "metadata": {
  "kernelspec": {
   "display_name": "Python 3 (ipykernel)",
   "language": "python",
   "name": "python3"
  },
  "language_info": {
   "codemirror_mode": {
    "name": "ipython",
    "version": 3
   },
   "file_extension": ".py",
   "mimetype": "text/x-python",
   "name": "python",
   "nbconvert_exporter": "python",
   "pygments_lexer": "ipython3",
   "version": "3.8.10"
  }
 },
 "nbformat": 4,
 "nbformat_minor": 5
}
