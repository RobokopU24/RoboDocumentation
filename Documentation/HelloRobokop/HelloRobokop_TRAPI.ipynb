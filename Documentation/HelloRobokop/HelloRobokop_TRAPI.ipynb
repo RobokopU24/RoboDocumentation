{
 "cells": [
  {
   "cell_type": "code",
   "execution_count": 1,
   "id": "13064e88",
   "metadata": {},
   "outputs": [],
   "source": [
    "# Parameter inputs\n",
    "trapi_submit_url = \"http://robokop-automat.apps.renci.org/robokopkg/1.4/query\"\n",
    "CURIE_buprenorphine_PubChem = \"PUBCHEM.COMPOUND:644073\"\n",
    "CURIE_tremor_HP = \"HP:0001337\"\n",
    "\n",
    "# Initializing directory to write\n",
    "from datetime import datetime\n",
    "from pathlib import Path\n",
    "\n",
    "now = datetime.now()\n",
    "dt_string = now.strftime(\"%Y-%m-%d_%H%M%S\")\n",
    "write_dir = Path(\"output/TRAPI\",str(dt_string))\n",
    "write_dir.mkdir(parents=True, exist_ok=True)"
   ]
  },
  {
   "cell_type": "code",
   "execution_count": 2,
   "id": "f9fe0300",
   "metadata": {},
   "outputs": [],
   "source": [
    "import requests\n",
    "import json"
   ]
  },
  {
   "cell_type": "markdown",
   "id": "18653418",
   "metadata": {},
   "source": [
    "This notebook provides a deeper dive into the TRAPI options for querying the ROBOKOP KG. It assumes you are familiar with the concepts covered in `HelloRobokop.ipynb`.\n",
    "\n",
    "TRAPI Documentation: https://github.com/NCATSTranslator/ReasonerAPI\n",
    "\n",
    "Most TRAPI documents contain a `message` key.  Within that `message` are a `query_graph` denoting the user query,\n",
    "a `knowledge_graph` consisting of the union of all nodes and edges that match the `query_graph` pattern, and a list of `results` that bind `query_graph` elements to `knowledge_graph` elements.\n",
    "\n",
    "The following message contains only a `query_graph`.  This query graph consists of 3 nodes connected together in a line.   Two of the nodes (`n00` and `n02`) have specified identifiers, while the middle node of the line does not.  Rather the middle node has a list of `categories` that are acceptable.\n",
    "\n",
    "For a researcher who is starting from a `name` who wants to use TRAPI, they can use the Name Resolver tool to get the identifers for the nodes.  This is illustrated in the `HelloRobokop_TRAPI_multiple_IDs` notebook.\n",
    "\n",
    "For a research who wants to make use of ARA functionality for features such as scoring, information can be found in the `HelloRobokop_ARA` notebook.\n",
    "\n",
    "This query asks \"Find me a Biological Process or Activity, or a Gene, or a Pathway that is related to both `PUBCHEM.COMPOUND:644073` (Buprenorphine) and `HP:0001337` (Tremor)."
   ]
  },
  {
   "cell_type": "code",
   "execution_count": 3,
   "id": "091bc468",
   "metadata": {},
   "outputs": [],
   "source": [
    "query={\n",
    "    \"message\": {\n",
    "      \"query_graph\": {\n",
    "        \"edges\": {\n",
    "          \"e00\": {\n",
    "            \"subject\": \"n00\",\n",
    "              \"object\": \"n01\",\n",
    "          \"predicates\":[\"biolink:related_to\"]\n",
    "          },\n",
    "          \"e01\": {\n",
    "            \"subject\": \"n01\",\n",
    "              \"object\": \"n02\",\n",
    "          \"predicates\":[\"biolink:related_to\"]\n",
    "          }\n",
    "        },\n",
    "        \"nodes\": {\n",
    "          \"n00\": {\n",
    "            \"ids\": [CURIE_buprenorphine_PubChem],\n",
    "            \"categories\": [\"biolink:ChemicalEntity\"]\n",
    "          },\n",
    "          \"n01\": {\n",
    "              \"categories\": [\"biolink:BiologicalProcessOrActivity\",\"biolink:Gene\",\"biolink:Pathway\"]\n",
    "          },\n",
    "          \"n02\": {\n",
    "            \"ids\": [CURIE_tremor_HP],\n",
    "            \"categories\": [\"biolink:DiseaseOrPhenotypicFeature\"]\n",
    "          }\n",
    "        }\n",
    "      }\n",
    "    }\n",
    "  }\n"
   ]
  },
  {
   "cell_type": "markdown",
   "id": "c2f4c8fd",
   "metadata": {},
   "source": [
    "This query can be sent directly to the ROBOKOP KG hosted in the Automat system like this:"
   ]
  },
  {
   "cell_type": "code",
   "execution_count": 4,
   "id": "c5e81a18",
   "metadata": {},
   "outputs": [
    {
     "name": "stdout",
     "output_type": "stream",
     "text": [
      "200\n",
      "7\n"
     ]
    }
   ],
   "source": [
    "response = requests.post(trapi_submit_url,json=query)\n",
    "print(response.status_code)\n",
    "number_pathway_results = len(response.json()['message']['results'])\n",
    "print(len(response.json()['message']['results']))"
   ]
  },
  {
   "cell_type": "code",
   "execution_count": 5,
   "id": "6a14353b",
   "metadata": {},
   "outputs": [],
   "source": [
    "import pprint\n",
    "pp = pprint.PrettyPrinter(indent=5)"
   ]
  },
  {
   "cell_type": "markdown",
   "id": "b1f5ab34",
   "metadata": {},
   "source": [
    "The response in JSON form is a python dictionary with three main keys, the `message`, `log_level`, and `workflow`.  The `message` property contains the `query_graph`, `knowledge_graph`, and `results` from the query."
   ]
  },
  {
   "cell_type": "code",
   "execution_count": 6,
   "id": "358333fc",
   "metadata": {},
   "outputs": [
    {
     "name": "stdout",
     "output_type": "stream",
     "text": [
      "dict_keys(['message', 'log_level', 'workflow'])\n",
      "dict_keys(['query_graph', 'knowledge_graph', 'results', 'auxiliary_graphs'])\n"
     ]
    }
   ],
   "source": [
    "print(response.json().keys())\n",
    "print(response.json()['message'].keys())\n",
    "\n",
    "query_out = response.json()['message']['query_graph']\n",
    "kg = response.json()['message']['knowledge_graph']\n",
    "results = response.json()['message']['results']"
   ]
  },
  {
   "cell_type": "markdown",
   "id": "cef3a6c6",
   "metadata": {},
   "source": [
    "The original, submitted query graph with additional fields is returned with the `message` property in the `query_graph` property.\n",
    "\n",
    "The code below shows the changes between the submitted query graph and the results query graph. The results includes additional attributes such as `knowledge_type`, `attribute_constraints`, and `qualifier_constraints`.  These attributes can be explicitly defined when submitting to automat such that further filtering can be done.  Because nothing was specified for these attributes in the submitted query graph, their values in the returned query graph are blank."
   ]
  },
  {
   "cell_type": "code",
   "execution_count": 7,
   "id": "5e971ec0",
   "metadata": {},
   "outputs": [
    {
     "name": "stdout",
     "output_type": "stream",
     "text": [
      "['n00', 'n01', 'n02']\n",
      "['e00', 'e01']\n",
      "{    'message': {    'query_graph': {    'edges': {    'e00': {    'object': 'n01',\n",
      "                                                                   'predicates': [    'biolink:related_to'],\n",
      "                                                                   'subject': 'n00'},\n",
      "                                                       'e01': {    'object': 'n02',\n",
      "                                                                   'predicates': [    'biolink:related_to'],\n",
      "                                                                   'subject': 'n01'}},\n",
      "                                         'nodes': {    'n00': {    'categories': [    'biolink:ChemicalEntity'],\n",
      "                                                                   'ids': [    'PUBCHEM.COMPOUND:644073']},\n",
      "                                                       'n01': {    'categories': [    'biolink:BiologicalProcessOrActivity',\n",
      "                                                                                      'biolink:Gene',\n",
      "                                                                                      'biolink:Pathway']},\n",
      "                                                       'n02': {    'categories': [    'biolink:DiseaseOrPhenotypicFeature'],\n",
      "                                                                   'ids': [    'HP:0001337']}}}}}\n",
      "{    'edges': {    'e00': {    'attribute_constraints': [],\n",
      "                               'knowledge_type': None,\n",
      "                               'object': 'n01',\n",
      "                               'predicates': ['biolink:related_to'],\n",
      "                               'qualifier_constraints': [],\n",
      "                               'subject': 'n00'},\n",
      "                   'e01': {    'attribute_constraints': [],\n",
      "                               'knowledge_type': None,\n",
      "                               'object': 'n02',\n",
      "                               'predicates': ['biolink:related_to'],\n",
      "                               'qualifier_constraints': [],\n",
      "                               'subject': 'n01'}},\n",
      "     'nodes': {    'n00': {    'categories': ['biolink:ChemicalEntity'],\n",
      "                               'constraints': [],\n",
      "                               'ids': ['PUBCHEM.COMPOUND:644073'],\n",
      "                               'is_set': False},\n",
      "                   'n01': {    'categories': [    'biolink:BiologicalProcessOrActivity',\n",
      "                                                  'biolink:Gene',\n",
      "                                                  'biolink:Pathway'],\n",
      "                               'constraints': [],\n",
      "                               'ids': None,\n",
      "                               'is_set': False},\n",
      "                   'n02': {    'categories': [    'biolink:DiseaseOrPhenotypicFeature'],\n",
      "                               'constraints': [],\n",
      "                               'ids': ['HP:0001337'],\n",
      "                               'is_set': False}}}\n"
     ]
    }
   ],
   "source": [
    "edges = [\"e00\", \"e01\"]\n",
    "nodes = [\"n00\", \"n01\", \"n02\"]\n",
    "\n",
    "print(nodes)\n",
    "print(edges)\n",
    "pp.pprint(query)\n",
    "pp.pprint(query_out)"
   ]
  },
  {
   "cell_type": "markdown",
   "id": "302f3a65",
   "metadata": {},
   "source": [
    "The `results` property contains pathways resulting from the query message. Each pathway is organized into edge_bindings and node bindings and contains results for the edges and nodes specified in the query message.  Results are defined using the node and edge identifiers. The attributes for those nodes and edges (including the names) are available via the `knowledge_graph` component of the `message` section of the response."
   ]
  },
  {
   "cell_type": "code",
   "execution_count": 8,
   "id": "574ebfef",
   "metadata": {},
   "outputs": [
    {
     "name": "stdout",
     "output_type": "stream",
     "text": [
      "[    {    'analyses': [    {    'attributes': None,\n",
      "                                'edge_bindings': {    'e00': [    {    'attributes': None,\n",
      "                                                                       'id': '92137489'},\n",
      "                                                                  {    'attributes': None,\n",
      "                                                                       'id': '118472855'},\n",
      "                                                                  {    'attributes': None,\n",
      "                                                                       'id': '8156627'},\n",
      "                                                                  {    'attributes': None,\n",
      "                                                                       'id': '8966609'}],\n",
      "                                                      'e01': [    {    'attributes': None,\n",
      "                                                                       'id': '117227756'}]},\n",
      "                                'resource_id': 'infores:automat-robokop',\n",
      "                                'score': None,\n",
      "                                'scoring_method': None,\n",
      "                                'support_graphs': None}],\n",
      "          'node_bindings': {    'n00': [    {    'attributes': None,\n",
      "                                                 'id': 'PUBCHEM.COMPOUND:644073',\n",
      "                                                 'qnode_id': 'PUBCHEM.COMPOUND:644073',\n",
      "                                                 'query_id': None}],\n",
      "                                'n01': [    {    'attributes': None,\n",
      "                                                 'id': 'NCBIGene:1565',\n",
      "                                                 'query_id': None}],\n",
      "                                'n02': [    {    'attributes': None,\n",
      "                                                 'id': 'HP:0002322',\n",
      "                                                 'qnode_id': 'HP:0001337',\n",
      "                                                 'query_id': None}]}},\n",
      "     {    'analyses': [    {    'attributes': None,\n",
      "                                'edge_bindings': {    'e00': [    {    'attributes': None,\n",
      "                                                                       'id': '92137489'},\n",
      "                                                                  {    'attributes': None,\n",
      "                                                                       'id': '118472855'},\n",
      "                                                                  {    'attributes': None,\n",
      "                                                                       'id': '8156627'},\n",
      "                                                                  {    'attributes': None,\n",
      "                                                                       'id': '8966609'}],\n",
      "                                                      'e01': [    {    'attributes': None,\n",
      "                                                                       'id': '39304169'}]},\n",
      "                                'resource_id': 'infores:automat-robokop',\n",
      "                                'score': None,\n",
      "                                'scoring_method': None,\n",
      "                                'support_graphs': None}],\n",
      "          'node_bindings': {    'n00': [    {    'attributes': None,\n",
      "                                                 'id': 'PUBCHEM.COMPOUND:644073',\n",
      "                                                 'qnode_id': 'PUBCHEM.COMPOUND:644073',\n",
      "                                                 'query_id': None}],\n",
      "                                'n01': [    {    'attributes': None,\n",
      "                                                 'id': 'NCBIGene:1565',\n",
      "                                                 'query_id': None}],\n",
      "                                'n02': [    {    'attributes': None,\n",
      "                                                 'id': 'HP:0002174',\n",
      "                                                 'qnode_id': 'HP:0001337',\n",
      "                                                 'query_id': None}]}},\n",
      "     {    'analyses': [    {    'attributes': None,\n",
      "                                'edge_bindings': {    'e00': [    {    'attributes': None,\n",
      "                                                                       'id': '92137489'},\n",
      "                                                                  {    'attributes': None,\n",
      "                                                                       'id': '118472855'},\n",
      "                                                                  {    'attributes': None,\n",
      "                                                                       'id': '8156627'},\n",
      "                                                                  {    'attributes': None,\n",
      "                                                                       'id': '8966609'}],\n",
      "                                                      'e01': [    {    'attributes': None,\n",
      "                                                                       'id': '134726403'}]},\n",
      "                                'resource_id': 'infores:automat-robokop',\n",
      "                                'score': None,\n",
      "                                'scoring_method': None,\n",
      "                                'support_graphs': None}],\n",
      "          'node_bindings': {    'n00': [    {    'attributes': None,\n",
      "                                                 'id': 'PUBCHEM.COMPOUND:644073',\n",
      "                                                 'qnode_id': 'PUBCHEM.COMPOUND:644073',\n",
      "                                                 'query_id': None}],\n",
      "                                'n01': [    {    'attributes': None,\n",
      "                                                 'id': 'NCBIGene:1565',\n",
      "                                                 'query_id': None}],\n",
      "                                'n02': [    {    'attributes': None,\n",
      "                                                 'id': 'HP:0002345',\n",
      "                                                 'qnode_id': 'HP:0001337',\n",
      "                                                 'query_id': None}]}},\n",
      "     {    'analyses': [    {    'attributes': None,\n",
      "                                'edge_bindings': {    'e00': [    {    'attributes': None,\n",
      "                                                                       'id': '117500416'},\n",
      "                                                                  {    'attributes': None,\n",
      "                                                                       'id': '17737209'},\n",
      "                                                                  {    'attributes': None,\n",
      "                                                                       'id': '2242383'},\n",
      "                                                                  {    'attributes': None,\n",
      "                                                                       'id': '76016327'},\n",
      "                                                                  {    'attributes': None,\n",
      "                                                                       'id': '54963958'},\n",
      "                                                                  {    'attributes': None,\n",
      "                                                                       'id': '102795230'},\n",
      "                                                                  {    'attributes': None,\n",
      "                                                                       'id': '6705763'},\n",
      "                                                                  {    'attributes': None,\n",
      "                                                                       'id': '72131487'}],\n",
      "                                                      'e01': [    {    'attributes': None,\n",
      "                                                                       'id': '87074152'}]},\n",
      "                                'resource_id': 'infores:automat-robokop',\n",
      "                                'score': None,\n",
      "                                'scoring_method': None,\n",
      "                                'support_graphs': None}],\n",
      "          'node_bindings': {    'n00': [    {    'attributes': None,\n",
      "                                                 'id': 'PUBCHEM.COMPOUND:644073',\n",
      "                                                 'qnode_id': 'PUBCHEM.COMPOUND:644073',\n",
      "                                                 'query_id': None}],\n",
      "                                'n01': [    {    'attributes': None,\n",
      "                                                 'id': 'NCBIGene:4988',\n",
      "                                                 'query_id': None}],\n",
      "                                'n02': [    {    'attributes': None,\n",
      "                                                 'id': 'HP:0012164',\n",
      "                                                 'qnode_id': 'HP:0001337',\n",
      "                                                 'query_id': None}]}},\n",
      "     {    'analyses': [    {    'attributes': None,\n",
      "                                'edge_bindings': {    'e00': [    {    'attributes': None,\n",
      "                                                                       'id': '92137489'},\n",
      "                                                                  {    'attributes': None,\n",
      "                                                                       'id': '118472855'},\n",
      "                                                                  {    'attributes': None,\n",
      "                                                                       'id': '8156627'},\n",
      "                                                                  {    'attributes': None,\n",
      "                                                                       'id': '8966609'}],\n",
      "                                                      'e01': [    {    'attributes': None,\n",
      "                                                                       'id': '99768068'},\n",
      "                                                                  {    'attributes': None,\n",
      "                                                                       'id': '127729706'}]},\n",
      "                                'resource_id': 'infores:automat-robokop',\n",
      "                                'score': None,\n",
      "                                'scoring_method': None,\n",
      "                                'support_graphs': None}],\n",
      "          'node_bindings': {    'n00': [    {    'attributes': None,\n",
      "                                                 'id': 'PUBCHEM.COMPOUND:644073',\n",
      "                                                 'qnode_id': 'PUBCHEM.COMPOUND:644073',\n",
      "                                                 'query_id': None}],\n",
      "                                'n01': [    {    'attributes': None,\n",
      "                                                 'id': 'NCBIGene:1565',\n",
      "                                                 'query_id': None}],\n",
      "                                'n02': [    {    'attributes': None,\n",
      "                                                 'id': 'HP:0001337',\n",
      "                                                 'qnode_id': 'HP:0001337',\n",
      "                                                 'query_id': None}]}},\n",
      "     {    'analyses': [    {    'attributes': None,\n",
      "                                'edge_bindings': {    'e00': [    {    'attributes': None,\n",
      "                                                                       'id': '92137489'},\n",
      "                                                                  {    'attributes': None,\n",
      "                                                                       'id': '118472855'},\n",
      "                                                                  {    'attributes': None,\n",
      "                                                                       'id': '8156627'},\n",
      "                                                                  {    'attributes': None,\n",
      "                                                                       'id': '8966609'}],\n",
      "                                                      'e01': [    {    'attributes': None,\n",
      "                                                                       'id': '9661894'}]},\n",
      "                                'resource_id': 'infores:automat-robokop',\n",
      "                                'score': None,\n",
      "                                'scoring_method': None,\n",
      "                                'support_graphs': None}],\n",
      "          'node_bindings': {    'n00': [    {    'attributes': None,\n",
      "                                                 'id': 'PUBCHEM.COMPOUND:644073',\n",
      "                                                 'qnode_id': 'PUBCHEM.COMPOUND:644073',\n",
      "                                                 'query_id': None}],\n",
      "                                'n01': [    {    'attributes': None,\n",
      "                                                 'id': 'NCBIGene:1565',\n",
      "                                                 'query_id': None}],\n",
      "                                'n02': [    {    'attributes': None,\n",
      "                                                 'id': 'HP:0200085',\n",
      "                                                 'qnode_id': 'HP:0001337',\n",
      "                                                 'query_id': None}]}},\n",
      "     {    'analyses': [    {    'attributes': None,\n",
      "                                'edge_bindings': {    'e00': [    {    'attributes': None,\n",
      "                                                                       'id': '92137489'},\n",
      "                                                                  {    'attributes': None,\n",
      "                                                                       'id': '118472855'},\n",
      "                                                                  {    'attributes': None,\n",
      "                                                                       'id': '8156627'},\n",
      "                                                                  {    'attributes': None,\n",
      "                                                                       'id': '8966609'}],\n",
      "                                                      'e01': [    {    'attributes': None,\n",
      "                                                                       'id': '86129395'}]},\n",
      "                                'resource_id': 'infores:automat-robokop',\n",
      "                                'score': None,\n",
      "                                'scoring_method': None,\n",
      "                                'support_graphs': None}],\n",
      "          'node_bindings': {    'n00': [    {    'attributes': None,\n",
      "                                                 'id': 'PUBCHEM.COMPOUND:644073',\n",
      "                                                 'qnode_id': 'PUBCHEM.COMPOUND:644073',\n",
      "                                                 'query_id': None}],\n",
      "                                'n01': [    {    'attributes': None,\n",
      "                                                 'id': 'NCBIGene:1565',\n",
      "                                                 'query_id': None}],\n",
      "                                'n02': [    {    'attributes': None,\n",
      "                                                 'id': 'HP:0025387',\n",
      "                                                 'qnode_id': 'HP:0001337',\n",
      "                                                 'query_id': None}]}}]\n"
     ]
    }
   ],
   "source": [
    "pp.pprint(results)"
   ]
  },
  {
   "cell_type": "markdown",
   "id": "4d334207",
   "metadata": {},
   "source": [
    "The `knowledge_graph` contains information about each of the Nodes and Edges found in `results`.  An example of a Node and an Edge are shown below.  "
   ]
  },
  {
   "cell_type": "code",
   "execution_count": 9,
   "id": "d4f7f408",
   "metadata": {},
   "outputs": [
    {
     "name": "stdout",
     "output_type": "stream",
     "text": [
      "dict_keys(['nodes', 'edges'])\n"
     ]
    }
   ],
   "source": [
    "pp.pprint(kg.keys())"
   ]
  },
  {
   "cell_type": "markdown",
   "id": "66e98b61",
   "metadata": {},
   "source": [
    "Information returned for the each Node includes the concept ID (key), biolink categories, the name/label, attributes, the value type, and others.  Note that each entry under the `nodes` level is itemized in dictionary format with the key corresponding to the identifier used to define the `Result`.  The content for one Node is shown below."
   ]
  },
  {
   "cell_type": "code",
   "execution_count": 10,
   "id": "3ca3bd6b",
   "metadata": {},
   "outputs": [
    {
     "data": {
      "text/plain": [
       "('HP:0012164',\n",
       " {'categories': ['biolink:ThingWithTaxon',\n",
       "   'biolink:Entity',\n",
       "   'biolink:PhenotypicFeature',\n",
       "   'biolink:NamedThing',\n",
       "   'biolink:DiseaseOrPhenotypicFeature',\n",
       "   'biolink:BiologicalEntity'],\n",
       "  'name': 'Asterixis',\n",
       "  'attributes': [{'attribute_type_id': 'dct:description',\n",
       "    'value': 'A clinical sign indicating a lapse of posture and is usually manifest by a bilateral flapping tremor at the wrist, metacarpophalangeal, and hip joints.',\n",
       "    'value_type_id': 'EDAM:data_0006',\n",
       "    'original_attribute_name': 'description',\n",
       "    'value_url': None,\n",
       "    'attribute_source': None,\n",
       "    'description': None,\n",
       "    'attributes': None},\n",
       "   {'attribute_type_id': 'biolink:Attribute',\n",
       "    'value': 100.0,\n",
       "    'value_type_id': 'EDAM:data_0006',\n",
       "    'original_attribute_name': 'information_content',\n",
       "    'value_url': None,\n",
       "    'attribute_source': None,\n",
       "    'description': None,\n",
       "    'attributes': None},\n",
       "   {'attribute_type_id': 'biolink:same_as',\n",
       "    'value': ['SNOMEDCT:32838008',\n",
       "     'MEDDRA:10057580',\n",
       "     'HP:0012164',\n",
       "     'MEDDRA:10003547',\n",
       "     'NCIT:C86048',\n",
       "     'UMLS:C0232766'],\n",
       "    'value_type_id': 'metatype:uriorcurie',\n",
       "    'original_attribute_name': 'equivalent_identifiers',\n",
       "    'value_url': None,\n",
       "    'attribute_source': None,\n",
       "    'description': None,\n",
       "    'attributes': None}]})"
      ]
     },
     "execution_count": 10,
     "metadata": {},
     "output_type": "execute_result"
    }
   ],
   "source": [
    "next(iter( kg['nodes'].items() ))"
   ]
  },
  {
   "cell_type": "markdown",
   "id": "3422b2fd",
   "metadata": {},
   "source": [
    "Information returned for the each Edge includes the edge ID (key), the subject's concept ID, the object's concept ID, the edge's predicate, any qualifiers, and attributes.  Note that each entry under the `edges` level is itemized in dictionary format  with the key corresponding to the identifier used to define the `Result`.  The content for one Edge is shown below."
   ]
  },
  {
   "cell_type": "code",
   "execution_count": 11,
   "id": "f2f5d06b",
   "metadata": {},
   "outputs": [
    {
     "data": {
      "text/plain": [
       "('39304169',\n",
       " {'subject': 'NCBIGene:1565',\n",
       "  'object': 'HP:0002174',\n",
       "  'predicate': 'biolink:genetically_associated_with',\n",
       "  'sources': [{'resource_id': 'infores:disgenet',\n",
       "    'resource_role': 'primary_knowledge_source',\n",
       "    'upstream_resource_ids': None,\n",
       "    'source_record_urls': None},\n",
       "   {'resource_id': 'infores:pharos',\n",
       "    'resource_role': 'aggregator_knowledge_source',\n",
       "    'upstream_resource_ids': ['infores:disgenet'],\n",
       "    'source_record_urls': None},\n",
       "   {'resource_id': 'infores:automat-robokop',\n",
       "    'resource_role': 'aggregator_knowledge_source',\n",
       "    'upstream_resource_ids': ['infores:pharos'],\n",
       "    'source_record_urls': None}],\n",
       "  'qualifiers': None,\n",
       "  'attributes': [{'attribute_type_id': 'biolink:Attribute',\n",
       "    'value': 0.3,\n",
       "    'value_type_id': 'EDAM:data_0006',\n",
       "    'original_attribute_name': 'score',\n",
       "    'value_url': None,\n",
       "    'attribute_source': None,\n",
       "    'description': None,\n",
       "    'attributes': None}]})"
      ]
     },
     "execution_count": 11,
     "metadata": {},
     "output_type": "execute_result"
    }
   ],
   "source": [
    "next(iter( kg['edges'].items() ))"
   ]
  },
  {
   "cell_type": "markdown",
   "id": "caf29d26",
   "metadata": {},
   "source": [
    "The following sections show how the `knowledge_graph` can be used to annotate the `results`, which serve to bind the components of the `knowedge_graph` to the original `query_graph` used to find the `knowledge_graph`. A single result is shown below to highlight the features we'll use for the subsequent summaries. The `node_bindings` link the components of the `query_graph` to the identifiers of the nodes within the `knowledge_graph`. The keys for these bindings correspond to the identifiers used to define the `query_graph` above. For this example nodes are defined with an \"n\" followed by a number corresponding to the order of the node in the `query_graph`. The `edge_bindings` have identifiers defined with \"e\" plus a number specifying the order. In both cases, the `id` field corresponds to the corresponding identifier in the `knowledge_graph`. The `result` includes a score field, which is not used when directly querying ROBOKOP using TRAPI. We'll show the score field below when we cover the API for querying ROBOKOP that takes advantage of the Automomous Relay Agent (ARA) methodology developed as part of the NIH Biomedical Data Translator to query the ROBOKOP knowledgegraph. That method of accessing ROBOKOP is covered in the `HelloRobokop_ARA.ipynb` notebook."
   ]
  },
  {
   "cell_type": "code",
   "execution_count": 12,
   "id": "8417a209",
   "metadata": {},
   "outputs": [
    {
     "name": "stdout",
     "output_type": "stream",
     "text": [
      "{    'analyses': [    {    'attributes': None,\n",
      "                           'edge_bindings': {    'e00': [    {    'attributes': None,\n",
      "                                                                  'id': '92137489'},\n",
      "                                                             {    'attributes': None,\n",
      "                                                                  'id': '118472855'},\n",
      "                                                             {    'attributes': None,\n",
      "                                                                  'id': '8156627'},\n",
      "                                                             {    'attributes': None,\n",
      "                                                                  'id': '8966609'}],\n",
      "                                                 'e01': [    {    'attributes': None,\n",
      "                                                                  'id': '117227756'}]},\n",
      "                           'resource_id': 'infores:automat-robokop',\n",
      "                           'score': None,\n",
      "                           'scoring_method': None,\n",
      "                           'support_graphs': None}],\n",
      "     'node_bindings': {    'n00': [    {    'attributes': None,\n",
      "                                            'id': 'PUBCHEM.COMPOUND:644073',\n",
      "                                            'qnode_id': 'PUBCHEM.COMPOUND:644073',\n",
      "                                            'query_id': None}],\n",
      "                           'n01': [    {    'attributes': None,\n",
      "                                            'id': 'NCBIGene:1565',\n",
      "                                            'query_id': None}],\n",
      "                           'n02': [    {    'attributes': None,\n",
      "                                            'id': 'HP:0002322',\n",
      "                                            'qnode_id': 'HP:0001337',\n",
      "                                            'query_id': None}]}}\n"
     ]
    }
   ],
   "source": [
    "# Illustrating the structure of each pathway result from the message property\n",
    "pp.pprint(results[0])"
   ]
  },
  {
   "cell_type": "markdown",
   "id": "18d92b5b",
   "metadata": {},
   "source": [
    "To export the results from our query, we create a directory with today's date to hold the output files and then convert our output dictionaries into a set of tables, which can be easily exported."
   ]
  },
  {
   "cell_type": "markdown",
   "id": "ab0c8afd",
   "metadata": {},
   "source": [
    "The code below writes out nodes from our `results`, but NOT the edges connecting the nodes."
   ]
  },
  {
   "cell_type": "code",
   "execution_count": 13,
   "id": "18902c3d",
   "metadata": {},
   "outputs": [
    {
     "data": {
      "text/html": [
       "<div>\n",
       "<style scoped>\n",
       "    .dataframe tbody tr th:only-of-type {\n",
       "        vertical-align: middle;\n",
       "    }\n",
       "\n",
       "    .dataframe tbody tr th {\n",
       "        vertical-align: top;\n",
       "    }\n",
       "\n",
       "    .dataframe thead th {\n",
       "        text-align: right;\n",
       "    }\n",
       "</style>\n",
       "<table border=\"1\" class=\"dataframe\">\n",
       "  <thead>\n",
       "    <tr style=\"text-align: right;\">\n",
       "      <th></th>\n",
       "      <th>n00</th>\n",
       "      <th>n00_name</th>\n",
       "      <th>n01</th>\n",
       "      <th>n01_name</th>\n",
       "      <th>n02</th>\n",
       "      <th>n02_name</th>\n",
       "    </tr>\n",
       "  </thead>\n",
       "  <tbody>\n",
       "    <tr>\n",
       "      <th>0</th>\n",
       "      <td>PUBCHEM.COMPOUND:644073</td>\n",
       "      <td>Buprenorphine</td>\n",
       "      <td>NCBIGene:1565</td>\n",
       "      <td>CYP2D6</td>\n",
       "      <td>HP:0002322</td>\n",
       "      <td>Resting tremor</td>\n",
       "    </tr>\n",
       "    <tr>\n",
       "      <th>0</th>\n",
       "      <td>PUBCHEM.COMPOUND:644073</td>\n",
       "      <td>Buprenorphine</td>\n",
       "      <td>NCBIGene:1565</td>\n",
       "      <td>CYP2D6</td>\n",
       "      <td>HP:0002174</td>\n",
       "      <td>Postural tremor</td>\n",
       "    </tr>\n",
       "    <tr>\n",
       "      <th>0</th>\n",
       "      <td>PUBCHEM.COMPOUND:644073</td>\n",
       "      <td>Buprenorphine</td>\n",
       "      <td>NCBIGene:1565</td>\n",
       "      <td>CYP2D6</td>\n",
       "      <td>HP:0002345</td>\n",
       "      <td>Action tremor</td>\n",
       "    </tr>\n",
       "    <tr>\n",
       "      <th>0</th>\n",
       "      <td>PUBCHEM.COMPOUND:644073</td>\n",
       "      <td>Buprenorphine</td>\n",
       "      <td>NCBIGene:4988</td>\n",
       "      <td>OPRM1</td>\n",
       "      <td>HP:0012164</td>\n",
       "      <td>Asterixis</td>\n",
       "    </tr>\n",
       "    <tr>\n",
       "      <th>0</th>\n",
       "      <td>PUBCHEM.COMPOUND:644073</td>\n",
       "      <td>Buprenorphine</td>\n",
       "      <td>NCBIGene:1565</td>\n",
       "      <td>CYP2D6</td>\n",
       "      <td>HP:0001337</td>\n",
       "      <td>Tremor</td>\n",
       "    </tr>\n",
       "    <tr>\n",
       "      <th>0</th>\n",
       "      <td>PUBCHEM.COMPOUND:644073</td>\n",
       "      <td>Buprenorphine</td>\n",
       "      <td>NCBIGene:1565</td>\n",
       "      <td>CYP2D6</td>\n",
       "      <td>HP:0200085</td>\n",
       "      <td>Limb tremor</td>\n",
       "    </tr>\n",
       "    <tr>\n",
       "      <th>0</th>\n",
       "      <td>PUBCHEM.COMPOUND:644073</td>\n",
       "      <td>Buprenorphine</td>\n",
       "      <td>NCBIGene:1565</td>\n",
       "      <td>CYP2D6</td>\n",
       "      <td>HP:0025387</td>\n",
       "      <td>Pill-rolling tremor</td>\n",
       "    </tr>\n",
       "  </tbody>\n",
       "</table>\n",
       "</div>"
      ],
      "text/plain": [
       "                       n00       n00_name            n01 n01_name         n02  \\\n",
       "0  PUBCHEM.COMPOUND:644073  Buprenorphine  NCBIGene:1565   CYP2D6  HP:0002322   \n",
       "0  PUBCHEM.COMPOUND:644073  Buprenorphine  NCBIGene:1565   CYP2D6  HP:0002174   \n",
       "0  PUBCHEM.COMPOUND:644073  Buprenorphine  NCBIGene:1565   CYP2D6  HP:0002345   \n",
       "0  PUBCHEM.COMPOUND:644073  Buprenorphine  NCBIGene:4988    OPRM1  HP:0012164   \n",
       "0  PUBCHEM.COMPOUND:644073  Buprenorphine  NCBIGene:1565   CYP2D6  HP:0001337   \n",
       "0  PUBCHEM.COMPOUND:644073  Buprenorphine  NCBIGene:1565   CYP2D6  HP:0200085   \n",
       "0  PUBCHEM.COMPOUND:644073  Buprenorphine  NCBIGene:1565   CYP2D6  HP:0025387   \n",
       "\n",
       "              n02_name  \n",
       "0       Resting tremor  \n",
       "0      Postural tremor  \n",
       "0        Action tremor  \n",
       "0            Asterixis  \n",
       "0               Tremor  \n",
       "0          Limb tremor  \n",
       "0  Pill-rolling tremor  "
      ]
     },
     "metadata": {},
     "output_type": "display_data"
    },
    {
     "name": "stdout",
     "output_type": "stream",
     "text": [
      "[    'Buprenorphine_CYP2D6_Resting_tremor',\n",
      "     'Buprenorphine_CYP2D6_Postural_tremor',\n",
      "     'Buprenorphine_CYP2D6_Action_tremor',\n",
      "     'Buprenorphine_OPRM1_Asterixis',\n",
      "     'Buprenorphine_CYP2D6_Tremor',\n",
      "     'Buprenorphine_CYP2D6_Limb_tremor',\n",
      "     'Buprenorphine_CYP2D6_Pill-rolling_tremor']\n"
     ]
    }
   ],
   "source": [
    "import pandas as pd\n",
    "import os\n",
    "\n",
    "cols = []\n",
    "for node in sorted(results[0]['node_bindings'].keys()):\n",
    "    cols.append(node)\n",
    "    cols.append(node + '_name')\n",
    "results_df = pd.DataFrame(columns = cols)\n",
    "\n",
    "results_list = []\n",
    "for result in results:\n",
    "    result_dict = {}\n",
    "    for node in sorted(result['node_bindings'].keys()):\n",
    "        node_id = result['node_bindings'][node][0]['id']\n",
    "        result_dict[node] = node_id\n",
    "        result_dict[node + '_name'] = kg['nodes'][node_id]['name']\n",
    "\n",
    "    results_list.append(pd.DataFrame([result_dict]))\n",
    "results_df = pd.concat(results_list)\n",
    "display(results_df)\n",
    "results_df.to_csv(os.path.join(write_dir,'results_TRAPI.csv'), index=False)\n",
    "\n",
    "combined_node_list = [\"_\".join([row[1].replace(\" \", \"_\"), row[3].replace(\" \", \"_\"), row[5].replace(\" \", \"_\")]) for row in results_df[cols].to_numpy()]\n",
    "pp.pprint(combined_node_list)"
   ]
  },
  {
   "cell_type": "markdown",
   "id": "2025e6f5",
   "metadata": {},
   "source": [
    "The edge IDs are then retrieved from the `results` and used to find the corresponding `predicate` label in the `knowledge_graph`. Two nodes can have more than one edge connecting them because each edge represents a distinct type of association derived from a single data source. Because of this, the number of rows in this report may differ from the set of results above. For an answer with three nodes such as this one, there will be at least one edge between nodes 1 and 2 as well as nodes 2 and 3. The direction of the edge connecting two nodes can differ as well, such as for \"Buprenorphine\" and \"CYP2D6\" below. Sometimes a single association type will be derived from multiple data sources. In the code below, we print a single edge for each association type and include the count of the number of data sources where that association was found. The following writes out all unique edges for each of the results in the format of `subject` -> `predicate` -> `object` and exports the information into a single file per `result`."
   ]
  },
  {
   "cell_type": "code",
   "execution_count": 16,
   "id": "44b09b74",
   "metadata": {},
   "outputs": [
    {
     "name": "stdout",
     "output_type": "stream",
     "text": [
      "Pathway result: Buprenorphine_CYP2D6_Resting_tremor\n",
      "{    'Buprenorphine -> biolink:affects -> CYP2D6': 2,\n",
      "     'Buprenorphine -> biolink:directly_physically_interacts_with -> CYP2D6': 1,\n",
      "     'CYP2D6 -> biolink:affects -> Buprenorphine': 1,\n",
      "     'CYP2D6 -> biolink:genetically_associated_with -> Resting tremor': 1}\n",
      "\n",
      "Pathway result: Buprenorphine_CYP2D6_Postural_tremor\n",
      "{    'Buprenorphine -> biolink:affects -> CYP2D6': 2,\n",
      "     'Buprenorphine -> biolink:directly_physically_interacts_with -> CYP2D6': 1,\n",
      "     'CYP2D6 -> biolink:affects -> Buprenorphine': 1,\n",
      "     'CYP2D6 -> biolink:genetically_associated_with -> Postural tremor': 1}\n",
      "\n",
      "Pathway result: Buprenorphine_CYP2D6_Action_tremor\n",
      "{    'Buprenorphine -> biolink:affects -> CYP2D6': 2,\n",
      "     'Buprenorphine -> biolink:directly_physically_interacts_with -> CYP2D6': 1,\n",
      "     'CYP2D6 -> biolink:affects -> Buprenorphine': 1,\n",
      "     'CYP2D6 -> biolink:genetically_associated_with -> Action tremor': 1}\n",
      "\n",
      "Pathway result: Buprenorphine_OPRM1_Asterixis\n",
      "{    'Buprenorphine -> biolink:affects -> OPRM1': 5,\n",
      "     'Buprenorphine -> biolink:binds -> OPRM1': 1,\n",
      "     'Buprenorphine -> biolink:directly_physically_interacts_with -> OPRM1': 1,\n",
      "     'Buprenorphine -> biolink:related_to -> OPRM1': 1,\n",
      "     'OPRM1 -> biolink:genetically_associated_with -> Asterixis': 1}\n",
      "\n",
      "Pathway result: Buprenorphine_CYP2D6_Tremor\n",
      "{    'Buprenorphine -> biolink:affects -> CYP2D6': 2,\n",
      "     'Buprenorphine -> biolink:directly_physically_interacts_with -> CYP2D6': 1,\n",
      "     'CYP2D6 -> biolink:affects -> Buprenorphine': 1,\n",
      "     'CYP2D6 -> biolink:genetically_associated_with -> Tremor': 2}\n",
      "\n",
      "Pathway result: Buprenorphine_CYP2D6_Limb_tremor\n",
      "{    'Buprenorphine -> biolink:affects -> CYP2D6': 2,\n",
      "     'Buprenorphine -> biolink:directly_physically_interacts_with -> CYP2D6': 1,\n",
      "     'CYP2D6 -> biolink:affects -> Buprenorphine': 1,\n",
      "     'CYP2D6 -> biolink:genetically_associated_with -> Limb tremor': 1}\n",
      "\n",
      "Pathway result: Buprenorphine_CYP2D6_Pill-rolling_tremor\n",
      "{    'Buprenorphine -> biolink:affects -> CYP2D6': 2,\n",
      "     'Buprenorphine -> biolink:directly_physically_interacts_with -> CYP2D6': 1,\n",
      "     'CYP2D6 -> biolink:affects -> Buprenorphine': 1,\n",
      "     'CYP2D6 -> biolink:genetically_associated_with -> Pill-rolling tremor': 1}\n",
      "\n"
     ]
    }
   ],
   "source": [
    "from collections import Counter\n",
    "import json\n",
    "import pprint\n",
    "pp = pprint.PrettyPrinter(indent=5)\n",
    "\n",
    "for i in range(number_pathway_results):\n",
    "    print(f\"Pathway result: {combined_node_list[i]}\")\n",
    "    edge_bindings = results[i]['analyses'][0]['edge_bindings']\n",
    "\n",
    "    edge_ids = []\n",
    "    for edge_name, edge_list in edge_bindings.items():\n",
    "        edge_ids.append({edge_name: [x['id'] for x in edge_list]})\n",
    "\n",
    "    string_out_list = []\n",
    "    for edge_dict in edge_ids:\n",
    "        for edge_name, edge_list in edge_dict.items():\n",
    "            for edge_id in edge_list:\n",
    "                subject_id = kg['edges'][edge_id]['subject']\n",
    "                subject = kg['nodes'][subject_id]['name']\n",
    "                predicate = kg['edges'][edge_id]['predicate']\n",
    "                object_id = kg['edges'][edge_id]['object']\n",
    "                object = kg['nodes'][object_id]['name']\n",
    "                string_out = f\"{subject} -> {predicate} -> {object}\"\n",
    "                string_out_list.append(string_out)\n",
    "    string_out_dict = dict(Counter(string_out_list).items())\n",
    "    pp.pprint(string_out_dict)\n",
    "    print(\"\")\n",
    "    \n",
    "    with open(os.path.join(write_dir,combined_node_list[i]+\".txt\"), 'w') as convert_file:\n",
    "        convert_file.write(json.dumps(string_out_dict))\n",
    "        "
   ]
  },
  {
   "cell_type": "markdown",
   "id": "58196bbc",
   "metadata": {},
   "source": [
    "We see that the connection between Buprenorphine and CYP2D6 consists of three edge types `biolink:affects`,  `biolink:directly_physically_interacts_with`, and `biolink:regulates`. The `biolink:affects` relationship is bidirectional with one edge starting with Buprenorphine (`Buprenorphine -> biolink:affects -> CYP2D6`) and one starting with CYP2D6 (`CYP2D6 -> biolink:affects -> Buprenorphine`). These three edges are repeated for all results that include Buprenorphine and CYP2D6 as the first two nodes. Those results differ in the type of tremor found for the third node. There are three edges connecting Buprenorphine and OPRM1 (`biolink:affects`, `biolink:directly_physically_interacts_with`, `biolink:related_to`). Of note, the `biolink:affects` was identified in 4 different knowledge sources as indicated by the count reported after the colon."
   ]
  }
 ],
 "metadata": {
  "kernelspec": {
   "display_name": "Python 3 (ipykernel)",
   "language": "python",
   "name": "python3"
  },
  "language_info": {
   "codemirror_mode": {
    "name": "ipython",
    "version": 3
   },
   "file_extension": ".py",
   "mimetype": "text/x-python",
   "name": "python",
   "nbconvert_exporter": "python",
   "pygments_lexer": "ipython3",
   "version": "3.8.10"
  }
 },
 "nbformat": 4,
 "nbformat_minor": 5
}
