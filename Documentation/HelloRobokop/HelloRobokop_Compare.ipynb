{
 "cells": [
  {
   "cell_type": "markdown",
   "id": "7f0869f8",
   "metadata": {},
   "source": [
    "The purpose of this notebook is to demonstrate how to make comparisons between different sets of results.  This is demonstrated by using results of a test query using TRAPI.  The first sections [TRAPI query results](#TRAPI-query-results) is to get a set of data to use for comparisons and place them in the same output directory shown in the cell immediately below.  Here, the pathways `Buprenorphine-OPRM1-Asterixis` and `Brixadi-OPRM1-Asterixis` are compared.\n",
    "\n",
    "The compare_results() function is then demonstrated by taking the results from the query and showing a Venn diagram plot showing the number of edges in common and comparison plot showing missing edges.  For this notebook, if a different query is used or a different comparison is to be made, the files being read for comparison must be specified manually."
   ]
  },
  {
   "cell_type": "code",
   "execution_count": 2,
   "id": "c1da0c44",
   "metadata": {},
   "outputs": [
    {
     "name": "stdout",
     "output_type": "stream",
     "text": [
      "output\\compare\\2023-05-19_142052\n"
     ]
    }
   ],
   "source": [
    "from datetime import datetime\n",
    "from pathlib import Path\n",
    "\n",
    "now = datetime.now()\n",
    "dt_string = now.strftime(\"%Y-%m-%d_%H%M%S\")\n",
    "write_dir = Path(\"output/compare\",str(dt_string))\n",
    "print(write_dir)\n",
    "write_dir.mkdir(parents=True, exist_ok=True)"
   ]
  },
  {
   "cell_type": "markdown",
   "id": "ecda1a0a",
   "metadata": {},
   "source": [
    "## TRAPI query results"
   ]
  },
  {
   "cell_type": "markdown",
   "id": "4c81dd49-9dd8-4307-b6b1-7e8441fc79cb",
   "metadata": {},
   "source": [
    "Using the Name Resolver and test case from the `HelloRobokop` notebook series, a list of input IDs is generated from the search term `Buprenorphine`."
   ]
  },
  {
   "cell_type": "code",
   "execution_count": 3,
   "id": "8ce4ff0d",
   "metadata": {},
   "outputs": [
    {
     "name": "stdout",
     "output_type": "stream",
     "text": [
      "['PUBCHEM.COMPOUND:644073', 'PUBCHEM.COMPOUND:9848990', 'UMLS:C0524040', 'PUBCHEM.COMPOUND:9811785', 'UMLS:C0799646', 'PUBCHEM.COMPOUND:91745467', 'UMLS:C0701445', 'PUBCHEM.COMPOUND:3033050', 'UMLS:C0366373', 'UMLS:C1171048']\n"
     ]
    }
   ],
   "source": [
    "import requests\n",
    "import json\n",
    "\n",
    "import pprint\n",
    "pp = pprint.PrettyPrinter(indent=5)\n",
    "\n",
    "search_string = 'Buprenorphine'\n",
    "results = requests.post(f'https://name-resolution-sri.renci.org/lookup?string={search_string}&offset=0&limit=10')\n",
    "results_json = results.json()\n",
    "input_node_id_list = list(results_json.keys())\n",
    "\n",
    "nn_query = {\n",
    "  \"curies\": input_node_id_list,\n",
    "  \"conflate\": True\n",
    "}\n",
    "\n",
    "results = requests.post('https://nodenormalization-sri.renci.org/get_normalized_nodes',json=nn_query)\n",
    "\n",
    "print(input_node_id_list)"
   ]
  },
  {
   "cell_type": "code",
   "execution_count": 4,
   "id": "400d0802",
   "metadata": {},
   "outputs": [
    {
     "name": "stdout",
     "output_type": "stream",
     "text": [
      "200\n",
      "8\n"
     ]
    }
   ],
   "source": [
    "query={\n",
    "    \"message\": {\n",
    "      \"query_graph\": {\n",
    "        \"edges\": {\n",
    "          \"e00\": {\n",
    "            \"subject\": \"n00\",\n",
    "              \"object\": \"n01\",\n",
    "          \"predicates\":[\"biolink:related_to\"]\n",
    "          },\n",
    "          \"e01\": {\n",
    "            \"subject\": \"n01\",\n",
    "              \"object\": \"n02\",\n",
    "          \"predicates\":[\"biolink:related_to\"]\n",
    "          }\n",
    "        },\n",
    "        \"nodes\": {\n",
    "          \"n00\": {\n",
    "            \"ids\": input_node_id_list,\n",
    "              # \"ids\": ['PUBCHEM.COMPOUND:644073', 'PUBCHEM.COMPOUND:9848990'], # CURIES for Buprenorphine and Brixadi, respectively\n",
    "            \"categories\": [\"biolink:ChemicalEntity\"]\n",
    "          },\n",
    "          \"n01\": {\n",
    "              \"categories\": [\"biolink:Gene\"]\n",
    "          },\n",
    "          \"n02\": {\n",
    "            \"ids\": [\"HP:0001337\"],\n",
    "            \"categories\": [\"biolink:DiseaseOrPhenotypicFeature\"]\n",
    "          }\n",
    "        }\n",
    "      }\n",
    "    }\n",
    "  }\n",
    "\n",
    "robokop_submit_url = \" http://automat-u24.apps.renci.org/robokopkg/1.3/query\"\n",
    "response = requests.post(robokop_submit_url,json=query)\n",
    "print(response.status_code)\n",
    "number_pathway_results = len(response.json()['message']['results'])\n",
    "print(len(response.json()['message']['results']))"
   ]
  },
  {
   "cell_type": "code",
   "execution_count": 7,
   "id": "5389c33b",
   "metadata": {},
   "outputs": [
    {
     "data": {
      "text/html": [
       "<div>\n",
       "<style scoped>\n",
       "    .dataframe tbody tr th:only-of-type {\n",
       "        vertical-align: middle;\n",
       "    }\n",
       "\n",
       "    .dataframe tbody tr th {\n",
       "        vertical-align: top;\n",
       "    }\n",
       "\n",
       "    .dataframe thead th {\n",
       "        text-align: right;\n",
       "    }\n",
       "</style>\n",
       "<table border=\"1\" class=\"dataframe\">\n",
       "  <thead>\n",
       "    <tr style=\"text-align: right;\">\n",
       "      <th></th>\n",
       "      <th>n00</th>\n",
       "      <th>n00_name</th>\n",
       "      <th>n01</th>\n",
       "      <th>n01_name</th>\n",
       "      <th>n02</th>\n",
       "      <th>n02_name</th>\n",
       "    </tr>\n",
       "  </thead>\n",
       "  <tbody>\n",
       "    <tr>\n",
       "      <th>0</th>\n",
       "      <td>PUBCHEM.COMPOUND:644073</td>\n",
       "      <td>Buprenorphine</td>\n",
       "      <td>NCBIGene:1565</td>\n",
       "      <td>CYP2D6</td>\n",
       "      <td>HP:0200085</td>\n",
       "      <td>Limb tremor</td>\n",
       "    </tr>\n",
       "    <tr>\n",
       "      <th>0</th>\n",
       "      <td>PUBCHEM.COMPOUND:644073</td>\n",
       "      <td>Buprenorphine</td>\n",
       "      <td>NCBIGene:1565</td>\n",
       "      <td>CYP2D6</td>\n",
       "      <td>HP:0002345</td>\n",
       "      <td>Action tremor</td>\n",
       "    </tr>\n",
       "    <tr>\n",
       "      <th>0</th>\n",
       "      <td>PUBCHEM.COMPOUND:9848990</td>\n",
       "      <td>Brixadi</td>\n",
       "      <td>NCBIGene:4988</td>\n",
       "      <td>OPRM1</td>\n",
       "      <td>HP:0012164</td>\n",
       "      <td>Asterixis</td>\n",
       "    </tr>\n",
       "    <tr>\n",
       "      <th>0</th>\n",
       "      <td>PUBCHEM.COMPOUND:644073</td>\n",
       "      <td>Buprenorphine</td>\n",
       "      <td>NCBIGene:1565</td>\n",
       "      <td>CYP2D6</td>\n",
       "      <td>HP:0025387</td>\n",
       "      <td>Pill-rolling tremor</td>\n",
       "    </tr>\n",
       "    <tr>\n",
       "      <th>0</th>\n",
       "      <td>PUBCHEM.COMPOUND:644073</td>\n",
       "      <td>Buprenorphine</td>\n",
       "      <td>NCBIGene:1565</td>\n",
       "      <td>CYP2D6</td>\n",
       "      <td>HP:0001337</td>\n",
       "      <td>Tremor</td>\n",
       "    </tr>\n",
       "    <tr>\n",
       "      <th>0</th>\n",
       "      <td>PUBCHEM.COMPOUND:644073</td>\n",
       "      <td>Buprenorphine</td>\n",
       "      <td>NCBIGene:1565</td>\n",
       "      <td>CYP2D6</td>\n",
       "      <td>HP:0002322</td>\n",
       "      <td>Resting tremor</td>\n",
       "    </tr>\n",
       "    <tr>\n",
       "      <th>0</th>\n",
       "      <td>PUBCHEM.COMPOUND:644073</td>\n",
       "      <td>Buprenorphine</td>\n",
       "      <td>NCBIGene:1565</td>\n",
       "      <td>CYP2D6</td>\n",
       "      <td>HP:0002174</td>\n",
       "      <td>Postural tremor</td>\n",
       "    </tr>\n",
       "    <tr>\n",
       "      <th>0</th>\n",
       "      <td>PUBCHEM.COMPOUND:644073</td>\n",
       "      <td>Buprenorphine</td>\n",
       "      <td>NCBIGene:4988</td>\n",
       "      <td>OPRM1</td>\n",
       "      <td>HP:0012164</td>\n",
       "      <td>Asterixis</td>\n",
       "    </tr>\n",
       "  </tbody>\n",
       "</table>\n",
       "</div>"
      ],
      "text/plain": [
       "                        n00       n00_name            n01 n01_name  \\\n",
       "0   PUBCHEM.COMPOUND:644073  Buprenorphine  NCBIGene:1565   CYP2D6   \n",
       "0   PUBCHEM.COMPOUND:644073  Buprenorphine  NCBIGene:1565   CYP2D6   \n",
       "0  PUBCHEM.COMPOUND:9848990        Brixadi  NCBIGene:4988    OPRM1   \n",
       "0   PUBCHEM.COMPOUND:644073  Buprenorphine  NCBIGene:1565   CYP2D6   \n",
       "0   PUBCHEM.COMPOUND:644073  Buprenorphine  NCBIGene:1565   CYP2D6   \n",
       "0   PUBCHEM.COMPOUND:644073  Buprenorphine  NCBIGene:1565   CYP2D6   \n",
       "0   PUBCHEM.COMPOUND:644073  Buprenorphine  NCBIGene:1565   CYP2D6   \n",
       "0   PUBCHEM.COMPOUND:644073  Buprenorphine  NCBIGene:4988    OPRM1   \n",
       "\n",
       "          n02             n02_name  \n",
       "0  HP:0200085          Limb tremor  \n",
       "0  HP:0002345        Action tremor  \n",
       "0  HP:0012164            Asterixis  \n",
       "0  HP:0025387  Pill-rolling tremor  \n",
       "0  HP:0001337               Tremor  \n",
       "0  HP:0002322       Resting tremor  \n",
       "0  HP:0002174      Postural tremor  \n",
       "0  HP:0012164            Asterixis  "
      ]
     },
     "metadata": {},
     "output_type": "display_data"
    },
    {
     "name": "stdout",
     "output_type": "stream",
     "text": [
      "[    'Buprenorphine_CYP2D6_Limb_tremor',\n",
      "     'Buprenorphine_CYP2D6_Action_tremor',\n",
      "     'Brixadi_OPRM1_Asterixis',\n",
      "     'Buprenorphine_CYP2D6_Pill-rolling_tremor',\n",
      "     'Buprenorphine_CYP2D6_Tremor',\n",
      "     'Buprenorphine_CYP2D6_Resting_tremor',\n",
      "     'Buprenorphine_CYP2D6_Postural_tremor',\n",
      "     'Buprenorphine_OPRM1_Asterixis']\n"
     ]
    }
   ],
   "source": [
    "import pandas as pd\n",
    "import os\n",
    "\n",
    "kg = response.json()['message']['knowledge_graph']\n",
    "cols = []\n",
    "for node in sorted(response.json()['message']['results'][0]['node_bindings'].keys()):\n",
    "    cols.append(node)\n",
    "    cols.append(node + '_name')\n",
    "results_df = pd.DataFrame(columns = cols)\n",
    "\n",
    "results_list = []\n",
    "for result in response.json()['message']['results']:\n",
    "    result_dict = {}\n",
    "    for node in sorted(result['node_bindings'].keys()):\n",
    "        node_id = result['node_bindings'][node][0]['id']\n",
    "        result_dict[node] = node_id\n",
    "        result_dict[node + '_name'] = kg['nodes'][node_id]['name']\n",
    "\n",
    "    results_list.append(pd.DataFrame([result_dict]))\n",
    "results_df = pd.concat(results_list)\n",
    "display(results_df)\n",
    "\n",
    "if not os.path.exists(os.path.join(write_dir,\"TRAPI\")):\n",
    "    os.mkdir(os.path.join(write_dir,\"TRAPI\"))\n",
    "results_df.to_csv(os.path.join(write_dir,'TRAPI/pathways_TRAPI_automat.csv'), index=False)\n",
    "\n",
    "combined_node_list = [\"_\".join([row[1].replace(\" \", \"_\"), row[3].replace(\" \", \"_\"), row[5].replace(\" \", \"_\")]) for row in results_df[cols].to_numpy()]\n",
    "pp.pprint(combined_node_list)"
   ]
  },
  {
   "cell_type": "markdown",
   "id": "fa5b0d37-5bd9-4997-9180-cb7bc11cc96a",
   "metadata": {},
   "source": [
    "Following the same steps to get the pathway results in `HelloRobokop_TRAPI.ipynb`, we see that there are two pathways with the same middle and end nodes, `OPRM1` and `Asterixis`.  These two pathways are extracted and used to demonstrate the `compare_results()` function."
   ]
  },
  {
   "cell_type": "code",
   "execution_count": 9,
   "id": "a6d8b120",
   "metadata": {},
   "outputs": [
    {
     "name": "stdout",
     "output_type": "stream",
     "text": [
      "Pathway result: Brixadi_OPRM1_Asterixis\n",
      "{    'Brixadi -> biolink:affects -> OPRM1': 1,\n",
      "     'OPRM1 -> biolink:genetic_association -> Asterixis': 1}\n",
      "\n",
      "Pathway result: Buprenorphine_OPRM1_Asterixis\n",
      "{    'Buprenorphine -> biolink:affects -> OPRM1': 4,\n",
      "     'Buprenorphine -> biolink:directly_physically_interacts_with -> OPRM1': 1,\n",
      "     'Buprenorphine -> biolink:related_to -> OPRM1': 1,\n",
      "     'OPRM1 -> biolink:genetic_association -> Asterixis': 1}\n",
      "\n"
     ]
    }
   ],
   "source": [
    "from collections import Counter\n",
    "import json\n",
    "import pprint\n",
    "pp = pprint.PrettyPrinter(indent=5)\n",
    "\n",
    "for i in range(number_pathway_results):\n",
    "    if \"OPRM1_Asterixis\" not in combined_node_list[i]:\n",
    "        continue\n",
    "        \n",
    "    print(f\"Pathway result: {combined_node_list[i]}\")\n",
    "    edge_bindings = response.json()['message']['results'][i]['edge_bindings']\n",
    "\n",
    "    edge_ids = []\n",
    "    for edge_name, edge_list in edge_bindings.items():\n",
    "        edge_ids.append({edge_name: [x['id'] for x in edge_list]})\n",
    "\n",
    "    string_out_list = []\n",
    "    for edge_dict in edge_ids:\n",
    "        for edge_name, edge_list in edge_dict.items():\n",
    "            for edge_id in edge_list:\n",
    "                subject_id = response.json()['message']['knowledge_graph']['edges'][edge_id]['subject']\n",
    "                subject = response.json()['message']['knowledge_graph']['nodes'][subject_id]['name']\n",
    "                predicate = response.json()['message']['knowledge_graph']['edges'][edge_id]['predicate']\n",
    "                object_id = response.json()['message']['knowledge_graph']['edges'][edge_id]['object']\n",
    "                object = response.json()['message']['knowledge_graph']['nodes'][object_id]['name']\n",
    "                string_out = f\"{subject} -> {predicate} -> {object}\"\n",
    "                string_out_list.append(string_out)\n",
    "    string_out_dict = dict(Counter(string_out_list).items())\n",
    "    pp.pprint(string_out_dict)\n",
    "    print(\"\")\n",
    "    \n",
    "    if not os.path.exists(os.path.join(write_dir,\"TRAPI\")):\n",
    "        os.mkdir(os.path.join(write_dir,\"TRAPI\"))\n",
    "    with open(os.path.join(write_dir,\"TRAPI\",combined_node_list[i]+\".txt\"), 'w') as convert_file:\n",
    "        convert_file.write(json.dumps(string_out_dict))\n",
    "        "
   ]
  },
  {
   "cell_type": "markdown",
   "id": "6d2f4a9a-8aab-434e-b139-4f27dcc64835",
   "metadata": {},
   "source": [
    "Results for the two pathways are stored in the files shown below.  The contents of these files can be loaded into dictionaries and used as input for the `compare_function()`."
   ]
  },
  {
   "cell_type": "code",
   "execution_count": 6,
   "id": "2347d349",
   "metadata": {},
   "outputs": [
    {
     "name": "stdout",
     "output_type": "stream",
     "text": [
      "output\\compare\\2023-05-19_142052\\Brixadi_OPRM1_Asterixis.txt\n",
      "output\\compare\\2023-05-19_142052\\Buprenorphine_OPRM1_Asterixis.txt\n"
     ]
    }
   ],
   "source": [
    "for node_set in combined_node_list:\n",
    "    if \"OPRM1_Asterixis\" in node_set:\n",
    "        print(os.path.join(write_dir,node_set+\".txt\"))"
   ]
  },
  {
   "cell_type": "markdown",
   "id": "b7b08a4d",
   "metadata": {
    "tags": []
   },
   "source": [
    "## compare_results() function\n",
    "\n",
    "Below is a demo of using `compare_results()` to compare the output from the pathways `Buprenorphine-OPRM1-Asterixis` and `Brixadi-OPRM1-Asterixis` as extracted from the results above.  Note that both sets of results were generated using TRAPI."
   ]
  },
  {
   "cell_type": "code",
   "execution_count": 10,
   "id": "6dd45350",
   "metadata": {},
   "outputs": [],
   "source": [
    "import pprint\n",
    "pp = pprint.PrettyPrinter(indent=5)"
   ]
  },
  {
   "cell_type": "code",
   "execution_count": 11,
   "id": "cc54f383",
   "metadata": {},
   "outputs": [
    {
     "name": "stdout",
     "output_type": "stream",
     "text": [
      "{    'Buprenorphine -> biolink:affects -> OPRM1': 4,\n",
      "     'Buprenorphine -> biolink:directly_physically_interacts_with -> OPRM1': 1,\n",
      "     'Buprenorphine -> biolink:related_to -> OPRM1': 1,\n",
      "     'OPRM1 -> biolink:genetic_association -> Asterixis': 1}\n"
     ]
    }
   ],
   "source": [
    "# Reading from TRAPI results\n",
    "file_to_read = os.path.join(write_dir,\"TRAPI\",\"Buprenorphine_OPRM1_Asterixis.txt\")\n",
    "with open(file_to_read, 'r') as file:\n",
    "    jsonString = file.read()\n",
    "dict_trapi_1 = json.loads(jsonString)\n",
    "pp.pprint(dict_trapi_1)"
   ]
  },
  {
   "cell_type": "code",
   "execution_count": 12,
   "id": "f03f3a72",
   "metadata": {},
   "outputs": [
    {
     "name": "stdout",
     "output_type": "stream",
     "text": [
      "{    'Brixadi -> biolink:affects -> OPRM1': 1,\n",
      "     'OPRM1 -> biolink:genetic_association -> Asterixis': 1}\n"
     ]
    }
   ],
   "source": [
    "# Reading from TRAPI results\n",
    "file_to_read = os.path.join(write_dir,\"TRAPI\",\"Brixadi_OPRM1_Asterixis.txt\")\n",
    "with open(file_to_read, 'r') as file:\n",
    "    jsonString = file.read()\n",
    "dict_trapi_2 = json.loads(jsonString)\n",
    "pp.pprint(dict_trapi_2)"
   ]
  },
  {
   "cell_type": "code",
   "execution_count": 13,
   "id": "983083bc",
   "metadata": {},
   "outputs": [],
   "source": [
    "from datetime import datetime\n",
    "from pathlib import Path\n",
    "\n",
    "if not os.path.exists(os.path.join(write_dir,\"compare\")):\n",
    "    os.mkdir(os.path.join(write_dir,\"compare\"))"
   ]
  },
  {
   "cell_type": "markdown",
   "id": "5559f78d-3d7f-4375-aedf-10e6a4053aba",
   "metadata": {},
   "source": [
    "Installing matplotlib and matplotlib_venn if not already installed"
   ]
  },
  {
   "cell_type": "code",
   "execution_count": null,
   "id": "98108cd6-b737-4239-ab43-3584881394ab",
   "metadata": {},
   "outputs": [],
   "source": [
    "!{sys.executable} -m pip install matplotlib\n",
    "!{sys.executable} -m pip install matplotlib_venn"
   ]
  },
  {
   "cell_type": "code",
   "execution_count": 16,
   "id": "a8a01bec",
   "metadata": {},
   "outputs": [],
   "source": [
    "import matplotlib.pyplot as plt\n",
    "import sys\n",
    "from matplotlib_venn import venn2\n",
    "\n",
    "def compare_results(dict_one, dict_two, output_file_name, label1, label2):\n",
    "    # This function takes the results of two dictionaries created by the TRAPI and Cypher query Jupyter notebooks and gets the following:\n",
    "    #  -finds how many edges each set has in common, including having the same and different number of occurrences\n",
    "    #  -finds edges exclusive to each set\n",
    "    #  -plots a venn diagram representation of common edges and differences between sets\n",
    "    #    -edges with the same predicate but different occurrences are treated as differences in the diagram\n",
    "    # INPUT:\n",
    "    #  -dict_one: dictionary with keys in the format of \"node_label_1 -> predicate -> node_label_2\" and corresponding values being occurrences within that set\n",
    "    #  -dict_two: dictionary with keys in the format of \"node_label_1 -> predicate -> node_label_2\" and corresponding values being occurrences within that set\n",
    "    #  -output_file_name: name of the file to write to with output results\n",
    "    #  -label1/label2: Text and figure label for first and second input dictionaries, respectively\n",
    "    # OUTPUT:\n",
    "    #  -compare .txt file listing each of the following:\n",
    "    #    -Common edges\n",
    "    #    -Common edge predicates with different counts\n",
    "    #    -Edges exclusive to the first input dictionary\n",
    "    #    -Edges exclusive to the second input dictionary\n",
    "    #  -Venn diagram showing number of common and different edges between the two input sets\n",
    "    with open(output_file_name, \"w\") as f:\n",
    "        common_edge_same_list = []\n",
    "        common_edge_diff_list = []\n",
    "        input_one_only_list = []\n",
    "        input_two_only_list = []\n",
    "        for key in dict_one.keys():\n",
    "            if key in dict_two.keys():\n",
    "                if dict_one[key] == dict_two[key]:\n",
    "                    common_edge_same_list.append(f\"{key} - {dict_two[key]}\")\n",
    "                else:\n",
    "                    common_edge_diff_list.append(f\"{key}\\n\\t{label1} - {dict_one[key]}\\n\\t{label2} - {dict_two[key]}\")\n",
    "            else:\n",
    "                input_one_only_list.append(f\"{key} - {dict_one[key]}\")\n",
    "\n",
    "        for key in dict_two.keys():\n",
    "            if key not in dict_one.keys():\n",
    "                input_two_only_list.append(f\"{key} - {dict_two[key]}\")\n",
    "\n",
    "        f.write(\"Common edges:\\n\")\n",
    "        for edge in common_edge_same_list:\n",
    "            f.write(edge)\n",
    "            f.write(\"\\n\")\n",
    "        f.write(\"\\nCommon edges with different count:\\n\")\n",
    "        for edge in common_edge_diff_list:\n",
    "            f.write(edge)\n",
    "            f.write(\"\\n\")\n",
    "        f.write(f\"\\n{label1} only:\\n\")\n",
    "        for edge in input_one_only_list:\n",
    "            f.write(edge)\n",
    "            f.write(\"\\n\")\n",
    "        f.write(f\"\\n{label2} only:\\n\")\n",
    "        for edge in input_two_only_list:\n",
    "            f.write(edge)\n",
    "            f.write(\"\\n\")\n",
    "    \n",
    "    venn2(subsets = (len(input_one_only_list), len(input_two_only_list), len(common_edge_same_list)+len(common_edge_diff_list)), set_labels = (label1, label2))\n",
    "    plt.savefig(output_file_name.replace(\".txt\",\"_venn.png\"))\n",
    "    plt.show()\n",
    "    \n",
    "    df_merge_input = pd.DataFrame([dict_one,dict_two]).T\n",
    "    df_merge_input.columns = [label1,label2]\n",
    "    df_merge_input[label1][df_merge_input[label1].isnull()] = 0\n",
    "    df_merge_input[label2][df_merge_input[label2].isnull()] = 0\n",
    "    df_merge_input['set_difference'] = df_merge_input[label2] - df_merge_input[label1]\n",
    "    display(df_merge_input)\n",
    "\n",
    "    y = df_merge_input['set_difference']\n",
    "    x = df_merge_input.index.values.tolist()\n",
    "    plt.figure()\n",
    "    plt.barh(x,y)\n",
    "    plt.gca().invert_yaxis()\n",
    "    plt.xlabel(f'{label1} vs {label2}')\n",
    "    # plt.title(\"Automat vs ROBOKOPKG\")\n",
    "    # plt.tick_params(left = False, labelleft = False)\n",
    "    max_set_difference = max(df_merge_input['set_difference'])\n",
    "    min_set_difference = min(df_merge_input['set_difference'])\n",
    "    plt.xlim([min(-3,min_set_difference),max(3,max_set_difference)])\n",
    "    plt.savefig(output_file_name.replace(\".txt\",\"_diffplot.png\"), bbox_inches=\"tight\")"
   ]
  },
  {
   "cell_type": "markdown",
   "id": "e4d801fc-1bb4-4f4e-97a0-879fbb7c2c64",
   "metadata": {},
   "source": [
    "The comparisons below show how many edges are unique to each set of results and how many edges are in common.  For the query with the initial node being `Buprenorphine`, there are 6 edges found unique to that query, while for `Brixadi`, there is only one.  The common edge between these two queries is `OPRM1 -> biolink:genetic_association -> Asterixis`, represented in the middle 1 of the Venn diagram and as the empty space in the difference plot."
   ]
  },
  {
   "cell_type": "code",
   "execution_count": 17,
   "id": "a7ef7e5c",
   "metadata": {},
   "outputs": [
    {
     "data": {
      "image/png": "[encoded data removed]",
      "text/plain": [
       "<Figure size 640x480 with 1 Axes>"
      ]
     },
     "metadata": {},
     "output_type": "display_data"
    },
    {
     "data": {
      "text/html": [
       "<div>\n",
       "<style scoped>\n",
       "    .dataframe tbody tr th:only-of-type {\n",
       "        vertical-align: middle;\n",
       "    }\n",
       "\n",
       "    .dataframe tbody tr th {\n",
       "        vertical-align: top;\n",
       "    }\n",
       "\n",
       "    .dataframe thead th {\n",
       "        text-align: right;\n",
       "    }\n",
       "</style>\n",
       "<table border=\"1\" class=\"dataframe\">\n",
       "  <thead>\n",
       "    <tr style=\"text-align: right;\">\n",
       "      <th></th>\n",
       "      <th>Buprenorphine query</th>\n",
       "      <th>Brixadi query</th>\n",
       "      <th>set_difference</th>\n",
       "    </tr>\n",
       "  </thead>\n",
       "  <tbody>\n",
       "    <tr>\n",
       "      <th>Buprenorphine -&gt; biolink:affects -&gt; OPRM1</th>\n",
       "      <td>4.0</td>\n",
       "      <td>0.0</td>\n",
       "      <td>-4.0</td>\n",
       "    </tr>\n",
       "    <tr>\n",
       "      <th>Buprenorphine -&gt; biolink:directly_physically_interacts_with -&gt; OPRM1</th>\n",
       "      <td>1.0</td>\n",
       "      <td>0.0</td>\n",
       "      <td>-1.0</td>\n",
       "    </tr>\n",
       "    <tr>\n",
       "      <th>Buprenorphine -&gt; biolink:related_to -&gt; OPRM1</th>\n",
       "      <td>1.0</td>\n",
       "      <td>0.0</td>\n",
       "      <td>-1.0</td>\n",
       "    </tr>\n",
       "    <tr>\n",
       "      <th>OPRM1 -&gt; biolink:genetic_association -&gt; Asterixis</th>\n",
       "      <td>1.0</td>\n",
       "      <td>1.0</td>\n",
       "      <td>0.0</td>\n",
       "    </tr>\n",
       "    <tr>\n",
       "      <th>Brixadi -&gt; biolink:affects -&gt; OPRM1</th>\n",
       "      <td>0.0</td>\n",
       "      <td>1.0</td>\n",
       "      <td>1.0</td>\n",
       "    </tr>\n",
       "  </tbody>\n",
       "</table>\n",
       "</div>"
      ],
      "text/plain": [
       "                                                    Buprenorphine query  \\\n",
       "Buprenorphine -> biolink:affects -> OPRM1                           4.0   \n",
       "Buprenorphine -> biolink:directly_physically_in...                  1.0   \n",
       "Buprenorphine -> biolink:related_to -> OPRM1                        1.0   \n",
       "OPRM1 -> biolink:genetic_association -> Asterixis                   1.0   \n",
       "Brixadi -> biolink:affects -> OPRM1                                 0.0   \n",
       "\n",
       "                                                    Brixadi query  \\\n",
       "Buprenorphine -> biolink:affects -> OPRM1                     0.0   \n",
       "Buprenorphine -> biolink:directly_physically_in...            0.0   \n",
       "Buprenorphine -> biolink:related_to -> OPRM1                  0.0   \n",
       "OPRM1 -> biolink:genetic_association -> Asterixis             1.0   \n",
       "Brixadi -> biolink:affects -> OPRM1                           1.0   \n",
       "\n",
       "                                                    set_difference  \n",
       "Buprenorphine -> biolink:affects -> OPRM1                     -4.0  \n",
       "Buprenorphine -> biolink:directly_physically_in...            -1.0  \n",
       "Buprenorphine -> biolink:related_to -> OPRM1                  -1.0  \n",
       "OPRM1 -> biolink:genetic_association -> Asterixis              0.0  \n",
       "Brixadi -> biolink:affects -> OPRM1                            1.0  "
      ]
     },
     "metadata": {},
     "output_type": "display_data"
    },
    {
     "data": {
      "image/png": "[encoded data removed]",
      "text/plain": [
       "<Figure size 640x480 with 1 Axes>"
      ]
     },
     "metadata": {},
     "output_type": "display_data"
    }
   ],
   "source": [
    "# Demo\n",
    "output_file_name = os.path.join(write_dir,\"compare_brixadi_buprenorphine.txt\")\n",
    "compare_results(dict_trapi_1,dict_trapi_2, output_file_name, \"Buprenorphine query\", \"Brixadi query\")"
   ]
  },
  {
   "cell_type": "code",
   "execution_count": null,
   "id": "f4052331",
   "metadata": {},
   "outputs": [],
   "source": []
  }
 ],
 "metadata": {
  "kernelspec": {
   "display_name": "Python 3 (ipykernel)",
   "language": "python",
   "name": "python3"
  },
  "language_info": {
   "codemirror_mode": {
    "name": "ipython",
    "version": 3
   },
   "file_extension": ".py",
   "mimetype": "text/x-python",
   "name": "python",
   "nbconvert_exporter": "python",
   "pygments_lexer": "ipython3",
   "version": "3.8.10"
  }
 },
 "nbformat": 4,
 "nbformat_minor": 5
}
