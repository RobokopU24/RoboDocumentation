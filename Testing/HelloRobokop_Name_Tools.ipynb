{
 "cells": [
  {
   "cell_type": "code",
   "execution_count": 30,
   "id": "c68d8a72-b9ae-4146-a123-60ede557226e",
   "metadata": {},
   "outputs": [],
   "source": [
    "# Parameters to set\n",
    "URL_node_normalizer = 'https://nodenormalization-sri.renci.org/get_normalized_nodes'\n",
    "CURIE_OPRM1_HGNC = \"HGNC:8156\"\n",
    "CURIE_OPRM1_NCBI = \"NCBIGene:4988\"\n",
    "CURIE_OPRM1_UMLS = \"UMLS:C1417965\"\n",
    "\n",
    "def URL_name_resolution_search(search_string):\n",
    "    return(f'https://name-resolution-sri.renci.org/lookup?string={search_string}&offset=0&limit=10')"
   ]
  },
  {
   "cell_type": "code",
   "execution_count": 31,
   "id": "ca618d43",
   "metadata": {},
   "outputs": [],
   "source": [
    "import requests\n",
    "import json"
   ]
  },
  {
   "cell_type": "markdown",
   "id": "9eb41d41",
   "metadata": {},
   "source": [
    "There are two separate tools in this notebook that cover the conversion between `labels` and `IDs`, one for each direction.  The Name Resolver works by taking names and returning a set of related IDs, while the Node Normalizer takes IDs and returns names and other equivalent identifiers."
   ]
  },
  {
   "cell_type": "markdown",
   "id": "79b0bbb0",
   "metadata": {},
   "source": [
    "The name resolver is shown here.  The name-resolver: https://name-resolution-sri.renci.org/docs has a lookup function that can take a string and return potential identifiers.  Here, we look up the string `tremor`"
   ]
  },
  {
   "cell_type": "code",
   "execution_count": 37,
   "id": "ffbf412b",
   "metadata": {},
   "outputs": [],
   "source": [
    "results = requests.post(URL_name_resolution_search('tremor')).json()"
   ]
  },
  {
   "cell_type": "code",
   "execution_count": 38,
   "id": "f815d8b3",
   "metadata": {},
   "outputs": [
    {
     "name": "stdout",
     "output_type": "stream",
     "text": [
      "{\n",
      "    \"NCIT:C146780\": [\n",
      "        \"Tremor\",\n",
      "        \"Tremor, CTCAE_5\",\n",
      "        \"Tremor, CTCAE 5.0\"\n",
      "    ],\n",
      "    \"HP:0001337\": [\n",
      "        \"tremor\",\n",
      "        \"Tremor\",\n",
      "        \"TREMOR\",\n",
      "        \"tremors\",\n",
      "        \"TREMORS\",\n",
      "        \"Tremors\",\n",
      "        \"d tremors\",\n",
      "        \"Tremor NOS\",\n",
      "        \"Tremor, NOS\",\n",
      "        \"Has a tremor\",\n",
      "        \"A46-A47 TREMORS\",\n",
      "        \"Shaking/Tremors\",\n",
      "        \"Tremor (finding)\",\n",
      "        \"tremor (diagnosis)\",\n",
      "        \"tremors as symptom\",\n",
      "        \"Tremor, unspecified\",\n",
      "        \"tremor (physical finding)\",\n",
      "        \"motor exam involuntary movements tremor trembles\",\n",
      "        \"involuntary shaking or trembling movements (tremor)\",\n",
      "        \"shake\",\n",
      "        \"quiver\",\n",
      "        \"Shakes\",\n",
      "        \"shakes\",\n",
      "        \"quivers\",\n",
      "        \"Shaking\",\n",
      "        \"SHAKING\",\n",
      "        \"tremble\",\n",
      "        \"Tremble\",\n",
      "        \"shaking\",\n",
      "        \"Trembled\",\n",
      "        \"Trembles\",\n",
      "        \"trembles\",\n",
      "        \"Quivered\",\n",
      "        \"quivering\",\n",
      "        \"trembling\",\n",
      "        \"Quivering\",\n",
      "        \"TREMULOUS\",\n",
      "        \"tremulous\",\n",
      "        \"TREMBLING\",\n",
      "        \"Trembling\",\n",
      "        \"the shakes\",\n",
      "        \"The shakes\",\n",
      "        \"Shaking all over\",\n",
      "        \"Involuntary quiver\",\n",
      "        \"Trembles (finding)\",\n",
      "        \"Involuntary Quiver\",\n",
      "        \"Involuntary shaking\",\n",
      "        \"Involuntary Quivers\",\n",
      "        \"Quiver, Involuntary\",\n",
      "        \"Involuntary trembling\",\n",
      "        \"trembles (physical finding)\",\n",
      "        \"involuntary shaking or trembling movements\",\n",
      "        \"involuntary shaking or trembling movements (symptom)\"\n",
      "    ],\n",
      "    \"NCIT:C55596\": [\n",
      "        \"Tremor\",\n",
      "        \"Tremor, CTCAE_3\",\n",
      "        \"Tremor, CTCAE 3.0\"\n",
      "    ],\n",
      "    \"PUBCHEM.COMPOUND:5534\": [\n",
      "        \"tremorine\",\n",
      "        \"Tremorine\",\n",
      "        \"TREMORINE\",\n",
      "        \"CHEMBL1483237\",\n",
      "        \"Pyrrolidine, 1,1'-(2-butyne-1,4-diyl)bis-\",\n",
      "        \"1-[4-(1-pyrrolidinyl)but-2-ynyl]pyrrolidine\"\n",
      "    ],\n",
      "    \"UMLS:C1836697\": [\n",
      "        \"No tremor\"\n",
      "    ],\n",
      "    \"HMDB:HMDB0242736\": [\n",
      "        \"Tremortin\",\n",
      "        \"Tremortin b\",\n",
      "        \"Tremortin a\",\n",
      "        \"Penitrems\",\n",
      "        \"Penitrem e\",\n",
      "        \"penitrem A\",\n",
      "        \"Penitrem D\",\n",
      "        \"Penitrem b\"\n",
      "    ],\n",
      "    \"UMLS:C0304091\": [\n",
      "        \"Tremorgen\",\n",
      "        \"Tremorgen, NOS\",\n",
      "        \"Tremorgen (substance)\"\n",
      "    ],\n",
      "    \"PUBCHEM.COMPOUND:337313\": [\n",
      "        \"tremortin\",\n",
      "        \"Tremortin A\",\n",
      "        \"penitrem\"\n",
      "    ],\n",
      "    \"HP:0032006\": [\n",
      "        \"Lip tremor\",\n",
      "        \"LIP TREMOR\",\n",
      "        \"lip tremor\",\n",
      "        \"tremor lip\",\n",
      "        \"lip tremors\"\n",
      "    ],\n",
      "    \"UMLS:C0240081\": [\n",
      "        \"jaw tremor\",\n",
      "        \"JAW TREMOR\",\n",
      "        \"jaw tremors\"\n",
      "    ]\n",
      "}\n"
     ]
    }
   ],
   "source": [
    "print(json.dumps(results,indent=4))"
   ]
  },
  {
   "cell_type": "markdown",
   "id": "5cfd3341",
   "metadata": {},
   "source": [
    "The node normalizer (https://nodenormalization-sri.renci.org/docs) takes any CURIE as input and returns the preferred CURIE along with all other synonymous CURIES where the input CURIE is included. It also returns labels for the node, the biolink classes of the node, and often the information content of the node."
   ]
  },
  {
   "cell_type": "code",
   "execution_count": null,
   "id": "a3c6b4bd",
   "metadata": {},
   "outputs": [],
   "source": [
    "nn_query = {\n",
    "  \"curies\": [\n",
    "    CURIE_OPRM1_HGNC\n",
    "  ],\n",
    "  \"conflate\": True\n",
    "}\n",
    "results_nn_true = requests.post(URL_node_normalizer,json=nn_query)"
   ]
  },
  {
   "cell_type": "code",
   "execution_count": null,
   "id": "1a2f1026",
   "metadata": {},
   "outputs": [],
   "source": [
    "print(json.dumps(results_nn_true.json(),indent=4))"
   ]
  },
  {
   "cell_type": "markdown",
   "id": "d2c0861d",
   "metadata": {},
   "source": [
    "Note that when setting the `conflate` option to `True`, both gene and protein identifiers are included in the results.  When setting `conflate` to `False`, gene and protein identifiers are not merged together in the output.  In the run below, where `conflate` is `False`, only 5 entries are present in `equivalent_identifiers`."
   ]
  },
  {
   "cell_type": "code",
   "execution_count": 10,
   "id": "2a3fad68",
   "metadata": {},
   "outputs": [],
   "source": [
    "nn_query = {\n",
    "  \"curies\": [\n",
    "    CURIE_OPRM1_HGNC\n",
    "  ],\n",
    "  \"conflate\": False\n",
    "}\n",
    "results_nn_false = requests.post(URL_node_normalizer,json=nn_query)"
   ]
  },
  {
   "cell_type": "code",
   "execution_count": 11,
   "id": "62a73feb",
   "metadata": {},
   "outputs": [
    {
     "name": "stdout",
     "output_type": "stream",
     "text": [
      "{\n",
      "    \"HGNC:8156\": {\n",
      "        \"id\": {\n",
      "            \"identifier\": \"NCBIGene:4988\",\n",
      "            \"label\": \"OPRM1\"\n",
      "        },\n",
      "        \"equivalent_identifiers\": [\n",
      "            {\n",
      "                \"identifier\": \"NCBIGene:4988\",\n",
      "                \"label\": \"OPRM1\"\n",
      "            },\n",
      "            {\n",
      "                \"identifier\": \"ENSEMBL:ENSG00000112038\"\n",
      "            },\n",
      "            {\n",
      "                \"identifier\": \"HGNC:8156\",\n",
      "                \"label\": \"OPRM1\"\n",
      "            },\n",
      "            {\n",
      "                \"identifier\": \"OMIM:600018\"\n",
      "            },\n",
      "            {\n",
      "                \"identifier\": \"UMLS:C1417965\",\n",
      "                \"label\": \"OPRM1 gene\"\n",
      "            }\n",
      "        ],\n",
      "        \"type\": [\n",
      "            \"biolink:Gene\",\n",
      "            \"biolink:BiologicalEntity\",\n",
      "            \"biolink:NamedThing\",\n",
      "            \"biolink:Entity\",\n",
      "            \"biolink:GeneOrGeneProduct\",\n",
      "            \"biolink:GenomicEntity\",\n",
      "            \"biolink:ChemicalEntityOrGeneOrGeneProduct\",\n",
      "            \"biolink:PhysicalEssence\",\n",
      "            \"biolink:OntologyClass\",\n",
      "            \"biolink:ThingWithTaxon\",\n",
      "            \"biolink:PhysicalEssenceOrOccurrent\",\n",
      "            \"biolink:MacromolecularMachineMixin\"\n",
      "        ]\n",
      "    }\n",
      "}\n"
     ]
    }
   ],
   "source": [
    "print(json.dumps(results_nn_false.json(),indent=4))"
   ]
  },
  {
   "cell_type": "code",
   "execution_count": 25,
   "id": "76cd01f7",
   "metadata": {},
   "outputs": [],
   "source": [
    "nn_query = {\n",
    "  \"curies\": [\n",
    "    CURIE_OPRM1_NCBI,\n",
    "    CURIE_OPRM1_UMLS,\n",
    "    CURIE_OPRM1_HGNC\n",
    "  ],\n",
    "  \"conflate\": False\n",
    "}\n",
    "results_nn_multiple_inputs = requests.post(URL_node_normalizer,json=nn_query)"
   ]
  },
  {
   "cell_type": "code",
   "execution_count": 29,
   "id": "63fe5dea-e553-4204-b319-8b546c1916b2",
   "metadata": {},
   "outputs": [
    {
     "name": "stdout",
     "output_type": "stream",
     "text": [
      "{\n",
      "    \"NCBIGene:4988\": {\n",
      "        \"id\": {\n",
      "            \"identifier\": \"NCBIGene:4988\",\n",
      "            \"label\": \"OPRM1\"\n",
      "        },\n",
      "        \"equivalent_identifiers\": [\n",
      "            {\n",
      "                \"identifier\": \"NCBIGene:4988\",\n",
      "                \"label\": \"OPRM1\"\n",
      "            },\n",
      "            {\n",
      "                \"identifier\": \"ENSEMBL:ENSG00000112038\"\n",
      "            },\n",
      "            {\n",
      "                \"identifier\": \"HGNC:8156\",\n",
      "                \"label\": \"OPRM1\"\n",
      "            },\n",
      "            {\n",
      "                \"identifier\": \"OMIM:600018\"\n",
      "            },\n",
      "            {\n",
      "                \"identifier\": \"UMLS:C1417965\",\n",
      "                \"label\": \"OPRM1 gene\"\n",
      "            }\n",
      "        ],\n",
      "        \"type\": [\n",
      "            \"biolink:Gene\",\n",
      "            \"biolink:BiologicalEntity\",\n",
      "            \"biolink:NamedThing\",\n",
      "            \"biolink:Entity\",\n",
      "            \"biolink:GeneOrGeneProduct\",\n",
      "            \"biolink:GenomicEntity\",\n",
      "            \"biolink:ChemicalEntityOrGeneOrGeneProduct\",\n",
      "            \"biolink:PhysicalEssence\",\n",
      "            \"biolink:OntologyClass\",\n",
      "            \"biolink:ThingWithTaxon\",\n",
      "            \"biolink:PhysicalEssenceOrOccurrent\",\n",
      "            \"biolink:MacromolecularMachineMixin\"\n",
      "        ]\n",
      "    },\n",
      "    \"UMLS:C1417965\": {\n",
      "        \"id\": {\n",
      "            \"identifier\": \"NCBIGene:4988\",\n",
      "            \"label\": \"OPRM1\"\n",
      "        },\n",
      "        \"equivalent_identifiers\": [\n",
      "            {\n",
      "                \"identifier\": \"NCBIGene:4988\",\n",
      "                \"label\": \"OPRM1\"\n",
      "            },\n",
      "            {\n",
      "                \"identifier\": \"ENSEMBL:ENSG00000112038\"\n",
      "            },\n",
      "            {\n",
      "                \"identifier\": \"HGNC:8156\",\n",
      "                \"label\": \"OPRM1\"\n",
      "            },\n",
      "            {\n",
      "                \"identifier\": \"OMIM:600018\"\n",
      "            },\n",
      "            {\n",
      "                \"identifier\": \"UMLS:C1417965\",\n",
      "                \"label\": \"OPRM1 gene\"\n",
      "            }\n",
      "        ],\n",
      "        \"type\": [\n",
      "            \"biolink:Gene\",\n",
      "            \"biolink:BiologicalEntity\",\n",
      "            \"biolink:NamedThing\",\n",
      "            \"biolink:Entity\",\n",
      "            \"biolink:GeneOrGeneProduct\",\n",
      "            \"biolink:GenomicEntity\",\n",
      "            \"biolink:ChemicalEntityOrGeneOrGeneProduct\",\n",
      "            \"biolink:PhysicalEssence\",\n",
      "            \"biolink:OntologyClass\",\n",
      "            \"biolink:ThingWithTaxon\",\n",
      "            \"biolink:PhysicalEssenceOrOccurrent\",\n",
      "            \"biolink:MacromolecularMachineMixin\"\n",
      "        ]\n",
      "    },\n",
      "    \"HGNC:8156\": {\n",
      "        \"id\": {\n",
      "            \"identifier\": \"NCBIGene:4988\",\n",
      "            \"label\": \"OPRM1\"\n",
      "        },\n",
      "        \"equivalent_identifiers\": [\n",
      "            {\n",
      "                \"identifier\": \"NCBIGene:4988\",\n",
      "                \"label\": \"OPRM1\"\n",
      "            },\n",
      "            {\n",
      "                \"identifier\": \"ENSEMBL:ENSG00000112038\"\n",
      "            },\n",
      "            {\n",
      "                \"identifier\": \"HGNC:8156\",\n",
      "                \"label\": \"OPRM1\"\n",
      "            },\n",
      "            {\n",
      "                \"identifier\": \"OMIM:600018\"\n",
      "            },\n",
      "            {\n",
      "                \"identifier\": \"UMLS:C1417965\",\n",
      "                \"label\": \"OPRM1 gene\"\n",
      "            }\n",
      "        ],\n",
      "        \"type\": [\n",
      "            \"biolink:Gene\",\n",
      "            \"biolink:BiologicalEntity\",\n",
      "            \"biolink:NamedThing\",\n",
      "            \"biolink:Entity\",\n",
      "            \"biolink:GeneOrGeneProduct\",\n",
      "            \"biolink:GenomicEntity\",\n",
      "            \"biolink:ChemicalEntityOrGeneOrGeneProduct\",\n",
      "            \"biolink:PhysicalEssence\",\n",
      "            \"biolink:OntologyClass\",\n",
      "            \"biolink:ThingWithTaxon\",\n",
      "            \"biolink:PhysicalEssenceOrOccurrent\",\n",
      "            \"biolink:MacromolecularMachineMixin\"\n",
      "        ]\n",
      "    }\n",
      "}\n"
     ]
    }
   ],
   "source": [
    "results_json = results_nn_multiple_inputs.json()\n",
    "print(json.dumps(results_nn_multiple_inputs.json(),indent=4))"
   ]
  },
  {
   "cell_type": "code",
   "execution_count": 27,
   "id": "4b1bb34c-dfcc-4eb2-9c5e-8e2e1f8a6b77",
   "metadata": {},
   "outputs": [
    {
     "name": "stdout",
     "output_type": "stream",
     "text": [
      "CURIE: NCBIGene:4988\n",
      "Preferred ID: NCBIGene:4988\n",
      "\n",
      "CURIE: UMLS:C1417965\n",
      "Preferred ID: NCBIGene:4988\n",
      "\n",
      "CURIE: HGNC:8156\n",
      "Preferred ID: NCBIGene:4988\n",
      "\n"
     ]
    }
   ],
   "source": [
    "for curie, result in results_json.items():\n",
    "    print(f\"CURIE: {curie}\")\n",
    "    print(f'Preferred ID: {result[\"id\"][\"identifier\"]}\\n')"
   ]
  },
  {
   "cell_type": "code",
   "execution_count": 28,
   "id": "3661acb6-3fda-486e-90a9-15951cafea79",
   "metadata": {},
   "outputs": [
    {
     "name": "stdout",
     "output_type": "stream",
     "text": [
      "['NCBIGene:4988']\n"
     ]
    }
   ],
   "source": [
    "id_list = []\n",
    "for curie, result in results_json.items():\n",
    "    if result['id']['identifier'] not in id_list:\n",
    "        id_list.append(result['id']['identifier'])\n",
    "        \n",
    "print(id_list)"
   ]
  },
  {
   "cell_type": "code",
   "execution_count": null,
   "id": "fc9f1e95-0cf8-4347-a994-2f87b3b34aef",
   "metadata": {},
   "outputs": [],
   "source": []
  }
 ],
 "metadata": {
  "kernelspec": {
   "display_name": "Python 3 (ipykernel)",
   "language": "python",
   "name": "python3"
  },
  "language_info": {
   "codemirror_mode": {
    "name": "ipython",
    "version": 3
   },
   "file_extension": ".py",
   "mimetype": "text/x-python",
   "name": "python",
   "nbconvert_exporter": "python",
   "pygments_lexer": "ipython3",
   "version": "3.8.10"
  }
 },
 "nbformat": 4,
 "nbformat_minor": 5
}
