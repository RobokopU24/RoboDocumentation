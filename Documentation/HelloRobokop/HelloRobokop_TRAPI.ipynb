{
 "cells": [
  {
   "cell_type": "code",
   "execution_count": 11,
   "id": "spatial-chrome",
   "metadata": {},
   "outputs": [],
   "source": [
    "import requests\n",
    "import json"
   ]
  },
  {
   "cell_type": "markdown",
   "id": "reasonable-nicholas",
   "metadata": {},
   "source": [
    "TRAPI Documentation: https://github.com/NCATSTranslator/ReasonerAPI\n",
    "\n",
    "Most TRAPI documents contain a `message` key.  Within that `message` are a `query_graph` denoting the user query,\n",
    "a `knowledge_graph` consisting of the union of all nodes and edges that match the `query_graph` pattern, and a list of `results` that bind `query_graph` elements to `knowledge_graph` elements.\n",
    "\n",
    "The following message contains only a `query_graph`.  This query graph consists of 3 nodes connected together in a line.   Two of the nodes (`n00` and `n02`) have specified identifiers, while the middle node of the line does not.  Rather the middle node has a list of `categories` that are acceptable.\n",
    "\n",
    "For a researcher who is starting from a `name` who wants to use TRAPI, they can use the Node Resolver tool to get the identifers for the nodes.  For example, finding IDs for `Tremor` and `Buprenorphine` are below.\n",
    "\n",
    "This query asks \"Find me a Biological Process or Activity, or a Gene, or a Pathway that is related to both `PUBCHEM.COMPOUND:644073` (Buprenorphine) and `HP:0001337` (Tremor)."
   ]
  },
  {
   "cell_type": "code",
   "execution_count": 12,
   "id": "pressing-genesis",
   "metadata": {},
   "outputs": [],
   "source": [
    "query={\n",
    "    \"message\": {\n",
    "      \"query_graph\": {\n",
    "        \"edges\": {\n",
    "          \"e00\": {\n",
    "            \"subject\": \"n00\",\n",
    "              \"object\": \"n01\",\n",
    "          \"predicates\":[\"biolink:related_to\"]\n",
    "          },\n",
    "          \"e01\": {\n",
    "            \"subject\": \"n01\",\n",
    "              \"object\": \"n02\",\n",
    "          \"predicates\":[\"biolink:related_to\"]\n",
    "          }\n",
    "        },\n",
    "        \"nodes\": {\n",
    "          \"n00\": {\n",
    "            \"ids\": [\"PUBCHEM.COMPOUND:644073\"],\n",
    "            \"categories\": [\"biolink:ChemicalEntity\"]\n",
    "          },\n",
    "          \"n01\": {\n",
    "              \"categories\": [\"biolink:BiologicalProcessOrActivity\",\"biolink:Gene\",\"biolink:Pathway\"]\n",
    "          },\n",
    "          \"n02\": {\n",
    "            \"ids\": [\"HP:0001337\"],\n",
    "            \"categories\": [\"biolink:DiseaseOrPhenotypicFeature\"]\n",
    "          }\n",
    "        }\n",
    "      }\n",
    "    }\n",
    "  }\n"
   ]
  },
  {
   "cell_type": "markdown",
   "id": "figured-wesley",
   "metadata": {},
   "source": [
    "This query can be sent to various components of Translator as needed.  It can be sent directly to the ROBOKOP database like this:"
   ]
  },
  {
   "cell_type": "code",
   "execution_count": 31,
   "id": "greek-warrant",
   "metadata": {},
   "outputs": [
    {
     "name": "stdout",
     "output_type": "stream",
     "text": [
      "200\n",
      "7\n"
     ]
    }
   ],
   "source": [
    "robokop_submit_url = \"https://automat.renci.org/robokopkg/1.3/query\"\n",
    "response = requests.post(robokop_submit_url,json=query)\n",
    "print(response.status_code)\n",
    "number_pathway_results = len(response.json()['message']['results'])\n",
    "print(len(response.json()['message']['results']))"
   ]
  },
  {
   "cell_type": "code",
   "execution_count": 16,
   "id": "91cf025e-2064-4b72-9020-f2aec6db11f6",
   "metadata": {},
   "outputs": [],
   "source": [
    "import pprint\n",
    "pp = pprint.PrettyPrinter(indent=5)"
   ]
  },
  {
   "cell_type": "markdown",
   "id": "c699bcf6-ff46-40fe-b515-914ea5aa707e",
   "metadata": {},
   "source": [
    "The response in JSON form is a python dictionary with three main keys, the `message`, `log_level`, and `workflow`.  The `message` component contains the `query_graph`, `knowledge_graph`, and `results` from the query."
   ]
  },
  {
   "cell_type": "code",
   "execution_count": 17,
   "id": "723de57e-3741-4243-9e52-b9309b2a9469",
   "metadata": {},
   "outputs": [
    {
     "name": "stdout",
     "output_type": "stream",
     "text": [
      "dict_keys(['message', 'log_level', 'workflow'])\n",
      "dict_keys(['query_graph', 'knowledge_graph', 'results'])\n"
     ]
    }
   ],
   "source": [
    "print(response.json().keys())\n",
    "print(response.json()['message'].keys())"
   ]
  },
  {
   "cell_type": "markdown",
   "id": "f6afbea5-c52b-4a06-a4d1-0fee3b4d5bc8",
   "metadata": {},
   "source": [
    "The `results` component contains pathways resulting from the query message. Each pathway is organized into edge_bindings and node bindings and contains results for the edges and nodes specified in the query message.  Results are represented in identifier form, which can be found in the `knowledge_graph` component of the `message` section of the response."
   ]
  },
  {
   "cell_type": "code",
   "execution_count": 18,
   "id": "fd29b0c0-d185-42b7-a32e-19a3738cef11",
   "metadata": {},
   "outputs": [
    {
     "name": "stdout",
     "output_type": "stream",
     "text": [
      "[    {    'edge_bindings': {    'e00': [    {    'attributes': None,\n",
      "                                                 'id': '114007302'},\n",
      "                                            {    'attributes': None,\n",
      "                                                 'id': '53316700'},\n",
      "                                            {    'attributes': None,\n",
      "                                                 'id': '73767346'},\n",
      "                                            {    'attributes': None,\n",
      "                                                 'id': '69960824'},\n",
      "                                            {    'attributes': None,\n",
      "                                                 'id': '17217758'},\n",
      "                                            {    'attributes': None,\n",
      "                                                 'id': '99662894'}],\n",
      "                                'e01': [    {    'attributes': None,\n",
      "                                                 'id': '122487516'}]},\n",
      "          'node_bindings': {    'n00': [    {    'attributes': None,\n",
      "                                                 'id': 'PUBCHEM.COMPOUND:644073',\n",
      "                                                 'qnode_id': 'PUBCHEM.COMPOUND:644073',\n",
      "                                                 'query_id': None}],\n",
      "                                'n01': [    {    'attributes': None,\n",
      "                                                 'id': 'NCBIGene:4988',\n",
      "                                                 'query_id': None}],\n",
      "                                'n02': [    {    'attributes': None,\n",
      "                                                 'id': 'HP:0012164',\n",
      "                                                 'qnode_id': 'HP:0001337',\n",
      "                                                 'query_id': None}]},\n",
      "          'score': None},\n",
      "     {    'edge_bindings': {    'e00': [    {    'attributes': None,\n",
      "                                                 'id': '89382328'},\n",
      "                                            {    'attributes': None,\n",
      "                                                 'id': '114937428'},\n",
      "                                            {    'attributes': None,\n",
      "                                                 'id': '8701157'}],\n",
      "                                'e01': [    {    'attributes': None,\n",
      "                                                 'id': '59969377'}]},\n",
      "          'node_bindings': {    'n00': [    {    'attributes': None,\n",
      "                                                 'id': 'PUBCHEM.COMPOUND:644073',\n",
      "                                                 'qnode_id': 'PUBCHEM.COMPOUND:644073',\n",
      "                                                 'query_id': None}],\n",
      "                                'n01': [    {    'attributes': None,\n",
      "                                                 'id': 'NCBIGene:1565',\n",
      "                                                 'query_id': None}],\n",
      "                                'n02': [    {    'attributes': None,\n",
      "                                                 'id': 'HP:0025387',\n",
      "                                                 'qnode_id': 'HP:0001337',\n",
      "                                                 'query_id': None}]},\n",
      "          'score': None},\n",
      "     {    'edge_bindings': {    'e00': [    {    'attributes': None,\n",
      "                                                 'id': '89382328'},\n",
      "                                            {    'attributes': None,\n",
      "                                                 'id': '114937428'},\n",
      "                                            {    'attributes': None,\n",
      "                                                 'id': '8701157'}],\n",
      "                                'e01': [{'attributes': None, 'id': '1494499'}]},\n",
      "          'node_bindings': {    'n00': [    {    'attributes': None,\n",
      "                                                 'id': 'PUBCHEM.COMPOUND:644073',\n",
      "                                                 'qnode_id': 'PUBCHEM.COMPOUND:644073',\n",
      "                                                 'query_id': None}],\n",
      "                                'n01': [    {    'attributes': None,\n",
      "                                                 'id': 'NCBIGene:1565',\n",
      "                                                 'query_id': None}],\n",
      "                                'n02': [    {    'attributes': None,\n",
      "                                                 'id': 'HP:0002322',\n",
      "                                                 'qnode_id': 'HP:0001337',\n",
      "                                                 'query_id': None}]},\n",
      "          'score': None},\n",
      "     {    'edge_bindings': {    'e00': [    {    'attributes': None,\n",
      "                                                 'id': '89382328'},\n",
      "                                            {    'attributes': None,\n",
      "                                                 'id': '114937428'},\n",
      "                                            {    'attributes': None,\n",
      "                                                 'id': '8701157'}],\n",
      "                                'e01': [    {    'attributes': None,\n",
      "                                                 'id': '77794730'}]},\n",
      "          'node_bindings': {    'n00': [    {    'attributes': None,\n",
      "                                                 'id': 'PUBCHEM.COMPOUND:644073',\n",
      "                                                 'qnode_id': 'PUBCHEM.COMPOUND:644073',\n",
      "                                                 'query_id': None}],\n",
      "                                'n01': [    {    'attributes': None,\n",
      "                                                 'id': 'NCBIGene:1565',\n",
      "                                                 'query_id': None}],\n",
      "                                'n02': [    {    'attributes': None,\n",
      "                                                 'id': 'HP:0200085',\n",
      "                                                 'qnode_id': 'HP:0001337',\n",
      "                                                 'query_id': None}]},\n",
      "          'score': None},\n",
      "     {    'edge_bindings': {    'e00': [    {    'attributes': None,\n",
      "                                                 'id': '89382328'},\n",
      "                                            {    'attributes': None,\n",
      "                                                 'id': '114937428'},\n",
      "                                            {    'attributes': None,\n",
      "                                                 'id': '8701157'}],\n",
      "                                'e01': [    {    'attributes': None,\n",
      "                                                 'id': '51576277'},\n",
      "                                            {    'attributes': None,\n",
      "                                                 'id': '76927493'}]},\n",
      "          'node_bindings': {    'n00': [    {    'attributes': None,\n",
      "                                                 'id': 'PUBCHEM.COMPOUND:644073',\n",
      "                                                 'qnode_id': 'PUBCHEM.COMPOUND:644073',\n",
      "                                                 'query_id': None}],\n",
      "                                'n01': [    {    'attributes': None,\n",
      "                                                 'id': 'NCBIGene:1565',\n",
      "                                                 'query_id': None}],\n",
      "                                'n02': [    {    'attributes': None,\n",
      "                                                 'id': 'HP:0001337',\n",
      "                                                 'qnode_id': 'HP:0001337',\n",
      "                                                 'query_id': None}]},\n",
      "          'score': None},\n",
      "     {    'edge_bindings': {    'e00': [    {    'attributes': None,\n",
      "                                                 'id': '89382328'},\n",
      "                                            {    'attributes': None,\n",
      "                                                 'id': '114937428'},\n",
      "                                            {    'attributes': None,\n",
      "                                                 'id': '8701157'}],\n",
      "                                'e01': [    {    'attributes': None,\n",
      "                                                 'id': '63382262'}]},\n",
      "          'node_bindings': {    'n00': [    {    'attributes': None,\n",
      "                                                 'id': 'PUBCHEM.COMPOUND:644073',\n",
      "                                                 'qnode_id': 'PUBCHEM.COMPOUND:644073',\n",
      "                                                 'query_id': None}],\n",
      "                                'n01': [    {    'attributes': None,\n",
      "                                                 'id': 'NCBIGene:1565',\n",
      "                                                 'query_id': None}],\n",
      "                                'n02': [    {    'attributes': None,\n",
      "                                                 'id': 'HP:0002174',\n",
      "                                                 'qnode_id': 'HP:0001337',\n",
      "                                                 'query_id': None}]},\n",
      "          'score': None},\n",
      "     {    'edge_bindings': {    'e00': [    {    'attributes': None,\n",
      "                                                 'id': '89382328'},\n",
      "                                            {    'attributes': None,\n",
      "                                                 'id': '114937428'},\n",
      "                                            {    'attributes': None,\n",
      "                                                 'id': '8701157'}],\n",
      "                                'e01': [    {    'attributes': None,\n",
      "                                                 'id': '94827089'}]},\n",
      "          'node_bindings': {    'n00': [    {    'attributes': None,\n",
      "                                                 'id': 'PUBCHEM.COMPOUND:644073',\n",
      "                                                 'qnode_id': 'PUBCHEM.COMPOUND:644073',\n",
      "                                                 'query_id': None}],\n",
      "                                'n01': [    {    'attributes': None,\n",
      "                                                 'id': 'NCBIGene:1565',\n",
      "                                                 'query_id': None}],\n",
      "                                'n02': [    {    'attributes': None,\n",
      "                                                 'id': 'HP:0002345',\n",
      "                                                 'qnode_id': 'HP:0001337',\n",
      "                                                 'query_id': None}]},\n",
      "          'score': None}]\n"
     ]
    }
   ],
   "source": [
    "pp.pprint(response.json()['message']['results'])"
   ]
  },
  {
   "cell_type": "code",
   "execution_count": null,
   "id": "e74cda7c-2541-4d6c-97d0-325505ab435b",
   "metadata": {},
   "outputs": [],
   "source": [
    "pp.pprint(response.json()['message']['knowledge_graph'])"
   ]
  },
  {
   "cell_type": "markdown",
   "id": "d5775775-294c-4fe2-a199-b1771dd984b2",
   "metadata": {},
   "source": [
    "The `knowledge_graph` contains information about each of the Nodes and Edges found in `results`.  An example of a Node and an Edge are shown below."
   ]
  },
  {
   "cell_type": "code",
   "execution_count": 20,
   "id": "e87f0afc-0f5f-4158-8036-11ab0cadf2ba",
   "metadata": {},
   "outputs": [
    {
     "name": "stdout",
     "output_type": "stream",
     "text": [
      "dict_keys(['nodes', 'edges'])\n"
     ]
    }
   ],
   "source": [
    "pp.pprint(response.json()['message']['knowledge_graph'].keys())\n"
   ]
  },
  {
   "cell_type": "markdown",
   "id": "96b8b435-0518-4995-9b1e-c498a8d8c325",
   "metadata": {},
   "source": [
    "Information returned for the each Node includes the concept ID (key), biolink categories, the name/label, attributes, the value type, and others.  Note that each entry under the `nodes` level is itemized in dictionary format and not lists.  The content for one Node is shown below."
   ]
  },
  {
   "cell_type": "code",
   "execution_count": 21,
   "id": "55280b02-94c3-4478-9596-8b8961c92a1a",
   "metadata": {},
   "outputs": [
    {
     "data": {
      "text/plain": [
       "('HP:0012164',\n",
       " {'categories': ['biolink:Entity',\n",
       "   'biolink:PhenotypicFeature',\n",
       "   'biolink:DiseaseOrPhenotypicFeature',\n",
       "   'biolink:NamedThing',\n",
       "   'biolink:BiologicalEntity',\n",
       "   'biolink:ThingWithTaxon'],\n",
       "  'name': 'Asterixis',\n",
       "  'attributes': [{'attribute_type_id': 'biolink:Attribute',\n",
       "    'value': 100.0,\n",
       "    'value_type_id': 'EDAM:data_0006',\n",
       "    'original_attribute_name': 'information_content',\n",
       "    'value_url': None,\n",
       "    'attribute_source': None,\n",
       "    'description': None,\n",
       "    'attributes': None},\n",
       "   {'attribute_type_id': 'biolink:same_as',\n",
       "    'value': ['NCIT:C86048',\n",
       "     'MEDDRA:10057580',\n",
       "     'HP:0012164',\n",
       "     'UMLS:C0232766',\n",
       "     'SNOMEDCT:32838008',\n",
       "     'MEDDRA:10003547'],\n",
       "    'value_type_id': 'metatype:uriorcurie',\n",
       "    'original_attribute_name': 'equivalent_identifiers',\n",
       "    'value_url': None,\n",
       "    'attribute_source': None,\n",
       "    'description': None,\n",
       "    'attributes': None}]})"
      ]
     },
     "execution_count": 21,
     "metadata": {},
     "output_type": "execute_result"
    }
   ],
   "source": [
    "next(iter( response.json()['message']['knowledge_graph']['nodes'].items() ))"
   ]
  },
  {
   "cell_type": "markdown",
   "id": "f5427165-8500-4ebb-b933-2dc38c071636",
   "metadata": {},
   "source": [
    "Information returned for the each Edge includes the edge ID (key), the subject's concept ID, the object's concept ID, the edge's predicate, any qualifiers, and attributes.  Note that each entry under the `edges` level is itemized in dictionary format and not lists.  The content for one Edge is shown below."
   ]
  },
  {
   "cell_type": "code",
   "execution_count": 22,
   "id": "dc1f6149-0499-42b1-9426-43f2d5470305",
   "metadata": {},
   "outputs": [
    {
     "data": {
      "text/plain": [
       "('76927493',\n",
       " {'subject': 'NCBIGene:1565',\n",
       "  'object': 'HP:0001337',\n",
       "  'predicate': 'biolink:genetic_association',\n",
       "  'qualifiers': None,\n",
       "  'attributes': [{'attribute_type_id': 'biolink:primary_knowledge_source',\n",
       "    'value': 'infores:disgenet',\n",
       "    'value_type_id': 'biolink:InformationResource',\n",
       "    'original_attribute_name': 'biolink:primary_knowledge_source',\n",
       "    'value_url': None,\n",
       "    'attribute_source': 'infores:automat-robokop',\n",
       "    'description': None,\n",
       "    'attributes': None},\n",
       "   {'attribute_type_id': 'biolink:aggregator_knowledge_source',\n",
       "    'value': ['infores:automat-robokop', 'infores:pharos'],\n",
       "    'value_type_id': 'biolink:InformationResource',\n",
       "    'original_attribute_name': 'biolink:aggregator_knowledge_source',\n",
       "    'value_url': None,\n",
       "    'attribute_source': 'infores:automat-robokop',\n",
       "    'description': None,\n",
       "    'attributes': None}]})"
      ]
     },
     "execution_count": 22,
     "metadata": {},
     "output_type": "execute_result"
    }
   ],
   "source": [
    "next(iter( response.json()['message']['knowledge_graph']['edges'].items() ))"
   ]
  },
  {
   "cell_type": "markdown",
   "id": "056aee28-ea91-49be-bc87-164a6f9284fd",
   "metadata": {},
   "source": [
    "Since the edge and node contents are returned as CURIES (Compact URIs) instead of labels, a sample workflow was written to show how to use the above edge information and the Node Normalizer tool to convert results into a human readble form.  This workflow does the following steps:\n",
    "- combine edge_binding IDs and convert edge IDs to labels for each result\n",
    "- use output from the `knowledge_graph` to convert node IDs to labels\n",
    "- write the output dictionary as a CSV"
   ]
  },
  {
   "cell_type": "code",
   "execution_count": 23,
   "id": "db1d48aa-fd88-4099-8976-4f9c1216c82a",
   "metadata": {},
   "outputs": [],
   "source": [
    "import pandas as pd\n",
    "from pathlib import Path\n",
    "\n",
    "nodes = response.json()['message']['results'][0]['node_bindings'].keys()\n",
    "output_dict = {}\n",
    "for key in nodes:\n",
    "    output_dict[key] = {}"
   ]
  },
  {
   "cell_type": "code",
   "execution_count": 24,
   "id": "92368b62-c61d-4229-aa52-5744af7f230a",
   "metadata": {},
   "outputs": [
    {
     "name": "stdout",
     "output_type": "stream",
     "text": [
      "{    'edge_bindings': {    'e00': [    {'attributes': None, 'id': '114007302'},\n",
      "                                       {'attributes': None, 'id': '53316700'},\n",
      "                                       {'attributes': None, 'id': '73767346'},\n",
      "                                       {'attributes': None, 'id': '69960824'},\n",
      "                                       {'attributes': None, 'id': '17217758'},\n",
      "                                       {'attributes': None, 'id': '99662894'}],\n",
      "                           'e01': [{'attributes': None, 'id': '122487516'}]},\n",
      "     'node_bindings': {    'n00': [    {    'attributes': None,\n",
      "                                            'id': 'PUBCHEM.COMPOUND:644073',\n",
      "                                            'qnode_id': 'PUBCHEM.COMPOUND:644073',\n",
      "                                            'query_id': None}],\n",
      "                           'n01': [    {    'attributes': None,\n",
      "                                            'id': 'NCBIGene:4988',\n",
      "                                            'query_id': None}],\n",
      "                           'n02': [    {    'attributes': None,\n",
      "                                            'id': 'HP:0012164',\n",
      "                                            'qnode_id': 'HP:0001337',\n",
      "                                            'query_id': None}]},\n",
      "     'score': None}\n"
     ]
    }
   ],
   "source": [
    "# Illustrating the structure of each pathway result from the message component\n",
    "pp.pprint(response.json()['message']['results'][0])"
   ]
  },
  {
   "cell_type": "code",
   "execution_count": 25,
   "id": "469b94d5-6b36-422b-a70e-6c3bc511b27f",
   "metadata": {},
   "outputs": [
    {
     "name": "stdout",
     "output_type": "stream",
     "text": [
      "{    'n00': {    0: 'PUBCHEM.COMPOUND:644073',\n",
      "                 1: 'PUBCHEM.COMPOUND:644073',\n",
      "                 2: 'PUBCHEM.COMPOUND:644073',\n",
      "                 3: 'PUBCHEM.COMPOUND:644073',\n",
      "                 4: 'PUBCHEM.COMPOUND:644073',\n",
      "                 5: 'PUBCHEM.COMPOUND:644073',\n",
      "                 6: 'PUBCHEM.COMPOUND:644073'},\n",
      "     'n01': {    0: 'NCBIGene:4988',\n",
      "                 1: 'NCBIGene:1565',\n",
      "                 2: 'NCBIGene:1565',\n",
      "                 3: 'NCBIGene:1565',\n",
      "                 4: 'NCBIGene:1565',\n",
      "                 5: 'NCBIGene:1565',\n",
      "                 6: 'NCBIGene:1565'},\n",
      "     'n02': {    0: 'HP:0012164',\n",
      "                 1: 'HP:0025387',\n",
      "                 2: 'HP:0002322',\n",
      "                 3: 'HP:0200085',\n",
      "                 4: 'HP:0001337',\n",
      "                 5: 'HP:0002174',\n",
      "                 6: 'HP:0002345'}}\n"
     ]
    }
   ],
   "source": [
    "i = 0\n",
    "for entry in response.json()['message']['results']:\n",
    "    # for edge_id in edges:\n",
    "    #     output_dict[edge_id][i] = entry['edge_bindings'][edge_id][0]['id']\n",
    "    for node_id in nodes:\n",
    "        output_dict[node_id][i] = entry['node_bindings'][node_id][0]['id']\n",
    "    i = i + 1\n",
    "    \n",
    "pp.pprint(output_dict)"
   ]
  },
  {
   "cell_type": "code",
   "execution_count": 26,
   "id": "4004b5ba-7c33-474b-a6f3-e1ce0e5885a1",
   "metadata": {},
   "outputs": [
    {
     "name": "stdout",
     "output_type": "stream",
     "text": [
      "{    'n00': {    0: 'Buprenorphine',\n",
      "                 1: 'Buprenorphine',\n",
      "                 2: 'Buprenorphine',\n",
      "                 3: 'Buprenorphine',\n",
      "                 4: 'Buprenorphine',\n",
      "                 5: 'Buprenorphine',\n",
      "                 6: 'Buprenorphine'},\n",
      "     'n01': {    0: 'OPRM1',\n",
      "                 1: 'CYP2D6',\n",
      "                 2: 'CYP2D6',\n",
      "                 3: 'CYP2D6',\n",
      "                 4: 'CYP2D6',\n",
      "                 5: 'CYP2D6',\n",
      "                 6: 'CYP2D6'},\n",
      "     'n02': {    0: 'Asterixis',\n",
      "                 1: 'Pill-rolling tremor',\n",
      "                 2: 'Resting tremor',\n",
      "                 3: 'Limb tremor',\n",
      "                 4: 'Tremor',\n",
      "                 5: 'Postural tremor',\n",
      "                 6: 'Action tremor'}}\n"
     ]
    }
   ],
   "source": [
    "node_list = [x for x in output_dict.keys() if 'n' in x]\n",
    "\n",
    "for node_id in node_list:\n",
    "    for node_index, node_value in output_dict[node_id].items():\n",
    "        # Getting the 'name' label using the node ID from the knowledge graph\n",
    "        output_dict[node_id][node_index] = response.json()['message']['knowledge_graph']['nodes'][node_value]['name']\n",
    "        \n",
    "pp.pprint(output_dict)"
   ]
  },
  {
   "cell_type": "code",
   "execution_count": 27,
   "id": "c76e8e98-45c9-4d76-9141-015699305e6d",
   "metadata": {},
   "outputs": [],
   "source": [
    "from datetime import datetime\n",
    "from pathlib import Path\n",
    "\n",
    "now = datetime.now()\n",
    "dt_string = now.strftime(\"%Y-%m-%d_%H%M%S\")\n",
    "write_dir = Path(\"output/TRAPI\",str(dt_string))\n",
    "write_dir.mkdir(parents=True, exist_ok=True)"
   ]
  },
  {
   "cell_type": "markdown",
   "id": "589e4659-4d02-4d54-9382-6b7317013ad1",
   "metadata": {},
   "source": [
    "The code below writes out all of the pathway results returned, NOT the edges for each pathway."
   ]
  },
  {
   "cell_type": "code",
   "execution_count": 33,
   "id": "584f87a2-0df1-4102-b87c-90f71f1ad8c3",
   "metadata": {},
   "outputs": [],
   "source": [
    "import pandas as pd\n",
    "import os\n",
    "\n",
    "# Convert JSON String to CSV File\n",
    "# Read json from String\n",
    "json_str = json.dumps(output_dict, indent=4)\n",
    "df = pd.read_json(json_str)\n",
    "cols = df.columns.tolist()\n",
    "cols.sort()\n",
    "df = df[cols]\n",
    "df.to_csv(os.path.join(write_dir,'results_TRAPI_automat.csv'))\n",
    "\n",
    "combined_node_list = [\"_\".join([row[0].replace(\" \", \"_\"), row[1].replace(\" \", \"_\"), row[2].replace(\" \", \"_\")]) for row in df[cols].to_numpy()]\n",
    "pp.pprint(combined_node_list)"
   ]
  },
  {
   "cell_type": "markdown",
   "id": "4136f834-4163-4148-bf79-33cff045399c",
   "metadata": {},
   "source": [
    "The following writes out each unique edge for each of the pathways in the format of `subject` -> `predicate` -> `object`."
   ]
  },
  {
   "cell_type": "code",
   "execution_count": 32,
   "id": "18b87d36-ba96-40b6-a072-cdcb26866380",
   "metadata": {},
   "outputs": [
    {
     "name": "stdout",
     "output_type": "stream",
     "text": [
      "Pathway result: Buprenorphine_OPRM1_Asterixis\n",
      "{    'Buprenorphine -> biolink:affects -> CYP2D6': 1,\n",
      "     'Buprenorphine -> biolink:directly_physically_interacts_with -> CYP2D6': 1,\n",
      "     'CYP2D6 -> biolink:affects -> Buprenorphine': 1,\n",
      "     'CYP2D6 -> biolink:genetic_association -> Limb tremor': 1}\n",
      "\n",
      "Pathway result: Buprenorphine_CYP2D6_Pill-rolling_tremor\n",
      "{    'Buprenorphine -> biolink:affects -> CYP2D6': 1,\n",
      "     'Buprenorphine -> biolink:directly_physically_interacts_with -> CYP2D6': 1,\n",
      "     'CYP2D6 -> biolink:affects -> Buprenorphine': 1,\n",
      "     'CYP2D6 -> biolink:genetic_association -> Pill-rolling tremor': 1}\n",
      "\n",
      "Pathway result: Buprenorphine_CYP2D6_Resting_tremor\n",
      "{    'Buprenorphine -> biolink:affects -> CYP2D6': 1,\n",
      "     'Buprenorphine -> biolink:directly_physically_interacts_with -> CYP2D6': 1,\n",
      "     'CYP2D6 -> biolink:affects -> Buprenorphine': 1,\n",
      "     'CYP2D6 -> biolink:genetic_association -> Tremor': 2}\n",
      "\n",
      "Pathway result: Buprenorphine_CYP2D6_Limb_tremor\n",
      "{    'Buprenorphine -> biolink:affects -> CYP2D6': 1,\n",
      "     'Buprenorphine -> biolink:directly_physically_interacts_with -> CYP2D6': 1,\n",
      "     'CYP2D6 -> biolink:affects -> Buprenorphine': 1,\n",
      "     'CYP2D6 -> biolink:genetic_association -> Postural tremor': 1}\n",
      "\n",
      "Pathway result: Buprenorphine_CYP2D6_Tremor\n",
      "{    'Buprenorphine -> biolink:affects -> OPRM1': 4,\n",
      "     'Buprenorphine -> biolink:directly_physically_interacts_with -> OPRM1': 1,\n",
      "     'Buprenorphine -> biolink:related_to -> OPRM1': 1,\n",
      "     'OPRM1 -> biolink:genetic_association -> Asterixis': 1}\n",
      "\n",
      "Pathway result: Buprenorphine_CYP2D6_Postural_tremor\n",
      "{    'Buprenorphine -> biolink:affects -> CYP2D6': 1,\n",
      "     'Buprenorphine -> biolink:directly_physically_interacts_with -> CYP2D6': 1,\n",
      "     'CYP2D6 -> biolink:affects -> Buprenorphine': 1,\n",
      "     'CYP2D6 -> biolink:genetic_association -> Resting tremor': 1}\n",
      "\n",
      "Pathway result: Buprenorphine_CYP2D6_Action_tremor\n",
      "{    'Buprenorphine -> biolink:affects -> CYP2D6': 1,\n",
      "     'Buprenorphine -> biolink:directly_physically_interacts_with -> CYP2D6': 1,\n",
      "     'CYP2D6 -> biolink:affects -> Buprenorphine': 1,\n",
      "     'CYP2D6 -> biolink:genetic_association -> Action tremor': 1}\n",
      "\n"
     ]
    }
   ],
   "source": [
    "from collections import Counter\n",
    "import json\n",
    "import pprint\n",
    "pp = pprint.PrettyPrinter(indent=5)\n",
    "\n",
    "for i in range(number_pathway_results):\n",
    "    # if i >= 1:\n",
    "        # break\n",
    "    print(f\"Pathway result: {combined_node_list[i]}\")\n",
    "    edge_bindings = response.json()['message']['results'][i]['edge_bindings']\n",
    "    # print(edge_bindings)\n",
    "\n",
    "    edge_ids = []\n",
    "    for edge_name, edge_list in edge_bindings.items():\n",
    "        edge_ids.append({edge_name: [x['id'] for x in edge_list]})\n",
    "\n",
    "    # print(edge_ids)\n",
    "    string_out_list = []\n",
    "    for edge_dict in edge_ids:\n",
    "        for edge_name, edge_list in edge_dict.items():\n",
    "            # print(f\"{edge_name}: {edge_list}\")\n",
    "            for edge_id in edge_list:\n",
    "                subject_id = response.json()['message']['knowledge_graph']['edges'][edge_id]['subject']\n",
    "                subject = response.json()['message']['knowledge_graph']['nodes'][subject_id]['name']\n",
    "                predicate = response.json()['message']['knowledge_graph']['edges'][edge_id]['predicate']\n",
    "                object_id = response.json()['message']['knowledge_graph']['edges'][edge_id]['object']\n",
    "                object = response.json()['message']['knowledge_graph']['nodes'][object_id]['name']\n",
    "                string_out = f\"{subject} -> {predicate} -> {object}\"\n",
    "                string_out_list.append(string_out)\n",
    "    string_out_dict = dict(Counter(string_out_list).items())\n",
    "    pp.pprint(string_out_dict)\n",
    "    print(\"\")\n",
    "    \n",
    "    with open(os.path.join(write_dir,combined_node_list[i]+\".txt\"), 'w') as convert_file:\n",
    "        convert_file.write(json.dumps(string_out_dict))\n",
    "        "
   ]
  },
  {
   "cell_type": "markdown",
   "id": "9d12d4ed-5349-4a55-97e1-a6559c278fac",
   "metadata": {},
   "source": [
    "## Aragorn is being discontinued.  The code below is not expected to work.\n",
    "\n",
    "The results above are just database matches, there are no scores or other additions.  You can instead send the TRAPI to the robokop application using Aragorn (rather than just to the graph)"
   ]
  },
  {
   "cell_type": "code",
   "execution_count": null,
   "id": "chronic-gregory",
   "metadata": {},
   "outputs": [],
   "source": [
    "ara_robokop_submit_url = \"https://aragorn.renci.org/robokop/query\"\n",
    "response = requests.post(ara_robokop_submit_url,json=query)"
   ]
  },
  {
   "cell_type": "code",
   "execution_count": 50,
   "id": "marked-relevance",
   "metadata": {},
   "outputs": [
    {
     "data": {
      "text/plain": [
       "500"
      ]
     },
     "execution_count": 50,
     "metadata": {},
     "output_type": "execute_result"
    }
   ],
   "source": [
    "response.status_code"
   ]
  },
  {
   "cell_type": "code",
   "execution_count": 48,
   "id": "tough-iraqi",
   "metadata": {},
   "outputs": [
    {
     "ename": "NameError",
     "evalue": "name 'response_ara' is not defined",
     "output_type": "error",
     "traceback": [
      "\u001b[1;31m---------------------------------------------------------------------------\u001b[0m",
      "\u001b[1;31mNameError\u001b[0m                                 Traceback (most recent call last)",
      "Cell \u001b[1;32mIn [48], line 1\u001b[0m\n\u001b[1;32m----> 1\u001b[0m \u001b[38;5;28mlen\u001b[39m(\u001b[43mresponse_ara\u001b[49m\u001b[38;5;241m.\u001b[39mjson()[\u001b[38;5;124m'\u001b[39m\u001b[38;5;124mmessage\u001b[39m\u001b[38;5;124m'\u001b[39m][\u001b[38;5;124m'\u001b[39m\u001b[38;5;124mresults\u001b[39m\u001b[38;5;124m'\u001b[39m])\n",
      "\u001b[1;31mNameError\u001b[0m: name 'response_ara' is not defined"
     ]
    }
   ],
   "source": [
    "len(response_ara.json()['message']['results'])"
   ]
  },
  {
   "cell_type": "code",
   "execution_count": null,
   "id": "cb4dcf32-c88d-46ce-9d9d-553f279f1806",
   "metadata": {},
   "outputs": [],
   "source": [
    "pp.pprint(response_ara.json()['message']['results'])"
   ]
  },
  {
   "cell_type": "code",
   "execution_count": null,
   "id": "fleet-digit",
   "metadata": {},
   "outputs": [],
   "source": [
    "for result in response.json()['message']['results']:\n",
    "    print(result['score'])"
   ]
  }
 ],
 "metadata": {
  "kernelspec": {
   "display_name": "Python 3 (ipykernel)",
   "language": "python",
   "name": "python3"
  },
  "language_info": {
   "codemirror_mode": {
    "name": "ipython",
    "version": 3
   },
   "file_extension": ".py",
   "mimetype": "text/x-python",
   "name": "python",
   "nbconvert_exporter": "python",
   "pygments_lexer": "ipython3",
   "version": "3.8.10"
  }
 },
 "nbformat": 4,
 "nbformat_minor": 5
}
