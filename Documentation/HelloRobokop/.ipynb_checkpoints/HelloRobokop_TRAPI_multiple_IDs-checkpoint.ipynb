{
 "cells": [
  {
   "cell_type": "code",
   "execution_count": 1,
   "id": "spatial-chrome",
   "metadata": {},
   "outputs": [],
   "source": [
    "import requests\n",
    "import json"
   ]
  },
  {
   "cell_type": "markdown",
   "id": "reasonable-nicholas",
   "metadata": {},
   "source": [
    "TRAPI Documentation: https://github.com/NCATSTranslator/ReasonerAPI\n",
    "\n",
    "Most TRAPI documents contain a `message` key.  Within that `message` are a `query_graph` denoting the user query,\n",
    "a `knowledge_graph` consisting of the union of all nodes and edges that match the `query_graph` pattern, and a list of `results` that bind `query_graph` elements to `knowledge_graph` elements.\n",
    "\n",
    "The following message contains only a `query_graph`.  This query graph consists of 3 nodes connected together in a line.   Two of the nodes (`n00` and `n02`) have specified identifiers, while the middle node of the line does not.  Rather the middle node has a list of `categories` that are acceptable.\n",
    "\n",
    "For a researcher who is starting from a `name` who wants to use TRAPI, they can use the Node Resolver tool to get a list of identifers for the nodes.  For example, finding IDs for `Buprenorphine` is below."
   ]
  },
  {
   "cell_type": "code",
   "execution_count": 28,
   "id": "986284ac-4641-45a7-9e2d-27acff0383b1",
   "metadata": {},
   "outputs": [],
   "source": [
    "search_string = 'Buprenorphine'\n",
    "results = requests.post(f'https://name-resolution-sri.renci.org/lookup?string={search_string}&offset=0&limit=10')\n",
    "results_json = results.json()\n",
    "#print(json.dumps(results_json,indent=4))"
   ]
  },
  {
   "cell_type": "code",
   "execution_count": 39,
   "id": "a534a9e8-6f90-4234-95c1-633e0d011632",
   "metadata": {},
   "outputs": [
    {
     "name": "stdout",
     "output_type": "stream",
     "text": [
      "['PUBCHEM.COMPOUND:644073', 'PUBCHEM.COMPOUND:9848990', 'UMLS:C0524040', 'PUBCHEM.COMPOUND:9811785', 'UMLS:C0799646', 'PUBCHEM.COMPOUND:91745467', 'UMLS:C0701445', 'PUBCHEM.COMPOUND:3033050', 'UMLS:C0366373', 'UMLS:C1171048']\n"
     ]
    }
   ],
   "source": [
    "input_node_id_list = list(results_json.keys())\n",
    "print(input_node_id_list)"
   ]
  },
  {
   "cell_type": "markdown",
   "id": "01a4829e-fc68-424e-bef6-bd52f4ec0077",
   "metadata": {},
   "source": [
    "For confirmation of the labels for each of these IDs, the Node Normalizer tool can be used to show contents."
   ]
  },
  {
   "cell_type": "code",
   "execution_count": 59,
   "id": "1836bfec-b8d5-4068-bcf4-e9fac0542ee1",
   "metadata": {},
   "outputs": [],
   "source": [
    "nn_query = {\n",
    "  \"curies\": input_node_id_list,\n",
    "  \"conflate\": True\n",
    "}\n",
    "results = requests.post('https://nodenormalization-sri.renci.org/get_normalized_nodes',json=nn_query)"
   ]
  },
  {
   "cell_type": "code",
   "execution_count": null,
   "id": "c0827f65-814e-4173-9012-b19f335d32b5",
   "metadata": {},
   "outputs": [],
   "source": [
    "print(json.dumps(results.json(),indent=4))"
   ]
  },
  {
   "cell_type": "markdown",
   "id": "239f41ed-fde5-41b8-96dc-e8d1a3b030b2",
   "metadata": {},
   "source": [
    "This query asks \"Find me a Biological Process or Activity, or a Gene, or a Pathway that is related to both `HP:0001337` (Tremor) and the list of IDs above found searching the Name Resolver with `Buprenorphine`."
   ]
  },
  {
   "cell_type": "code",
   "execution_count": 40,
   "id": "8dbeea9b-aeb1-4309-af05-d63637c289ec",
   "metadata": {},
   "outputs": [],
   "source": [
    "query={\n",
    "    \"message\": {\n",
    "      \"query_graph\": {\n",
    "        \"edges\": {\n",
    "          \"e00\": {\n",
    "            \"subject\": \"n00\",\n",
    "              \"object\": \"n01\",\n",
    "          \"predicates\":[\"biolink:related_to\"]\n",
    "          },\n",
    "          \"e01\": {\n",
    "            \"subject\": \"n01\",\n",
    "              \"object\": \"n02\",\n",
    "          \"predicates\":[\"biolink:related_to\"]\n",
    "          }\n",
    "        },\n",
    "        \"nodes\": {\n",
    "          \"n00\": {\n",
    "            \"ids\": input_node_id_list,\n",
    "            \"categories\": [\"biolink:ChemicalEntity\"]\n",
    "          },\n",
    "          \"n01\": {\n",
    "              \"categories\": [\"biolink:BiologicalProcessOrActivity\",\"biolink:Gene\",\"biolink:Pathway\"]\n",
    "          },\n",
    "          \"n02\": {\n",
    "            \"ids\": [\"HP:0001337\"],\n",
    "            \"categories\": [\"biolink:DiseaseOrPhenotypicFeature\"]\n",
    "          }\n",
    "        }\n",
    "      }\n",
    "    }\n",
    "  }"
   ]
  },
  {
   "cell_type": "markdown",
   "id": "figured-wesley",
   "metadata": {},
   "source": [
    "This query can be sent to various components of Translator as needed.  It can be sent directly to the ROBOKOP database like this:"
   ]
  },
  {
   "cell_type": "code",
   "execution_count": 41,
   "id": "greek-warrant",
   "metadata": {},
   "outputs": [],
   "source": [
    "robokop_submit_url = \"https://automat.renci.org/robokopkg/1.3/query\"\n",
    "response = requests.post(robokop_submit_url,json=query)"
   ]
  },
  {
   "cell_type": "code",
   "execution_count": 42,
   "id": "respective-participation",
   "metadata": {},
   "outputs": [
    {
     "name": "stdout",
     "output_type": "stream",
     "text": [
      "200\n"
     ]
    }
   ],
   "source": [
    "print(response.status_code)"
   ]
  },
  {
   "cell_type": "code",
   "execution_count": 43,
   "id": "elect-artist",
   "metadata": {},
   "outputs": [
    {
     "name": "stdout",
     "output_type": "stream",
     "text": [
      "8\n"
     ]
    }
   ],
   "source": [
    "print(len(response.json()['message']['results']))"
   ]
  },
  {
   "cell_type": "code",
   "execution_count": 44,
   "id": "91cf025e-2064-4b72-9020-f2aec6db11f6",
   "metadata": {},
   "outputs": [],
   "source": [
    "import pprint\n",
    "pp = pprint.PrettyPrinter(indent=5)"
   ]
  },
  {
   "cell_type": "markdown",
   "id": "c699bcf6-ff46-40fe-b515-914ea5aa707e",
   "metadata": {},
   "source": [
    "The response in JSON form is a python dictionary with three main keys, the `message`, `log_level`, and `workflow`.  The `message` component contains the `query_graph`, `knowledge_graph`, and `results` from the query."
   ]
  },
  {
   "cell_type": "code",
   "execution_count": 45,
   "id": "723de57e-3741-4243-9e52-b9309b2a9469",
   "metadata": {},
   "outputs": [
    {
     "name": "stdout",
     "output_type": "stream",
     "text": [
      "dict_keys(['message', 'log_level', 'workflow'])\n",
      "dict_keys(['query_graph', 'knowledge_graph', 'results'])\n"
     ]
    }
   ],
   "source": [
    "print(response.json().keys())\n",
    "print(response.json()['message'].keys())"
   ]
  },
  {
   "cell_type": "markdown",
   "id": "f6afbea5-c52b-4a06-a4d1-0fee3b4d5bc8",
   "metadata": {},
   "source": [
    "The `results` component contains pathways resulting from the query message. Each pathway is organized into edge_bindings and node bindings and contains results for the edges and nodes specified in the query message.  Results are represented in identifier form, which can be found in the `knowledge_graph` component of the `message` section of the response."
   ]
  },
  {
   "cell_type": "code",
   "execution_count": 46,
   "id": "e74cda7c-2541-4d6c-97d0-325505ab435b",
   "metadata": {},
   "outputs": [
    {
     "name": "stdout",
     "output_type": "stream",
     "text": [
      "{    'edge_bindings': {    'e00': [    {'attributes': None, 'id': '70512752'},\n",
      "                                       {'attributes': None, 'id': '53738502'},\n",
      "                                       {'attributes': None, 'id': '114867359'},\n",
      "                                       {'attributes': None, 'id': '34805007'},\n",
      "                                       {'attributes': None, 'id': '52520264'},\n",
      "                                       {'attributes': None, 'id': '17306890'}],\n",
      "                           'e01': [{'attributes': None, 'id': '122503186'}]},\n",
      "     'node_bindings': {    'n00': [    {    'attributes': None,\n",
      "                                            'id': 'PUBCHEM.COMPOUND:644073',\n",
      "                                            'qnode_id': 'PUBCHEM.COMPOUND:644073',\n",
      "                                            'query_id': None}],\n",
      "                           'n01': [    {    'attributes': None,\n",
      "                                            'id': 'NCBIGene:4988',\n",
      "                                            'query_id': None}],\n",
      "                           'n02': [    {    'attributes': None,\n",
      "                                            'id': 'HP:0012164',\n",
      "                                            'qnode_id': 'HP:0001337',\n",
      "                                            'query_id': None}]},\n",
      "     'score': None}\n"
     ]
    }
   ],
   "source": [
    "pp.pprint(response.json()['message']['results'][0])"
   ]
  },
  {
   "cell_type": "markdown",
   "id": "d5775775-294c-4fe2-a199-b1771dd984b2",
   "metadata": {},
   "source": [
    "The `knowledge_graph` contains information about each of the Nodes and Edges found in `results`.  An example of a Node and an Edge are shown below."
   ]
  },
  {
   "cell_type": "code",
   "execution_count": 47,
   "id": "e87f0afc-0f5f-4158-8036-11ab0cadf2ba",
   "metadata": {},
   "outputs": [
    {
     "name": "stdout",
     "output_type": "stream",
     "text": [
      "dict_keys(['nodes', 'edges'])\n"
     ]
    }
   ],
   "source": [
    "pp.pprint(response.json()['message']['knowledge_graph'].keys())\n"
   ]
  },
  {
   "cell_type": "markdown",
   "id": "96b8b435-0518-4995-9b1e-c498a8d8c325",
   "metadata": {},
   "source": [
    "Information returned for the each Node includes the concept ID (key), biolink categories, the name/label, attributes, the value type, and others.  Note that each entry under the `nodes` level is itemized in dictionary format and not lists.  The content for one Node is shown below."
   ]
  },
  {
   "cell_type": "code",
   "execution_count": 48,
   "id": "55280b02-94c3-4478-9596-8b8961c92a1a",
   "metadata": {},
   "outputs": [
    {
     "data": {
      "text/plain": [
       "('HP:0012164',\n",
       " {'categories': ['biolink:Entity',\n",
       "   'biolink:ThingWithTaxon',\n",
       "   'biolink:DiseaseOrPhenotypicFeature',\n",
       "   'biolink:PhenotypicFeature',\n",
       "   'biolink:BiologicalEntity',\n",
       "   'biolink:NamedThing'],\n",
       "  'name': 'Asterixis',\n",
       "  'attributes': [{'attribute_type_id': 'biolink:same_as',\n",
       "    'value': ['UMLS:C0232766',\n",
       "     'MEDDRA:10003547',\n",
       "     'HP:0012164',\n",
       "     'MEDDRA:10057580',\n",
       "     'SNOMEDCT:32838008',\n",
       "     'NCIT:C86048'],\n",
       "    'value_type_id': 'metatype:uriorcurie',\n",
       "    'original_attribute_name': 'equivalent_identifiers',\n",
       "    'value_url': None,\n",
       "    'attribute_source': None,\n",
       "    'description': None,\n",
       "    'attributes': None},\n",
       "   {'attribute_type_id': 'biolink:Attribute',\n",
       "    'value': 100.0,\n",
       "    'value_type_id': 'EDAM:data_0006',\n",
       "    'original_attribute_name': 'information_content',\n",
       "    'value_url': None,\n",
       "    'attribute_source': None,\n",
       "    'description': None,\n",
       "    'attributes': None}]})"
      ]
     },
     "execution_count": 48,
     "metadata": {},
     "output_type": "execute_result"
    }
   ],
   "source": [
    "next(iter( response.json()['message']['knowledge_graph']['nodes'].items() ))"
   ]
  },
  {
   "cell_type": "markdown",
   "id": "f5427165-8500-4ebb-b933-2dc38c071636",
   "metadata": {},
   "source": [
    "Information returned for the each Edge includes the edge ID (key), the subject's concept ID, the object's concept ID, the edge's predicate, any qualifiers, and attributes.  Note that each entry under the `edges` level is itemized in dictionary format and not lists.  The content for one Edge is shown below."
   ]
  },
  {
   "cell_type": "code",
   "execution_count": 49,
   "id": "dc1f6149-0499-42b1-9426-43f2d5470305",
   "metadata": {},
   "outputs": [
    {
     "data": {
      "text/plain": [
       "('104671278',\n",
       " {'subject': 'NCBIGene:1565',\n",
       "  'object': 'HP:0001337',\n",
       "  'predicate': 'biolink:genetic_association',\n",
       "  'qualifiers': None,\n",
       "  'attributes': [{'attribute_type_id': 'biolink:primary_knowledge_source',\n",
       "    'value': ['DisGeNET'],\n",
       "    'value_type_id': 'biolink:InformationResource',\n",
       "    'original_attribute_name': 'biolink:primary_knowledge_source',\n",
       "    'value_url': None,\n",
       "    'attribute_source': 'infores:automat-robokop',\n",
       "    'description': None,\n",
       "    'attributes': None},\n",
       "   {'attribute_type_id': 'biolink:aggregator_knowledge_source',\n",
       "    'value': ['infores:automat-robokop'],\n",
       "    'value_type_id': 'biolink:InformationResource',\n",
       "    'original_attribute_name': 'biolink:aggregator_knowledge_source',\n",
       "    'value_url': None,\n",
       "    'attribute_source': 'infores:automat-robokop',\n",
       "    'description': None,\n",
       "    'attributes': None},\n",
       "   {'attribute_type_id': 'biolink:aggregator_knowledge_source',\n",
       "    'value': ['infores:pharos'],\n",
       "    'value_type_id': 'biolink:InformationResource',\n",
       "    'original_attribute_name': 'biolink:aggregator_knowledge_source',\n",
       "    'value_url': None,\n",
       "    'attribute_source': 'infores:automat-robokop',\n",
       "    'description': None,\n",
       "    'attributes': None}]})"
      ]
     },
     "execution_count": 49,
     "metadata": {},
     "output_type": "execute_result"
    }
   ],
   "source": [
    "next(iter( response.json()['message']['knowledge_graph']['edges'].items() ))"
   ]
  },
  {
   "cell_type": "markdown",
   "id": "056aee28-ea91-49be-bc87-164a6f9284fd",
   "metadata": {},
   "source": [
    "Since the edge and node contents are returned as CURIES (Compact URIs) instead of labels, a sample workflow was written to show how to use the above edge information and the Node Normalizer tool to convert results into a human readble form.  This workflow does the following steps:\n",
    "- combine edge_binding IDs and convert edge IDs to labels for each result\n",
    "- use output from the `knowledge_graph` to convert node IDs to labels\n",
    "- write the output dictionary as a CSV"
   ]
  },
  {
   "cell_type": "code",
   "execution_count": 50,
   "id": "b1de0960-b877-4bde-b4a4-e308c36742a4",
   "metadata": {},
   "outputs": [
    {
     "name": "stdout",
     "output_type": "stream",
     "text": [
      "['e00', 'e01', 'n00', 'n01', 'n02']\n",
      "{'e00': {}, 'e01': {}, 'n00': {}, 'n01': {}, 'n02': {}}\n"
     ]
    }
   ],
   "source": [
    "edges = response.json()['message']['results'][0]['edge_bindings'].keys()\n",
    "nodes = response.json()['message']['results'][0]['node_bindings'].keys()\n",
    "edges_nodes = sorted(edges|nodes)\n",
    "\n",
    "edges_nodes_keys = [s for s in edges_nodes if not s.startswith('s')]\n",
    "print(edges_nodes_keys)\n",
    "\n",
    "# Initializing a base dictionary containing edge and node IDs from message results\n",
    "base_dict = {}\n",
    "for key in edges_nodes_keys:\n",
    "    base_dict[key] = {}\n",
    "print(base_dict)"
   ]
  },
  {
   "cell_type": "code",
   "execution_count": 51,
   "id": "b9579057-99d6-43d1-b1a1-90439649d7d3",
   "metadata": {},
   "outputs": [
    {
     "name": "stdout",
     "output_type": "stream",
     "text": [
      "{    'edge_bindings': {    'e00': [    {'attributes': None, 'id': '70512752'},\n",
      "                                       {'attributes': None, 'id': '53738502'},\n",
      "                                       {'attributes': None, 'id': '114867359'},\n",
      "                                       {'attributes': None, 'id': '34805007'},\n",
      "                                       {'attributes': None, 'id': '52520264'},\n",
      "                                       {'attributes': None, 'id': '17306890'}],\n",
      "                           'e01': [{'attributes': None, 'id': '122503186'}]},\n",
      "     'node_bindings': {    'n00': [    {    'attributes': None,\n",
      "                                            'id': 'PUBCHEM.COMPOUND:644073',\n",
      "                                            'qnode_id': 'PUBCHEM.COMPOUND:644073',\n",
      "                                            'query_id': None}],\n",
      "                           'n01': [    {    'attributes': None,\n",
      "                                            'id': 'NCBIGene:4988',\n",
      "                                            'query_id': None}],\n",
      "                           'n02': [    {    'attributes': None,\n",
      "                                            'id': 'HP:0012164',\n",
      "                                            'qnode_id': 'HP:0001337',\n",
      "                                            'query_id': None}]},\n",
      "     'score': None}\n"
     ]
    }
   ],
   "source": [
    "# Illustrating the structure of each pathway result from the message component\n",
    "pp.pprint(response.json()['message']['results'][0])"
   ]
  },
  {
   "cell_type": "code",
   "execution_count": 52,
   "id": "41bc5a47-dbe4-478c-905a-34c2a98064bf",
   "metadata": {},
   "outputs": [
    {
     "name": "stdout",
     "output_type": "stream",
     "text": [
      "{    'e00': {    0: '70512752',\n",
      "                 1: '59066617',\n",
      "                 2: '29152440',\n",
      "                 3: '29152440',\n",
      "                 4: '29152440',\n",
      "                 5: '29152440',\n",
      "                 6: '29152440',\n",
      "                 7: '29152440'},\n",
      "     'e01': {    0: '122503186',\n",
      "                 1: '122503186',\n",
      "                 2: '36237079',\n",
      "                 3: '40300787',\n",
      "                 4: '100241886',\n",
      "                 5: '14737677',\n",
      "                 6: '93297435',\n",
      "                 7: '132474660'},\n",
      "     'n00': {    0: 'PUBCHEM.COMPOUND:644073',\n",
      "                 1: 'PUBCHEM.COMPOUND:9848990',\n",
      "                 2: 'PUBCHEM.COMPOUND:644073',\n",
      "                 3: 'PUBCHEM.COMPOUND:644073',\n",
      "                 4: 'PUBCHEM.COMPOUND:644073',\n",
      "                 5: 'PUBCHEM.COMPOUND:644073',\n",
      "                 6: 'PUBCHEM.COMPOUND:644073',\n",
      "                 7: 'PUBCHEM.COMPOUND:644073'},\n",
      "     'n01': {    0: 'NCBIGene:4988',\n",
      "                 1: 'NCBIGene:4988',\n",
      "                 2: 'NCBIGene:1565',\n",
      "                 3: 'NCBIGene:1565',\n",
      "                 4: 'NCBIGene:1565',\n",
      "                 5: 'NCBIGene:1565',\n",
      "                 6: 'NCBIGene:1565',\n",
      "                 7: 'NCBIGene:1565'},\n",
      "     'n02': {    0: 'HP:0012164',\n",
      "                 1: 'HP:0012164',\n",
      "                 2: 'HP:0200085',\n",
      "                 3: 'HP:0002322',\n",
      "                 4: 'HP:0025387',\n",
      "                 5: 'HP:0001337',\n",
      "                 6: 'HP:0002345',\n",
      "                 7: 'HP:0002174'}}\n"
     ]
    }
   ],
   "source": [
    "# - populate base_dict with entries from response.json()['message']['results']\n",
    "i = 0\n",
    "for entry in response.json()['message']['results']:\n",
    "    for edge_id in edges:\n",
    "        base_dict[edge_id][i] = entry['edge_bindings'][edge_id][0]['id']\n",
    "    for node_id in nodes:\n",
    "        base_dict[node_id][i] = entry['node_bindings'][node_id][0]['id']\n",
    "    i = i + 1\n",
    "        \n",
    "pp.pprint(base_dict)"
   ]
  },
  {
   "cell_type": "code",
   "execution_count": 53,
   "id": "2b5887c6-5bd3-406c-b5e7-e687a9631aa8",
   "metadata": {},
   "outputs": [
    {
     "name": "stdout",
     "output_type": "stream",
     "text": [
      "{    'e00': {    0: 'biolink:affects',\n",
      "                 1: 'biolink:affects',\n",
      "                 2: 'biolink:directly_physically_interacts_with',\n",
      "                 3: 'biolink:directly_physically_interacts_with',\n",
      "                 4: 'biolink:directly_physically_interacts_with',\n",
      "                 5: 'biolink:directly_physically_interacts_with',\n",
      "                 6: 'biolink:directly_physically_interacts_with',\n",
      "                 7: 'biolink:directly_physically_interacts_with'},\n",
      "     'e01': {    0: 'biolink:genetic_association',\n",
      "                 1: 'biolink:genetic_association',\n",
      "                 2: 'biolink:genetic_association',\n",
      "                 3: 'biolink:genetic_association',\n",
      "                 4: 'biolink:genetic_association',\n",
      "                 5: 'biolink:genetic_association',\n",
      "                 6: 'biolink:genetic_association',\n",
      "                 7: 'biolink:genetic_association'},\n",
      "     'n00': {    0: 'PUBCHEM.COMPOUND:644073',\n",
      "                 1: 'PUBCHEM.COMPOUND:9848990',\n",
      "                 2: 'PUBCHEM.COMPOUND:644073',\n",
      "                 3: 'PUBCHEM.COMPOUND:644073',\n",
      "                 4: 'PUBCHEM.COMPOUND:644073',\n",
      "                 5: 'PUBCHEM.COMPOUND:644073',\n",
      "                 6: 'PUBCHEM.COMPOUND:644073',\n",
      "                 7: 'PUBCHEM.COMPOUND:644073'},\n",
      "     'n01': {    0: 'NCBIGene:4988',\n",
      "                 1: 'NCBIGene:4988',\n",
      "                 2: 'NCBIGene:1565',\n",
      "                 3: 'NCBIGene:1565',\n",
      "                 4: 'NCBIGene:1565',\n",
      "                 5: 'NCBIGene:1565',\n",
      "                 6: 'NCBIGene:1565',\n",
      "                 7: 'NCBIGene:1565'},\n",
      "     'n02': {    0: 'HP:0012164',\n",
      "                 1: 'HP:0012164',\n",
      "                 2: 'HP:0200085',\n",
      "                 3: 'HP:0002322',\n",
      "                 4: 'HP:0025387',\n",
      "                 5: 'HP:0001337',\n",
      "                 6: 'HP:0002345',\n",
      "                 7: 'HP:0002174'}}\n"
     ]
    }
   ],
   "source": [
    "import copy\n",
    "output_dict = copy.deepcopy(base_dict)\n",
    "edge_list = [x for x in output_dict.keys() if 'e' in x]\n",
    "#print(edge_list)\n",
    "\n",
    "# - convert and combine edge_binding IDs for each result\n",
    "for edge_id in edge_list:\n",
    "    for edge_index, edge_number in output_dict[edge_id].items():\n",
    "        # Getting the predicate/label using the edge_binding ID from the knowledge graph\n",
    "        output_dict[edge_id][edge_index] = response.json()['message']['knowledge_graph']['edges'][edge_number]['predicate']\n",
    "\n",
    "pp.pprint(output_dict)"
   ]
  },
  {
   "cell_type": "code",
   "execution_count": 54,
   "id": "4397ca11-b789-4cbf-9d2f-8aaa378bd896",
   "metadata": {},
   "outputs": [
    {
     "name": "stdout",
     "output_type": "stream",
     "text": [
      "{    'e00': {    0: 'biolink:affects',\n",
      "                 1: 'biolink:affects',\n",
      "                 2: 'biolink:directly_physically_interacts_with',\n",
      "                 3: 'biolink:directly_physically_interacts_with',\n",
      "                 4: 'biolink:directly_physically_interacts_with',\n",
      "                 5: 'biolink:directly_physically_interacts_with',\n",
      "                 6: 'biolink:directly_physically_interacts_with',\n",
      "                 7: 'biolink:directly_physically_interacts_with'},\n",
      "     'e01': {    0: 'biolink:genetic_association',\n",
      "                 1: 'biolink:genetic_association',\n",
      "                 2: 'biolink:genetic_association',\n",
      "                 3: 'biolink:genetic_association',\n",
      "                 4: 'biolink:genetic_association',\n",
      "                 5: 'biolink:genetic_association',\n",
      "                 6: 'biolink:genetic_association',\n",
      "                 7: 'biolink:genetic_association'},\n",
      "     'n00': {    0: 'Buprenorphine',\n",
      "                 1: 'Brixadi',\n",
      "                 2: 'Buprenorphine',\n",
      "                 3: 'Buprenorphine',\n",
      "                 4: 'Buprenorphine',\n",
      "                 5: 'Buprenorphine',\n",
      "                 6: 'Buprenorphine',\n",
      "                 7: 'Buprenorphine'},\n",
      "     'n01': {    0: 'OPRM1',\n",
      "                 1: 'OPRM1',\n",
      "                 2: 'CYP2D6',\n",
      "                 3: 'CYP2D6',\n",
      "                 4: 'CYP2D6',\n",
      "                 5: 'CYP2D6',\n",
      "                 6: 'CYP2D6',\n",
      "                 7: 'CYP2D6'},\n",
      "     'n02': {    0: 'Asterixis',\n",
      "                 1: 'Asterixis',\n",
      "                 2: 'Limb tremor',\n",
      "                 3: 'Resting tremor',\n",
      "                 4: 'Pill-rolling tremor',\n",
      "                 5: 'Tremor',\n",
      "                 6: 'Action tremor',\n",
      "                 7: 'Postural tremor'}}\n"
     ]
    }
   ],
   "source": [
    "node_list = [x for x in output_dict.keys() if 'n' in x]\n",
    "\n",
    "for node_id in node_list:\n",
    "    for node_index, node_value in output_dict[node_id].items():\n",
    "        # Getting the 'name' label using the node ID from the knowledge graph\n",
    "        output_dict[node_id][node_index] = response.json()['message']['knowledge_graph']['nodes'][node_value]['name']\n",
    "        \n",
    "pp.pprint(output_dict)"
   ]
  },
  {
   "cell_type": "code",
   "execution_count": 55,
   "id": "1c5a0700-b3cd-4a31-8982-e0dad5ed606f",
   "metadata": {},
   "outputs": [],
   "source": [
    "import pandas as pd\n",
    "\n",
    "# Convert JSON String to CSV File\n",
    "# Read json from String\n",
    "json_str = json.dumps(output_dict, indent=4)\n",
    "df = pd.read_json(json_str)\n",
    "df.to_csv('output/results_TRAPI_automat_multiple_ids.csv')"
   ]
  },
  {
   "cell_type": "markdown",
   "id": "expensive-broad",
   "metadata": {},
   "source": [
    "The results above are just database matches, there are no scores or other additions.  You can instead send the TRAPI to the robokop application using Aragorn (rather than just to the graph)"
   ]
  },
  {
   "cell_type": "code",
   "execution_count": 56,
   "id": "chronic-gregory",
   "metadata": {},
   "outputs": [],
   "source": [
    "ara_robokop_submit_url = \"https://aragorn.renci.org/robokop/query\"\n",
    "response = requests.post(ara_robokop_submit_url,json=query)"
   ]
  },
  {
   "cell_type": "code",
   "execution_count": 57,
   "id": "marked-relevance",
   "metadata": {},
   "outputs": [
    {
     "data": {
      "text/plain": [
       "500"
      ]
     },
     "execution_count": 57,
     "metadata": {},
     "output_type": "execute_result"
    }
   ],
   "source": [
    "response.status_code"
   ]
  },
  {
   "cell_type": "code",
   "execution_count": 58,
   "id": "tough-iraqi",
   "metadata": {},
   "outputs": [
    {
     "ename": "NameError",
     "evalue": "name 'response_ara' is not defined",
     "output_type": "error",
     "traceback": [
      "\u001b[1;31m---------------------------------------------------------------------------\u001b[0m",
      "\u001b[1;31mNameError\u001b[0m                                 Traceback (most recent call last)",
      "Cell \u001b[1;32mIn [58], line 1\u001b[0m\n\u001b[1;32m----> 1\u001b[0m \u001b[38;5;28mlen\u001b[39m(\u001b[43mresponse_ara\u001b[49m\u001b[38;5;241m.\u001b[39mjson()[\u001b[38;5;124m'\u001b[39m\u001b[38;5;124mmessage\u001b[39m\u001b[38;5;124m'\u001b[39m][\u001b[38;5;124m'\u001b[39m\u001b[38;5;124mresults\u001b[39m\u001b[38;5;124m'\u001b[39m])\n",
      "\u001b[1;31mNameError\u001b[0m: name 'response_ara' is not defined"
     ]
    }
   ],
   "source": [
    "len(response_ara.json()['message']['results'])"
   ]
  },
  {
   "cell_type": "code",
   "execution_count": null,
   "id": "cb4dcf32-c88d-46ce-9d9d-553f279f1806",
   "metadata": {},
   "outputs": [],
   "source": [
    "pp.pprint(response_ara.json()['message']['results'])"
   ]
  },
  {
   "cell_type": "code",
   "execution_count": null,
   "id": "fleet-digit",
   "metadata": {},
   "outputs": [],
   "source": [
    "for result in response.json()['message']['results']:\n",
    "    print(result['score'])"
   ]
  }
 ],
 "metadata": {
  "kernelspec": {
   "display_name": "Python 3 (ipykernel)",
   "language": "python",
   "name": "python3"
  },
  "language_info": {
   "codemirror_mode": {
    "name": "ipython",
    "version": 3
   },
   "file_extension": ".py",
   "mimetype": "text/x-python",
   "name": "python",
   "nbconvert_exporter": "python",
   "pygments_lexer": "ipython3",
   "version": "3.8.10"
  }
 },
 "nbformat": 4,
 "nbformat_minor": 5
}
