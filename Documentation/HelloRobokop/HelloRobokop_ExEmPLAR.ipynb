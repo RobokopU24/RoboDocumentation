{
 "cells": [
  {
   "cell_type": "code",
   "execution_count": null,
   "id": "c4deeeeb",
   "metadata": {},
   "outputs": [],
   "source": [
    "import requests\n",
    "import json"
   ]
  },
  {
   "cell_type": "code",
   "execution_count": null,
   "id": "7ed5e6df",
   "metadata": {},
   "outputs": [],
   "source": [
    "import pprint\n",
    "pp = pprint.PrettyPrinter(indent=5)"
   ]
  },
  {
   "cell_type": "markdown",
   "id": "24b1f263-4ab4-4c03-a383-d33383fdd986",
   "metadata": {
    "tags": []
   },
   "source": [
    "## Intro to ExEmPLAR"
   ]
  },
  {
   "cell_type": "markdown",
   "id": "9aa44621-2728-4bdc-aa61-64fce35e6c09",
   "metadata": {},
   "source": [
    "ExEmPLAR (https://www.exemplar.mml.unc.edu/) is an additional GUI-based tool that uses Cypher to explore the ROBOKOP KG. More information on the use of this tool is available here: https://github.com/beasleyjonm/AOP-COP-Path-Extractor. Start and End Nodes can be specified by type and have multiple terms specified.  The labels applied to the Start and End Nodes can be checked against the KG for presence or absence.  Additionally, the number of nodes in-between can be specified along with edge types.  By default, a query from ExEmPLAR will return a collapsed version of edge results. This behavior can be changed by clicking the \"Get Result Metadata\" checkbox. Note that directionality is not preserved in the query results, but the orientation of the nodes are preserved.  For example, `Buprenorphine` - `CYP2D6` - `Tremor` will be returned with edge labels, but not which direction the edge applies.\n",
    "\n",
    "Using the same `Buprenorphine` - `Gene` - `Tremor` example as above, three rows are returned.  These are in a collapsed form of the results from queries to `robokopkg.renci.org` above, summarized below.\n",
    " - `Buprenorphine` - `affects` - `CYP2D6`\n",
    " - `Buprenorphine` - `directly physically interacts with` - `CYP2D6`\n",
    " - `Buprenorphine` - `regulates` - `CYP2D6`\n",
    " - `CYP2D6` - `genetic association` - `Tremor`"
   ]
  },
  {
   "cell_type": "markdown",
   "id": "a67fe75a-16cf-4d48-848c-a5a3f377b614",
   "metadata": {},
   "source": [
    "## Cypher - robokopkg.renci.org"
   ]
  },
  {
   "cell_type": "markdown",
   "id": "dd655b17",
   "metadata": {
    "tags": []
   },
   "source": [
    "The ExEmPLAR tool uses a separate access point to ROBOKOP at `robokopkg.renci.org` as compared to the method outlined in `HelloRobokop_Cypher.ipynb`.  A cypher query here is sent to http://robokopkg.renci.org using the bolt protocol.  After defining the helper Neo4jConnection class, the query is sent and results can be extracted below."
   ]
  },
  {
   "cell_type": "code",
   "execution_count": null,
   "id": "f76e3e85",
   "metadata": {},
   "outputs": [],
   "source": [
    "# Buprenorphine -> [Gene] -> Tremor\n",
    "cypher = f\"\"\"MATCH (n0_0:`biolink:ChemicalEntity`)-[r0_0]-(n1_0:`biolink:Gene`)-[r1_0]-(n2_0:`biolink:DiseaseOrPhenotypicFeature`)\n",
    "WHERE n0_0.name IN ['Buprenorphine'] AND n2_0.name IN ['Tremor']\n",
    "RETURN [startNode(r0_0),[type(r0_0),properties(r0_0)],endNode(r0_0)] as edge_1,\n",
    "[startNode(r1_0),[type(r1_0),properties(r1_0)],endNode(r1_0)] as edge_2,\n",
    "[n0_0.name, n1_0.name, n2_0.name] as node_names LIMIT 100\"\"\""
   ]
  },
  {
   "cell_type": "code",
   "execution_count": null,
   "id": "0e200e7d",
   "metadata": {},
   "outputs": [],
   "source": [
    "from neo4j import GraphDatabase\n",
    "class Neo4jConnection:\n",
    "    \n",
    "    def __init__(self, uri, user, pwd):\n",
    "        self.__uri = uri\n",
    "        self.__user = user\n",
    "        self.__pwd = pwd\n",
    "        self.__driver = None\n",
    "        try:\n",
    "            self.__driver = GraphDatabase.driver(self.__uri, auth=(self.__user, self.__pwd))\n",
    "        except Exception as e:\n",
    "            print(\"Failed to create the driver:\", e)\n",
    "        \n",
    "    def close(self):\n",
    "        if self.__driver is not None:\n",
    "            self.__driver.close()\n",
    "        \n",
    "    def query(self, query, db=None):\n",
    "        assert self.__driver is not None, \"Driver not initialized!\"\n",
    "        session = None\n",
    "        response = None\n",
    "        try: \n",
    "            session = self.__driver.session(database=db) if db is not None else self.__driver.session()\n",
    "            response = list(session.run(query))\n",
    "        except Exception as e:\n",
    "            print(\"Query failed:\", e)\n",
    "        finally: \n",
    "            if session is not None:\n",
    "                session.close()\n",
    "        return response"
   ]
  },
  {
   "cell_type": "code",
   "execution_count": null,
   "id": "c7b86a78",
   "metadata": {},
   "outputs": [],
   "source": [
    "pw = ''\n",
    "conn = Neo4jConnection(uri=\"bolt://robokopkg.renci.org:7687\", user = 'neo4j', pwd = pw)\n",
    "record_list = conn.query(cypher)"
   ]
  },
  {
   "cell_type": "code",
   "execution_count": null,
   "id": "14de5cee",
   "metadata": {},
   "outputs": [],
   "source": [
    "from datetime import datetime\n",
    "from pathlib import Path\n",
    "\n",
    "now = datetime.now()\n",
    "dt_string = now.strftime(\"%Y-%m-%d_%H%M%S\")\n",
    "write_dir = Path(\"output/Cypher_robokopkg\",str(dt_string))\n",
    "write_dir.mkdir(parents=True, exist_ok=True)"
   ]
  },
  {
   "cell_type": "markdown",
   "id": "6dc47d30",
   "metadata": {},
   "source": [
    "\n",
    "A list of records is returned from the query. The structure of each record is defined by the `RETURN` section of the query above.\n",
    "```\n",
    "<Record edge_1=[<Node element containing properties for first node of r0_0>,\n",
    "                 [list containing the type and properties for the edge],\n",
    "                 <Node element containing properties for second node of r0_0>]\n",
    "         edge_2=[<Node element containing properties for first node of r1_0>,\n",
    "                 [list containing the type and properties for the edge],\n",
    "                 <Node element containing properties for second node of r1_0>]\n",
    "         node_names=[list of node names]>\n",
    "```"
   ]
  },
  {
   "cell_type": "code",
   "execution_count": null,
   "id": "160b9feb",
   "metadata": {},
   "outputs": [],
   "source": [
    "record = record_list[0]\n",
    "print(record)"
   ]
  },
  {
   "cell_type": "markdown",
   "id": "112db4f9",
   "metadata": {},
   "source": [
    "The data can be accessed using the data() method. Known keys can be passed to data(), but leaving it blank will return everything as a Dictionary. Data in records are returned with keys based on the original query labels. "
   ]
  },
  {
   "cell_type": "code",
   "execution_count": null,
   "id": "02824872",
   "metadata": {},
   "outputs": [],
   "source": [
    "record_data = record.data()\n",
    "pp.pprint(record_data)"
   ]
  },
  {
   "cell_type": "markdown",
   "id": "abd4dcf5",
   "metadata": {},
   "source": [
    "Results are extracted and stored in the format of subject -> predicate -> object, followed by the remaining edge properties. Including the edge properties helps to distinguish edges that may have the same predicates. Unique entries are appended to a list, counted, and then written to a text file.\n",
    "\n",
    "The code below extracts results based on the structure of the original cypher query in the section above.  Any changes to the `RETURN` part of the query will require adjustments to the code below."
   ]
  },
  {
   "cell_type": "code",
   "execution_count": null,
   "id": "4f880f2f",
   "metadata": {},
   "outputs": [],
   "source": [
    "import os\n",
    "from collections import Counter\n",
    "\n",
    "string_out_list = []\n",
    "for record in record_list: \n",
    "    record_data = record.data()\n",
    "    #only grab the edge information and skip the list of node names\n",
    "    record_data_first2 = {k: record_data[k] for k in list(record_data)[:2]}\n",
    "    for label, data in record_data_first2.items():\n",
    "        string_out = f\"{label} - {data[0]['name']} -> {data[1][0]} -> {data[2]['name']}||{data[1][1]}\"\n",
    "        # print(f\"{data[0]['name']} -> {data[1][0]} -> {data[2]['name']}\")\n",
    "        # print(f\"Edge properties: {data[1][1]}\")\n",
    "        if string_out not in string_out_list:\n",
    "            string_out_list.append(string_out)\n",
    "\n",
    "combined_node_list = \"_\".join(list(record_list[0].data('node_names').values())[0])\n",
    "print(combined_node_list)\n",
    "\n",
    "string_out_list = [i.split('||', 1)[0] for i in string_out_list]\n",
    "\n",
    "string_out_dict = dict(Counter(string_out_list).items())\n",
    "pp.pprint(string_out_dict)"
   ]
  },
  {
   "cell_type": "markdown",
   "id": "91a8a8b6-279b-4ce7-b5e8-64bb4fcaad59",
   "metadata": {},
   "source": [
    "Writing results below after confirming that the output looks good."
   ]
  },
  {
   "cell_type": "code",
   "execution_count": null,
   "id": "957d0c58-4a35-4656-bd89-2bf23cd9d862",
   "metadata": {},
   "outputs": [],
   "source": [
    "with open(os.path.join(write_dir,combined_node_list+\".txt\"), 'w') as convert_file:\n",
    "    convert_file.write(json.dumps(string_out_dict))"
   ]
  },
  {
   "cell_type": "markdown",
   "id": "6beb36cc",
   "metadata": {},
   "source": [
    "Close the Cypher connection when finished."
   ]
  },
  {
   "cell_type": "code",
   "execution_count": null,
   "id": "db59d4e0",
   "metadata": {},
   "outputs": [],
   "source": [
    "conn.close()"
   ]
  },
  {
   "cell_type": "markdown",
   "id": "3d04e621",
   "metadata": {
    "tags": []
   },
   "source": [
    "## ExEmPLAR - RETURN * notation"
   ]
  },
  {
   "cell_type": "markdown",
   "id": "d2d5b921",
   "metadata": {},
   "source": [
    "ExEmPLAR also has a `Copy` tool that generates cypher queries after setting up a query pattern.  An example using the copied pre-genereated cypher query to each of `automat.renci.org` and `robokopkg.renci.org` is below.  This can be useful for setting up an initial Cypher query if a user is not familiar with writing in Cypher.\n",
    "\n",
    "The difficulty faced with the copied query is that \"RETURN \\*\" is not specific with the structures given back.  In the queries to `automat.renci.org` and `robokopkg.renci.org`, while the nodes and their respective information are preserved, the edges have differing amounts of information returned.  The query to `automat.renci.org` gets most of the edge properties except for the edge predicate and subject/object nodes, thus directionality.  The query to `robokopkg.renci.org` returns the opposite, where the edge predicate is solely returned with no edge properties, which makes the returned information appear redundant."
   ]
  },
  {
   "cell_type": "code",
   "execution_count": null,
   "id": "2dacea98",
   "metadata": {},
   "outputs": [],
   "source": [
    "cypher_exemplar = \"MATCH (n0_0:`biolink:ChemicalEntity`)-[r0_0]-(n1_0:`biolink:Gene`)-[r1_0]-(n2_0:`biolink:DiseaseOrPhenotypicFeature`) WHERE n0_0.name IN ['Buprenorphine'] AND n2_0.name IN ['Tremor'] RETURN * LIMIT 100\""
   ]
  },
  {
   "cell_type": "code",
   "execution_count": null,
   "id": "14650fb3",
   "metadata": {},
   "outputs": [],
   "source": [
    "import pprint\n",
    "pp = pprint.PrettyPrinter(indent=5)"
   ]
  },
  {
   "cell_type": "code",
   "execution_count": null,
   "id": "e9993359",
   "metadata": {},
   "outputs": [],
   "source": [
    "import requests\n",
    "import json\n",
    "\n",
    "j = {'query': cypher_exemplar}\n",
    "results = requests.post('https://automat.renci.org/robokopkg/cypher',json=j)\n",
    "results_json = results.json()"
   ]
  },
  {
   "cell_type": "code",
   "execution_count": null,
   "id": "17d8428d",
   "metadata": {},
   "outputs": [],
   "source": [
    "print(\"Query to automat.renci.org\")\n",
    "i = 0\n",
    "for result in results_json['results'][0]['data']:\n",
    "    #j = 0\n",
    "    i = i + 1\n",
    "    n1 = result['row'][0].get('name') or \"NOT FOUND\"\n",
    "    n2 = result['row'][1].get('name') or \"NOT FOUND\"\n",
    "    n3 = result['row'][2].get('name') or \"NOT FOUND\"\n",
    "    e1 = result['row'][3].get('qualified_predicate') or \"NOT FOUND\"\n",
    "    e2 = result['row'][4].get('qualified_predicate') or \"NOT FOUND\"\n",
    "    print(f\"Result {i}\")\n",
    "    print(f\"{n1} -> {e1} -> {n2} -> {e2} -> {n3}\")\n",
    "    print(f\"Edge 1 info: {result['row'][3]}\")\n",
    "    print(f\"Edge 2 info: {result['row'][4]}\\n\")\n",
    "    "
   ]
  },
  {
   "cell_type": "code",
   "execution_count": null,
   "id": "9dd9e20f",
   "metadata": {},
   "outputs": [],
   "source": [
    "pw = ''\n",
    "conn = Neo4jConnection(uri=\"bolt://robokopkg.renci.org:7687\", user = 'neo4j', pwd = pw)\n",
    "record_list = conn.query(cypher_exemplar)"
   ]
  },
  {
   "cell_type": "code",
   "execution_count": null,
   "id": "12387585",
   "metadata": {},
   "outputs": [],
   "source": [
    "import os\n",
    "\n",
    "print(\"Query to robokopkg.renci.org\")\n",
    "\n",
    "i = 0\n",
    "for record in record_list: \n",
    "    i = i + 1\n",
    "    record_data = record.data()\n",
    "    \n",
    "    print(f\"Result {i}:\")\n",
    "    for label, data in record_data.items():\n",
    "        if 'r' in label:\n",
    "            print(f\"{data[0]['name']} - {data[1]} - {data[2]['name']}\")\n",
    "    print()"
   ]
  },
  {
   "cell_type": "markdown",
   "id": "563a98e2",
   "metadata": {},
   "source": [
    "To summarize, we encountered issues with using the notation \"RETURN \\*\", mainly because this is not specific with what to return.  Queries to `automat` return edge properties, not including direction or predicates, but queries to `robokopkg.renci.org` return the direction and predicates, not including edge properties.  Above, for `robokopkg.renci.org`, it appears as if results 1 & 5, 2 & 6, 3 & 7, and 4 & 8 are duplicates of each other, while for `automat.renci.org`, edge predicates are missing.  We replaced the \"\\*\" with a format to get node pairs and specific relationship information, including the type and properties.  This is demonstrated in the sections [Cypher - robokopkg.renci.org](#Cypher---robokopkg.renci.org) and [Cypher - automat.renci.org](#Cypher---automat.renci.org)"
   ]
  },
  {
   "cell_type": "code",
   "execution_count": null,
   "id": "4f6bda68",
   "metadata": {},
   "outputs": [],
   "source": []
  }
 ],
 "metadata": {
  "kernelspec": {
   "display_name": "Python 3 (ipykernel)",
   "language": "python",
   "name": "python3"
  },
  "language_info": {
   "codemirror_mode": {
    "name": "ipython",
    "version": 3
   },
   "file_extension": ".py",
   "mimetype": "text/x-python",
   "name": "python",
   "nbconvert_exporter": "python",
   "pygments_lexer": "ipython3",
   "version": "3.8.10"
  }
 },
 "nbformat": 4,
 "nbformat_minor": 5
}
