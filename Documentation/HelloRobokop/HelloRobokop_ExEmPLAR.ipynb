{
 "cells": [
  {
   "cell_type": "code",
   "execution_count": 1,
   "id": "e08945f3",
   "metadata": {},
   "outputs": [],
   "source": [
    "import requests\n",
    "import json"
   ]
  },
  {
   "cell_type": "code",
   "execution_count": 2,
   "id": "766ccb76",
   "metadata": {},
   "outputs": [],
   "source": [
    "import pprint\n",
    "pp = pprint.PrettyPrinter(indent=5)"
   ]
  },
  {
   "cell_type": "markdown",
   "id": "4d69d754",
   "metadata": {
    "tags": []
   },
   "source": [
    "## Intro to ExEmPLAR"
   ]
  },
  {
   "cell_type": "markdown",
   "id": "8e6136ec",
   "metadata": {},
   "source": [
    "ExEmPLAR (https://www.exemplar.mml.unc.edu/) is an additional GUI-based tool that uses Cypher to explore the ROBOKOP KG. More information on the use of this tool is available here: https://github.com/beasleyjonm/AOP-COP-Path-Extractor. Start and End Nodes can be specified by type and have multiple terms specified.  The labels applied to the Start and End Nodes can be checked against the KG for presence or absence.  Additionally, the number of nodes in-between can be specified along with edge types.  By default, a query from ExEmPLAR will return a collapsed version of edge results. This behavior can be changed by clicking the \"Get Result Metadata\" checkbox. Note that directionality is not preserved in the query results, but the orientation of the nodes are preserved.  For example, `Buprenorphine` - `CYP2D6` - `Tremor` will be returned with edge labels, but not which direction the edge applies.\n",
    "\n",
    "Using the same `Buprenorphine` - `Gene` - `Tremor` example as above, three rows are returned.  These are in a collapsed form of the results from queries to `robokopkg.renci.org` above, summarized below.\n",
    " - `Buprenorphine` - `affects` - `CYP2D6`\n",
    " - `Buprenorphine` - `directly physically interacts with` - `CYP2D6`\n",
    " - `Buprenorphine` - `regulates` - `CYP2D6`\n",
    " - `CYP2D6` - `genetic association` - `Tremor`"
   ]
  },
  {
   "cell_type": "markdown",
   "id": "c98d9446",
   "metadata": {},
   "source": [
    "## Cypher - robokopkg.renci.org"
   ]
  },
  {
   "cell_type": "markdown",
   "id": "f0de52be",
   "metadata": {
    "tags": []
   },
   "source": [
    "The ExEmPLAR tool uses a separate access point to ROBOKOP at `robokopkg.renci.org` as compared to the method outlined in `HelloRobokop_Cypher.ipynb`.  A cypher query here is sent to http://robokopkg.renci.org using the bolt protocol.  After defining the helper Neo4jConnection class, the query is sent and results can be extracted below."
   ]
  },
  {
   "cell_type": "code",
   "execution_count": 3,
   "id": "c028f2de",
   "metadata": {},
   "outputs": [],
   "source": [
    "# Buprenorphine -> [Gene] -> Tremor\n",
    "cypher = f\"\"\"MATCH (n0_0:`biolink:ChemicalEntity`)-[r0_0]-(n1_0:`biolink:Gene`)-[r1_0]-(n2_0:`biolink:DiseaseOrPhenotypicFeature`)\n",
    "WHERE n0_0.name IN ['Buprenorphine'] AND n2_0.name IN ['Tremor']\n",
    "RETURN [startNode(r0_0),[type(r0_0),properties(r0_0)],endNode(r0_0)] as edge_1,\n",
    "[startNode(r1_0),[type(r1_0),properties(r1_0)],endNode(r1_0)] as edge_2,\n",
    "[n0_0.name, n1_0.name, n2_0.name] as node_names LIMIT 100\"\"\""
   ]
  },
  {
   "cell_type": "code",
   "execution_count": 4,
   "id": "0f99b3e8",
   "metadata": {},
   "outputs": [],
   "source": [
    "from neo4j import GraphDatabase\n",
    "class Neo4jConnection:\n",
    "    \n",
    "    def __init__(self, uri, user, pwd):\n",
    "        self.__uri = uri\n",
    "        self.__user = user\n",
    "        self.__pwd = pwd\n",
    "        self.__driver = None\n",
    "        try:\n",
    "            self.__driver = GraphDatabase.driver(self.__uri, auth=(self.__user, self.__pwd))\n",
    "        except Exception as e:\n",
    "            print(\"Failed to create the driver:\", e)\n",
    "        \n",
    "    def close(self):\n",
    "        if self.__driver is not None:\n",
    "            self.__driver.close()\n",
    "        \n",
    "    def query(self, query, db=None):\n",
    "        assert self.__driver is not None, \"Driver not initialized!\"\n",
    "        session = None\n",
    "        response = None\n",
    "        try: \n",
    "            session = self.__driver.session(database=db) if db is not None else self.__driver.session()\n",
    "            response = list(session.run(query))\n",
    "        except Exception as e:\n",
    "            print(\"Query failed:\", e)\n",
    "        finally: \n",
    "            if session is not None:\n",
    "                session.close()\n",
    "        return response"
   ]
  },
  {
   "cell_type": "code",
   "execution_count": 5,
   "id": "0cd07b8f",
   "metadata": {},
   "outputs": [],
   "source": [
    "pw = ''\n",
    "conn = Neo4jConnection(uri=\"bolt://robokopkg.renci.org:7687\", user = 'neo4j', pwd = pw)\n",
    "record_list = conn.query(cypher)"
   ]
  },
  {
   "cell_type": "code",
   "execution_count": 6,
   "id": "e9f9d1b2",
   "metadata": {},
   "outputs": [],
   "source": [
    "from datetime import datetime\n",
    "from pathlib import Path\n",
    "\n",
    "now = datetime.now()\n",
    "dt_string = now.strftime(\"%Y-%m-%d_%H%M%S\")\n",
    "write_dir = Path(\"output/Cypher_robokopkg\",str(dt_string))\n",
    "write_dir.mkdir(parents=True, exist_ok=True)"
   ]
  },
  {
   "cell_type": "markdown",
   "id": "02dc21f4",
   "metadata": {},
   "source": [
    "\n",
    "A list of records is returned from the query. The structure of each record is defined by the `RETURN` section of the query above.\n",
    "```\n",
    "<Record edge_1=[<Node element containing properties for first node of r0_0>,\n",
    "                 [list containing the type and properties for the edge],\n",
    "                 <Node element containing properties for second node of r0_0>]\n",
    "         edge_2=[<Node element containing properties for first node of r1_0>,\n",
    "                 [list containing the type and properties for the edge],\n",
    "                 <Node element containing properties for second node of r1_0>]\n",
    "         node_names=[list of node names]>\n",
    "```"
   ]
  },
  {
   "cell_type": "code",
   "execution_count": 7,
   "id": "2aec8c80",
   "metadata": {},
   "outputs": [
    {
     "name": "stdout",
     "output_type": "stream",
     "text": [
      "<Record edge_1=[<Node element_id='8421444' labels=frozenset({'biolink:NamedThing', 'biolink:ChemicalEntity', 'biolink:PhysicalEssenceOrOccurrent', 'biolink:MolecularEntity', 'biolink:ChemicalEntityOrProteinOrPolypeptide', 'biolink:ChemicalOrDrugOrTreatment', 'biolink:ChemicalEntityOrGeneOrGeneProduct', 'biolink:SmallMolecule', 'biolink:PhysicalEssence', 'biolink:Entity'}) properties={'CHEBI_ROLE_delta_opioid_agent': True, 'smiles': 'CO[C@]12CC[C@@]3(C[C@@H]1[C@](C)(O)C(C)(C)C)[C@H]1CC4=CC=C(O)C5=C4[C@@]3(CCN1CC1CC1)[C@H]2O5', 'description': 'A morphinane alkaloid that is 7,8-dihydromorphine 6-O-methyl ether in which positions 6 and 14 are joined by a -CH2CH2- bridge, one of the hydrogens of the N-methyl group is substituted by cyclopropyl, and a hydrogen at position 7 is substituted by a 2-hydroxy-3,3-dimethylbutan-2-yl group. It is highly effective for the treatment of opioid use disorder and is also increasingly being used in the treatment of chronic pain.', 'fda_labels': 74, 'rgb': 28, 'CHEBI_ROLE_analgesic': True, 'CHEBI_ROLE_opioid_agent': True, 'sp2_c': 0, 'sp3_c': 23, 'CHEBI_ROLE_antagonist': True, 'CHEBI_ROLE_agonist': True, 'CHEBI_ROLE_opioid_analgesic': True, 'cd_formula': 'C29H41NO4', 'alogs': -4.44, 'CHEBI_ROLE_opioid_receptor_agonist': True, 'id': 'PUBCHEM.COMPOUND:644073', 'CHEBI_ROLE_drug': True, 'CHEBI_ROLE_neurotransmitter_agent': True, 'lipinski': 0, 'rotb': 5, 'o_n': 5, 'halogen': 0, 'CHEBI_ROLE_mu_opioid_agent': True, 'cd_molweight': 467.65, 'CHEBI_ROLE_delta_opioid_receptor_antagonist': True, 'CHEBI_ROLE_pharmaceutical': True, 'clogp': 3.99, 'oh_nh': 2, 'hetero_sp2_c': 0, 'equivalent_identifiers': ['GTOPDB:1670', 'CAS:52485-79-7', 'INCHIKEY:RMRJXGBAOAMLHD-IHFGGWKQSA-N', 'CHEBI:3216', 'CHEMBL.COMPOUND:CHEMBL560511', 'HMDB:HMDB0015057', 'UNII:40D3SCR4GZ', 'KEGG.COMPOUND:C08007', 'DrugCentral:434', 'DRUGBANK:DB00921', 'PUBCHEM.COMPOUND:644073', 'MESH:D002047', 'UMLS:C0006405'], 'CHEBI_ROLE_kappa_opioid_receptor_antagonist': True, 'arom_c': 6, 'CHEBI_ROLE_pharmacological_role': True, 'sp_c': 0, 'mrdef': 'A derivative of the opioid alkaloid THEBAINE that is a more potent and longer lasting analgesic than MORPHINE. It appears to act as a partial agonist at mu and kappa opioid receptors and as an antagonist at delta receptors. The lack of delta-agonist activity has been suggested to account for the observation that buprenorphine tolerance may not develop with chronic use.', 'name': 'Buprenorphine', 'CHEBI_ROLE_kappa_opioid_agent': True, 'CHEBI_ROLE_mu_opioid_receptor_agonist': True, 'tpsa': 62.16, 'CHEBI_ROLE_opioid_receptor_antagonist': True, 'information_content': 100.0, 'status': 'OFP'}>, ['biolink:affects', {'object_direction_qualifier': 'decreased', 'qualified_predicate': 'biolink:causes', 'biolink:primary_knowledge_source': 'infores:ctd', 'description': 'decreases activity of', 'NCBITaxon': '9606', 'object_aspect_qualifier': 'activity', 'publications': ['PMID:12756210']}], <Node element_id='5316835' labels=frozenset({'biolink:PhysicalEssenceOrOccurrent', 'biolink:Protein', 'biolink:ChemicalEntityOrProteinOrPolypeptide', 'biolink:ThingWithTaxon', 'biolink:MacromolecularMachineMixin', 'biolink:ChemicalEntityOrGeneOrGeneProduct', 'biolink:GeneProductMixin', 'biolink:PhysicalEssence', 'biolink:Entity', 'biolink:Polypeptide', 'biolink:NamedThing', 'biolink:Gene', 'biolink:GenomicEntity', 'biolink:BiologicalEntity', 'biolink:OntologyClass', 'biolink:GeneOrGeneProduct'}) properties={'symbol': 'CYP2D6', 'locus_group': 'protein-coding gene', 'name': 'CYP2D6', 'location': '22q13.2', 'taxon': 'NCBITaxon:9606', 'id': 'NCBIGene:1565', 'NCBITaxon': '9606', 'equivalent_identifiers': ['ENSEMBL:ENSP00000483677', 'UMLS:C1332830', 'UniProtKB:Q5Y7H2', 'UMLS:C3887685', 'OMIM:124030', 'NCBIGene:1565', 'UniProtKB:P10635', 'UniProtKB:C1ID52', 'ENSEMBL:ENSG00000100197', 'PR:P10635', 'ENSEMBL:ENSP00000483677.1', 'HGNC:2625']}>] edge_2=[<Node element_id='5316835' labels=frozenset({'biolink:PhysicalEssenceOrOccurrent', 'biolink:Protein', 'biolink:ChemicalEntityOrProteinOrPolypeptide', 'biolink:ThingWithTaxon', 'biolink:MacromolecularMachineMixin', 'biolink:ChemicalEntityOrGeneOrGeneProduct', 'biolink:GeneProductMixin', 'biolink:PhysicalEssence', 'biolink:Entity', 'biolink:Polypeptide', 'biolink:NamedThing', 'biolink:Gene', 'biolink:GenomicEntity', 'biolink:BiologicalEntity', 'biolink:OntologyClass', 'biolink:GeneOrGeneProduct'}) properties={'symbol': 'CYP2D6', 'locus_group': 'protein-coding gene', 'name': 'CYP2D6', 'location': '22q13.2', 'taxon': 'NCBITaxon:9606', 'id': 'NCBIGene:1565', 'NCBITaxon': '9606', 'equivalent_identifiers': ['ENSEMBL:ENSP00000483677', 'UMLS:C1332830', 'UniProtKB:Q5Y7H2', 'UMLS:C3887685', 'OMIM:124030', 'NCBIGene:1565', 'UniProtKB:P10635', 'UniProtKB:C1ID52', 'ENSEMBL:ENSG00000100197', 'PR:P10635', 'ENSEMBL:ENSP00000483677.1', 'HGNC:2625']}>, ['biolink:genetic_association', {'score': 0.3, 'biolink:primary_knowledge_source': 'infores:disgenet', 'biolink:aggregator_knowledge_source': ['infores:pharos']}], <Node element_id='5171187' labels=frozenset({'biolink:ThingWithTaxon', 'biolink:NamedThing', 'biolink:PhenotypicFeature', 'biolink:BiologicalEntity', 'biolink:Entity', 'biolink:DiseaseOrPhenotypicFeature'}) properties={'name': 'Tremor', 'description': 'An unintentional, oscillating to-and-fro muscle movement about a joint axis.', 'id': 'HP:0001337', 'equivalent_identifiers': ['UMLS:C1527384', 'NCIT:C38038', 'MEDDRA:10044562', 'SNOMEDCT:26079004', 'HP:0001337', 'MEDDRA:10044563', 'SNOMEDCT:267079009', 'MESH:D014202', 'UMLS:C0040822', 'MEDDRA:10040528', 'MEDDRA:10044565', 'UMLS:C0234369']}>] node_names=['Buprenorphine', 'CYP2D6', 'Tremor']>\n"
     ]
    }
   ],
   "source": [
    "record = record_list[0]\n",
    "print(record)"
   ]
  },
  {
   "cell_type": "markdown",
   "id": "d49884ab",
   "metadata": {},
   "source": [
    "The data can be accessed using the data() method. Known keys can be passed to data(), but leaving it blank will return everything as a Dictionary. Data in records are returned with keys based on the original query labels. "
   ]
  },
  {
   "cell_type": "code",
   "execution_count": 8,
   "id": "8dc4eca8",
   "metadata": {},
   "outputs": [
    {
     "name": "stdout",
     "output_type": "stream",
     "text": [
      "{    'edge_1': [    {    'CHEBI_ROLE_agonist': True,\n",
      "                         'CHEBI_ROLE_analgesic': True,\n",
      "                         'CHEBI_ROLE_antagonist': True,\n",
      "                         'CHEBI_ROLE_delta_opioid_agent': True,\n",
      "                         'CHEBI_ROLE_delta_opioid_receptor_antagonist': True,\n",
      "                         'CHEBI_ROLE_drug': True,\n",
      "                         'CHEBI_ROLE_kappa_opioid_agent': True,\n",
      "                         'CHEBI_ROLE_kappa_opioid_receptor_antagonist': True,\n",
      "                         'CHEBI_ROLE_mu_opioid_agent': True,\n",
      "                         'CHEBI_ROLE_mu_opioid_receptor_agonist': True,\n",
      "                         'CHEBI_ROLE_neurotransmitter_agent': True,\n",
      "                         'CHEBI_ROLE_opioid_agent': True,\n",
      "                         'CHEBI_ROLE_opioid_analgesic': True,\n",
      "                         'CHEBI_ROLE_opioid_receptor_agonist': True,\n",
      "                         'CHEBI_ROLE_opioid_receptor_antagonist': True,\n",
      "                         'CHEBI_ROLE_pharmaceutical': True,\n",
      "                         'CHEBI_ROLE_pharmacological_role': True,\n",
      "                         'alogs': -4.44,\n",
      "                         'arom_c': 6,\n",
      "                         'cd_formula': 'C29H41NO4',\n",
      "                         'cd_molweight': 467.65,\n",
      "                         'clogp': 3.99,\n",
      "                         'description': 'A morphinane alkaloid that is '\n",
      "                                        '7,8-dihydromorphine 6-O-methyl ether '\n",
      "                                        'in which positions 6 and 14 are '\n",
      "                                        'joined by a -CH2CH2- bridge, one of '\n",
      "                                        'the hydrogens of the N-methyl group '\n",
      "                                        'is substituted by cyclopropyl, and a '\n",
      "                                        'hydrogen at position 7 is substituted '\n",
      "                                        'by a 2-hydroxy-3,3-dimethylbutan-2-yl '\n",
      "                                        'group. It is highly effective for the '\n",
      "                                        'treatment of opioid use disorder and '\n",
      "                                        'is also increasingly being used in '\n",
      "                                        'the treatment of chronic pain.',\n",
      "                         'equivalent_identifiers': [    'GTOPDB:1670',\n",
      "                                                        'CAS:52485-79-7',\n",
      "                                                        'INCHIKEY:RMRJXGBAOAMLHD-IHFGGWKQSA-N',\n",
      "                                                        'CHEBI:3216',\n",
      "                                                        'CHEMBL.COMPOUND:CHEMBL560511',\n",
      "                                                        'HMDB:HMDB0015057',\n",
      "                                                        'UNII:40D3SCR4GZ',\n",
      "                                                        'KEGG.COMPOUND:C08007',\n",
      "                                                        'DrugCentral:434',\n",
      "                                                        'DRUGBANK:DB00921',\n",
      "                                                        'PUBCHEM.COMPOUND:644073',\n",
      "                                                        'MESH:D002047',\n",
      "                                                        'UMLS:C0006405'],\n",
      "                         'fda_labels': 74,\n",
      "                         'halogen': 0,\n",
      "                         'hetero_sp2_c': 0,\n",
      "                         'id': 'PUBCHEM.COMPOUND:644073',\n",
      "                         'information_content': 100.0,\n",
      "                         'lipinski': 0,\n",
      "                         'mrdef': 'A derivative of the opioid alkaloid '\n",
      "                                  'THEBAINE that is a more potent and longer '\n",
      "                                  'lasting analgesic than MORPHINE. It appears '\n",
      "                                  'to act as a partial agonist at mu and kappa '\n",
      "                                  'opioid receptors and as an antagonist at '\n",
      "                                  'delta receptors. The lack of delta-agonist '\n",
      "                                  'activity has been suggested to account for '\n",
      "                                  'the observation that buprenorphine '\n",
      "                                  'tolerance may not develop with chronic use.',\n",
      "                         'name': 'Buprenorphine',\n",
      "                         'o_n': 5,\n",
      "                         'oh_nh': 2,\n",
      "                         'rgb': 28,\n",
      "                         'rotb': 5,\n",
      "                         'smiles': 'CO[C@]12CC[C@@]3(C[C@@H]1[C@](C)(O)C(C)(C)C)[C@H]1CC4=CC=C(O)C5=C4[C@@]3(CCN1CC1CC1)[C@H]2O5',\n",
      "                         'sp2_c': 0,\n",
      "                         'sp3_c': 23,\n",
      "                         'sp_c': 0,\n",
      "                         'status': 'OFP',\n",
      "                         'tpsa': 62.16},\n",
      "                    [    'biolink:affects',\n",
      "                         {    'NCBITaxon': '9606',\n",
      "                              'biolink:primary_knowledge_source': 'infores:ctd',\n",
      "                              'description': 'decreases activity of',\n",
      "                              'object_aspect_qualifier': 'activity',\n",
      "                              'object_direction_qualifier': 'decreased',\n",
      "                              'publications': ['PMID:12756210'],\n",
      "                              'qualified_predicate': 'biolink:causes'}],\n",
      "                    {    'NCBITaxon': '9606',\n",
      "                         'equivalent_identifiers': [    'ENSEMBL:ENSP00000483677',\n",
      "                                                        'UMLS:C1332830',\n",
      "                                                        'UniProtKB:Q5Y7H2',\n",
      "                                                        'UMLS:C3887685',\n",
      "                                                        'OMIM:124030',\n",
      "                                                        'NCBIGene:1565',\n",
      "                                                        'UniProtKB:P10635',\n",
      "                                                        'UniProtKB:C1ID52',\n",
      "                                                        'ENSEMBL:ENSG00000100197',\n",
      "                                                        'PR:P10635',\n",
      "                                                        'ENSEMBL:ENSP00000483677.1',\n",
      "                                                        'HGNC:2625'],\n",
      "                         'id': 'NCBIGene:1565',\n",
      "                         'location': '22q13.2',\n",
      "                         'locus_group': 'protein-coding gene',\n",
      "                         'name': 'CYP2D6',\n",
      "                         'symbol': 'CYP2D6',\n",
      "                         'taxon': 'NCBITaxon:9606'}],\n",
      "     'edge_2': [    {    'NCBITaxon': '9606',\n",
      "                         'equivalent_identifiers': [    'ENSEMBL:ENSP00000483677',\n",
      "                                                        'UMLS:C1332830',\n",
      "                                                        'UniProtKB:Q5Y7H2',\n",
      "                                                        'UMLS:C3887685',\n",
      "                                                        'OMIM:124030',\n",
      "                                                        'NCBIGene:1565',\n",
      "                                                        'UniProtKB:P10635',\n",
      "                                                        'UniProtKB:C1ID52',\n",
      "                                                        'ENSEMBL:ENSG00000100197',\n",
      "                                                        'PR:P10635',\n",
      "                                                        'ENSEMBL:ENSP00000483677.1',\n",
      "                                                        'HGNC:2625'],\n",
      "                         'id': 'NCBIGene:1565',\n",
      "                         'location': '22q13.2',\n",
      "                         'locus_group': 'protein-coding gene',\n",
      "                         'name': 'CYP2D6',\n",
      "                         'symbol': 'CYP2D6',\n",
      "                         'taxon': 'NCBITaxon:9606'},\n",
      "                    [    'biolink:genetic_association',\n",
      "                         {    'biolink:aggregator_knowledge_source': [    'infores:pharos'],\n",
      "                              'biolink:primary_knowledge_source': 'infores:disgenet',\n",
      "                              'score': 0.3}],\n",
      "                    {    'description': 'An unintentional, oscillating '\n",
      "                                        'to-and-fro muscle movement about a '\n",
      "                                        'joint axis.',\n",
      "                         'equivalent_identifiers': [    'UMLS:C1527384',\n",
      "                                                        'NCIT:C38038',\n",
      "                                                        'MEDDRA:10044562',\n",
      "                                                        'SNOMEDCT:26079004',\n",
      "                                                        'HP:0001337',\n",
      "                                                        'MEDDRA:10044563',\n",
      "                                                        'SNOMEDCT:267079009',\n",
      "                                                        'MESH:D014202',\n",
      "                                                        'UMLS:C0040822',\n",
      "                                                        'MEDDRA:10040528',\n",
      "                                                        'MEDDRA:10044565',\n",
      "                                                        'UMLS:C0234369'],\n",
      "                         'id': 'HP:0001337',\n",
      "                         'name': 'Tremor'}],\n",
      "     'node_names': ['Buprenorphine', 'CYP2D6', 'Tremor']}\n"
     ]
    }
   ],
   "source": [
    "record_data = record.data()\n",
    "pp.pprint(record_data)"
   ]
  },
  {
   "cell_type": "markdown",
   "id": "7814532e",
   "metadata": {},
   "source": [
    "Results are extracted and stored in the format of subject -> predicate -> object, followed by the remaining edge properties. Including the edge properties helps to distinguish edges that may have the same predicates. Unique entries are appended to a list, counted, and then written to a text file.\n",
    "\n",
    "The code below extracts results based on the structure of the original cypher query in the section above.  Any changes to the `RETURN` part of the query will require adjustments to the code below."
   ]
  },
  {
   "cell_type": "code",
   "execution_count": 9,
   "id": "48a1e58c",
   "metadata": {},
   "outputs": [
    {
     "name": "stdout",
     "output_type": "stream",
     "text": [
      "Buprenorphine_CYP2D6_Tremor\n",
      "{    'edge_1 - Buprenorphine -> biolink:affects -> CYP2D6': 1,\n",
      "     'edge_1 - Buprenorphine -> biolink:directly_physically_interacts_with -> CYP2D6': 1,\n",
      "     'edge_1 - Buprenorphine -> biolink:regulates -> CYP2D6': 1,\n",
      "     'edge_1 - CYP2D6 -> biolink:affects -> Buprenorphine': 1,\n",
      "     'edge_2 - CYP2D6 -> biolink:genetic_association -> Tremor': 2}\n"
     ]
    }
   ],
   "source": [
    "import os\n",
    "from collections import Counter\n",
    "\n",
    "string_out_list = []\n",
    "for record in record_list: \n",
    "    record_data = record.data()\n",
    "    #only grab the edge information and skip the list of node names\n",
    "    record_data_first2 = {k: record_data[k] for k in list(record_data)[:2]}\n",
    "    for label, data in record_data_first2.items():\n",
    "        string_out = f\"{label} - {data[0]['name']} -> {data[1][0]} -> {data[2]['name']}||{data[1][1]}\"\n",
    "        # print(f\"{data[0]['name']} -> {data[1][0]} -> {data[2]['name']}\")\n",
    "        # print(f\"Edge properties: {data[1][1]}\")\n",
    "        if string_out not in string_out_list:\n",
    "            string_out_list.append(string_out)\n",
    "\n",
    "combined_node_list = \"_\".join(list(record_list[0].data('node_names').values())[0])\n",
    "print(combined_node_list)\n",
    "\n",
    "string_out_list = [i.split('||', 1)[0] for i in string_out_list]\n",
    "\n",
    "string_out_dict = dict(Counter(string_out_list).items())\n",
    "pp.pprint(string_out_dict)"
   ]
  },
  {
   "cell_type": "markdown",
   "id": "d1a3ada4",
   "metadata": {},
   "source": [
    "Writing results below after confirming that the output looks good."
   ]
  },
  {
   "cell_type": "code",
   "execution_count": 10,
   "id": "abef16ae",
   "metadata": {},
   "outputs": [],
   "source": [
    "with open(os.path.join(write_dir,combined_node_list+\".txt\"), 'w') as convert_file:\n",
    "    convert_file.write(json.dumps(string_out_dict))"
   ]
  },
  {
   "cell_type": "markdown",
   "id": "6ab7f6c5",
   "metadata": {},
   "source": [
    "Close the Cypher connection when finished."
   ]
  },
  {
   "cell_type": "code",
   "execution_count": 11,
   "id": "9a9a8a30",
   "metadata": {},
   "outputs": [],
   "source": [
    "conn.close()"
   ]
  },
  {
   "cell_type": "markdown",
   "id": "ab801d2c",
   "metadata": {
    "tags": []
   },
   "source": [
    "## ExEmPLAR - RETURN * notation"
   ]
  },
  {
   "cell_type": "markdown",
   "id": "cbb7feab",
   "metadata": {},
   "source": [
    "ExEmPLAR also has a `Copy` tool that generates cypher queries after setting up a query pattern.  An example using the copied pre-genereated cypher query to each of `automat.renci.org` and `robokopkg.renci.org` is below.  This can be useful for setting up an initial Cypher query if a user is not familiar with writing in Cypher.\n",
    "\n",
    "The difficulty faced with the copied query is that \"RETURN \\*\" is not specific with the structures given back.  In the queries to `automat.renci.org` and `robokopkg.renci.org`, while the nodes and their respective information are preserved, the edges have differing amounts of information returned.  The query to `automat.renci.org` gets most of the edge properties except for the edge predicate and subject/object nodes, thus directionality.  The query to `robokopkg.renci.org` returns the opposite, where the edge predicate is solely returned with no edge properties, which makes the returned information appear redundant."
   ]
  },
  {
   "cell_type": "code",
   "execution_count": 12,
   "id": "321cf3d9",
   "metadata": {},
   "outputs": [],
   "source": [
    "cypher_exemplar = \"MATCH (n0_0:`biolink:ChemicalEntity`)-[r0_0]-(n1_0:`biolink:Gene`)-[r1_0]-(n2_0:`biolink:DiseaseOrPhenotypicFeature`) WHERE n0_0.name IN ['Buprenorphine'] AND n2_0.name IN ['Tremor'] RETURN * LIMIT 100\""
   ]
  },
  {
   "cell_type": "code",
   "execution_count": 13,
   "id": "0a93074e",
   "metadata": {},
   "outputs": [],
   "source": [
    "import pprint\n",
    "pp = pprint.PrettyPrinter(indent=5)"
   ]
  },
  {
   "cell_type": "code",
   "execution_count": 14,
   "id": "ef8fd7bb",
   "metadata": {},
   "outputs": [],
   "source": [
    "import requests\n",
    "import json\n",
    "\n",
    "j = {'query': cypher_exemplar}\n",
    "results = requests.post('https://automat.renci.org/robokopkg/cypher',json=j)\n",
    "results_json = results.json()"
   ]
  },
  {
   "cell_type": "code",
   "execution_count": 15,
   "id": "00a244da",
   "metadata": {},
   "outputs": [
    {
     "name": "stdout",
     "output_type": "stream",
     "text": [
      "Query to automat.renci.org\n",
      "Result 1\n",
      "Buprenorphine -> biolink:causes -> CYP2D6 -> NOT FOUND -> Tremor\n",
      "Edge 1 info: {'object_direction_qualifier': 'decreased', 'qualified_predicate': 'biolink:causes', 'biolink:primary_knowledge_source': 'infores:ctd', 'description': 'decreases activity of', 'NCBITaxon': '9606', 'object_aspect_qualifier': 'activity', 'publications': ['PMID:12756210']}\n",
      "Edge 2 info: {'score': 0.3, 'biolink:primary_knowledge_source': 'infores:disgenet', 'biolink:aggregator_knowledge_source': ['infores:pharos']}\n",
      "\n",
      "Result 2\n",
      "Buprenorphine -> biolink:causes -> CYP2D6 -> NOT FOUND -> Tremor\n",
      "Edge 1 info: {'object_direction_qualifier': 'increased', 'qualified_predicate': 'biolink:causes', 'biolink:primary_knowledge_source': 'infores:ctd', 'description': 'increases metabolic processing of', 'NCBITaxon': '9606', 'object_aspect_qualifier': 'metabolic_processing', 'publications': ['PMID:12756210']}\n",
      "Edge 2 info: {'score': 0.3, 'biolink:primary_knowledge_source': 'infores:disgenet', 'biolink:aggregator_knowledge_source': ['infores:pharos']}\n",
      "\n",
      "Result 3\n",
      "Buprenorphine -> NOT FOUND -> CYP2D6 -> NOT FOUND -> Tremor\n",
      "Edge 1 info: {'object_direction_qualifier': 'downregulated', 'sentences': 'Buprenorphine exhibited potent, competitive inhibition of CYP2D6 (Ki 10 +/- 2 microM and 1.8 +/- 0.2 microM) and CYP3A4 (Ki 40 +/- 1.6 microM and 19 +/- 1.2 microM) in microsomes from human liver and cDNA-expressing lymphoblasts, respectively.|PMID:12756210', 'biolink:primary_knowledge_source': 'infores:textminingkp', 'biolink:tmkp_confidence_score': '0.99969625', 'tmkp_ids': ['tmkp:12699a64cae70b20411935b5e5028d220ccbe4f7a0ad13a81978026cb43111bf'], 'publications': ['PMID:12756210']}\n",
      "Edge 2 info: {'score': 0.3, 'biolink:primary_knowledge_source': 'infores:disgenet', 'biolink:aggregator_knowledge_source': ['infores:pharos']}\n",
      "\n",
      "Result 4\n",
      "Buprenorphine -> NOT FOUND -> CYP2D6 -> NOT FOUND -> Tremor\n",
      "Edge 1 info: {'biolink:primary_knowledge_source': 'infores:hetionet', 'hetio_source': ['DrugBank (enzyme)']}\n",
      "Edge 2 info: {'score': 0.3, 'biolink:primary_knowledge_source': 'infores:disgenet', 'biolink:aggregator_knowledge_source': ['infores:pharos']}\n",
      "\n",
      "Result 5\n",
      "Buprenorphine -> biolink:causes -> CYP2D6 -> NOT FOUND -> Tremor\n",
      "Edge 1 info: {'object_direction_qualifier': 'decreased', 'qualified_predicate': 'biolink:causes', 'biolink:primary_knowledge_source': 'infores:ctd', 'description': 'decreases activity of', 'NCBITaxon': '9606', 'object_aspect_qualifier': 'activity', 'publications': ['PMID:12756210']}\n",
      "Edge 2 info: {'biolink:primary_knowledge_source': 'infores:ctd', 'biolink:aggregator_knowledge_source': ['infores:pharos']}\n",
      "\n",
      "Result 6\n",
      "Buprenorphine -> biolink:causes -> CYP2D6 -> NOT FOUND -> Tremor\n",
      "Edge 1 info: {'object_direction_qualifier': 'increased', 'qualified_predicate': 'biolink:causes', 'biolink:primary_knowledge_source': 'infores:ctd', 'description': 'increases metabolic processing of', 'NCBITaxon': '9606', 'object_aspect_qualifier': 'metabolic_processing', 'publications': ['PMID:12756210']}\n",
      "Edge 2 info: {'biolink:primary_knowledge_source': 'infores:ctd', 'biolink:aggregator_knowledge_source': ['infores:pharos']}\n",
      "\n",
      "Result 7\n",
      "Buprenorphine -> NOT FOUND -> CYP2D6 -> NOT FOUND -> Tremor\n",
      "Edge 1 info: {'object_direction_qualifier': 'downregulated', 'sentences': 'Buprenorphine exhibited potent, competitive inhibition of CYP2D6 (Ki 10 +/- 2 microM and 1.8 +/- 0.2 microM) and CYP3A4 (Ki 40 +/- 1.6 microM and 19 +/- 1.2 microM) in microsomes from human liver and cDNA-expressing lymphoblasts, respectively.|PMID:12756210', 'biolink:primary_knowledge_source': 'infores:textminingkp', 'biolink:tmkp_confidence_score': '0.99969625', 'tmkp_ids': ['tmkp:12699a64cae70b20411935b5e5028d220ccbe4f7a0ad13a81978026cb43111bf'], 'publications': ['PMID:12756210']}\n",
      "Edge 2 info: {'biolink:primary_knowledge_source': 'infores:ctd', 'biolink:aggregator_knowledge_source': ['infores:pharos']}\n",
      "\n",
      "Result 8\n",
      "Buprenorphine -> NOT FOUND -> CYP2D6 -> NOT FOUND -> Tremor\n",
      "Edge 1 info: {'biolink:primary_knowledge_source': 'infores:hetionet', 'hetio_source': ['DrugBank (enzyme)']}\n",
      "Edge 2 info: {'biolink:primary_knowledge_source': 'infores:ctd', 'biolink:aggregator_knowledge_source': ['infores:pharos']}\n",
      "\n"
     ]
    }
   ],
   "source": [
    "print(\"Query to automat.renci.org\")\n",
    "i = 0\n",
    "for result in results_json['results'][0]['data']:\n",
    "    i = i + 1\n",
    "    n1 = result['row'][0].get('name') or \"NOT FOUND\"\n",
    "    n2 = result['row'][1].get('name') or \"NOT FOUND\"\n",
    "    n3 = result['row'][2].get('name') or \"NOT FOUND\"\n",
    "    e1 = result['row'][3].get('qualified_predicate') or \"NOT FOUND\"\n",
    "    e2 = result['row'][4].get('qualified_predicate') or \"NOT FOUND\"\n",
    "    print(f\"Result {i}\")\n",
    "    print(f\"{n1} -> {e1} -> {n2} -> {e2} -> {n3}\")\n",
    "    print(f\"Edge 1 info: {result['row'][3]}\")\n",
    "    print(f\"Edge 2 info: {result['row'][4]}\\n\")\n",
    "    "
   ]
  },
  {
   "cell_type": "code",
   "execution_count": 16,
   "id": "96f112df",
   "metadata": {},
   "outputs": [],
   "source": [
    "pw = ''\n",
    "conn = Neo4jConnection(uri=\"bolt://robokopkg.renci.org:7687\", user = 'neo4j', pwd = pw)\n",
    "record_list = conn.query(cypher_exemplar)"
   ]
  },
  {
   "cell_type": "code",
   "execution_count": 17,
   "id": "88c90280",
   "metadata": {},
   "outputs": [
    {
     "name": "stdout",
     "output_type": "stream",
     "text": [
      "Query to robokopkg.renci.org\n",
      "Result 1:\n",
      "Buprenorphine - biolink:affects - CYP2D6\n",
      "CYP2D6 - biolink:genetic_association - Tremor\n",
      "\n",
      "Result 2:\n",
      "CYP2D6 - biolink:affects - Buprenorphine\n",
      "CYP2D6 - biolink:genetic_association - Tremor\n",
      "\n",
      "Result 3:\n",
      "Buprenorphine - biolink:regulates - CYP2D6\n",
      "CYP2D6 - biolink:genetic_association - Tremor\n",
      "\n",
      "Result 4:\n",
      "Buprenorphine - biolink:directly_physically_interacts_with - CYP2D6\n",
      "CYP2D6 - biolink:genetic_association - Tremor\n",
      "\n",
      "Result 5:\n",
      "Buprenorphine - biolink:affects - CYP2D6\n",
      "CYP2D6 - biolink:genetic_association - Tremor\n",
      "\n",
      "Result 6:\n",
      "CYP2D6 - biolink:affects - Buprenorphine\n",
      "CYP2D6 - biolink:genetic_association - Tremor\n",
      "\n",
      "Result 7:\n",
      "Buprenorphine - biolink:regulates - CYP2D6\n",
      "CYP2D6 - biolink:genetic_association - Tremor\n",
      "\n",
      "Result 8:\n",
      "Buprenorphine - biolink:directly_physically_interacts_with - CYP2D6\n",
      "CYP2D6 - biolink:genetic_association - Tremor\n",
      "\n"
     ]
    }
   ],
   "source": [
    "import os\n",
    "\n",
    "print(\"Query to robokopkg.renci.org\")\n",
    "\n",
    "i = 0\n",
    "for record in record_list: \n",
    "    i = i + 1\n",
    "    record_data = record.data()\n",
    "    \n",
    "    print(f\"Result {i}:\")\n",
    "    for label, data in record_data.items():\n",
    "        if 'r' in label:\n",
    "            print(f\"{data[0]['name']} - {data[1]} - {data[2]['name']}\")\n",
    "    print()"
   ]
  },
  {
   "cell_type": "markdown",
   "id": "c63bc84c",
   "metadata": {},
   "source": [
    "To summarize, we encountered issues with using the notation \"RETURN \\*\", mainly because this is not specific with what to return.  Queries to `automat` return edge properties, not including direction or predicates, but queries to `robokopkg.renci.org` return the direction and predicates, not including edge properties.  Above, for `robokopkg.renci.org`, it appears as if results 1 & 5, 2 & 6, 3 & 7, and 4 & 8 are duplicates of each other, while for `automat.renci.org`, edge predicates are missing.  We replaced the \"\\*\" with a format to get node pairs and specific relationship information, including the type and properties.  This is demonstrated in section [Cypher - robokopkg.renci.org](#Cypher---robokopkg.renci.org) in this notebook and in the HelloRobokop_Cypher notebook."
   ]
  },
  {
   "cell_type": "code",
   "execution_count": null,
   "id": "9416b9e0",
   "metadata": {},
   "outputs": [],
   "source": []
  }
 ],
 "metadata": {
  "kernelspec": {
   "display_name": "Python 3 (ipykernel)",
   "language": "python",
   "name": "python3"
  },
  "language_info": {
   "codemirror_mode": {
    "name": "ipython",
    "version": 3
   },
   "file_extension": ".py",
   "mimetype": "text/x-python",
   "name": "python",
   "nbconvert_exporter": "python",
   "pygments_lexer": "ipython3",
   "version": "3.8.10"
  }
 },
 "nbformat": 4,
 "nbformat_minor": 5
}
