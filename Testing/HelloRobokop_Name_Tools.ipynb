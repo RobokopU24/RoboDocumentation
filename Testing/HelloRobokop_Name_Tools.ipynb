{
 "cells": [
  {
   "cell_type": "code",
   "execution_count": null,
   "id": "c68d8a72-b9ae-4146-a123-60ede557226e",
   "metadata": {},
   "outputs": [],
   "source": [
    "# Parameters to set\n",
    "URL_node_normalizer = 'https://nodenormalization-sri.renci.org/get_normalized_nodes'\n",
    "CURIE_OPRM1_HGNC = \"HGNC:8156\"\n",
    "CURIE_OPRM1_NCBI = \"NCBIGene:4988\"\n",
    "CURIE_OPRM1_UMLS = \"UMLS:C1417965\"\n",
    "\n",
    "def URL_name_resolution_search(search_string):\n",
    "    return(f'https://name-resolution-sri.renci.org/lookup?string={search_string}&offset=0&limit=10')"
   ]
  },
  {
   "cell_type": "code",
   "execution_count": null,
   "id": "ca618d43",
   "metadata": {},
   "outputs": [],
   "source": [
    "import requests\n",
    "import json"
   ]
  },
  {
   "cell_type": "markdown",
   "id": "9eb41d41",
   "metadata": {},
   "source": [
    "There are two separate tools in this notebook that cover the conversion between `labels` and `IDs`, one for each direction.  The Name Resolver works by taking names and returning a set of related IDs, while the Node Normalizer takes IDs and returns names and other equivalent identifiers."
   ]
  },
  {
   "cell_type": "markdown",
   "id": "79b0bbb0",
   "metadata": {},
   "source": [
    "The name resolver is shown here.  The name-resolver: https://name-resolution-sri.renci.org/docs has a lookup function that can take a string and return potential identifiers.  Here, we look up the string `tremor`"
   ]
  },
  {
   "cell_type": "code",
   "execution_count": null,
   "id": "ffbf412b",
   "metadata": {},
   "outputs": [],
   "source": [
    "results = requests.post(URL_name_resolution_search('tremor')).json()"
   ]
  },
  {
   "cell_type": "code",
   "execution_count": null,
   "id": "f815d8b3",
   "metadata": {},
   "outputs": [],
   "source": [
    "print(json.dumps(results,indent=4))"
   ]
  },
  {
   "cell_type": "markdown",
   "id": "5cfd3341",
   "metadata": {},
   "source": [
    "The node normalizer (https://nodenormalization-sri.renci.org/docs) takes any CURIE as input and returns the preferred CURIE along with all other synonymous CURIES where the input CURIE is included. It also returns labels for the node, the biolink classes of the node, and often the information content of the node."
   ]
  },
  {
   "cell_type": "code",
   "execution_count": null,
   "id": "a3c6b4bd",
   "metadata": {},
   "outputs": [],
   "source": [
    "nn_query = {\n",
    "  \"curies\": [\n",
    "    CURIE_OPRM1_HGNC\n",
    "  ],\n",
    "  \"conflate\": True\n",
    "}\n",
    "results_nn_true = requests.post(URL_node_normalizer,json=nn_query)"
   ]
  },
  {
   "cell_type": "code",
   "execution_count": null,
   "id": "1a2f1026",
   "metadata": {},
   "outputs": [],
   "source": [
    "print(json.dumps(results_nn_true.json(),indent=4))"
   ]
  },
  {
   "cell_type": "markdown",
   "id": "d2c0861d",
   "metadata": {},
   "source": [
    "Note that when setting the `conflate` option to `True`, both gene and protein identifiers are included in the results.  When setting `conflate` to `False`, gene and protein identifiers are not merged together in the output.  In the run below, where `conflate` is `False`, only 5 entries are present in `equivalent_identifiers`."
   ]
  },
  {
   "cell_type": "code",
   "execution_count": null,
   "id": "2a3fad68",
   "metadata": {},
   "outputs": [],
   "source": [
    "nn_query = {\n",
    "  \"curies\": [\n",
    "    CURIE_OPRM1_HGNC\n",
    "  ],\n",
    "  \"conflate\": False\n",
    "}\n",
    "results_nn_false = requests.post(URL_node_normalizer,json=nn_query)"
   ]
  },
  {
   "cell_type": "code",
   "execution_count": null,
   "id": "62a73feb",
   "metadata": {},
   "outputs": [],
   "source": [
    "print(json.dumps(results_nn_false.json(),indent=4))"
   ]
  },
  {
   "cell_type": "code",
   "execution_count": null,
   "id": "76cd01f7",
   "metadata": {},
   "outputs": [],
   "source": [
    "nn_query = {\n",
    "  \"curies\": [\n",
    "    CURIE_OPRM1_NCBI,\n",
    "    CURIE_OPRM1_UMLS,\n",
    "    CURIE_OPRM1_HGNC\n",
    "  ],\n",
    "  \"conflate\": False\n",
    "}\n",
    "results_nn_multiple_inputs = requests.post(URL_node_normalizer,json=nn_query)"
   ]
  },
  {
   "cell_type": "code",
   "execution_count": null,
   "id": "63fe5dea-e553-4204-b319-8b546c1916b2",
   "metadata": {},
   "outputs": [],
   "source": [
    "results_json = results_nn_multiple_inputs.json()\n",
    "print(json.dumps(results_nn_multiple_inputs.json(),indent=4))"
   ]
  },
  {
   "cell_type": "code",
   "execution_count": null,
   "id": "4b1bb34c-dfcc-4eb2-9c5e-8e2e1f8a6b77",
   "metadata": {},
   "outputs": [],
   "source": [
    "for curie, result in results_json.items():\n",
    "    print(f\"CURIE: {curie}\")\n",
    "    print(f'Preferred ID: {result[\"id\"][\"identifier\"]}\\n')"
   ]
  },
  {
   "cell_type": "code",
   "execution_count": null,
   "id": "3661acb6-3fda-486e-90a9-15951cafea79",
   "metadata": {},
   "outputs": [],
   "source": [
    "id_list = []\n",
    "for curie, result in results_json.items():\n",
    "    if result['id']['identifier'] not in id_list:\n",
    "        id_list.append(result['id']['identifier'])\n",
    "        \n",
    "print(id_list)"
   ]
  },
  {
   "cell_type": "code",
   "execution_count": null,
   "id": "fc9f1e95-0cf8-4347-a994-2f87b3b34aef",
   "metadata": {},
   "outputs": [],
   "source": []
  }
 ],
 "metadata": {
  "kernelspec": {
   "display_name": "Python 3 (ipykernel)",
   "language": "python",
   "name": "python3"
  },
  "language_info": {
   "codemirror_mode": {
    "name": "ipython",
    "version": 3
   },
   "file_extension": ".py",
   "mimetype": "text/x-python",
   "name": "python",
   "nbconvert_exporter": "python",
   "pygments_lexer": "ipython3",
   "version": "3.8.10"
  }
 },
 "nbformat": 4,
 "nbformat_minor": 5
}
