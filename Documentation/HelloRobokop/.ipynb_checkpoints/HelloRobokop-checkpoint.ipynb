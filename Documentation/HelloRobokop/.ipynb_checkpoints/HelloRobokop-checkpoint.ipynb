{
 "cells": [
  {
   "cell_type": "code",
   "execution_count": 12,
   "metadata": {},
   "outputs": [],
   "source": [
    "# Parameter inputs\n",
    "trapi_submit_url = \"http://automat-u24.apps.renci.org/robokopkg/1.3/query\"\n",
    "automat_cypher_submit_url = 'https://automat.renci.org/robokopkg/cypher'\n",
    "CURIE_buprenorphine_PubChem = \"PUBCHEM.COMPOUND:644073\"\n",
    "CURIE_tremor_HP = \"HP:0001337\""
   ]
  },
  {
   "cell_type": "code",
   "execution_count": 2,
   "metadata": {},
   "outputs": [],
   "source": [
    "import requests\n",
    "import json"
   ]
  },
  {
   "cell_type": "markdown",
   "metadata": {},
   "source": [
    "This document provides a high level overview of the different ways to access ROBOKOP information programmatically. The first example relies on the Translator Reasoner API (TRAPI) format for both the query submission and return of results. More info about accessing ROBOKOP KG via TRAPI is available in the `HelloRobokop_TRAPI`. The second example illustrates how to query the ROBOKOP knowledgegraph directly using the Neo4j query language Cypher. Cypher options for querying ROBOKOP are covered in much more detail in `HelloRobokop_Cypher`."
   ]
  },
  {
   "cell_type": "markdown",
   "metadata": {},
   "source": [
    "## TRAPI"
   ]
  },
  {
   "cell_type": "markdown",
   "metadata": {},
   "source": [
    "The first example uses the TRAPI format to query the ROBOKOP instance hosted on the Automat system.\n",
    "\n",
    "The TRAPI Documentation is available here: https://github.com/NCATSTranslator/ReasonerAPI\n",
    "\n",
    "Most TRAPI documents contain a `message` key.  Within that `message` are a `query_graph` denoting the user query,\n",
    "a `knowledge_graph` consisting of the union of all nodes and edges that match the `query_graph` pattern, and a list of `results` that bind `query_graph` elements to `knowledge_graph` elements.\n",
    "\n",
    "When a user submits a query, the message contains only the `query_graph`.  The query graph below consists of 3 nodes connected together in a line.   Two of the nodes (`n00` and `n02`) have specified identifiers, while the middle node of the line does not.  Rather the middle node has a list of `categories` that are acceptable. Nodes and edges are specified as defined lists to ensure the correct ordering of output strings at the end of this Notebook. This is not required for running the queries or retrieving results.\n",
    "\n",
    "This query asks \"Find me a Biological Process or Activity, or a Gene, or a Pathway that is related to both `PUBCHEM.COMPOUND:644073` (Buprenorphine) and `HP:0001337` (Tremor)."
   ]
  },
  {
   "cell_type": "code",
   "execution_count": 9,
   "metadata": {},
   "outputs": [],
   "source": [
    "edges = [\"e00\", \"e01\"]\n",
    "nodes = [\"n00\", \"n01\", \"n02\"]\n",
    "query={\n",
    "    \"message\": {\n",
    "      \"query_graph\": {\n",
    "        \"edges\": {\n",
    "         edges[0] : {\n",
    "            \"subject\": nodes[0],\n",
    "              \"object\": nodes[1],\n",
    "          \"predicates\":[\"biolink:related_to\"]\n",
    "          },\n",
    "          edges[1]: {\n",
    "            \"subject\": nodes[1],\n",
    "              \"object\": nodes[2],\n",
    "          \"predicates\":[\"biolink:related_to\"]\n",
    "          }\n",
    "        },\n",
    "        \"nodes\": {\n",
    "          nodes[0]: {\n",
    "            \"ids\": [CURIE_buprenorphine_PubChem],\n",
    "            \"categories\": [\"biolink:ChemicalEntity\"]\n",
    "          },\n",
    "          nodes[1]: {\n",
    "              \"categories\": [\"biolink:BiologicalProcessOrActivity\",\"biolink:Gene\",\"biolink:Pathway\"]\n",
    "          },\n",
    "          nodes[2]: {\n",
    "            \"ids\": [CURIE_tremor_HP],\n",
    "            \"categories\": [\"biolink:DiseaseOrPhenotypicFeature\"]\n",
    "          }\n",
    "        }\n",
    "      }\n",
    "    }\n",
    "  }\n"
   ]
  },
  {
   "cell_type": "markdown",
   "metadata": {},
   "source": [
    "This can be sent directly to the ROBOKOP knowledgegraph hosted in the Automat system like this:"
   ]
  },
  {
   "cell_type": "code",
   "execution_count": 13,
   "metadata": {},
   "outputs": [],
   "source": [
    "response = requests.post(trapi_submit_url,json=query)"
   ]
  },
  {
   "cell_type": "code",
   "execution_count": 14,
   "metadata": {},
   "outputs": [
    {
     "name": "stdout",
     "output_type": "stream",
     "text": [
      "200\n"
     ]
    }
   ],
   "source": [
    "print(response.status_code)"
   ]
  },
  {
   "cell_type": "code",
   "execution_count": 15,
   "metadata": {},
   "outputs": [
    {
     "name": "stdout",
     "output_type": "stream",
     "text": [
      "7\n"
     ]
    }
   ],
   "source": [
    "print(len(response.json()['message']['results']))"
   ]
  },
  {
   "cell_type": "markdown",
   "metadata": {},
   "source": [
    "The response in JSON form is a python dictionary with three main keys, the `message`, `log_level`, and `workflow`.  The `message` component contains the `query_graph` from the input query, ROBOKOP has added the `knowledge_graph`, and `results` which in combination contain the answer to the query graph. While we'll continue querying the response for the next few sections to reinforce the structure of the response, we'll go ahead and create separate variables for the three components to make future queries easier to read.\n",
    "\n",
    "Additional details about each of these components can be found in `HelloRobokop_TRAPI.ipynb`."
   ]
  },
  {
   "cell_type": "code",
   "execution_count": 16,
   "metadata": {},
   "outputs": [],
   "source": [
    "import pprint\n",
    "pp = pprint.PrettyPrinter(indent=5)"
   ]
  },
  {
   "cell_type": "code",
   "execution_count": 17,
   "metadata": {},
   "outputs": [
    {
     "name": "stdout",
     "output_type": "stream",
     "text": [
      "dict_keys(['message', 'log_level', 'workflow'])\n",
      "dict_keys(['query_graph', 'knowledge_graph', 'results'])\n"
     ]
    }
   ],
   "source": [
    "print(response.json().keys())\n",
    "print(response.json()['message'].keys())"
   ]
  },
  {
   "cell_type": "markdown",
   "metadata": {},
   "source": [
    "Next we will summarize all results to provide an overview of the different result graphs matching our query. Each node and edge has all the additional info shown above available for further inspection. Additional info can be found in `HelloRobokop_TRAPI.ipynb`.  Results are printed below."
   ]
  },
  {
   "cell_type": "code",
   "execution_count": 18,
   "metadata": {},
   "outputs": [],
   "source": [
    "result_summaries = []\n",
    "for r in response.json()['message']['results']:\n",
    "    rs = \"\"\n",
    "    j = 0\n",
    "    while j < len(nodes):\n",
    "        node_id = r['node_bindings'][nodes[j]][0]['id']\n",
    "        node_name = response.json()['message']['knowledge_graph']['nodes'][node_id]['name']\n",
    "        rs = rs + f\"{node_name} ({node_id})\"\n",
    "        if j < len(edges):\n",
    "            edge_id = r['edge_bindings'][edges[j]][0]['id']\n",
    "            edge_name = response.json()['message']['knowledge_graph']['edges'][edge_id]['predicate']\n",
    "            rs = rs + f\"--{edge_name}-->\"\n",
    "        j = j + 1\n",
    "    result_summaries.append(rs)"
   ]
  },
  {
   "cell_type": "code",
   "execution_count": 19,
   "metadata": {},
   "outputs": [
    {
     "name": "stdout",
     "output_type": "stream",
     "text": [
      "Buprenorphine (PUBCHEM.COMPOUND:644073)--biolink:affects-->OPRM1 (NCBIGene:4988)--biolink:genetic_association-->Asterixis (HP:0012164)\n",
      "Buprenorphine (PUBCHEM.COMPOUND:644073)--biolink:directly_physically_interacts_with-->CYP2D6 (NCBIGene:1565)--biolink:genetic_association-->Postural tremor (HP:0002174)\n",
      "Buprenorphine (PUBCHEM.COMPOUND:644073)--biolink:directly_physically_interacts_with-->CYP2D6 (NCBIGene:1565)--biolink:genetic_association-->Resting tremor (HP:0002322)\n",
      "Buprenorphine (PUBCHEM.COMPOUND:644073)--biolink:directly_physically_interacts_with-->CYP2D6 (NCBIGene:1565)--biolink:genetic_association-->Tremor (HP:0001337)\n",
      "Buprenorphine (PUBCHEM.COMPOUND:644073)--biolink:directly_physically_interacts_with-->CYP2D6 (NCBIGene:1565)--biolink:genetic_association-->Action tremor (HP:0002345)\n",
      "Buprenorphine (PUBCHEM.COMPOUND:644073)--biolink:directly_physically_interacts_with-->CYP2D6 (NCBIGene:1565)--biolink:genetic_association-->Pill-rolling tremor (HP:0025387)\n",
      "Buprenorphine (PUBCHEM.COMPOUND:644073)--biolink:directly_physically_interacts_with-->CYP2D6 (NCBIGene:1565)--biolink:genetic_association-->Limb tremor (HP:0200085)\n"
     ]
    }
   ],
   "source": [
    "for rs in result_summaries:\n",
    "    print(rs)"
   ]
  },
  {
   "cell_type": "markdown",
   "metadata": {},
   "source": [
    "## Cypher"
   ]
  },
  {
   "cell_type": "markdown",
   "metadata": {},
   "source": [
    "The knowledgegraph can be queried directly using the Neo4j Cypher query language.  The query below is asking for slightly different information than the TRAPI message above.  The TRAPI query asks for results related to `Buprenorphine` and `Tremor` that are of the type `Gene`, `Pathway`, or `BiologicalProcessOrActivity`.  Because no results were present for `Pathway` or `BiologicalProcessOrActivity`, a Cypher query including these would return 0 results, so the below query has been modified to ask for results related to `Buprenorphine` and `Tremor` that are of the type `Gene`."
   ]
  },
  {
   "cell_type": "code",
   "execution_count": 21,
   "metadata": {},
   "outputs": [],
   "source": [
    "cypher = f\"\"\"MATCH (n0_0:`biolink:ChemicalEntity`)-[r0_0]-(n1_0:`biolink:Gene`)-[r1_0]-(n2_0:`biolink:DiseaseOrPhenotypicFeature`) \n",
    "WHERE n0_0.name IN ['Buprenorphine'] AND n2_0.name IN ['Tremor'] \n",
    "RETURN [startNode(r0_0),[type(r0_0),properties(r0_0)],endNode(r0_0)] as edge_1, \n",
    "[startNode(r1_0),[type(r1_0),properties(r1_0)],endNode(r1_0)] as edge_2, \n",
    "[n0_0.name, n1_0.name, n2_0.name] as node_names LIMIT 100\"\"\""
   ]
  },
  {
   "cell_type": "code",
   "execution_count": 24,
   "metadata": {},
   "outputs": [
    {
     "name": "stdout",
     "output_type": "stream",
     "text": [
      "200\n"
     ]
    }
   ],
   "source": [
    "j = {'query': cypher}\n",
    "results = requests.post(automat_cypher_submit_url,json=j)\n",
    "print(results.status_code)\n",
    "results_json = results.json()"
   ]
  },
  {
   "cell_type": "code",
   "execution_count": 25,
   "metadata": {},
   "outputs": [
    {
     "name": "stdout",
     "output_type": "stream",
     "text": [
      "<Response [200]>\n"
     ]
    }
   ],
   "source": [
    "print(results)"
   ]
  },
  {
   "cell_type": "code",
   "execution_count": 26,
   "metadata": {},
   "outputs": [
    {
     "name": "stdout",
     "output_type": "stream",
     "text": [
      "{'results': [{'columns': ['edge_1', 'edge_2', 'node_names'], 'data': [{'row': [[{'CHEBI_ROLE_delta_opioid_agent': True, 'smiles': 'CO[C@]12CC[C@@]3(C[C@@H]1[C@](C)(O)C(C)(C)C)[C@H]1CC4=CC=C(O)C5=C4[C@@]3(CCN1CC1CC1)[C@H]2O5', 'description': 'A morphinane alkaloid that is 7,8-dihydromorphine 6-O-methyl ether in which positions 6 and 14 are joined by a -CH2CH2- bridge, one of the hydrogens of the N-methyl group is substituted by cyclopropyl, and a hydrogen at position 7 is substituted by a 2-hydroxy-3,3-dimethylbutan-2-yl group. It is highly effective for the treatment of opioid use disorder and is also increasingly being used in the treatment of chronic pain.', 'fda_labels': 74, 'rgb': 28, 'CHEBI_ROLE_analgesic': True, 'CHEBI_ROLE_opioid_agent': True, 'sp2_c': 0, 'sp3_c': 23, 'CHEBI_ROLE_antagonist': True, 'CHEBI_ROLE_agonist': True, 'CHEBI_ROLE_opioid_analgesic': True, 'cd_formula': 'C29H41NO4', 'alogs': -4.44, 'CHEBI_ROLE_opioid_receptor_agonist': True, 'id': 'PUBCHEM.COMPOUND:644073', 'CHEBI_ROLE_drug': True, 'CHEBI_ROLE_neurotransmitter_agent': True, 'lipinski': 0, 'rotb': 5, 'o_n': 5, 'halogen': 0, 'CHEBI_ROLE_mu_opioid_agent': True, 'cd_molweight': 467.65, 'CHEBI_ROLE_delta_opioid_receptor_antagonist': True, 'CHEBI_ROLE_pharmaceutical': True, 'clogp': 3.99, 'oh_nh': 2, 'hetero_sp2_c': 0, 'equivalent_identifiers': ['GTOPDB:1670', 'CAS:52485-79-7', 'INCHIKEY:RMRJXGBAOAMLHD-IHFGGWKQSA-N', 'CHEBI:3216', 'CHEMBL.COMPOUND:CHEMBL560511', 'HMDB:HMDB0015057', 'UNII:40D3SCR4GZ', 'KEGG.COMPOUND:C08007', 'DrugCentral:434', 'DRUGBANK:DB00921', 'PUBCHEM.COMPOUND:644073', 'MESH:D002047', 'UMLS:C0006405'], 'CHEBI_ROLE_kappa_opioid_receptor_antagonist': True, 'arom_c': 6, 'CHEBI_ROLE_pharmacological_role': True, 'sp_c': 0, 'mrdef': 'A derivative of the opioid alkaloid THEBAINE that is a more potent and longer lasting analgesic than MORPHINE. It appears to act as a partial agonist at mu and kappa opioid receptors and as an antagonist at delta receptors. The lack of delta-agonist activity has been suggested to account for the observation that buprenorphine tolerance may not develop with chronic use.', 'name': 'Buprenorphine', 'CHEBI_ROLE_kappa_opioid_agent': True, 'CHEBI_ROLE_mu_opioid_receptor_agonist': True, 'tpsa': 62.16, 'CHEBI_ROLE_opioid_receptor_antagonist': True, 'information_content': 100.0, 'status': 'OFP'}, ['biolink:affects', {'object_direction_qualifier': 'decreased', 'qualified_predicate': 'biolink:causes', 'biolink:primary_knowledge_source': 'infores:ctd', 'description': 'decreases activity of', 'NCBITaxon': '9606', 'object_aspect_qualifier': 'activity', 'publications': ['PMID:12756210']}], {'symbol': 'CYP2D6', 'locus_group': 'protein-coding gene', 'name': 'CYP2D6', 'location': '22q13.2', 'taxon': 'NCBITaxon:9606', 'id': 'NCBIGene:1565', 'NCBITaxon': '9606', 'equivalent_identifiers': ['ENSEMBL:ENSP00000483677', 'UMLS:C1332830', 'UniProtKB:Q5Y7H2', 'UMLS:C3887685', 'OMIM:124030', 'NCBIGene:1565', 'UniProtKB:P10635', 'UniProtKB:C1ID52', 'ENSEMBL:ENSG00000100197', 'PR:P10635', 'ENSEMBL:ENSP00000483677.1', 'HGNC:2625']}], [{'symbol': 'CYP2D6', 'locus_group': 'protein-coding gene', 'name': 'CYP2D6', 'location': '22q13.2', 'taxon': 'NCBITaxon:9606', 'id': 'NCBIGene:1565', 'NCBITaxon': '9606', 'equivalent_identifiers': ['ENSEMBL:ENSP00000483677', 'UMLS:C1332830', 'UniProtKB:Q5Y7H2', 'UMLS:C3887685', 'OMIM:124030', 'NCBIGene:1565', 'UniProtKB:P10635', 'UniProtKB:C1ID52', 'ENSEMBL:ENSG00000100197', 'PR:P10635', 'ENSEMBL:ENSP00000483677.1', 'HGNC:2625']}, ['biolink:genetic_association', {'score': 0.3, 'biolink:primary_knowledge_source': 'infores:disgenet', 'biolink:aggregator_knowledge_source': ['infores:pharos']}], {'name': 'Tremor', 'description': 'An unintentional, oscillating to-and-fro muscle movement about a joint axis.', 'id': 'HP:0001337', 'equivalent_identifiers': ['UMLS:C1527384', 'NCIT:C38038', 'MEDDRA:10044562', 'SNOMEDCT:26079004', 'HP:0001337', 'MEDDRA:10044563', 'SNOMEDCT:267079009', 'MESH:D014202', 'UMLS:C0040822', 'MEDDRA:10040528', 'MEDDRA:10044565', 'UMLS:C0234369']}], ['Buprenorphine', 'CYP2D6', 'Tremor']], 'meta': [{'id': 8421444, 'type': 'node', 'deleted': False}, None, None, None, None, None, None, None, None, {'id': 5316835, 'type': 'node', 'deleted': False}, {'id': 5316835, 'type': 'node', 'deleted': False}, None, None, None, None, {'id': 5171187, 'type': 'node', 'deleted': False}, None, None, None]}, {'row': [[{'symbol': 'CYP2D6', 'locus_group': 'protein-coding gene', 'name': 'CYP2D6', 'location': '22q13.2', 'taxon': 'NCBITaxon:9606', 'id': 'NCBIGene:1565', 'NCBITaxon': '9606', 'equivalent_identifiers': ['ENSEMBL:ENSP00000483677', 'UMLS:C1332830', 'UniProtKB:Q5Y7H2', 'UMLS:C3887685', 'OMIM:124030', 'NCBIGene:1565', 'UniProtKB:P10635', 'UniProtKB:C1ID52', 'ENSEMBL:ENSG00000100197', 'PR:P10635', 'ENSEMBL:ENSP00000483677.1', 'HGNC:2625']}, ['biolink:affects', {'object_direction_qualifier': 'increased', 'qualified_predicate': 'biolink:causes', 'biolink:primary_knowledge_source': 'infores:ctd', 'description': 'increases metabolic processing of', 'NCBITaxon': '9606', 'object_aspect_qualifier': 'metabolic_processing', 'publications': ['PMID:12756210']}], {'CHEBI_ROLE_delta_opioid_agent': True, 'smiles': 'CO[C@]12CC[C@@]3(C[C@@H]1[C@](C)(O)C(C)(C)C)[C@H]1CC4=CC=C(O)C5=C4[C@@]3(CCN1CC1CC1)[C@H]2O5', 'description': 'A morphinane alkaloid that is 7,8-dihydromorphine 6-O-methyl ether in which positions 6 and 14 are joined by a -CH2CH2- bridge, one of the hydrogens of the N-methyl group is substituted by cyclopropyl, and a hydrogen at position 7 is substituted by a 2-hydroxy-3,3-dimethylbutan-2-yl group. It is highly effective for the treatment of opioid use disorder and is also increasingly being used in the treatment of chronic pain.', 'fda_labels': 74, 'rgb': 28, 'CHEBI_ROLE_analgesic': True, 'CHEBI_ROLE_opioid_agent': True, 'sp2_c': 0, 'sp3_c': 23, 'CHEBI_ROLE_antagonist': True, 'CHEBI_ROLE_agonist': True, 'CHEBI_ROLE_opioid_analgesic': True, 'cd_formula': 'C29H41NO4', 'alogs': -4.44, 'CHEBI_ROLE_opioid_receptor_agonist': True, 'id': 'PUBCHEM.COMPOUND:644073', 'CHEBI_ROLE_drug': True, 'CHEBI_ROLE_neurotransmitter_agent': True, 'lipinski': 0, 'rotb': 5, 'o_n': 5, 'halogen': 0, 'CHEBI_ROLE_mu_opioid_agent': True, 'cd_molweight': 467.65, 'CHEBI_ROLE_delta_opioid_receptor_antagonist': True, 'CHEBI_ROLE_pharmaceutical': True, 'clogp': 3.99, 'oh_nh': 2, 'hetero_sp2_c': 0, 'equivalent_identifiers': ['GTOPDB:1670', 'CAS:52485-79-7', 'INCHIKEY:RMRJXGBAOAMLHD-IHFGGWKQSA-N', 'CHEBI:3216', 'CHEMBL.COMPOUND:CHEMBL560511', 'HMDB:HMDB0015057', 'UNII:40D3SCR4GZ', 'KEGG.COMPOUND:C08007', 'DrugCentral:434', 'DRUGBANK:DB00921', 'PUBCHEM.COMPOUND:644073', 'MESH:D002047', 'UMLS:C0006405'], 'CHEBI_ROLE_kappa_opioid_receptor_antagonist': True, 'arom_c': 6, 'CHEBI_ROLE_pharmacological_role': True, 'sp_c': 0, 'mrdef': 'A derivative of the opioid alkaloid THEBAINE that is a more potent and longer lasting analgesic than MORPHINE. It appears to act as a partial agonist at mu and kappa opioid receptors and as an antagonist at delta receptors. The lack of delta-agonist activity has been suggested to account for the observation that buprenorphine tolerance may not develop with chronic use.', 'name': 'Buprenorphine', 'CHEBI_ROLE_kappa_opioid_agent': True, 'CHEBI_ROLE_mu_opioid_receptor_agonist': True, 'tpsa': 62.16, 'CHEBI_ROLE_opioid_receptor_antagonist': True, 'information_content': 100.0, 'status': 'OFP'}], [{'symbol': 'CYP2D6', 'locus_group': 'protein-coding gene', 'name': 'CYP2D6', 'location': '22q13.2', 'taxon': 'NCBITaxon:9606', 'id': 'NCBIGene:1565', 'NCBITaxon': '9606', 'equivalent_identifiers': ['ENSEMBL:ENSP00000483677', 'UMLS:C1332830', 'UniProtKB:Q5Y7H2', 'UMLS:C3887685', 'OMIM:124030', 'NCBIGene:1565', 'UniProtKB:P10635', 'UniProtKB:C1ID52', 'ENSEMBL:ENSG00000100197', 'PR:P10635', 'ENSEMBL:ENSP00000483677.1', 'HGNC:2625']}, ['biolink:genetic_association', {'score': 0.3, 'biolink:primary_knowledge_source': 'infores:disgenet', 'biolink:aggregator_knowledge_source': ['infores:pharos']}], {'name': 'Tremor', 'description': 'An unintentional, oscillating to-and-fro muscle movement about a joint axis.', 'id': 'HP:0001337', 'equivalent_identifiers': ['UMLS:C1527384', 'NCIT:C38038', 'MEDDRA:10044562', 'SNOMEDCT:26079004', 'HP:0001337', 'MEDDRA:10044563', 'SNOMEDCT:267079009', 'MESH:D014202', 'UMLS:C0040822', 'MEDDRA:10040528', 'MEDDRA:10044565', 'UMLS:C0234369']}], ['Buprenorphine', 'CYP2D6', 'Tremor']], 'meta': [{'id': 5316835, 'type': 'node', 'deleted': False}, None, None, None, None, None, None, None, None, {'id': 8421444, 'type': 'node', 'deleted': False}, {'id': 5316835, 'type': 'node', 'deleted': False}, None, None, None, None, {'id': 5171187, 'type': 'node', 'deleted': False}, None, None, None]}, {'row': [[{'CHEBI_ROLE_delta_opioid_agent': True, 'smiles': 'CO[C@]12CC[C@@]3(C[C@@H]1[C@](C)(O)C(C)(C)C)[C@H]1CC4=CC=C(O)C5=C4[C@@]3(CCN1CC1CC1)[C@H]2O5', 'description': 'A morphinane alkaloid that is 7,8-dihydromorphine 6-O-methyl ether in which positions 6 and 14 are joined by a -CH2CH2- bridge, one of the hydrogens of the N-methyl group is substituted by cyclopropyl, and a hydrogen at position 7 is substituted by a 2-hydroxy-3,3-dimethylbutan-2-yl group. It is highly effective for the treatment of opioid use disorder and is also increasingly being used in the treatment of chronic pain.', 'fda_labels': 74, 'rgb': 28, 'CHEBI_ROLE_analgesic': True, 'CHEBI_ROLE_opioid_agent': True, 'sp2_c': 0, 'sp3_c': 23, 'CHEBI_ROLE_antagonist': True, 'CHEBI_ROLE_agonist': True, 'CHEBI_ROLE_opioid_analgesic': True, 'cd_formula': 'C29H41NO4', 'alogs': -4.44, 'CHEBI_ROLE_opioid_receptor_agonist': True, 'id': 'PUBCHEM.COMPOUND:644073', 'CHEBI_ROLE_drug': True, 'CHEBI_ROLE_neurotransmitter_agent': True, 'lipinski': 0, 'rotb': 5, 'o_n': 5, 'halogen': 0, 'CHEBI_ROLE_mu_opioid_agent': True, 'cd_molweight': 467.65, 'CHEBI_ROLE_delta_opioid_receptor_antagonist': True, 'CHEBI_ROLE_pharmaceutical': True, 'clogp': 3.99, 'oh_nh': 2, 'hetero_sp2_c': 0, 'equivalent_identifiers': ['GTOPDB:1670', 'CAS:52485-79-7', 'INCHIKEY:RMRJXGBAOAMLHD-IHFGGWKQSA-N', 'CHEBI:3216', 'CHEMBL.COMPOUND:CHEMBL560511', 'HMDB:HMDB0015057', 'UNII:40D3SCR4GZ', 'KEGG.COMPOUND:C08007', 'DrugCentral:434', 'DRUGBANK:DB00921', 'PUBCHEM.COMPOUND:644073', 'MESH:D002047', 'UMLS:C0006405'], 'CHEBI_ROLE_kappa_opioid_receptor_antagonist': True, 'arom_c': 6, 'CHEBI_ROLE_pharmacological_role': True, 'sp_c': 0, 'mrdef': 'A derivative of the opioid alkaloid THEBAINE that is a more potent and longer lasting analgesic than MORPHINE. It appears to act as a partial agonist at mu and kappa opioid receptors and as an antagonist at delta receptors. The lack of delta-agonist activity has been suggested to account for the observation that buprenorphine tolerance may not develop with chronic use.', 'name': 'Buprenorphine', 'CHEBI_ROLE_kappa_opioid_agent': True, 'CHEBI_ROLE_mu_opioid_receptor_agonist': True, 'tpsa': 62.16, 'CHEBI_ROLE_opioid_receptor_antagonist': True, 'information_content': 100.0, 'status': 'OFP'}, ['biolink:regulates', {'object_direction_qualifier': 'downregulated', 'sentences': 'Buprenorphine exhibited potent, competitive inhibition of CYP2D6 (Ki 10 +/- 2 microM and 1.8 +/- 0.2 microM) and CYP3A4 (Ki 40 +/- 1.6 microM and 19 +/- 1.2 microM) in microsomes from human liver and cDNA-expressing lymphoblasts, respectively.|PMID:12756210', 'biolink:primary_knowledge_source': 'infores:textminingkp', 'biolink:tmkp_confidence_score': '0.99969625', 'tmkp_ids': ['tmkp:12699a64cae70b20411935b5e5028d220ccbe4f7a0ad13a81978026cb43111bf'], 'publications': ['PMID:12756210']}], {'symbol': 'CYP2D6', 'locus_group': 'protein-coding gene', 'name': 'CYP2D6', 'location': '22q13.2', 'taxon': 'NCBITaxon:9606', 'id': 'NCBIGene:1565', 'NCBITaxon': '9606', 'equivalent_identifiers': ['ENSEMBL:ENSP00000483677', 'UMLS:C1332830', 'UniProtKB:Q5Y7H2', 'UMLS:C3887685', 'OMIM:124030', 'NCBIGene:1565', 'UniProtKB:P10635', 'UniProtKB:C1ID52', 'ENSEMBL:ENSG00000100197', 'PR:P10635', 'ENSEMBL:ENSP00000483677.1', 'HGNC:2625']}], [{'symbol': 'CYP2D6', 'locus_group': 'protein-coding gene', 'name': 'CYP2D6', 'location': '22q13.2', 'taxon': 'NCBITaxon:9606', 'id': 'NCBIGene:1565', 'NCBITaxon': '9606', 'equivalent_identifiers': ['ENSEMBL:ENSP00000483677', 'UMLS:C1332830', 'UniProtKB:Q5Y7H2', 'UMLS:C3887685', 'OMIM:124030', 'NCBIGene:1565', 'UniProtKB:P10635', 'UniProtKB:C1ID52', 'ENSEMBL:ENSG00000100197', 'PR:P10635', 'ENSEMBL:ENSP00000483677.1', 'HGNC:2625']}, ['biolink:genetic_association', {'score': 0.3, 'biolink:primary_knowledge_source': 'infores:disgenet', 'biolink:aggregator_knowledge_source': ['infores:pharos']}], {'name': 'Tremor', 'description': 'An unintentional, oscillating to-and-fro muscle movement about a joint axis.', 'id': 'HP:0001337', 'equivalent_identifiers': ['UMLS:C1527384', 'NCIT:C38038', 'MEDDRA:10044562', 'SNOMEDCT:26079004', 'HP:0001337', 'MEDDRA:10044563', 'SNOMEDCT:267079009', 'MESH:D014202', 'UMLS:C0040822', 'MEDDRA:10040528', 'MEDDRA:10044565', 'UMLS:C0234369']}], ['Buprenorphine', 'CYP2D6', 'Tremor']], 'meta': [{'id': 8421444, 'type': 'node', 'deleted': False}, None, None, None, None, None, None, None, {'id': 5316835, 'type': 'node', 'deleted': False}, {'id': 5316835, 'type': 'node', 'deleted': False}, None, None, None, None, {'id': 5171187, 'type': 'node', 'deleted': False}, None, None, None]}, {'row': [[{'CHEBI_ROLE_delta_opioid_agent': True, 'smiles': 'CO[C@]12CC[C@@]3(C[C@@H]1[C@](C)(O)C(C)(C)C)[C@H]1CC4=CC=C(O)C5=C4[C@@]3(CCN1CC1CC1)[C@H]2O5', 'description': 'A morphinane alkaloid that is 7,8-dihydromorphine 6-O-methyl ether in which positions 6 and 14 are joined by a -CH2CH2- bridge, one of the hydrogens of the N-methyl group is substituted by cyclopropyl, and a hydrogen at position 7 is substituted by a 2-hydroxy-3,3-dimethylbutan-2-yl group. It is highly effective for the treatment of opioid use disorder and is also increasingly being used in the treatment of chronic pain.', 'fda_labels': 74, 'rgb': 28, 'CHEBI_ROLE_analgesic': True, 'CHEBI_ROLE_opioid_agent': True, 'sp2_c': 0, 'sp3_c': 23, 'CHEBI_ROLE_antagonist': True, 'CHEBI_ROLE_agonist': True, 'CHEBI_ROLE_opioid_analgesic': True, 'cd_formula': 'C29H41NO4', 'alogs': -4.44, 'CHEBI_ROLE_opioid_receptor_agonist': True, 'id': 'PUBCHEM.COMPOUND:644073', 'CHEBI_ROLE_drug': True, 'CHEBI_ROLE_neurotransmitter_agent': True, 'lipinski': 0, 'rotb': 5, 'o_n': 5, 'halogen': 0, 'CHEBI_ROLE_mu_opioid_agent': True, 'cd_molweight': 467.65, 'CHEBI_ROLE_delta_opioid_receptor_antagonist': True, 'CHEBI_ROLE_pharmaceutical': True, 'clogp': 3.99, 'oh_nh': 2, 'hetero_sp2_c': 0, 'equivalent_identifiers': ['GTOPDB:1670', 'CAS:52485-79-7', 'INCHIKEY:RMRJXGBAOAMLHD-IHFGGWKQSA-N', 'CHEBI:3216', 'CHEMBL.COMPOUND:CHEMBL560511', 'HMDB:HMDB0015057', 'UNII:40D3SCR4GZ', 'KEGG.COMPOUND:C08007', 'DrugCentral:434', 'DRUGBANK:DB00921', 'PUBCHEM.COMPOUND:644073', 'MESH:D002047', 'UMLS:C0006405'], 'CHEBI_ROLE_kappa_opioid_receptor_antagonist': True, 'arom_c': 6, 'CHEBI_ROLE_pharmacological_role': True, 'sp_c': 0, 'mrdef': 'A derivative of the opioid alkaloid THEBAINE that is a more potent and longer lasting analgesic than MORPHINE. It appears to act as a partial agonist at mu and kappa opioid receptors and as an antagonist at delta receptors. The lack of delta-agonist activity has been suggested to account for the observation that buprenorphine tolerance may not develop with chronic use.', 'name': 'Buprenorphine', 'CHEBI_ROLE_kappa_opioid_agent': True, 'CHEBI_ROLE_mu_opioid_receptor_agonist': True, 'tpsa': 62.16, 'CHEBI_ROLE_opioid_receptor_antagonist': True, 'information_content': 100.0, 'status': 'OFP'}, ['biolink:directly_physically_interacts_with', {'biolink:primary_knowledge_source': 'infores:hetionet', 'hetio_source': ['DrugBank (enzyme)']}], {'symbol': 'CYP2D6', 'locus_group': 'protein-coding gene', 'name': 'CYP2D6', 'location': '22q13.2', 'taxon': 'NCBITaxon:9606', 'id': 'NCBIGene:1565', 'NCBITaxon': '9606', 'equivalent_identifiers': ['ENSEMBL:ENSP00000483677', 'UMLS:C1332830', 'UniProtKB:Q5Y7H2', 'UMLS:C3887685', 'OMIM:124030', 'NCBIGene:1565', 'UniProtKB:P10635', 'UniProtKB:C1ID52', 'ENSEMBL:ENSG00000100197', 'PR:P10635', 'ENSEMBL:ENSP00000483677.1', 'HGNC:2625']}], [{'symbol': 'CYP2D6', 'locus_group': 'protein-coding gene', 'name': 'CYP2D6', 'location': '22q13.2', 'taxon': 'NCBITaxon:9606', 'id': 'NCBIGene:1565', 'NCBITaxon': '9606', 'equivalent_identifiers': ['ENSEMBL:ENSP00000483677', 'UMLS:C1332830', 'UniProtKB:Q5Y7H2', 'UMLS:C3887685', 'OMIM:124030', 'NCBIGene:1565', 'UniProtKB:P10635', 'UniProtKB:C1ID52', 'ENSEMBL:ENSG00000100197', 'PR:P10635', 'ENSEMBL:ENSP00000483677.1', 'HGNC:2625']}, ['biolink:genetic_association', {'score': 0.3, 'biolink:primary_knowledge_source': 'infores:disgenet', 'biolink:aggregator_knowledge_source': ['infores:pharos']}], {'name': 'Tremor', 'description': 'An unintentional, oscillating to-and-fro muscle movement about a joint axis.', 'id': 'HP:0001337', 'equivalent_identifiers': ['UMLS:C1527384', 'NCIT:C38038', 'MEDDRA:10044562', 'SNOMEDCT:26079004', 'HP:0001337', 'MEDDRA:10044563', 'SNOMEDCT:267079009', 'MESH:D014202', 'UMLS:C0040822', 'MEDDRA:10040528', 'MEDDRA:10044565', 'UMLS:C0234369']}], ['Buprenorphine', 'CYP2D6', 'Tremor']], 'meta': [{'id': 8421444, 'type': 'node', 'deleted': False}, None, None, None, {'id': 5316835, 'type': 'node', 'deleted': False}, {'id': 5316835, 'type': 'node', 'deleted': False}, None, None, None, None, {'id': 5171187, 'type': 'node', 'deleted': False}, None, None, None]}, {'row': [[{'CHEBI_ROLE_delta_opioid_agent': True, 'smiles': 'CO[C@]12CC[C@@]3(C[C@@H]1[C@](C)(O)C(C)(C)C)[C@H]1CC4=CC=C(O)C5=C4[C@@]3(CCN1CC1CC1)[C@H]2O5', 'description': 'A morphinane alkaloid that is 7,8-dihydromorphine 6-O-methyl ether in which positions 6 and 14 are joined by a -CH2CH2- bridge, one of the hydrogens of the N-methyl group is substituted by cyclopropyl, and a hydrogen at position 7 is substituted by a 2-hydroxy-3,3-dimethylbutan-2-yl group. It is highly effective for the treatment of opioid use disorder and is also increasingly being used in the treatment of chronic pain.', 'fda_labels': 74, 'rgb': 28, 'CHEBI_ROLE_analgesic': True, 'CHEBI_ROLE_opioid_agent': True, 'sp2_c': 0, 'sp3_c': 23, 'CHEBI_ROLE_antagonist': True, 'CHEBI_ROLE_agonist': True, 'CHEBI_ROLE_opioid_analgesic': True, 'cd_formula': 'C29H41NO4', 'alogs': -4.44, 'CHEBI_ROLE_opioid_receptor_agonist': True, 'id': 'PUBCHEM.COMPOUND:644073', 'CHEBI_ROLE_drug': True, 'CHEBI_ROLE_neurotransmitter_agent': True, 'lipinski': 0, 'rotb': 5, 'o_n': 5, 'halogen': 0, 'CHEBI_ROLE_mu_opioid_agent': True, 'cd_molweight': 467.65, 'CHEBI_ROLE_delta_opioid_receptor_antagonist': True, 'CHEBI_ROLE_pharmaceutical': True, 'clogp': 3.99, 'oh_nh': 2, 'hetero_sp2_c': 0, 'equivalent_identifiers': ['GTOPDB:1670', 'CAS:52485-79-7', 'INCHIKEY:RMRJXGBAOAMLHD-IHFGGWKQSA-N', 'CHEBI:3216', 'CHEMBL.COMPOUND:CHEMBL560511', 'HMDB:HMDB0015057', 'UNII:40D3SCR4GZ', 'KEGG.COMPOUND:C08007', 'DrugCentral:434', 'DRUGBANK:DB00921', 'PUBCHEM.COMPOUND:644073', 'MESH:D002047', 'UMLS:C0006405'], 'CHEBI_ROLE_kappa_opioid_receptor_antagonist': True, 'arom_c': 6, 'CHEBI_ROLE_pharmacological_role': True, 'sp_c': 0, 'mrdef': 'A derivative of the opioid alkaloid THEBAINE that is a more potent and longer lasting analgesic than MORPHINE. It appears to act as a partial agonist at mu and kappa opioid receptors and as an antagonist at delta receptors. The lack of delta-agonist activity has been suggested to account for the observation that buprenorphine tolerance may not develop with chronic use.', 'name': 'Buprenorphine', 'CHEBI_ROLE_kappa_opioid_agent': True, 'CHEBI_ROLE_mu_opioid_receptor_agonist': True, 'tpsa': 62.16, 'CHEBI_ROLE_opioid_receptor_antagonist': True, 'information_content': 100.0, 'status': 'OFP'}, ['biolink:affects', {'object_direction_qualifier': 'decreased', 'qualified_predicate': 'biolink:causes', 'biolink:primary_knowledge_source': 'infores:ctd', 'description': 'decreases activity of', 'NCBITaxon': '9606', 'object_aspect_qualifier': 'activity', 'publications': ['PMID:12756210']}], {'symbol': 'CYP2D6', 'locus_group': 'protein-coding gene', 'name': 'CYP2D6', 'location': '22q13.2', 'taxon': 'NCBITaxon:9606', 'id': 'NCBIGene:1565', 'NCBITaxon': '9606', 'equivalent_identifiers': ['ENSEMBL:ENSP00000483677', 'UMLS:C1332830', 'UniProtKB:Q5Y7H2', 'UMLS:C3887685', 'OMIM:124030', 'NCBIGene:1565', 'UniProtKB:P10635', 'UniProtKB:C1ID52', 'ENSEMBL:ENSG00000100197', 'PR:P10635', 'ENSEMBL:ENSP00000483677.1', 'HGNC:2625']}], [{'symbol': 'CYP2D6', 'locus_group': 'protein-coding gene', 'name': 'CYP2D6', 'location': '22q13.2', 'taxon': 'NCBITaxon:9606', 'id': 'NCBIGene:1565', 'NCBITaxon': '9606', 'equivalent_identifiers': ['ENSEMBL:ENSP00000483677', 'UMLS:C1332830', 'UniProtKB:Q5Y7H2', 'UMLS:C3887685', 'OMIM:124030', 'NCBIGene:1565', 'UniProtKB:P10635', 'UniProtKB:C1ID52', 'ENSEMBL:ENSG00000100197', 'PR:P10635', 'ENSEMBL:ENSP00000483677.1', 'HGNC:2625']}, ['biolink:genetic_association', {'biolink:primary_knowledge_source': 'infores:ctd', 'biolink:aggregator_knowledge_source': ['infores:pharos']}], {'name': 'Tremor', 'description': 'An unintentional, oscillating to-and-fro muscle movement about a joint axis.', 'id': 'HP:0001337', 'equivalent_identifiers': ['UMLS:C1527384', 'NCIT:C38038', 'MEDDRA:10044562', 'SNOMEDCT:26079004', 'HP:0001337', 'MEDDRA:10044563', 'SNOMEDCT:267079009', 'MESH:D014202', 'UMLS:C0040822', 'MEDDRA:10040528', 'MEDDRA:10044565', 'UMLS:C0234369']}], ['Buprenorphine', 'CYP2D6', 'Tremor']], 'meta': [{'id': 8421444, 'type': 'node', 'deleted': False}, None, None, None, None, None, None, None, None, {'id': 5316835, 'type': 'node', 'deleted': False}, {'id': 5316835, 'type': 'node', 'deleted': False}, None, None, None, {'id': 5171187, 'type': 'node', 'deleted': False}, None, None, None]}, {'row': [[{'symbol': 'CYP2D6', 'locus_group': 'protein-coding gene', 'name': 'CYP2D6', 'location': '22q13.2', 'taxon': 'NCBITaxon:9606', 'id': 'NCBIGene:1565', 'NCBITaxon': '9606', 'equivalent_identifiers': ['ENSEMBL:ENSP00000483677', 'UMLS:C1332830', 'UniProtKB:Q5Y7H2', 'UMLS:C3887685', 'OMIM:124030', 'NCBIGene:1565', 'UniProtKB:P10635', 'UniProtKB:C1ID52', 'ENSEMBL:ENSG00000100197', 'PR:P10635', 'ENSEMBL:ENSP00000483677.1', 'HGNC:2625']}, ['biolink:affects', {'object_direction_qualifier': 'increased', 'qualified_predicate': 'biolink:causes', 'biolink:primary_knowledge_source': 'infores:ctd', 'description': 'increases metabolic processing of', 'NCBITaxon': '9606', 'object_aspect_qualifier': 'metabolic_processing', 'publications': ['PMID:12756210']}], {'CHEBI_ROLE_delta_opioid_agent': True, 'smiles': 'CO[C@]12CC[C@@]3(C[C@@H]1[C@](C)(O)C(C)(C)C)[C@H]1CC4=CC=C(O)C5=C4[C@@]3(CCN1CC1CC1)[C@H]2O5', 'description': 'A morphinane alkaloid that is 7,8-dihydromorphine 6-O-methyl ether in which positions 6 and 14 are joined by a -CH2CH2- bridge, one of the hydrogens of the N-methyl group is substituted by cyclopropyl, and a hydrogen at position 7 is substituted by a 2-hydroxy-3,3-dimethylbutan-2-yl group. It is highly effective for the treatment of opioid use disorder and is also increasingly being used in the treatment of chronic pain.', 'fda_labels': 74, 'rgb': 28, 'CHEBI_ROLE_analgesic': True, 'CHEBI_ROLE_opioid_agent': True, 'sp2_c': 0, 'sp3_c': 23, 'CHEBI_ROLE_antagonist': True, 'CHEBI_ROLE_agonist': True, 'CHEBI_ROLE_opioid_analgesic': True, 'cd_formula': 'C29H41NO4', 'alogs': -4.44, 'CHEBI_ROLE_opioid_receptor_agonist': True, 'id': 'PUBCHEM.COMPOUND:644073', 'CHEBI_ROLE_drug': True, 'CHEBI_ROLE_neurotransmitter_agent': True, 'lipinski': 0, 'rotb': 5, 'o_n': 5, 'halogen': 0, 'CHEBI_ROLE_mu_opioid_agent': True, 'cd_molweight': 467.65, 'CHEBI_ROLE_delta_opioid_receptor_antagonist': True, 'CHEBI_ROLE_pharmaceutical': True, 'clogp': 3.99, 'oh_nh': 2, 'hetero_sp2_c': 0, 'equivalent_identifiers': ['GTOPDB:1670', 'CAS:52485-79-7', 'INCHIKEY:RMRJXGBAOAMLHD-IHFGGWKQSA-N', 'CHEBI:3216', 'CHEMBL.COMPOUND:CHEMBL560511', 'HMDB:HMDB0015057', 'UNII:40D3SCR4GZ', 'KEGG.COMPOUND:C08007', 'DrugCentral:434', 'DRUGBANK:DB00921', 'PUBCHEM.COMPOUND:644073', 'MESH:D002047', 'UMLS:C0006405'], 'CHEBI_ROLE_kappa_opioid_receptor_antagonist': True, 'arom_c': 6, 'CHEBI_ROLE_pharmacological_role': True, 'sp_c': 0, 'mrdef': 'A derivative of the opioid alkaloid THEBAINE that is a more potent and longer lasting analgesic than MORPHINE. It appears to act as a partial agonist at mu and kappa opioid receptors and as an antagonist at delta receptors. The lack of delta-agonist activity has been suggested to account for the observation that buprenorphine tolerance may not develop with chronic use.', 'name': 'Buprenorphine', 'CHEBI_ROLE_kappa_opioid_agent': True, 'CHEBI_ROLE_mu_opioid_receptor_agonist': True, 'tpsa': 62.16, 'CHEBI_ROLE_opioid_receptor_antagonist': True, 'information_content': 100.0, 'status': 'OFP'}], [{'symbol': 'CYP2D6', 'locus_group': 'protein-coding gene', 'name': 'CYP2D6', 'location': '22q13.2', 'taxon': 'NCBITaxon:9606', 'id': 'NCBIGene:1565', 'NCBITaxon': '9606', 'equivalent_identifiers': ['ENSEMBL:ENSP00000483677', 'UMLS:C1332830', 'UniProtKB:Q5Y7H2', 'UMLS:C3887685', 'OMIM:124030', 'NCBIGene:1565', 'UniProtKB:P10635', 'UniProtKB:C1ID52', 'ENSEMBL:ENSG00000100197', 'PR:P10635', 'ENSEMBL:ENSP00000483677.1', 'HGNC:2625']}, ['biolink:genetic_association', {'biolink:primary_knowledge_source': 'infores:ctd', 'biolink:aggregator_knowledge_source': ['infores:pharos']}], {'name': 'Tremor', 'description': 'An unintentional, oscillating to-and-fro muscle movement about a joint axis.', 'id': 'HP:0001337', 'equivalent_identifiers': ['UMLS:C1527384', 'NCIT:C38038', 'MEDDRA:10044562', 'SNOMEDCT:26079004', 'HP:0001337', 'MEDDRA:10044563', 'SNOMEDCT:267079009', 'MESH:D014202', 'UMLS:C0040822', 'MEDDRA:10040528', 'MEDDRA:10044565', 'UMLS:C0234369']}], ['Buprenorphine', 'CYP2D6', 'Tremor']], 'meta': [{'id': 5316835, 'type': 'node', 'deleted': False}, None, None, None, None, None, None, None, None, {'id': 8421444, 'type': 'node', 'deleted': False}, {'id': 5316835, 'type': 'node', 'deleted': False}, None, None, None, {'id': 5171187, 'type': 'node', 'deleted': False}, None, None, None]}, {'row': [[{'CHEBI_ROLE_delta_opioid_agent': True, 'smiles': 'CO[C@]12CC[C@@]3(C[C@@H]1[C@](C)(O)C(C)(C)C)[C@H]1CC4=CC=C(O)C5=C4[C@@]3(CCN1CC1CC1)[C@H]2O5', 'description': 'A morphinane alkaloid that is 7,8-dihydromorphine 6-O-methyl ether in which positions 6 and 14 are joined by a -CH2CH2- bridge, one of the hydrogens of the N-methyl group is substituted by cyclopropyl, and a hydrogen at position 7 is substituted by a 2-hydroxy-3,3-dimethylbutan-2-yl group. It is highly effective for the treatment of opioid use disorder and is also increasingly being used in the treatment of chronic pain.', 'fda_labels': 74, 'rgb': 28, 'CHEBI_ROLE_analgesic': True, 'CHEBI_ROLE_opioid_agent': True, 'sp2_c': 0, 'sp3_c': 23, 'CHEBI_ROLE_antagonist': True, 'CHEBI_ROLE_agonist': True, 'CHEBI_ROLE_opioid_analgesic': True, 'cd_formula': 'C29H41NO4', 'alogs': -4.44, 'CHEBI_ROLE_opioid_receptor_agonist': True, 'id': 'PUBCHEM.COMPOUND:644073', 'CHEBI_ROLE_drug': True, 'CHEBI_ROLE_neurotransmitter_agent': True, 'lipinski': 0, 'rotb': 5, 'o_n': 5, 'halogen': 0, 'CHEBI_ROLE_mu_opioid_agent': True, 'cd_molweight': 467.65, 'CHEBI_ROLE_delta_opioid_receptor_antagonist': True, 'CHEBI_ROLE_pharmaceutical': True, 'clogp': 3.99, 'oh_nh': 2, 'hetero_sp2_c': 0, 'equivalent_identifiers': ['GTOPDB:1670', 'CAS:52485-79-7', 'INCHIKEY:RMRJXGBAOAMLHD-IHFGGWKQSA-N', 'CHEBI:3216', 'CHEMBL.COMPOUND:CHEMBL560511', 'HMDB:HMDB0015057', 'UNII:40D3SCR4GZ', 'KEGG.COMPOUND:C08007', 'DrugCentral:434', 'DRUGBANK:DB00921', 'PUBCHEM.COMPOUND:644073', 'MESH:D002047', 'UMLS:C0006405'], 'CHEBI_ROLE_kappa_opioid_receptor_antagonist': True, 'arom_c': 6, 'CHEBI_ROLE_pharmacological_role': True, 'sp_c': 0, 'mrdef': 'A derivative of the opioid alkaloid THEBAINE that is a more potent and longer lasting analgesic than MORPHINE. It appears to act as a partial agonist at mu and kappa opioid receptors and as an antagonist at delta receptors. The lack of delta-agonist activity has been suggested to account for the observation that buprenorphine tolerance may not develop with chronic use.', 'name': 'Buprenorphine', 'CHEBI_ROLE_kappa_opioid_agent': True, 'CHEBI_ROLE_mu_opioid_receptor_agonist': True, 'tpsa': 62.16, 'CHEBI_ROLE_opioid_receptor_antagonist': True, 'information_content': 100.0, 'status': 'OFP'}, ['biolink:regulates', {'object_direction_qualifier': 'downregulated', 'sentences': 'Buprenorphine exhibited potent, competitive inhibition of CYP2D6 (Ki 10 +/- 2 microM and 1.8 +/- 0.2 microM) and CYP3A4 (Ki 40 +/- 1.6 microM and 19 +/- 1.2 microM) in microsomes from human liver and cDNA-expressing lymphoblasts, respectively.|PMID:12756210', 'biolink:primary_knowledge_source': 'infores:textminingkp', 'biolink:tmkp_confidence_score': '0.99969625', 'tmkp_ids': ['tmkp:12699a64cae70b20411935b5e5028d220ccbe4f7a0ad13a81978026cb43111bf'], 'publications': ['PMID:12756210']}], {'symbol': 'CYP2D6', 'locus_group': 'protein-coding gene', 'name': 'CYP2D6', 'location': '22q13.2', 'taxon': 'NCBITaxon:9606', 'id': 'NCBIGene:1565', 'NCBITaxon': '9606', 'equivalent_identifiers': ['ENSEMBL:ENSP00000483677', 'UMLS:C1332830', 'UniProtKB:Q5Y7H2', 'UMLS:C3887685', 'OMIM:124030', 'NCBIGene:1565', 'UniProtKB:P10635', 'UniProtKB:C1ID52', 'ENSEMBL:ENSG00000100197', 'PR:P10635', 'ENSEMBL:ENSP00000483677.1', 'HGNC:2625']}], [{'symbol': 'CYP2D6', 'locus_group': 'protein-coding gene', 'name': 'CYP2D6', 'location': '22q13.2', 'taxon': 'NCBITaxon:9606', 'id': 'NCBIGene:1565', 'NCBITaxon': '9606', 'equivalent_identifiers': ['ENSEMBL:ENSP00000483677', 'UMLS:C1332830', 'UniProtKB:Q5Y7H2', 'UMLS:C3887685', 'OMIM:124030', 'NCBIGene:1565', 'UniProtKB:P10635', 'UniProtKB:C1ID52', 'ENSEMBL:ENSG00000100197', 'PR:P10635', 'ENSEMBL:ENSP00000483677.1', 'HGNC:2625']}, ['biolink:genetic_association', {'biolink:primary_knowledge_source': 'infores:ctd', 'biolink:aggregator_knowledge_source': ['infores:pharos']}], {'name': 'Tremor', 'description': 'An unintentional, oscillating to-and-fro muscle movement about a joint axis.', 'id': 'HP:0001337', 'equivalent_identifiers': ['UMLS:C1527384', 'NCIT:C38038', 'MEDDRA:10044562', 'SNOMEDCT:26079004', 'HP:0001337', 'MEDDRA:10044563', 'SNOMEDCT:267079009', 'MESH:D014202', 'UMLS:C0040822', 'MEDDRA:10040528', 'MEDDRA:10044565', 'UMLS:C0234369']}], ['Buprenorphine', 'CYP2D6', 'Tremor']], 'meta': [{'id': 8421444, 'type': 'node', 'deleted': False}, None, None, None, None, None, None, None, {'id': 5316835, 'type': 'node', 'deleted': False}, {'id': 5316835, 'type': 'node', 'deleted': False}, None, None, None, {'id': 5171187, 'type': 'node', 'deleted': False}, None, None, None]}, {'row': [[{'CHEBI_ROLE_delta_opioid_agent': True, 'smiles': 'CO[C@]12CC[C@@]3(C[C@@H]1[C@](C)(O)C(C)(C)C)[C@H]1CC4=CC=C(O)C5=C4[C@@]3(CCN1CC1CC1)[C@H]2O5', 'description': 'A morphinane alkaloid that is 7,8-dihydromorphine 6-O-methyl ether in which positions 6 and 14 are joined by a -CH2CH2- bridge, one of the hydrogens of the N-methyl group is substituted by cyclopropyl, and a hydrogen at position 7 is substituted by a 2-hydroxy-3,3-dimethylbutan-2-yl group. It is highly effective for the treatment of opioid use disorder and is also increasingly being used in the treatment of chronic pain.', 'fda_labels': 74, 'rgb': 28, 'CHEBI_ROLE_analgesic': True, 'CHEBI_ROLE_opioid_agent': True, 'sp2_c': 0, 'sp3_c': 23, 'CHEBI_ROLE_antagonist': True, 'CHEBI_ROLE_agonist': True, 'CHEBI_ROLE_opioid_analgesic': True, 'cd_formula': 'C29H41NO4', 'alogs': -4.44, 'CHEBI_ROLE_opioid_receptor_agonist': True, 'id': 'PUBCHEM.COMPOUND:644073', 'CHEBI_ROLE_drug': True, 'CHEBI_ROLE_neurotransmitter_agent': True, 'lipinski': 0, 'rotb': 5, 'o_n': 5, 'halogen': 0, 'CHEBI_ROLE_mu_opioid_agent': True, 'cd_molweight': 467.65, 'CHEBI_ROLE_delta_opioid_receptor_antagonist': True, 'CHEBI_ROLE_pharmaceutical': True, 'clogp': 3.99, 'oh_nh': 2, 'hetero_sp2_c': 0, 'equivalent_identifiers': ['GTOPDB:1670', 'CAS:52485-79-7', 'INCHIKEY:RMRJXGBAOAMLHD-IHFGGWKQSA-N', 'CHEBI:3216', 'CHEMBL.COMPOUND:CHEMBL560511', 'HMDB:HMDB0015057', 'UNII:40D3SCR4GZ', 'KEGG.COMPOUND:C08007', 'DrugCentral:434', 'DRUGBANK:DB00921', 'PUBCHEM.COMPOUND:644073', 'MESH:D002047', 'UMLS:C0006405'], 'CHEBI_ROLE_kappa_opioid_receptor_antagonist': True, 'arom_c': 6, 'CHEBI_ROLE_pharmacological_role': True, 'sp_c': 0, 'mrdef': 'A derivative of the opioid alkaloid THEBAINE that is a more potent and longer lasting analgesic than MORPHINE. It appears to act as a partial agonist at mu and kappa opioid receptors and as an antagonist at delta receptors. The lack of delta-agonist activity has been suggested to account for the observation that buprenorphine tolerance may not develop with chronic use.', 'name': 'Buprenorphine', 'CHEBI_ROLE_kappa_opioid_agent': True, 'CHEBI_ROLE_mu_opioid_receptor_agonist': True, 'tpsa': 62.16, 'CHEBI_ROLE_opioid_receptor_antagonist': True, 'information_content': 100.0, 'status': 'OFP'}, ['biolink:directly_physically_interacts_with', {'biolink:primary_knowledge_source': 'infores:hetionet', 'hetio_source': ['DrugBank (enzyme)']}], {'symbol': 'CYP2D6', 'locus_group': 'protein-coding gene', 'name': 'CYP2D6', 'location': '22q13.2', 'taxon': 'NCBITaxon:9606', 'id': 'NCBIGene:1565', 'NCBITaxon': '9606', 'equivalent_identifiers': ['ENSEMBL:ENSP00000483677', 'UMLS:C1332830', 'UniProtKB:Q5Y7H2', 'UMLS:C3887685', 'OMIM:124030', 'NCBIGene:1565', 'UniProtKB:P10635', 'UniProtKB:C1ID52', 'ENSEMBL:ENSG00000100197', 'PR:P10635', 'ENSEMBL:ENSP00000483677.1', 'HGNC:2625']}], [{'symbol': 'CYP2D6', 'locus_group': 'protein-coding gene', 'name': 'CYP2D6', 'location': '22q13.2', 'taxon': 'NCBITaxon:9606', 'id': 'NCBIGene:1565', 'NCBITaxon': '9606', 'equivalent_identifiers': ['ENSEMBL:ENSP00000483677', 'UMLS:C1332830', 'UniProtKB:Q5Y7H2', 'UMLS:C3887685', 'OMIM:124030', 'NCBIGene:1565', 'UniProtKB:P10635', 'UniProtKB:C1ID52', 'ENSEMBL:ENSG00000100197', 'PR:P10635', 'ENSEMBL:ENSP00000483677.1', 'HGNC:2625']}, ['biolink:genetic_association', {'biolink:primary_knowledge_source': 'infores:ctd', 'biolink:aggregator_knowledge_source': ['infores:pharos']}], {'name': 'Tremor', 'description': 'An unintentional, oscillating to-and-fro muscle movement about a joint axis.', 'id': 'HP:0001337', 'equivalent_identifiers': ['UMLS:C1527384', 'NCIT:C38038', 'MEDDRA:10044562', 'SNOMEDCT:26079004', 'HP:0001337', 'MEDDRA:10044563', 'SNOMEDCT:267079009', 'MESH:D014202', 'UMLS:C0040822', 'MEDDRA:10040528', 'MEDDRA:10044565', 'UMLS:C0234369']}], ['Buprenorphine', 'CYP2D6', 'Tremor']], 'meta': [{'id': 8421444, 'type': 'node', 'deleted': False}, None, None, None, {'id': 5316835, 'type': 'node', 'deleted': False}, {'id': 5316835, 'type': 'node', 'deleted': False}, None, None, None, {'id': 5171187, 'type': 'node', 'deleted': False}, None, None, None]}]}], 'errors': []}\n"
     ]
    }
   ],
   "source": [
    "print(results.json())"
   ]
  },
  {
   "cell_type": "markdown",
   "metadata": {},
   "source": [
    "## Question Builder and ExEmPLAR"
   ]
  },
  {
   "cell_type": "markdown",
   "metadata": {},
   "source": [
    "Two GUI-based tools are available in the form of the ROBOKOP Question Builder `https://robokop.renci.org/question-builder` and ExEmPLAR `https://www.exemplar.mml.unc.edu/`. More details for each of these access methods are provided here: `https://robokop.renci.org/`.  The ROBOKOP Question Builder allows users to build queries by specifying nodes and predicates with the aid of a graph showing what the full query looks like.  This returns a list of pathways with related terms, where each pathway can be expanded to show all individual edges.  The ExEmPLAR tool also allows users to build queries by specifying nodes and predicates, this time returning pathways with all individual edges and only the specific terms used in the query."
   ]
  },
  {
   "cell_type": "markdown",
   "metadata": {},
   "source": [
    "More details on these GUI can be found in `HelloRobokop_Question_Builder.ipynb` for the ROBOKOP Question Builder and in `HelloRobokop_ExEmPLAR.ipynb` for ExEmPLAR."
   ]
  }
 ],
 "metadata": {
  "kernelspec": {
   "display_name": "Python 3",
   "language": "python",
   "name": "python3"
  },
  "language_info": {
   "codemirror_mode": {
    "name": "ipython",
    "version": 3
   },
   "file_extension": ".py",
   "mimetype": "text/x-python",
   "name": "python",
   "nbconvert_exporter": "python",
   "pygments_lexer": "ipython3",
   "version": "3.7.3"
  }
 },
 "nbformat": 4,
 "nbformat_minor": 5
}
