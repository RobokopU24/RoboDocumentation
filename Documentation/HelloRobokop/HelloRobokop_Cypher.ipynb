{
 "cells": [
  {
   "cell_type": "code",
   "execution_count": 1,
   "id": "spatial-chrome",
   "metadata": {},
   "outputs": [],
   "source": [
    "import requests\n",
    "import json"
   ]
  },
  {
   "cell_type": "markdown",
   "id": "33791382-33e1-4db1-8389-965537206813",
   "metadata": {},
   "source": [
    "TRAPI Documentation: https://github.com/NCATSTranslator/ReasonerAPI\n",
    "\n",
    "Most TRAPI documents contain a `message` key.  Within that `message` are a `query_graph` denoting the user query,\n",
    "a `knowledge_graph` consisting of the union of all nodes and edges that match the `query_graph` pattern, and a list of `results` that bind `query_graph` elements to `knowledge_graph` elements.\n",
    "\n",
    "The following message contains only a `query_graph`.  This query graph consists of 3 nodes connected together in a line.   Two of the nodes (`n00` and `n02`) have specified identifiers, while the middle node of the line does not.  Rather the middle node has a list of `categories` that are acceptable.\n",
    "\n",
    "This query asks \"Find me a Biological Process or Activity, or a Gene, or a Pathway that is related to both `PUBCHEM.COMPOUND:644073` (Buprenorphine) and `HP:0001337` (Tremor)."
   ]
  },
  {
   "cell_type": "code",
   "execution_count": 2,
   "id": "93a2e178-0859-436d-9d4f-6f3b2c50bf78",
   "metadata": {},
   "outputs": [],
   "source": [
    "query={\n",
    "    \"message\": {\n",
    "      \"query_graph\": {\n",
    "        \"edges\": {\n",
    "          \"e00\": {\n",
    "            \"subject\": \"n00\",\n",
    "              \"object\": \"n01\",\n",
    "          \"predicates\":[\"biolink:related_to\"]\n",
    "          },\n",
    "          \"e01\": {\n",
    "            \"subject\": \"n01\",\n",
    "              \"object\": \"n02\",\n",
    "          \"predicates\":[\"biolink:related_to\"]\n",
    "          }\n",
    "        },\n",
    "        \"nodes\": {\n",
    "          \"n00\": {\n",
    "            \"ids\": [\"PUBCHEM.COMPOUND:644073\"],\n",
    "            \"categories\": [\"biolink:ChemicalEntity\"]\n",
    "          },\n",
    "          \"n01\": {\n",
    "              \"categories\": [\"biolink:BiologicalProcessOrActivity\",\"biolink:Gene\",\"biolink:Pathway\"]\n",
    "          },\n",
    "          \"n02\": {\n",
    "            \"ids\": [\"HP:0001337\"],\n",
    "            \"categories\": [\"biolink:DiseaseOrPhenotypicFeature\"]\n",
    "          }\n",
    "        }\n",
    "      }\n",
    "    }\n",
    "  }\n"
   ]
  },
  {
   "cell_type": "markdown",
   "id": "younger-affect",
   "metadata": {},
   "source": [
    "You can also bypass TRAPI entirely and just use cypher to talk to the graph.  There are two instances.  There is one at http://robokopkg.renci.org which has a cypher browser on it, or you can write cypher and post it there."
   ]
  },
  {
   "cell_type": "code",
   "execution_count": 26,
   "id": "friendly-russian",
   "metadata": {},
   "outputs": [],
   "source": [
    "from neo4j import GraphDatabase"
   ]
  },
  {
   "cell_type": "code",
   "execution_count": 27,
   "id": "identified-singapore",
   "metadata": {},
   "outputs": [],
   "source": [
    "pw=''\n",
    "driver = GraphDatabase.driver('bolt://robokopkg.renci.org:7687', auth=('neo4j', pw))"
   ]
  },
  {
   "cell_type": "code",
   "execution_count": 30,
   "id": "ready-camping",
   "metadata": {},
   "outputs": [],
   "source": [
    "#cypher = f'MATCH (a:`biolink:Gene`) RETURN a LIMIT 1'\n",
    "cypher = f\"MATCH (n0_0:`biolink:ChemicalEntity`)-[r0_0]-(n1_0:`biolink:Gene`)-[r1_0]-(n2_0:`biolink:DiseaseOrPhenotypicFeature`), (n0_1:`biolink:ChemicalEntity`)-[r0_1]-(n1_1:`biolink:BiologicalProcessOrActivity`)-[r1_1]-(n2_1:`biolink:DiseaseOrPhenotypicFeature`), (n0_2:`biolink:ChemicalEntity`)-[r0_2]-(n1_2:`biolink:Pathway`)-[r1_2]-(n2_2:`biolink:DiseaseOrPhenotypicFeature`) WHERE n1_0.name IN ['CYP2D6'] AND n0_0.name IN ['Buprenorphine'] AND n2_0.name IN ['Tremor'] AND n0_1.name IN ['Buprenorphine'] AND n2_1.name IN ['Tremor'] AND n0_2.name IN ['Buprenorphine'] AND n2_2.name IN ['Tremor'] RETURN * LIMIT 100\"\n",
    "\n",
    "with driver.session() as session:\n",
    "    results = session.run(cypher)\n",
    "    for result in results:\n",
    "        print(result)\n",
    "\n",
    "    #print(results)\n",
    "    if (results) == 0:\n",
    "        print(\"No results found\")\n",
    "\n"
   ]
  },
  {
   "cell_type": "markdown",
   "id": "collectible-burlington",
   "metadata": {},
   "source": [
    "You can also send the cypher through the automat interface instead:"
   ]
  },
  {
   "cell_type": "code",
   "execution_count": 31,
   "id": "fantastic-updating",
   "metadata": {},
   "outputs": [],
   "source": [
    "j = {'query': cypher}\n",
    "results = requests.post('https://automat.renci.org/robokopkg/cypher',json=j)"
   ]
  },
  {
   "cell_type": "code",
   "execution_count": 32,
   "id": "imposed-cross",
   "metadata": {},
   "outputs": [
    {
     "name": "stdout",
     "output_type": "stream",
     "text": [
      "{'results': [{'columns': ['n0_0', 'n0_1', 'n0_2', 'n1_0', 'n1_1', 'n1_2', 'n2_0', 'n2_1', 'n2_2', 'r0_0', 'r0_1', 'r0_2', 'r1_0', 'r1_1', 'r1_2'], 'data': []}], 'errors': []}\n"
     ]
    }
   ],
   "source": [
    "print(results.json())"
   ]
  }
 ],
 "metadata": {
  "kernelspec": {
   "display_name": "Python 3 (ipykernel)",
   "language": "python",
   "name": "python3"
  },
  "language_info": {
   "codemirror_mode": {
    "name": "ipython",
    "version": 3
   },
   "file_extension": ".py",
   "mimetype": "text/x-python",
   "name": "python",
   "nbconvert_exporter": "python",
   "pygments_lexer": "ipython3",
   "version": "3.8.10"
  }
 },
 "nbformat": 4,
 "nbformat_minor": 5
}
