{
 "cells": [
  {
   "cell_type": "code",
   "execution_count": null,
   "id": "83f1d99a",
   "metadata": {},
   "outputs": [],
   "source": [
    "import requests\n",
    "import json"
   ]
  },
  {
   "cell_type": "markdown",
   "id": "60da003a",
   "metadata": {},
   "source": [
    "This document provides a high level overview of the different ways to access ROBOKOP information programmatically. The first two examples rely on the Translator Reasoner API format for both the query submission and return of results. The first TRAPI example is submitted directly to the Automat system, which hosts the ROBOKOP knowledgegraph. This query is submitted without preprocessing and returned without postprocessing of the results. An alternative is the Aragorn interface, which accepts a TRAPI query and returns a TRAPI query. This interface will expand the query to include synonomous concepts and postprocesses the results to score the results for potential relevance. The final two examples illustrate how to query the ROBOKOP knowledgegraph directly using the Neo4j query language Cypher. This includes both a direct query against the standalone instance of the ROBOKOP knowledgegraph as well as the version hosted via the Automat system.  The latter instance is the knowledge source for all TRAPI interfaces.\n",
    "More info about accessing ROBOKOP KG via TRAPI is available in the \"HelloRobokop_TRAPI\" and Cypher options are provided in much more detail in \"HelloRobokop_Cypher\"."
   ]
  },
  {
   "cell_type": "markdown",
   "id": "9205709e",
   "metadata": {},
   "source": [
    "The first example uses the TRAPI format to query the ROBOKOP instance hosted on the Automat system.\n",
    "\n",
    "The TRAPI Documentation is available here: https://github.com/NCATSTranslator/ReasonerAPI\n",
    "\n",
    "Most TRAPI documents contain a `message` key.  Within that `message` are a `query_graph` denoting the user query,\n",
    "a `knowledge_graph` consisting of the union of all nodes and edges that match the `query_graph` pattern, and a list of `results` that bind `query_graph` elements to `knowledge_graph` elements.\n",
    "\n",
    "When a user submits a query, the message contains only the `query_graph`.  The query graph below consists of 3 nodes connected together in a line.   Two of the nodes (`n00` and `n02`) have specified identifiers, while the middle node of the line does not.  Rather the middle node has a list of `categories` that are acceptable. Nodes and edges are specified as defined lists to ensure the correct ordering of output strings at the end of this Notebook. This is not required for running the queries or retrieving results.\n",
    "\n",
    "This query asks \"Find me a Biological Process or Activity, or a Gene, or a Pathway that is related to both `PUBCHEM.COMPOUND:644073` (Buprenorphine) and `HP:0001337` (Tremor)."
   ]
  },
  {
   "cell_type": "code",
   "execution_count": null,
   "id": "e415cad9",
   "metadata": {},
   "outputs": [],
   "source": [
    "edges = [\"e00\", \"e01\"]\n",
    "nodes = [\"n00\", \"n01\", \"n02\"]\n",
    "query={\n",
    "    \"message\": {\n",
    "      \"query_graph\": {\n",
    "        \"edges\": {\n",
    "         edges[0] : {\n",
    "            \"subject\": nodes[0],\n",
    "              \"object\": nodes[1],\n",
    "          \"predicates\":[\"biolink:related_to\"]\n",
    "          },\n",
    "          edges[1]: {\n",
    "            \"subject\": nodes[1],\n",
    "              \"object\": nodes[2],\n",
    "          \"predicates\":[\"biolink:related_to\"]\n",
    "          }\n",
    "        },\n",
    "        \"nodes\": {\n",
    "          nodes[0]: {\n",
    "            \"ids\": [\"PUBCHEM.COMPOUND:644073\"],\n",
    "            \"categories\": [\"biolink:ChemicalEntity\"]\n",
    "          },\n",
    "          nodes[1]: {\n",
    "              \"categories\": [\"biolink:BiologicalProcessOrActivity\",\"biolink:Gene\",\"biolink:Pathway\"]\n",
    "          },\n",
    "          nodes[2]: {\n",
    "            \"ids\": [\"HP:0001337\"],\n",
    "            \"categories\": [\"biolink:DiseaseOrPhenotypicFeature\"]\n",
    "          }\n",
    "        }\n",
    "      }\n",
    "    }\n",
    "  }\n"
   ]
  },
  {
   "cell_type": "markdown",
   "id": "8edbe2fb",
   "metadata": {},
   "source": [
    "This query can be sent to various components of Translator as needed.  It can be sent directly to the ROBOKOP knowledgegraph hosted in the Automat system like this:"
   ]
  },
  {
   "cell_type": "code",
   "execution_count": null,
   "id": "37d91bcd",
   "metadata": {},
   "outputs": [],
   "source": [
    "robokop_submit_url = \"https://automat.renci.org/robokopkg/1.3/query\"\n",
    "response = requests.post(robokop_submit_url,json=query)"
   ]
  },
  {
   "cell_type": "code",
   "execution_count": null,
   "id": "a5d37b00",
   "metadata": {},
   "outputs": [],
   "source": [
    "print(response.status_code)"
   ]
  },
  {
   "cell_type": "code",
   "execution_count": null,
   "id": "b0ee65f5",
   "metadata": {},
   "outputs": [],
   "source": [
    "print(len(response.json()['message']['results']))"
   ]
  },
  {
   "cell_type": "code",
   "execution_count": null,
   "id": "8ae21671",
   "metadata": {},
   "outputs": [],
   "source": [
    "import pprint\n",
    "pp = pprint.PrettyPrinter(indent=5)"
   ]
  },
  {
   "cell_type": "markdown",
   "id": "d80f4eef",
   "metadata": {},
   "source": [
    "The response in JSON form is a python dictionary with three main keys, the `message`, `log_level`, and `workflow`.  The `message` component contains the `query_graph` from the input query, ROBOKOP has added the `knowledge_graph`, and `results` which in combination contain the answer to the query graph. While we'll continue querying the response for the next few sections to reinforce the structure of the response, we'll go ahead and create separate variables for the three components to make future queries easier to read."
   ]
  },
  {
   "cell_type": "code",
   "execution_count": null,
   "id": "9c530e2c",
   "metadata": {},
   "outputs": [],
   "source": [
    "print(response.json().keys())\n",
    "print(response.json()['message'].keys())\n",
    "query_out = response.json()['message']['query_graph']\n",
    "kg = response.json()['message']['knowledge_graph']\n",
    "results = response.json()['message']['results']"
   ]
  },
  {
   "cell_type": "markdown",
   "id": "88a74110",
   "metadata": {},
   "source": [
    "The `results` component contains pathways resulting from the query message. Each pathway is organized into edge_bindings and node bindings and contains identifiers that map to the query elements.  The order of results will change between runs, so the result below could include either `NCBIGene:4988` or `NCBIGene:1565` as the entity associated with the query node `n01`. We'll use the local variable we created above to pull this ID for the current run. This same info could be pulled from the `response.json` object. All of the information about these identifiers, such as name, properties, or sources can be found in the `knowledge_graph` component of the `message` section of the response."
   ]
  },
  {
   "cell_type": "code",
   "execution_count": null,
   "id": "00a65dbc",
   "metadata": {},
   "outputs": [],
   "source": [
    "# Illustrating the structure of each pathway result from the message component\n",
    "pp.pprint(response.json()['message']['results'][0])\n",
    "n01_id = results[0]['node_bindings']['n01'][0]['id']\n",
    "print(n01_id)\n",
    "e00_id = results[0]['edge_bindings']['e00'][0]['id']\n",
    "print(e00_id)"
   ]
  },
  {
   "cell_type": "markdown",
   "id": "e1f9aef2",
   "metadata": {},
   "source": [
    "The `knowledge_graph` contains information about each of the Nodes and Edges found in `results`.  An example of a Node and an Edge are shown below."
   ]
  },
  {
   "cell_type": "code",
   "execution_count": null,
   "id": "3673d5af",
   "metadata": {},
   "outputs": [],
   "source": [
    "pp.pprint(response.json()['message']['knowledge_graph'].keys())"
   ]
  },
  {
   "cell_type": "markdown",
   "id": "af47f6cc",
   "metadata": {},
   "source": [
    "Information returned for the each Node includes the concept ID (key), biolink categories, the name/label, attributes, the value type, and others.  Note that each entry under the `nodes` level is itemized in dictionary format and not lists.  The attributes for `n01` from the result above are shown below. Depending on the ID selected for this run, we can see that this is either the CYP2D6 or OPRM1 gene and get other descriptive information about the gene."
   ]
  },
  {
   "cell_type": "code",
   "execution_count": null,
   "id": "42557ecd",
   "metadata": {},
   "outputs": [],
   "source": [
    "response.json()['message']['knowledge_graph']['nodes'][n01_id]"
   ]
  },
  {
   "cell_type": "markdown",
   "id": "620c0e1e",
   "metadata": {},
   "source": [
    "Information returned for the each Edge includes the edge ID (key), the subject's concept ID, the object's concept ID, the edge's predicate, any qualifiers, and attributes.  Note that each entry under the `edges` level is itemized in dictionary format and not lists.  The content for one of the edges corresponding to e00 in the query graph is shown below. We can see that our buprenorphine compound has been shown to \"affect\" the OPRM1 gene based upon the subject-predicate-object triple that definess the edge. Additional qualifiers provide information like the direction of the effect (decreased in this case). There are also attributes that provide information about the original source of information used to establish the edge relationship."
   ]
  },
  {
   "cell_type": "code",
   "execution_count": null,
   "id": "6139a7e7",
   "metadata": {},
   "outputs": [],
   "source": [
    "response.json()['message']['knowledge_graph']['edges'][e00_id]"
   ]
  },
  {
   "cell_type": "markdown",
   "id": "97d02129",
   "metadata": {},
   "source": [
    "Next we will summarize all results to provide an overview of the different result graphs matching our query. Each node and edge has all the additional info shown above available for further inspection. We will use the lists we created before assembling the initial query graph to ensure that our output is ordered the same way as our original query. We will also use the local variables we created from the `response.json()` object above to access the results and knowledge graph to make the code easier to read. Note that this logic will only work with linear queries such as the example used for this demonstration. If an edge is supported by more than one information source, there will be multiple bindings for a single edge. For our summary, we select the first label, but when interpreting results it is important to evaluate all sources of support for each edge."
   ]
  },
  {
   "cell_type": "code",
   "execution_count": null,
   "id": "33f6a41f",
   "metadata": {},
   "outputs": [],
   "source": [
    "print(nodes)\n",
    "print(edges)\n",
    "pp.pprint(query)\n",
    "pp.pprint(query_out)"
   ]
  },
  {
   "cell_type": "code",
   "execution_count": null,
   "id": "71dbbb22",
   "metadata": {},
   "outputs": [],
   "source": [
    "result_summaries = []\n",
    "for r in results:\n",
    "    rs = \"\"\n",
    "    j = 0\n",
    "    while j < len(nodes):\n",
    "        node_id = r['node_bindings'][nodes[j]][0]['id']\n",
    "        node_name = kg['nodes'][node_id]['name']\n",
    "        rs = rs + f\"{node_name} ({node_id})\"\n",
    "        if j < len(edges):\n",
    "            edge_id = r['edge_bindings'][edges[j]][0]['id']\n",
    "            edge_name = kg['edges'][edge_id]['predicate']\n",
    "            rs = rs + f\"--{edge_name}-->\"\n",
    "        j = j + 1\n",
    "    result_summaries.append(rs)"
   ]
  },
  {
   "cell_type": "code",
   "execution_count": null,
   "id": "74f0e182",
   "metadata": {},
   "outputs": [],
   "source": [
    "for rs in result_summaries:\n",
    "    print(rs)"
   ]
  },
  {
   "cell_type": "markdown",
   "id": "d585d347",
   "metadata": {},
   "source": [
    "The results above are just database matches, there are no scores or other additions.  You can instead send the TRAPI to the robokop application using Aragorn, which performs some additional post-processing of the results."
   ]
  },
  {
   "cell_type": "code",
   "execution_count": null,
   "id": "b87fe79a",
   "metadata": {},
   "outputs": [],
   "source": [
    "ara_robokop_submit_url = \"https://aragorn.renci.org/robokop/query\"\n",
    "response = requests.post(ara_robokop_submit_url,json=query)"
   ]
  },
  {
   "cell_type": "code",
   "execution_count": null,
   "id": "92f8354f",
   "metadata": {},
   "outputs": [],
   "source": [
    "response.status_code"
   ]
  },
  {
   "cell_type": "code",
   "execution_count": null,
   "id": "bb779104",
   "metadata": {},
   "outputs": [],
   "source": [
    "len(response.json()['message']['results'])"
   ]
  },
  {
   "cell_type": "code",
   "execution_count": null,
   "id": "d586584c",
   "metadata": {},
   "outputs": [],
   "source": [
    "pp.pprint(response.json()['message']['results'][0])"
   ]
  },
  {
   "cell_type": "code",
   "execution_count": null,
   "id": "2f080158",
   "metadata": {},
   "outputs": [],
   "source": [
    "for result in response.json()['message']['results']:\n",
    "    print(result['score'])"
   ]
  },
  {
   "cell_type": "code",
   "execution_count": null,
   "id": "45510a04",
   "metadata": {},
   "outputs": [],
   "source": [
    "aragorn_result_summaries = []\n",
    "for r in response.json()['message']['results']:\n",
    "    rs = f\"Score={round(r['score'], 3)}: \"\n",
    "    j = 0\n",
    "    while j < len(nodes):\n",
    "        node_id = r['node_bindings'][nodes[j]][0]['id']\n",
    "        node_name = kg['nodes'][node_id]['name']\n",
    "        rs = rs + f\"{node_name} ({node_id})\"\n",
    "        if j < len(edges):\n",
    "            edge_id = r['edge_bindings'][edges[j]][0]['id']\n",
    "            edge_name = kg['edges'][edge_id]['predicate']\n",
    "            rs = rs + f\"--{edge_name}-->\"\n",
    "        j = j + 1\n",
    "    aragorn_result_summaries.append(rs)"
   ]
  },
  {
   "cell_type": "code",
   "execution_count": null,
   "id": "a3774dc7",
   "metadata": {},
   "outputs": [],
   "source": [
    "for rs in aragorn_result_summaries:\n",
    "    print(rs)"
   ]
  },
  {
   "cell_type": "markdown",
   "id": "fe2f71ed",
   "metadata": {},
   "source": [
    "You can also bypass TRAPI entirely and just use cypher to talk to the graph.  There are two instances.  There is one at http://robokopkg.renci.org which has a cypher browser on it, or you can write cypher and post it there. This requires the neo4j package, which is likely not installed if you haven't accessed a neo4j database before. The code below should work, but if you encounter errors, look into how to best install this package for your local setup."
   ]
  },
  {
   "cell_type": "code",
   "execution_count": null,
   "id": "260ed09b",
   "metadata": {},
   "outputs": [],
   "source": [
    "# Install a pip package in the current Jupyter kernel\n",
    "import sys\n",
    "!{sys.executable} -m pip install neo4j\n",
    "from neo4j import GraphDatabase"
   ]
  },
  {
   "cell_type": "code",
   "execution_count": null,
   "id": "fcbb7319",
   "metadata": {},
   "outputs": [],
   "source": [
    "pw=''\n",
    "driver = GraphDatabase.driver('bolt://robokopkg.renci.org:7687', auth=('neo4j', pw))"
   ]
  },
  {
   "cell_type": "markdown",
   "id": "525ce36a",
   "metadata": {},
   "source": [
    "Cypher queries can be posted to either the neo4j browser at robokopkg.renci.org or through automat at automat.renci.org.  Depending on how the Cypher query is structured, results may be returned differently between the two access points.  The query below is asking for slightly different information than the TRAPI message above.  The TRAPI query asks for results related to `Buprenorphine` and `Tremor` that are of the type `Gene`, `Pathway`, or `BiologicalProcessOrActivity`.  Because no results were present for `Pathway` or `BiologicalProcessOrActivity`, a Cypher query including these would return 0 results, so the below query has been modified to ask for results related to `Buprenorphine` and `Tremor` that are of the type `Gene`."
   ]
  },
  {
   "cell_type": "code",
   "execution_count": null,
   "id": "6577595b",
   "metadata": {},
   "outputs": [],
   "source": [
    "#cypher = f'MATCH (a:`biolink:Gene`) RETURN a LIMIT 1'\n",
    "cypher = f\"MATCH (n0_0:`biolink:ChemicalEntity`)-[r0_0]-(n1_0:`biolink:Gene`)-[r1_0]-(n2_0:`biolink:DiseaseOrPhenotypicFeature`) WHERE n0_0.name IN ['Buprenorphine'] AND n2_0.name IN ['Tremor'] RETURN * LIMIT 100\"\n",
    "with driver.session() as session:\n",
    "    results = session.run(cypher)\n",
    "    for result in results:\n",
    "        print(result)\n",
    "\n",
    "    #print(results)\n",
    "    if (results) == 0:\n",
    "        print(\"No results found\")\n",
    "\n"
   ]
  },
  {
   "cell_type": "markdown",
   "id": "f0dc7ba1",
   "metadata": {},
   "source": [
    "You can also send the cypher through the automat interface instead:"
   ]
  },
  {
   "cell_type": "code",
   "execution_count": null,
   "id": "0ce777f9",
   "metadata": {},
   "outputs": [],
   "source": [
    "j = {'query': cypher}\n",
    "results = requests.post('https://automat.renci.org/robokopkg/cypher',json=j)"
   ]
  },
  {
   "cell_type": "code",
   "execution_count": null,
   "id": "bf1f36b7",
   "metadata": {},
   "outputs": [],
   "source": [
    "print(results)"
   ]
  },
  {
   "cell_type": "code",
   "execution_count": null,
   "id": "21150165",
   "metadata": {},
   "outputs": [],
   "source": [
    "print(results.json())"
   ]
  },
  {
   "cell_type": "code",
   "execution_count": null,
   "id": "d3b4ee7d",
   "metadata": {},
   "outputs": [],
   "source": []
  }
 ],
 "metadata": {
  "kernelspec": {
   "display_name": "Python 3 (ipykernel)",
   "language": "python",
   "name": "python3"
  },
  "language_info": {
   "codemirror_mode": {
    "name": "ipython",
    "version": 3
   },
   "file_extension": ".py",
   "mimetype": "text/x-python",
   "name": "python",
   "nbconvert_exporter": "python",
   "pygments_lexer": "ipython3",
   "version": "3.8.10"
  }
 },
 "nbformat": 4,
 "nbformat_minor": 5
}
