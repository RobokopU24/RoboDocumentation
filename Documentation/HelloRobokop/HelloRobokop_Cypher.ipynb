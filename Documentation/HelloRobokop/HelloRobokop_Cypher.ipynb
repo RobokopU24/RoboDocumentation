{
 "cells": [
  {
   "cell_type": "code",
   "execution_count": 4,
   "metadata": {},
   "outputs": [],
   "source": [
    "# Parameters to input\n",
    "automat_cypher_submit_url = 'https://automat.renci.org/robokopkg/cypher'\n",
    "\n",
    "# Initializing directory to write\n",
    "from datetime import datetime\n",
    "from pathlib import Path\n",
    "\n",
    "now = datetime.now()\n",
    "dt_string = now.strftime(\"%Y-%m-%d_%H%M%S\")\n",
    "write_dir = Path(\"output/Cypher_automat\",str(dt_string))\n",
    "write_dir.mkdir(parents=True, exist_ok=True)"
   ]
  },
  {
   "cell_type": "code",
   "execution_count": 5,
   "metadata": {},
   "outputs": [],
   "source": [
    "import requests\n",
    "import json"
   ]
  },
  {
   "cell_type": "code",
   "execution_count": 6,
   "metadata": {},
   "outputs": [],
   "source": [
    "import pprint\n",
    "pp = pprint.PrettyPrinter(indent=5)"
   ]
  },
  {
   "cell_type": "markdown",
   "metadata": {
    "tags": []
   },
   "source": [
    "In addition to the methods using TRAPI, outlined in `HelloRobokop_TRAPI.ipynb` and `HelloRobokop_TRAPI_multiple_IDs.ipynb`, you can use the Cypher Query Language to talk to the graph.  An intro to using the Cypher Query Language can be found here: https://neo4j.com/developer/cypher/guide-cypher-basics/\n",
    "\n",
    "The example query below asks \"Find me a Gene that is related to both `PUBCHEM.COMPOUND:644073` (Buprenorphine) and `HP:0001337` (Tremor)\"."
   ]
  },
  {
   "cell_type": "code",
   "execution_count": 7,
   "metadata": {},
   "outputs": [],
   "source": [
    "# Buprenorphine -> [Gene] -> Tremor\n",
    "cypher = f\"\"\"MATCH (n0_0:`biolink:ChemicalEntity`)-[r0_0]-(n1_0:`biolink:Gene`)-[r1_0]-(n2_0:`biolink:DiseaseOrPhenotypicFeature`) \n",
    "WHERE n0_0.name IN ['Buprenorphine'] AND n2_0.name IN ['Tremor'] \n",
    "RETURN [startNode(r0_0),[type(r0_0),properties(r0_0)],endNode(r0_0)] as edge_1, \n",
    "[startNode(r1_0),[type(r1_0),properties(r1_0)],endNode(r1_0)] as edge_2, \n",
    "[n0_0.name, n1_0.name, n2_0.name] as node_names LIMIT 100\"\"\"\n"
   ]
  },
  {
   "cell_type": "markdown",
   "metadata": {},
   "source": [
    "The `MATCH` portion tells the structure of the query and names each node and edge. The first node is designated `n0_0` and has the type `biolink:ChemicalEntity`, which is a defined property used in the ROBOKOP KG.  Similarly, the second node is designated `n1_0` with the type `biolink:Gene`, and the third node is designated `n2_0` with the type `biolink:DiseaseOrPhenotypicFeature`.  Between the nodes are the edges, designated `r0_0` for the first edge and `r1_0` for the second edge.\n",
    "\n",
    "The `WHERE` piece restricts the answers returned to those where the name for `n0_0` is `Buprenorphine`  and the name for `n2_0` is `Tremor`. As currently written, this query could be expanded to allow more than one name for either `n0_0` or `n2_0` by adding additional names to the lists defined by the `[ ]` notation in the query. For example, the query could be expanded to include an additional name for `tremor` as follows: `n2_0.name IN ['Tremor', 'Asterixis']`.\n",
    "\n",
    "Three query results are returned in this example in the `RETURN` portion.  The first contains the subject and object nodes and the edge properties of the first edge as `edge_1`.  The second contains the subject and object nodes and the edge properties of the second edge as `edge_2`.  The third contains each of the nodes and their names as `node_names`.\n",
    "\n",
    "Any adjustments made to the `RETURN` section will require further adjustments downstream when extracting results in the sections below.\n",
    "\n",
    "To access the graph using cypher, queries are sent through the automat interface (https://automat.renci.org/robokopkg/cypher) in a json format with an explicitly labeled query field.\n",
    "\n",
    "The data is returned in a JSON format and can be extracted after calling the right property of the resulting JSON string.  The JSON returns each row as a list of ordered columns rather than a format that includes the column labels."
   ]
  },
  {
   "cell_type": "code",
   "execution_count": 9,
   "metadata": {},
   "outputs": [
    {
     "name": "stdout",
     "output_type": "stream",
     "text": [
      "200\n",
      "['edge_1', 'edge_2', 'node_names']\n"
     ]
    }
   ],
   "source": [
    "j = {'query': cypher}\n",
    "results = requests.post(automat_cypher_submit_url,json=j)\n",
    "print(results.status_code)\n",
    "results_json = results.json()\n",
    "print(results_json['results'][0]['columns'])\n",
    "column_names = results_json['results'][0]['columns']"
   ]
  },
  {
   "cell_type": "code",
   "execution_count": 10,
   "metadata": {},
   "outputs": [
    {
     "name": "stdout",
     "output_type": "stream",
     "text": [
      "[    [    {    'CHEBI_ROLE_agonist': True,\n",
      "               'CHEBI_ROLE_analgesic': True,\n",
      "               'CHEBI_ROLE_antagonist': True,\n",
      "               'CHEBI_ROLE_delta_opioid_agent': True,\n",
      "               'CHEBI_ROLE_delta_opioid_receptor_antagonist': True,\n",
      "               'CHEBI_ROLE_drug': True,\n",
      "               'CHEBI_ROLE_kappa_opioid_agent': True,\n",
      "               'CHEBI_ROLE_kappa_opioid_receptor_antagonist': True,\n",
      "               'CHEBI_ROLE_mu_opioid_agent': True,\n",
      "               'CHEBI_ROLE_mu_opioid_receptor_agonist': True,\n",
      "               'CHEBI_ROLE_neurotransmitter_agent': True,\n",
      "               'CHEBI_ROLE_opioid_agent': True,\n",
      "               'CHEBI_ROLE_opioid_analgesic': True,\n",
      "               'CHEBI_ROLE_opioid_receptor_agonist': True,\n",
      "               'CHEBI_ROLE_opioid_receptor_antagonist': True,\n",
      "               'CHEBI_ROLE_pharmaceutical': True,\n",
      "               'CHEBI_ROLE_pharmacological_role': True,\n",
      "               'alogs': -4.44,\n",
      "               'arom_c': 6,\n",
      "               'cd_formula': 'C29H41NO4',\n",
      "               'cd_molweight': 467.65,\n",
      "               'clogp': 3.99,\n",
      "               'description': 'A morphinane alkaloid that is '\n",
      "                              '7,8-dihydromorphine 6-O-methyl ether in which '\n",
      "                              'positions 6 and 14 are joined by a -CH2CH2- '\n",
      "                              'bridge, one of the hydrogens of the N-methyl '\n",
      "                              'group is substituted by cyclopropyl, and a '\n",
      "                              'hydrogen at position 7 is substituted by a '\n",
      "                              '2-hydroxy-3,3-dimethylbutan-2-yl group. It is '\n",
      "                              'highly effective for the treatment of opioid '\n",
      "                              'use disorder and is also increasingly being '\n",
      "                              'used in the treatment of chronic pain.',\n",
      "               'equivalent_identifiers': [    'GTOPDB:1670',\n",
      "                                              'CAS:52485-79-7',\n",
      "                                              'INCHIKEY:RMRJXGBAOAMLHD-IHFGGWKQSA-N',\n",
      "                                              'CHEBI:3216',\n",
      "                                              'CHEMBL.COMPOUND:CHEMBL560511',\n",
      "                                              'HMDB:HMDB0015057',\n",
      "                                              'UNII:40D3SCR4GZ',\n",
      "                                              'KEGG.COMPOUND:C08007',\n",
      "                                              'DrugCentral:434',\n",
      "                                              'DRUGBANK:DB00921',\n",
      "                                              'PUBCHEM.COMPOUND:644073',\n",
      "                                              'MESH:D002047',\n",
      "                                              'UMLS:C0006405'],\n",
      "               'fda_labels': 74,\n",
      "               'halogen': 0,\n",
      "               'hetero_sp2_c': 0,\n",
      "               'id': 'PUBCHEM.COMPOUND:644073',\n",
      "               'information_content': 100.0,\n",
      "               'lipinski': 0,\n",
      "               'mrdef': 'A derivative of the opioid alkaloid THEBAINE that is '\n",
      "                        'a more potent and longer lasting analgesic than '\n",
      "                        'MORPHINE. It appears to act as a partial agonist at '\n",
      "                        'mu and kappa opioid receptors and as an antagonist at '\n",
      "                        'delta receptors. The lack of delta-agonist activity '\n",
      "                        'has been suggested to account for the observation '\n",
      "                        'that buprenorphine tolerance may not develop with '\n",
      "                        'chronic use.',\n",
      "               'name': 'Buprenorphine',\n",
      "               'o_n': 5,\n",
      "               'oh_nh': 2,\n",
      "               'rgb': 28,\n",
      "               'rotb': 5,\n",
      "               'smiles': 'CO[C@]12CC[C@@]3(C[C@@H]1[C@](C)(O)C(C)(C)C)[C@H]1CC4=CC=C(O)C5=C4[C@@]3(CCN1CC1CC1)[C@H]2O5',\n",
      "               'sp2_c': 0,\n",
      "               'sp3_c': 23,\n",
      "               'sp_c': 0,\n",
      "               'status': 'OFP',\n",
      "               'tpsa': 62.16},\n",
      "          [    'biolink:affects',\n",
      "               {    'NCBITaxon': '9606',\n",
      "                    'biolink:primary_knowledge_source': 'infores:ctd',\n",
      "                    'description': 'decreases activity of',\n",
      "                    'object_aspect_qualifier': 'activity',\n",
      "                    'object_direction_qualifier': 'decreased',\n",
      "                    'publications': ['PMID:12756210'],\n",
      "                    'qualified_predicate': 'biolink:causes'}],\n",
      "          {    'NCBITaxon': '9606',\n",
      "               'equivalent_identifiers': [    'ENSEMBL:ENSP00000483677',\n",
      "                                              'UMLS:C1332830',\n",
      "                                              'UniProtKB:Q5Y7H2',\n",
      "                                              'UMLS:C3887685',\n",
      "                                              'OMIM:124030',\n",
      "                                              'NCBIGene:1565',\n",
      "                                              'UniProtKB:P10635',\n",
      "                                              'UniProtKB:C1ID52',\n",
      "                                              'ENSEMBL:ENSG00000100197',\n",
      "                                              'PR:P10635',\n",
      "                                              'ENSEMBL:ENSP00000483677.1',\n",
      "                                              'HGNC:2625'],\n",
      "               'id': 'NCBIGene:1565',\n",
      "               'location': '22q13.2',\n",
      "               'locus_group': 'protein-coding gene',\n",
      "               'name': 'CYP2D6',\n",
      "               'symbol': 'CYP2D6',\n",
      "               'taxon': 'NCBITaxon:9606'}],\n",
      "     [    {    'NCBITaxon': '9606',\n",
      "               'equivalent_identifiers': [    'ENSEMBL:ENSP00000483677',\n",
      "                                              'UMLS:C1332830',\n",
      "                                              'UniProtKB:Q5Y7H2',\n",
      "                                              'UMLS:C3887685',\n",
      "                                              'OMIM:124030',\n",
      "                                              'NCBIGene:1565',\n",
      "                                              'UniProtKB:P10635',\n",
      "                                              'UniProtKB:C1ID52',\n",
      "                                              'ENSEMBL:ENSG00000100197',\n",
      "                                              'PR:P10635',\n",
      "                                              'ENSEMBL:ENSP00000483677.1',\n",
      "                                              'HGNC:2625'],\n",
      "               'id': 'NCBIGene:1565',\n",
      "               'location': '22q13.2',\n",
      "               'locus_group': 'protein-coding gene',\n",
      "               'name': 'CYP2D6',\n",
      "               'symbol': 'CYP2D6',\n",
      "               'taxon': 'NCBITaxon:9606'},\n",
      "          [    'biolink:genetic_association',\n",
      "               {    'biolink:aggregator_knowledge_source': ['infores:pharos'],\n",
      "                    'biolink:primary_knowledge_source': 'infores:disgenet',\n",
      "                    'score': 0.3}],\n",
      "          {    'description': 'An unintentional, oscillating to-and-fro muscle '\n",
      "                              'movement about a joint axis.',\n",
      "               'equivalent_identifiers': [    'UMLS:C1527384',\n",
      "                                              'NCIT:C38038',\n",
      "                                              'MEDDRA:10044562',\n",
      "                                              'SNOMEDCT:26079004',\n",
      "                                              'HP:0001337',\n",
      "                                              'MEDDRA:10044563',\n",
      "                                              'SNOMEDCT:267079009',\n",
      "                                              'MESH:D014202',\n",
      "                                              'UMLS:C0040822',\n",
      "                                              'MEDDRA:10040528',\n",
      "                                              'MEDDRA:10044565',\n",
      "                                              'UMLS:C0234369'],\n",
      "               'id': 'HP:0001337',\n",
      "               'name': 'Tremor'}],\n",
      "     ['Buprenorphine', 'CYP2D6', 'Tremor']]\n"
     ]
    }
   ],
   "source": [
    "pp.pprint(results_json['results'][0]['data'][0]['row'])"
   ]
  },
  {
   "cell_type": "markdown",
   "metadata": {},
   "source": [
    "The code below extracts results based on the structure of the original cypher query in the section above.  Any changes to the `RETURN` part of the query will require adjustments to the code below."
   ]
  },
  {
   "cell_type": "code",
   "execution_count": 11,
   "metadata": {},
   "outputs": [
    {
     "name": "stdout",
     "output_type": "stream",
     "text": [
      "Buprenorphine_CYP2D6_Tremor\n",
      "{    'Buprenorphine -> biolink:affects -> CYP2D6': 1,\n",
      "     'Buprenorphine -> biolink:directly_physically_interacts_with -> CYP2D6': 1,\n",
      "     'Buprenorphine -> biolink:regulates -> CYP2D6': 1,\n",
      "     'CYP2D6 -> biolink:affects -> Buprenorphine': 1,\n",
      "     'CYP2D6 -> biolink:genetic_association -> Tremor': 2}\n"
     ]
    }
   ],
   "source": [
    "import os\n",
    "from collections import Counter\n",
    "\n",
    "string_out_list = []\n",
    "for result in results_json['results'][0]['data']:\n",
    "    for item in result['row'][0:2]:\n",
    "        string_out = f\"{item[0]['name']} -> {item[1][0]} -> {item[2]['name']}||{item[1][1]}\"\n",
    "        if string_out not in string_out_list:\n",
    "            string_out_list.append(string_out)\n",
    "    \n",
    "combined_node_list = \"_\".join(results_json['results'][0]['data'][0]['row'][2]).replace(\" \", \"_\")\n",
    "print(combined_node_list)\n",
    "\n",
    "string_out_list = [i.split('||', 1)[0] for i in string_out_list]\n",
    "\n",
    "string_out_dict = dict(Counter(string_out_list).items())\n",
    "pp.pprint(string_out_dict)\n",
    "\n",
    "with open(os.path.join(write_dir,combined_node_list+\".txt\"), 'w') as convert_file:\n",
    "    convert_file.write(json.dumps(string_out_dict))"
   ]
  },
  {
   "cell_type": "markdown",
   "metadata": {},
   "source": [
    "An additional notebook containing information about other access methods using Cypher, including through the ROBOKOP KG can be found in `HelloRobokop_RobokopKG.ipynb`."
   ]
  },
  {
   "cell_type": "code",
   "execution_count": null,
   "metadata": {},
   "outputs": [],
   "source": []
  }
 ],
 "metadata": {
  "kernelspec": {
   "display_name": "Python 3",
   "language": "python",
   "name": "python3"
  },
  "language_info": {
   "codemirror_mode": {
    "name": "ipython",
    "version": 3
   },
   "file_extension": ".py",
   "mimetype": "text/x-python",
   "name": "python",
   "nbconvert_exporter": "python",
   "pygments_lexer": "ipython3",
   "version": "3.7.3"
  }
 },
 "nbformat": 4,
 "nbformat_minor": 5
}
