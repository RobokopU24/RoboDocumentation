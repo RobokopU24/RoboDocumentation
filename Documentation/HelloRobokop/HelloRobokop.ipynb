{
 "cells": [
  {
   "cell_type": "code",
   "execution_count": 1,
   "metadata": {},
   "outputs": [],
   "source": [
    "import requests\n",
    "import json"
   ]
  },
  {
   "cell_type": "markdown",
   "metadata": {},
   "source": [
    "This document provides a high level overview of the different ways to access ROBOKOP information programmatically. The first two examples rely on the Translator Reasoner API format for both the query submission and return of results. The first TRAPI example is submitted directly to the Automat system, which hosts the ROBOKOP knowledgegraph. This query is submitted without preprocessing and returned without postprocessing of the results. An alternative is the Aragorn interface, which accepts a TRAPI query and returns a TRAPI query. This interface will expand the query to include synonomous concepts and postprocesses the results to score the results for potential relevance. The final two examples illustrate how to query the ROBOKOP knowledgegraph directly using the Neo4j query language Cypher. This includes both a direct query against the standalone instance of the ROBOKOP knowledgegraph as well as the version hosted via the Automat system.  The latter instance is the knowledge source for all TRAPI interfaces.\n",
    "More info about accessing ROBOKOP KG via TRAPI is available in the \"HelloRobokop_TRAPI\" and Cypher options are provided in much more detail in \"HelloRobokop_Cypher\"."
   ]
  },
  {
   "cell_type": "markdown",
   "metadata": {},
   "source": [
    "The first example uses the TRAPI format to query the ROBOKOP instance hosted on the Automat system.\n",
    "\n",
    "The TRAPI Documentation is available here: https://github.com/NCATSTranslator/ReasonerAPI\n",
    "\n",
    "Most TRAPI documents contain a `message` key.  Within that `message` are a `query_graph` denoting the user query,\n",
    "a `knowledge_graph` consisting of the union of all nodes and edges that match the `query_graph` pattern, and a list of `results` that bind `query_graph` elements to `knowledge_graph` elements.\n",
    "\n",
    "When a user submits a query, the message contains only the `query_graph`.  The query graph below consists of 3 nodes connected together in a line.   Two of the nodes (`n00` and `n02`) have specified identifiers, while the middle node of the line does not.  Rather the middle node has a list of `categories` that are acceptable. Nodes and edges are specified as defined lists to ensure the correct ordering of output strings at the end of this Notebook. This is not required for running the queries or retrieving results.\n",
    "\n",
    "This query asks \"Find me a Biological Process or Activity, or a Gene, or a Pathway that is related to both `PUBCHEM.COMPOUND:644073` (Buprenorphine) and `HP:0001337` (Tremor)."
   ]
  },
  {
   "cell_type": "code",
   "execution_count": 2,
   "metadata": {},
   "outputs": [],
   "source": [
    "edges = [\"e00\", \"e01\"]\n",
    "nodes = [\"n00\", \"n01\", \"n02\"]\n",
    "query={\n",
    "    \"message\": {\n",
    "      \"query_graph\": {\n",
    "        \"edges\": {\n",
    "         edges[0] : {\n",
    "            \"subject\": nodes[0],\n",
    "              \"object\": nodes[1],\n",
    "          \"predicates\":[\"biolink:related_to\"]\n",
    "          },\n",
    "          edges[1]: {\n",
    "            \"subject\": nodes[1],\n",
    "              \"object\": nodes[2],\n",
    "          \"predicates\":[\"biolink:related_to\"]\n",
    "          }\n",
    "        },\n",
    "        \"nodes\": {\n",
    "          nodes[0]: {\n",
    "            \"ids\": [\"PUBCHEM.COMPOUND:644073\"],\n",
    "            \"categories\": [\"biolink:ChemicalEntity\"]\n",
    "          },\n",
    "          nodes[1]: {\n",
    "              \"categories\": [\"biolink:BiologicalProcessOrActivity\",\"biolink:Gene\",\"biolink:Pathway\"]\n",
    "          },\n",
    "          nodes[2]: {\n",
    "            \"ids\": [\"HP:0001337\"],\n",
    "            \"categories\": [\"biolink:DiseaseOrPhenotypicFeature\"]\n",
    "          }\n",
    "        }\n",
    "      }\n",
    "    }\n",
    "  }\n"
   ]
  },
  {
   "cell_type": "markdown",
   "metadata": {},
   "source": [
    "This query can be sent to various components of Translator as needed.  It can be sent directly to the ROBOKOP knowledgegraph hosted in the Automat system like this:"
   ]
  },
  {
   "cell_type": "code",
   "execution_count": 5,
   "metadata": {},
   "outputs": [],
   "source": [
    "robokop_submit_url = \"http://automat-u24.apps.renci.org/robokopkg/1.3/query\"\n",
    "response = requests.post(robokop_submit_url,json=query)"
   ]
  },
  {
   "cell_type": "code",
   "execution_count": 6,
   "metadata": {},
   "outputs": [
    {
     "name": "stdout",
     "output_type": "stream",
     "text": [
      "200\n"
     ]
    }
   ],
   "source": [
    "print(response.status_code)"
   ]
  },
  {
   "cell_type": "code",
   "execution_count": 7,
   "metadata": {},
   "outputs": [
    {
     "name": "stdout",
     "output_type": "stream",
     "text": [
      "7\n"
     ]
    }
   ],
   "source": [
    "print(len(response.json()['message']['results']))"
   ]
  },
  {
   "cell_type": "code",
   "execution_count": 8,
   "metadata": {},
   "outputs": [],
   "source": [
    "import pprint\n",
    "pp = pprint.PrettyPrinter(indent=5)"
   ]
  },
  {
   "cell_type": "markdown",
   "metadata": {},
   "source": [
    "The response in JSON form is a python dictionary with three main keys, the `message`, `log_level`, and `workflow`.  The `message` component contains the `query_graph` from the input query, ROBOKOP has added the `knowledge_graph`, and `results` which in combination contain the answer to the query graph. While we'll continue querying the response for the next few sections to reinforce the structure of the response, we'll go ahead and create separate variables for the three components to make future queries easier to read."
   ]
  },
  {
   "cell_type": "code",
   "execution_count": 9,
   "metadata": {},
   "outputs": [
    {
     "name": "stdout",
     "output_type": "stream",
     "text": [
      "dict_keys(['message', 'log_level', 'workflow'])\n",
      "dict_keys(['query_graph', 'knowledge_graph', 'results'])\n"
     ]
    }
   ],
   "source": [
    "print(response.json().keys())\n",
    "print(response.json()['message'].keys())\n",
    "query_out = response.json()['message']['query_graph']\n",
    "kg = response.json()['message']['knowledge_graph']\n",
    "results = response.json()['message']['results']"
   ]
  },
  {
   "cell_type": "markdown",
   "metadata": {},
   "source": [
    "The `results` component contains pathways resulting from the query message. Each pathway is organized into edge_bindings and node bindings and contains identifiers that map to the query elements.  The order of results will change between runs, so the result below could include either `NCBIGene:4988` or `NCBIGene:1565` as the entity associated with the query node `n01`. We'll use the local variable we created above to pull this ID for the current run. This same info could be pulled from the `response.json` object. All of the information about these identifiers, such as name, properties, or sources can be found in the `knowledge_graph` component of the `message` section of the response."
   ]
  },
  {
   "cell_type": "code",
   "execution_count": 10,
   "metadata": {},
   "outputs": [
    {
     "name": "stdout",
     "output_type": "stream",
     "text": [
      "{    'edge_bindings': {    'e00': [    {'attributes': None, 'id': '79325668'},\n",
      "                                       {'attributes': None, 'id': '113499113'},\n",
      "                                       {'attributes': None, 'id': '88245379'},\n",
      "                                       {'attributes': None, 'id': '8608859'}],\n",
      "                           'e01': [{'attributes': None, 'id': '76822934'}]},\n",
      "     'node_bindings': {    'n00': [    {    'attributes': None,\n",
      "                                            'id': 'PUBCHEM.COMPOUND:644073',\n",
      "                                            'qnode_id': 'PUBCHEM.COMPOUND:644073',\n",
      "                                            'query_id': None}],\n",
      "                           'n01': [    {    'attributes': None,\n",
      "                                            'id': 'NCBIGene:1565',\n",
      "                                            'query_id': None}],\n",
      "                           'n02': [    {    'attributes': None,\n",
      "                                            'id': 'HP:0200085',\n",
      "                                            'qnode_id': 'HP:0001337',\n",
      "                                            'query_id': None}]},\n",
      "     'score': None}\n",
      "NCBIGene:1565\n",
      "79325668\n"
     ]
    }
   ],
   "source": [
    "# Illustrating the structure of each pathway result from the message component\n",
    "pp.pprint(response.json()['message']['results'][0])\n",
    "n01_id = results[0]['node_bindings']['n01'][0]['id']\n",
    "print(n01_id)\n",
    "e00_id = results[0]['edge_bindings']['e00'][0]['id']\n",
    "print(e00_id)"
   ]
  },
  {
   "cell_type": "markdown",
   "metadata": {},
   "source": [
    "The `knowledge_graph` contains information about each of the Nodes and Edges found in `results`.  An example of a Node and an Edge are shown below."
   ]
  },
  {
   "cell_type": "code",
   "execution_count": 11,
   "metadata": {},
   "outputs": [
    {
     "name": "stdout",
     "output_type": "stream",
     "text": [
      "dict_keys(['nodes', 'edges'])\n"
     ]
    }
   ],
   "source": [
    "pp.pprint(response.json()['message']['knowledge_graph'].keys())"
   ]
  },
  {
   "cell_type": "markdown",
   "metadata": {},
   "source": [
    "Information returned for the each Node includes the concept ID (key), biolink categories, the name/label, attributes, the value type, and others.  Note that each entry under the `nodes` level is itemized in dictionary format and not lists.  The attributes for `n01` from the result above are shown below. Depending on the ID selected for this run, we can see that this is either the CYP2D6 or OPRM1 gene and get other descriptive information about the gene."
   ]
  },
  {
   "cell_type": "code",
   "execution_count": 12,
   "metadata": {},
   "outputs": [
    {
     "data": {
      "text/plain": [
       "{'categories': ['biolink:GeneOrGeneProduct',\n",
       "  'biolink:BiologicalEntity',\n",
       "  'biolink:NamedThing',\n",
       "  'biolink:ChemicalEntityOrGeneOrGeneProduct',\n",
       "  'biolink:MacromolecularMachineMixin',\n",
       "  'biolink:Gene',\n",
       "  'biolink:Entity',\n",
       "  'biolink:ChemicalEntityOrProteinOrPolypeptide',\n",
       "  'biolink:GeneProductMixin',\n",
       "  'biolink:OntologyClass',\n",
       "  'biolink:PhysicalEssence',\n",
       "  'biolink:Polypeptide',\n",
       "  'biolink:GenomicEntity',\n",
       "  'biolink:Protein',\n",
       "  'biolink:ThingWithTaxon',\n",
       "  'biolink:PhysicalEssenceOrOccurrent'],\n",
       " 'name': 'CYP2D6',\n",
       " 'attributes': [{'attribute_type_id': 'biolink:Attribute',\n",
       "   'value': '22q13.2',\n",
       "   'value_type_id': 'EDAM:data_0006',\n",
       "   'original_attribute_name': 'location',\n",
       "   'value_url': None,\n",
       "   'attribute_source': None,\n",
       "   'description': None,\n",
       "   'attributes': None},\n",
       "  {'attribute_type_id': 'biolink:Attribute',\n",
       "   'value': 'protein-coding gene',\n",
       "   'value_type_id': 'EDAM:data_0006',\n",
       "   'original_attribute_name': 'locus_group',\n",
       "   'value_url': None,\n",
       "   'attribute_source': None,\n",
       "   'description': None,\n",
       "   'attributes': None},\n",
       "  {'attribute_type_id': 'biolink:same_as',\n",
       "   'value': ['ENSEMBL:ENSP00000483677',\n",
       "    'UMLS:C1332830',\n",
       "    'UniProtKB:Q5Y7H2',\n",
       "    'UMLS:C3887685',\n",
       "    'OMIM:124030',\n",
       "    'NCBIGene:1565',\n",
       "    'UniProtKB:P10635',\n",
       "    'UniProtKB:C1ID52',\n",
       "    'ENSEMBL:ENSG00000100197',\n",
       "    'PR:P10635',\n",
       "    'ENSEMBL:ENSP00000483677.1',\n",
       "    'HGNC:2625'],\n",
       "   'value_type_id': 'metatype:uriorcurie',\n",
       "   'original_attribute_name': 'equivalent_identifiers',\n",
       "   'value_url': None,\n",
       "   'attribute_source': None,\n",
       "   'description': None,\n",
       "   'attributes': None},\n",
       "  {'attribute_type_id': 'biolink:Attribute',\n",
       "   'value': 'NCBITaxon:9606',\n",
       "   'value_type_id': 'EDAM:data_0006',\n",
       "   'original_attribute_name': 'taxon',\n",
       "   'value_url': None,\n",
       "   'attribute_source': None,\n",
       "   'description': None,\n",
       "   'attributes': None},\n",
       "  {'attribute_type_id': 'biolink:Attribute',\n",
       "   'value': '9606',\n",
       "   'value_type_id': 'EDAM:data_0006',\n",
       "   'original_attribute_name': 'NCBITaxon',\n",
       "   'value_url': None,\n",
       "   'attribute_source': None,\n",
       "   'description': None,\n",
       "   'attributes': None},\n",
       "  {'attribute_type_id': 'biolink:symbol',\n",
       "   'value': 'CYP2D6',\n",
       "   'value_type_id': 'EDAM:data_0006',\n",
       "   'original_attribute_name': 'symbol',\n",
       "   'value_url': None,\n",
       "   'attribute_source': None,\n",
       "   'description': None,\n",
       "   'attributes': None}]}"
      ]
     },
     "execution_count": 12,
     "metadata": {},
     "output_type": "execute_result"
    }
   ],
   "source": [
    "response.json()['message']['knowledge_graph']['nodes'][n01_id]"
   ]
  },
  {
   "cell_type": "markdown",
   "metadata": {},
   "source": [
    "Information returned for the each Edge includes the edge ID (key), the subject's concept ID, the object's concept ID, the edge's predicate, any qualifiers, and attributes.  Note that each entry under the `edges` level is itemized in dictionary format and not lists.  The content for one of the edges corresponding to e00 in the query graph is shown below. We can see that our buprenorphine compound has been shown to \"affect\" the OPRM1 gene based upon the subject-predicate-object triple that definess the edge. Additional qualifiers provide information like the direction of the effect (decreased in this case). There are also attributes that provide information about the original source of information used to establish the edge relationship."
   ]
  },
  {
   "cell_type": "code",
   "execution_count": 13,
   "metadata": {},
   "outputs": [
    {
     "data": {
      "text/plain": [
       "{'subject': 'PUBCHEM.COMPOUND:644073',\n",
       " 'object': 'NCBIGene:1565',\n",
       " 'predicate': 'biolink:regulates',\n",
       " 'qualifiers': [{'qualifier_type_id': 'biolink:object_direction_qualifier',\n",
       "   'qualifier_value': 'downregulated'}],\n",
       " 'attributes': [{'attribute_type_id': 'biolink:Attribute',\n",
       "   'value': ['tmkp:12699a64cae70b20411935b5e5028d220ccbe4f7a0ad13a81978026cb43111bf'],\n",
       "   'value_type_id': 'EDAM:data_0006',\n",
       "   'original_attribute_name': 'tmkp_ids',\n",
       "   'value_url': None,\n",
       "   'attribute_source': None,\n",
       "   'description': None,\n",
       "   'attributes': None},\n",
       "  {'attribute_type_id': 'biolink:Attribute',\n",
       "   'value': '0.99969625',\n",
       "   'value_type_id': 'EDAM:data_0006',\n",
       "   'original_attribute_name': 'biolink:tmkp_confidence_score',\n",
       "   'value_url': None,\n",
       "   'attribute_source': None,\n",
       "   'description': None,\n",
       "   'attributes': None},\n",
       "  {'attribute_type_id': 'biolink:Attribute',\n",
       "   'value': 'Buprenorphine exhibited potent, competitive inhibition of CYP2D6 (Ki 10 +/- 2 microM and 1.8 +/- 0.2 microM) and CYP3A4 (Ki 40 +/- 1.6 microM and 19 +/- 1.2 microM) in microsomes from human liver and cDNA-expressing lymphoblasts, respectively.|PMID:12756210',\n",
       "   'value_type_id': 'EDAM:data_0006',\n",
       "   'original_attribute_name': 'sentences',\n",
       "   'value_url': None,\n",
       "   'attribute_source': None,\n",
       "   'description': None,\n",
       "   'attributes': None},\n",
       "  {'attribute_type_id': 'biolink:primary_knowledge_source',\n",
       "   'value': 'infores:textminingkp',\n",
       "   'value_type_id': 'biolink:InformationResource',\n",
       "   'original_attribute_name': 'biolink:primary_knowledge_source',\n",
       "   'value_url': None,\n",
       "   'attribute_source': 'infores:automat-robokop',\n",
       "   'description': None,\n",
       "   'attributes': None},\n",
       "  {'attribute_type_id': 'biolink:publications',\n",
       "   'value': ['PMID:12756210'],\n",
       "   'value_type_id': 'EDAM:data_0006',\n",
       "   'original_attribute_name': 'publications',\n",
       "   'value_url': None,\n",
       "   'attribute_source': None,\n",
       "   'description': None,\n",
       "   'attributes': None},\n",
       "  {'attribute_type_id': 'biolink:aggregator_knowledge_source',\n",
       "   'value': ['infores:automat-robokop'],\n",
       "   'value_type_id': 'biolink:InformationResource',\n",
       "   'original_attribute_name': 'biolink:aggregator_knowledge_source',\n",
       "   'value_url': None,\n",
       "   'attribute_source': 'infores:automat-robokop',\n",
       "   'description': None,\n",
       "   'attributes': None}]}"
      ]
     },
     "execution_count": 13,
     "metadata": {},
     "output_type": "execute_result"
    }
   ],
   "source": [
    "response.json()['message']['knowledge_graph']['edges'][e00_id]"
   ]
  },
  {
   "cell_type": "markdown",
   "metadata": {},
   "source": [
    "Next we will summarize all results to provide an overview of the different result graphs matching our query. Each node and edge has all the additional info shown above available for further inspection. We will use the lists we created before assembling the initial query graph to ensure that our output is ordered the same way as our original query. We will also use the local variables we created from the `response.json()` object above to access the results and knowledge graph to make the code easier to read. Note that this logic will only work with linear queries such as the example used for this demonstration. If an edge is supported by more than one information source, there will be multiple bindings for a single edge. For our summary, we select the first label, but when interpreting results it is important to evaluate all sources of support for each edge."
   ]
  },
  {
   "cell_type": "code",
   "execution_count": 14,
   "metadata": {},
   "outputs": [
    {
     "name": "stdout",
     "output_type": "stream",
     "text": [
      "['n00', 'n01', 'n02']\n",
      "['e00', 'e01']\n",
      "{    'message': {    'query_graph': {    'edges': {    'e00': {    'object': 'n01',\n",
      "                                                                   'predicates': [    'biolink:related_to'],\n",
      "                                                                   'subject': 'n00'},\n",
      "                                                       'e01': {    'object': 'n02',\n",
      "                                                                   'predicates': [    'biolink:related_to'],\n",
      "                                                                   'subject': 'n01'}},\n",
      "                                         'nodes': {    'n00': {    'categories': [    'biolink:ChemicalEntity'],\n",
      "                                                                   'ids': [    'PUBCHEM.COMPOUND:644073']},\n",
      "                                                       'n01': {    'categories': [    'biolink:BiologicalProcessOrActivity',\n",
      "                                                                                      'biolink:Gene',\n",
      "                                                                                      'biolink:Pathway']},\n",
      "                                                       'n02': {    'categories': [    'biolink:DiseaseOrPhenotypicFeature'],\n",
      "                                                                   'ids': [    'HP:0001337']}}}}}\n",
      "{    'edges': {    'e00': {    'attribute_constraints': [],\n",
      "                               'knowledge_type': None,\n",
      "                               'object': 'n01',\n",
      "                               'predicates': ['biolink:related_to'],\n",
      "                               'qualifier_constraints': [],\n",
      "                               'subject': 'n00'},\n",
      "                   'e01': {    'attribute_constraints': [],\n",
      "                               'knowledge_type': None,\n",
      "                               'object': 'n02',\n",
      "                               'predicates': ['biolink:related_to'],\n",
      "                               'qualifier_constraints': [],\n",
      "                               'subject': 'n01'}},\n",
      "     'nodes': {    'n00': {    'categories': ['biolink:ChemicalEntity'],\n",
      "                               'constraints': [],\n",
      "                               'ids': ['PUBCHEM.COMPOUND:644073'],\n",
      "                               'is_set': False},\n",
      "                   'n01': {    'categories': [    'biolink:BiologicalProcessOrActivity',\n",
      "                                                  'biolink:Gene',\n",
      "                                                  'biolink:Pathway'],\n",
      "                               'constraints': [],\n",
      "                               'ids': None,\n",
      "                               'is_set': False},\n",
      "                   'n02': {    'categories': [    'biolink:DiseaseOrPhenotypicFeature'],\n",
      "                               'constraints': [],\n",
      "                               'ids': ['HP:0001337'],\n",
      "                               'is_set': False}}}\n"
     ]
    }
   ],
   "source": [
    "print(nodes)\n",
    "print(edges)\n",
    "pp.pprint(query)\n",
    "pp.pprint(query_out)"
   ]
  },
  {
   "cell_type": "code",
   "execution_count": 15,
   "metadata": {},
   "outputs": [],
   "source": [
    "result_summaries = []\n",
    "for r in results:\n",
    "    rs = \"\"\n",
    "    j = 0\n",
    "    while j < len(nodes):\n",
    "        node_id = r['node_bindings'][nodes[j]][0]['id']\n",
    "        node_name = kg['nodes'][node_id]['name']\n",
    "        rs = rs + f\"{node_name} ({node_id})\"\n",
    "        if j < len(edges):\n",
    "            edge_id = r['edge_bindings'][edges[j]][0]['id']\n",
    "            edge_name = kg['edges'][edge_id]['predicate']\n",
    "            rs = rs + f\"--{edge_name}-->\"\n",
    "        j = j + 1\n",
    "    result_summaries.append(rs)"
   ]
  },
  {
   "cell_type": "code",
   "execution_count": 16,
   "metadata": {},
   "outputs": [
    {
     "name": "stdout",
     "output_type": "stream",
     "text": [
      "Buprenorphine (PUBCHEM.COMPOUND:644073)--biolink:regulates-->CYP2D6 (NCBIGene:1565)--biolink:genetic_association-->Limb tremor (HP:0200085)\n",
      "Buprenorphine (PUBCHEM.COMPOUND:644073)--biolink:regulates-->CYP2D6 (NCBIGene:1565)--biolink:genetic_association-->Action tremor (HP:0002345)\n",
      "Buprenorphine (PUBCHEM.COMPOUND:644073)--biolink:regulates-->CYP2D6 (NCBIGene:1565)--biolink:genetic_association-->Resting tremor (HP:0002322)\n",
      "Buprenorphine (PUBCHEM.COMPOUND:644073)--biolink:directly_physically_interacts_with-->OPRM1 (NCBIGene:4988)--biolink:genetic_association-->Asterixis (HP:0012164)\n",
      "Buprenorphine (PUBCHEM.COMPOUND:644073)--biolink:regulates-->CYP2D6 (NCBIGene:1565)--biolink:genetic_association-->Tremor (HP:0001337)\n",
      "Buprenorphine (PUBCHEM.COMPOUND:644073)--biolink:regulates-->CYP2D6 (NCBIGene:1565)--biolink:genetic_association-->Pill-rolling tremor (HP:0025387)\n",
      "Buprenorphine (PUBCHEM.COMPOUND:644073)--biolink:regulates-->CYP2D6 (NCBIGene:1565)--biolink:genetic_association-->Postural tremor (HP:0002174)\n"
     ]
    }
   ],
   "source": [
    "for rs in result_summaries:\n",
    "    print(rs)"
   ]
  },
  {
   "cell_type": "markdown",
   "metadata": {},
   "source": [
    "The results above are just database matches, there are no scores or other additions.  You can instead send the TRAPI to the robokop application using Aragorn, which performs some additional post-processing of the results."
   ]
  },
  {
   "cell_type": "code",
   "execution_count": 17,
   "metadata": {},
   "outputs": [],
   "source": [
    "ara_robokop_submit_url = \"https://aragorn-u24.apps.renci.org/robokop/query\"\n",
    "response = requests.post(ara_robokop_submit_url,json=query)"
   ]
  },
  {
   "cell_type": "code",
   "execution_count": 18,
   "metadata": {},
   "outputs": [
    {
     "data": {
      "text/plain": [
       "200"
      ]
     },
     "execution_count": 18,
     "metadata": {},
     "output_type": "execute_result"
    }
   ],
   "source": [
    "response.status_code"
   ]
  },
  {
   "cell_type": "code",
   "execution_count": 19,
   "metadata": {},
   "outputs": [
    {
     "data": {
      "text/plain": [
       "7"
      ]
     },
     "execution_count": 19,
     "metadata": {},
     "output_type": "execute_result"
    }
   ],
   "source": [
    "len(response.json()['message']['results'])"
   ]
  },
  {
   "cell_type": "code",
   "execution_count": 20,
   "metadata": {},
   "outputs": [
    {
     "name": "stdout",
     "output_type": "stream",
     "text": [
      "{    'edge_bindings': {    'e00': [    {    'attributes': [    {    'attribute_type_id': 'biolink:has_numeric_value',\n",
      "                                                                    'attributes': [    {    'attribute_type_id': 'biolink:has_qualitative_value',\n",
      "                                                                                            'original_attribute_name': 'aragorn_weight_source',\n",
      "                                                                                            'value': 'infores:textminingkp',\n",
      "                                                                                            'value_type_id': 'biolink:InformationResource'}],\n",
      "                                                                    'original_attribute_name': 'weight',\n",
      "                                                                    'value': 0.5184467655944169,\n",
      "                                                                    'value_type_id': 'EDAM:data_1669'}],\n",
      "                                            'id': '79325668'},\n",
      "                                       {    'attributes': [    {    'attribute_type_id': 'biolink:has_numeric_value',\n",
      "                                                                    'attributes': [    {    'attribute_type_id': 'biolink:has_qualitative_value',\n",
      "                                                                                            'original_attribute_name': 'aragorn_weight_source',\n",
      "                                                                                            'value': 'infores:ctd',\n",
      "                                                                                            'value_type_id': 'biolink:InformationResource'}],\n",
      "                                                                    'original_attribute_name': 'weight',\n",
      "                                                                    'value': 0.5184467655944169,\n",
      "                                                                    'value_type_id': 'EDAM:data_1669'}],\n",
      "                                            'id': '113499113'},\n",
      "                                       {    'attributes': [    {    'attribute_type_id': 'biolink:has_numeric_value',\n",
      "                                                                    'attributes': [    {    'attribute_type_id': 'biolink:has_qualitative_value',\n",
      "                                                                                            'original_attribute_name': 'aragorn_weight_source',\n",
      "                                                                                            'value': 'infores:hetionet',\n",
      "                                                                                            'value_type_id': 'biolink:InformationResource'}],\n",
      "                                                                    'original_attribute_name': 'weight',\n",
      "                                                                    'value': 0.2794695688557669,\n",
      "                                                                    'value_type_id': 'EDAM:data_1669'}],\n",
      "                                            'id': '88245379'},\n",
      "                                       {    'attributes': [    {    'attribute_type_id': 'biolink:has_numeric_value',\n",
      "                                                                    'attributes': [    {    'attribute_type_id': 'biolink:has_qualitative_value',\n",
      "                                                                                            'original_attribute_name': 'aragorn_weight_source',\n",
      "                                                                                            'value': 'infores:ctd',\n",
      "                                                                                            'value_type_id': 'biolink:InformationResource'}],\n",
      "                                                                    'original_attribute_name': 'weight',\n",
      "                                                                    'value': 0.5184467655944169,\n",
      "                                                                    'value_type_id': 'EDAM:data_1669'}],\n",
      "                                            'id': '8608859'}],\n",
      "                           'e01': [    {    'attributes': [    {    'attribute_type_id': 'biolink:has_numeric_value',\n",
      "                                                                    'attributes': [    {    'attribute_type_id': 'biolink:has_qualitative_value',\n",
      "                                                                                            'original_attribute_name': 'aragorn_weight_source',\n",
      "                                                                                            'value': 'infores:ctd',\n",
      "                                                                                            'value_type_id': 'biolink:InformationResource'}],\n",
      "                                                                    'original_attribute_name': 'weight',\n",
      "                                                                    'value': 0.2794695688557669,\n",
      "                                                                    'value_type_id': 'EDAM:data_1669'}],\n",
      "                                            'id': '50901981'},\n",
      "                                       {    'attributes': [    {    'attribute_type_id': 'biolink:has_numeric_value',\n",
      "                                                                    'attributes': [    {    'attribute_type_id': 'biolink:has_qualitative_value',\n",
      "                                                                                            'original_attribute_name': 'aragorn_weight_source',\n",
      "                                                                                            'value': 'infores:disgenet',\n",
      "                                                                                            'value_type_id': 'biolink:InformationResource'}],\n",
      "                                                                    'original_attribute_name': 'weight',\n",
      "                                                                    'value': 0.2794695688557669,\n",
      "                                                                    'value_type_id': 'EDAM:data_1669'}],\n",
      "                                            'id': '75966132'}],\n",
      "                           's2': [    {    'attributes': [    {    'attribute_type_id': 'biolink:has_numeric_value',\n",
      "                                                                   'attributes': [    {    'attribute_type_id': 'biolink:has_qualitative_value',\n",
      "                                                                                           'original_attribute_name': 'aragorn_weight_source',\n",
      "                                                                                           'value': 'infores:omnicorp',\n",
      "                                                                                           'value_type_id': 'biolink:InformationResource'}],\n",
      "                                                                   'original_attribute_name': 'weight',\n",
      "                                                                   'value': 0.02058974858003304,\n",
      "                                                                   'value_type_id': 'EDAM:data_1669'}],\n",
      "                                           'id': 'f19bfd54-d0ab-4706-93bb-ac67f8d48f6e'}],\n",
      "                           's3': [    {    'attributes': [    {    'attribute_type_id': 'biolink:has_numeric_value',\n",
      "                                                                   'attributes': [    {    'attribute_type_id': 'biolink:has_qualitative_value',\n",
      "                                                                                           'original_attribute_name': 'aragorn_weight_source',\n",
      "                                                                                           'value': 'infores:omnicorp',\n",
      "                                                                                           'value_type_id': 'biolink:InformationResource'}],\n",
      "                                                                   'original_attribute_name': 'weight',\n",
      "                                                                   'value': 0.02484230022373346,\n",
      "                                                                   'value_type_id': 'EDAM:data_1669'}],\n",
      "                                           'id': '586453d4-e5eb-4ea6-b645-caafadea90b8'}],\n",
      "                           's4': [    {    'attributes': [    {    'attribute_type_id': 'biolink:has_numeric_value',\n",
      "                                                                   'attributes': [    {    'attribute_type_id': 'biolink:has_qualitative_value',\n",
      "                                                                                           'original_attribute_name': 'aragorn_weight_source',\n",
      "                                                                                           'value': 'infores:omnicorp',\n",
      "                                                                                           'value_type_id': 'biolink:InformationResource'}],\n",
      "                                                                   'original_attribute_name': 'weight',\n",
      "                                                                   'value': 0.03245377021286244,\n",
      "                                                                   'value_type_id': 'EDAM:data_1669'}],\n",
      "                                           'id': '4b37f06e-3421-4952-810c-fcb1eba5e21f'}]},\n",
      "     'node_bindings': {    'n00': [    {    'id': 'PUBCHEM.COMPOUND:644073',\n",
      "                                            'qnode_id': 'PUBCHEM.COMPOUND:644073'}],\n",
      "                           'n01': [{'id': 'NCBIGene:1565'}],\n",
      "                           'n02': [    {    'id': 'HP:0001337',\n",
      "                                            'qnode_id': 'HP:0001337'}]},\n",
      "     'score': 0.2405420768685431}\n"
     ]
    }
   ],
   "source": [
    "pp.pprint(response.json()['message']['results'][0])"
   ]
  },
  {
   "cell_type": "code",
   "execution_count": 21,
   "metadata": {},
   "outputs": [
    {
     "name": "stdout",
     "output_type": "stream",
     "text": [
      "0.2405420768685431\n",
      "0.13169211512866802\n",
      "0.13022177911375754\n",
      "0.1295121474643961\n",
      "0.12910851956982536\n",
      "0.12910851956982522\n",
      "0.12910851956982522\n"
     ]
    }
   ],
   "source": [
    "for result in response.json()['message']['results']:\n",
    "    print(result['score'])"
   ]
  },
  {
   "cell_type": "code",
   "execution_count": 22,
   "metadata": {},
   "outputs": [],
   "source": [
    "aragorn_result_summaries = []\n",
    "for r in response.json()['message']['results']:\n",
    "    rs = f\"Score={round(r['score'], 3)}: \"\n",
    "    j = 0\n",
    "    while j < len(nodes):\n",
    "        node_id = r['node_bindings'][nodes[j]][0]['id']\n",
    "        node_name = kg['nodes'][node_id]['name']\n",
    "        rs = rs + f\"{node_name} ({node_id})\"\n",
    "        if j < len(edges):\n",
    "            edge_id = r['edge_bindings'][edges[j]][0]['id']\n",
    "            edge_name = kg['edges'][edge_id]['predicate']\n",
    "            rs = rs + f\"--{edge_name}-->\"\n",
    "        j = j + 1\n",
    "    aragorn_result_summaries.append(rs)"
   ]
  },
  {
   "cell_type": "code",
   "execution_count": 23,
   "metadata": {},
   "outputs": [
    {
     "name": "stdout",
     "output_type": "stream",
     "text": [
      "Score=0.241: Buprenorphine (PUBCHEM.COMPOUND:644073)--biolink:regulates-->CYP2D6 (NCBIGene:1565)--biolink:genetic_association-->Tremor (HP:0001337)\n",
      "Score=0.132: Buprenorphine (PUBCHEM.COMPOUND:644073)--biolink:affects-->OPRM1 (NCBIGene:4988)--biolink:genetic_association-->Asterixis (HP:0012164)\n",
      "Score=0.13: Buprenorphine (PUBCHEM.COMPOUND:644073)--biolink:regulates-->CYP2D6 (NCBIGene:1565)--biolink:genetic_association-->Resting tremor (HP:0002322)\n",
      "Score=0.13: Buprenorphine (PUBCHEM.COMPOUND:644073)--biolink:regulates-->CYP2D6 (NCBIGene:1565)--biolink:genetic_association-->Action tremor (HP:0002345)\n",
      "Score=0.129: Buprenorphine (PUBCHEM.COMPOUND:644073)--biolink:regulates-->CYP2D6 (NCBIGene:1565)--biolink:genetic_association-->Pill-rolling tremor (HP:0025387)\n",
      "Score=0.129: Buprenorphine (PUBCHEM.COMPOUND:644073)--biolink:regulates-->CYP2D6 (NCBIGene:1565)--biolink:genetic_association-->Limb tremor (HP:0200085)\n",
      "Score=0.129: Buprenorphine (PUBCHEM.COMPOUND:644073)--biolink:regulates-->CYP2D6 (NCBIGene:1565)--biolink:genetic_association-->Postural tremor (HP:0002174)\n"
     ]
    }
   ],
   "source": [
    "for rs in aragorn_result_summaries:\n",
    "    print(rs)"
   ]
  },
  {
   "cell_type": "markdown",
   "metadata": {},
   "source": [
    "You can also bypass TRAPI entirely and just use cypher to talk to the graph.  There are two instances.  There is one at http://robokopkg.renci.org which has a cypher browser on it, or you can write cypher and post it there. This requires the neo4j package, which is likely not installed if you haven't accessed a neo4j database before. The code below should work, but if you encounter errors, look into how to best install this package for your local setup."
   ]
  },
  {
   "cell_type": "code",
   "execution_count": 24,
   "metadata": {},
   "outputs": [
    {
     "name": "stdout",
     "output_type": "stream",
     "text": [
      "Requirement already satisfied: neo4j in c:\\users\\swedwards\\appdata\\local\\continuum\\anaconda3\\lib\\site-packages (5.7.0)\n",
      "Requirement already satisfied: pytz in c:\\users\\swedwards\\appdata\\local\\continuum\\anaconda3\\lib\\site-packages (from neo4j) (2020.1)\n"
     ]
    }
   ],
   "source": [
    "# Install a pip package in the current Jupyter kernel\n",
    "import sys\n",
    "!{sys.executable} -m pip install neo4j\n",
    "from neo4j import GraphDatabase"
   ]
  },
  {
   "cell_type": "code",
   "execution_count": 25,
   "metadata": {},
   "outputs": [],
   "source": [
    "pw=''\n",
    "driver = GraphDatabase.driver('bolt://robokopkg.renci.org:7687', auth=('neo4j', pw))"
   ]
  },
  {
   "cell_type": "markdown",
   "metadata": {},
   "source": [
    "Cypher queries can be posted to either the neo4j browser at robokopkg.renci.org or through automat at automat.renci.org.  Depending on how the Cypher query is structured, results may be returned differently between the two access points.  The query below is asking for slightly different information than the TRAPI message above.  The TRAPI query asks for results related to `Buprenorphine` and `Tremor` that are of the type `Gene`, `Pathway`, or `BiologicalProcessOrActivity`.  Because no results were present for `Pathway` or `BiologicalProcessOrActivity`, a Cypher query including these would return 0 results, so the below query has been modified to ask for results related to `Buprenorphine` and `Tremor` that are of the type `Gene`."
   ]
  },
  {
   "cell_type": "code",
   "execution_count": 26,
   "metadata": {},
   "outputs": [
    {
     "name": "stdout",
     "output_type": "stream",
     "text": [
      "<Record n0_0=<Node element_id='8421444' labels=frozenset({'biolink:Entity', 'biolink:ChemicalEntity', 'biolink:NamedThing', 'biolink:ChemicalEntityOrProteinOrPolypeptide', 'biolink:PhysicalEssence', 'biolink:MolecularEntity', 'biolink:ChemicalEntityOrGeneOrGeneProduct', 'biolink:PhysicalEssenceOrOccurrent', 'biolink:SmallMolecule', 'biolink:ChemicalOrDrugOrTreatment'}) properties={'CHEBI_ROLE_delta_opioid_agent': True, 'smiles': 'CO[C@]12CC[C@@]3(C[C@@H]1[C@](C)(O)C(C)(C)C)[C@H]1CC4=CC=C(O)C5=C4[C@@]3(CCN1CC1CC1)[C@H]2O5', 'description': 'A morphinane alkaloid that is 7,8-dihydromorphine 6-O-methyl ether in which positions 6 and 14 are joined by a -CH2CH2- bridge, one of the hydrogens of the N-methyl group is substituted by cyclopropyl, and a hydrogen at position 7 is substituted by a 2-hydroxy-3,3-dimethylbutan-2-yl group. It is highly effective for the treatment of opioid use disorder and is also increasingly being used in the treatment of chronic pain.', 'fda_labels': 74, 'rgb': 28, 'CHEBI_ROLE_analgesic': True, 'CHEBI_ROLE_opioid_agent': True, 'sp2_c': 0, 'sp3_c': 23, 'CHEBI_ROLE_antagonist': True, 'CHEBI_ROLE_agonist': True, 'CHEBI_ROLE_opioid_analgesic': True, 'cd_formula': 'C29H41NO4', 'alogs': -4.44, 'CHEBI_ROLE_opioid_receptor_agonist': True, 'id': 'PUBCHEM.COMPOUND:644073', 'CHEBI_ROLE_drug': True, 'CHEBI_ROLE_neurotransmitter_agent': True, 'lipinski': 0, 'rotb': 5, 'o_n': 5, 'halogen': 0, 'CHEBI_ROLE_mu_opioid_agent': True, 'cd_molweight': 467.65, 'CHEBI_ROLE_delta_opioid_receptor_antagonist': True, 'CHEBI_ROLE_pharmaceutical': True, 'clogp': 3.99, 'oh_nh': 2, 'hetero_sp2_c': 0, 'equivalent_identifiers': ['GTOPDB:1670', 'CAS:52485-79-7', 'INCHIKEY:RMRJXGBAOAMLHD-IHFGGWKQSA-N', 'CHEBI:3216', 'CHEMBL.COMPOUND:CHEMBL560511', 'HMDB:HMDB0015057', 'UNII:40D3SCR4GZ', 'KEGG.COMPOUND:C08007', 'DrugCentral:434', 'DRUGBANK:DB00921', 'PUBCHEM.COMPOUND:644073', 'MESH:D002047', 'UMLS:C0006405'], 'CHEBI_ROLE_kappa_opioid_receptor_antagonist': True, 'arom_c': 6, 'CHEBI_ROLE_pharmacological_role': True, 'sp_c': 0, 'mrdef': 'A derivative of the opioid alkaloid THEBAINE that is a more potent and longer lasting analgesic than MORPHINE. It appears to act as a partial agonist at mu and kappa opioid receptors and as an antagonist at delta receptors. The lack of delta-agonist activity has been suggested to account for the observation that buprenorphine tolerance may not develop with chronic use.', 'name': 'Buprenorphine', 'CHEBI_ROLE_kappa_opioid_agent': True, 'CHEBI_ROLE_mu_opioid_receptor_agonist': True, 'tpsa': 62.16, 'CHEBI_ROLE_opioid_receptor_antagonist': True, 'information_content': 100.0, 'status': 'OFP'}> n1_0=<Node element_id='5316835' labels=frozenset({'biolink:GeneProductMixin', 'biolink:GenomicEntity', 'biolink:Entity', 'biolink:NamedThing', 'biolink:Polypeptide', 'biolink:GeneOrGeneProduct', 'biolink:BiologicalEntity', 'biolink:ChemicalEntityOrProteinOrPolypeptide', 'biolink:Gene', 'biolink:Protein', 'biolink:PhysicalEssence', 'biolink:ChemicalEntityOrGeneOrGeneProduct', 'biolink:MacromolecularMachineMixin', 'biolink:PhysicalEssenceOrOccurrent', 'biolink:OntologyClass', 'biolink:ThingWithTaxon'}) properties={'symbol': 'CYP2D6', 'locus_group': 'protein-coding gene', 'name': 'CYP2D6', 'location': '22q13.2', 'taxon': 'NCBITaxon:9606', 'id': 'NCBIGene:1565', 'NCBITaxon': '9606', 'equivalent_identifiers': ['ENSEMBL:ENSP00000483677', 'UMLS:C1332830', 'UniProtKB:Q5Y7H2', 'UMLS:C3887685', 'OMIM:124030', 'NCBIGene:1565', 'UniProtKB:P10635', 'UniProtKB:C1ID52', 'ENSEMBL:ENSG00000100197', 'PR:P10635', 'ENSEMBL:ENSP00000483677.1', 'HGNC:2625']}> n2_0=<Node element_id='5171187' labels=frozenset({'biolink:Entity', 'biolink:PhenotypicFeature', 'biolink:NamedThing', 'biolink:BiologicalEntity', 'biolink:ThingWithTaxon', 'biolink:DiseaseOrPhenotypicFeature'}) properties={'name': 'Tremor', 'description': 'An unintentional, oscillating to-and-fro muscle movement about a joint axis.', 'id': 'HP:0001337', 'equivalent_identifiers': ['UMLS:C1527384', 'NCIT:C38038', 'MEDDRA:10044562', 'SNOMEDCT:26079004', 'HP:0001337', 'MEDDRA:10044563', 'SNOMEDCT:267079009', 'MESH:D014202', 'UMLS:C0040822', 'MEDDRA:10040528', 'MEDDRA:10044565', 'UMLS:C0234369']}> r0_0=<Relationship element_id='113499113' nodes=(<Node element_id='8421444' labels=frozenset({'biolink:Entity', 'biolink:ChemicalEntity', 'biolink:NamedThing', 'biolink:ChemicalEntityOrProteinOrPolypeptide', 'biolink:PhysicalEssence', 'biolink:MolecularEntity', 'biolink:ChemicalEntityOrGeneOrGeneProduct', 'biolink:PhysicalEssenceOrOccurrent', 'biolink:SmallMolecule', 'biolink:ChemicalOrDrugOrTreatment'}) properties={'CHEBI_ROLE_delta_opioid_agent': True, 'smiles': 'CO[C@]12CC[C@@]3(C[C@@H]1[C@](C)(O)C(C)(C)C)[C@H]1CC4=CC=C(O)C5=C4[C@@]3(CCN1CC1CC1)[C@H]2O5', 'description': 'A morphinane alkaloid that is 7,8-dihydromorphine 6-O-methyl ether in which positions 6 and 14 are joined by a -CH2CH2- bridge, one of the hydrogens of the N-methyl group is substituted by cyclopropyl, and a hydrogen at position 7 is substituted by a 2-hydroxy-3,3-dimethylbutan-2-yl group. It is highly effective for the treatment of opioid use disorder and is also increasingly being used in the treatment of chronic pain.', 'fda_labels': 74, 'rgb': 28, 'CHEBI_ROLE_analgesic': True, 'CHEBI_ROLE_opioid_agent': True, 'sp2_c': 0, 'sp3_c': 23, 'CHEBI_ROLE_antagonist': True, 'CHEBI_ROLE_agonist': True, 'CHEBI_ROLE_opioid_analgesic': True, 'cd_formula': 'C29H41NO4', 'alogs': -4.44, 'CHEBI_ROLE_opioid_receptor_agonist': True, 'id': 'PUBCHEM.COMPOUND:644073', 'CHEBI_ROLE_drug': True, 'CHEBI_ROLE_neurotransmitter_agent': True, 'lipinski': 0, 'rotb': 5, 'o_n': 5, 'halogen': 0, 'CHEBI_ROLE_mu_opioid_agent': True, 'cd_molweight': 467.65, 'CHEBI_ROLE_delta_opioid_receptor_antagonist': True, 'CHEBI_ROLE_pharmaceutical': True, 'clogp': 3.99, 'oh_nh': 2, 'hetero_sp2_c': 0, 'equivalent_identifiers': ['GTOPDB:1670', 'CAS:52485-79-7', 'INCHIKEY:RMRJXGBAOAMLHD-IHFGGWKQSA-N', 'CHEBI:3216', 'CHEMBL.COMPOUND:CHEMBL560511', 'HMDB:HMDB0015057', 'UNII:40D3SCR4GZ', 'KEGG.COMPOUND:C08007', 'DrugCentral:434', 'DRUGBANK:DB00921', 'PUBCHEM.COMPOUND:644073', 'MESH:D002047', 'UMLS:C0006405'], 'CHEBI_ROLE_kappa_opioid_receptor_antagonist': True, 'arom_c': 6, 'CHEBI_ROLE_pharmacological_role': True, 'sp_c': 0, 'mrdef': 'A derivative of the opioid alkaloid THEBAINE that is a more potent and longer lasting analgesic than MORPHINE. It appears to act as a partial agonist at mu and kappa opioid receptors and as an antagonist at delta receptors. The lack of delta-agonist activity has been suggested to account for the observation that buprenorphine tolerance may not develop with chronic use.', 'name': 'Buprenorphine', 'CHEBI_ROLE_kappa_opioid_agent': True, 'CHEBI_ROLE_mu_opioid_receptor_agonist': True, 'tpsa': 62.16, 'CHEBI_ROLE_opioid_receptor_antagonist': True, 'information_content': 100.0, 'status': 'OFP'}>, <Node element_id='5316835' labels=frozenset({'biolink:GeneProductMixin', 'biolink:GenomicEntity', 'biolink:Entity', 'biolink:NamedThing', 'biolink:Polypeptide', 'biolink:GeneOrGeneProduct', 'biolink:BiologicalEntity', 'biolink:ChemicalEntityOrProteinOrPolypeptide', 'biolink:Gene', 'biolink:Protein', 'biolink:PhysicalEssence', 'biolink:ChemicalEntityOrGeneOrGeneProduct', 'biolink:MacromolecularMachineMixin', 'biolink:PhysicalEssenceOrOccurrent', 'biolink:OntologyClass', 'biolink:ThingWithTaxon'}) properties={'symbol': 'CYP2D6', 'locus_group': 'protein-coding gene', 'name': 'CYP2D6', 'location': '22q13.2', 'taxon': 'NCBITaxon:9606', 'id': 'NCBIGene:1565', 'NCBITaxon': '9606', 'equivalent_identifiers': ['ENSEMBL:ENSP00000483677', 'UMLS:C1332830', 'UniProtKB:Q5Y7H2', 'UMLS:C3887685', 'OMIM:124030', 'NCBIGene:1565', 'UniProtKB:P10635', 'UniProtKB:C1ID52', 'ENSEMBL:ENSG00000100197', 'PR:P10635', 'ENSEMBL:ENSP00000483677.1', 'HGNC:2625']}>) type='biolink:affects' properties={'object_direction_qualifier': 'decreased', 'qualified_predicate': 'biolink:causes', 'biolink:primary_knowledge_source': 'infores:ctd', 'description': 'decreases activity of', 'NCBITaxon': '9606', 'object_aspect_qualifier': 'activity', 'publications': ['PMID:12756210']}> r1_0=<Relationship element_id='75966132' nodes=(<Node element_id='5316835' labels=frozenset({'biolink:GeneProductMixin', 'biolink:GenomicEntity', 'biolink:Entity', 'biolink:NamedThing', 'biolink:Polypeptide', 'biolink:GeneOrGeneProduct', 'biolink:BiologicalEntity', 'biolink:ChemicalEntityOrProteinOrPolypeptide', 'biolink:Gene', 'biolink:Protein', 'biolink:PhysicalEssence', 'biolink:ChemicalEntityOrGeneOrGeneProduct', 'biolink:MacromolecularMachineMixin', 'biolink:PhysicalEssenceOrOccurrent', 'biolink:OntologyClass', 'biolink:ThingWithTaxon'}) properties={'symbol': 'CYP2D6', 'locus_group': 'protein-coding gene', 'name': 'CYP2D6', 'location': '22q13.2', 'taxon': 'NCBITaxon:9606', 'id': 'NCBIGene:1565', 'NCBITaxon': '9606', 'equivalent_identifiers': ['ENSEMBL:ENSP00000483677', 'UMLS:C1332830', 'UniProtKB:Q5Y7H2', 'UMLS:C3887685', 'OMIM:124030', 'NCBIGene:1565', 'UniProtKB:P10635', 'UniProtKB:C1ID52', 'ENSEMBL:ENSG00000100197', 'PR:P10635', 'ENSEMBL:ENSP00000483677.1', 'HGNC:2625']}>, <Node element_id='5171187' labels=frozenset({'biolink:Entity', 'biolink:PhenotypicFeature', 'biolink:NamedThing', 'biolink:BiologicalEntity', 'biolink:ThingWithTaxon', 'biolink:DiseaseOrPhenotypicFeature'}) properties={'name': 'Tremor', 'description': 'An unintentional, oscillating to-and-fro muscle movement about a joint axis.', 'id': 'HP:0001337', 'equivalent_identifiers': ['UMLS:C1527384', 'NCIT:C38038', 'MEDDRA:10044562', 'SNOMEDCT:26079004', 'HP:0001337', 'MEDDRA:10044563', 'SNOMEDCT:267079009', 'MESH:D014202', 'UMLS:C0040822', 'MEDDRA:10040528', 'MEDDRA:10044565', 'UMLS:C0234369']}>) type='biolink:genetic_association' properties={'score': 0.3, 'biolink:primary_knowledge_source': 'infores:disgenet', 'biolink:aggregator_knowledge_source': ['infores:pharos']}>>\n",
      "<Record n0_0=<Node element_id='8421444' labels=frozenset({'biolink:Entity', 'biolink:ChemicalEntity', 'biolink:NamedThing', 'biolink:ChemicalEntityOrProteinOrPolypeptide', 'biolink:PhysicalEssence', 'biolink:MolecularEntity', 'biolink:ChemicalEntityOrGeneOrGeneProduct', 'biolink:PhysicalEssenceOrOccurrent', 'biolink:SmallMolecule', 'biolink:ChemicalOrDrugOrTreatment'}) properties={'CHEBI_ROLE_delta_opioid_agent': True, 'smiles': 'CO[C@]12CC[C@@]3(C[C@@H]1[C@](C)(O)C(C)(C)C)[C@H]1CC4=CC=C(O)C5=C4[C@@]3(CCN1CC1CC1)[C@H]2O5', 'description': 'A morphinane alkaloid that is 7,8-dihydromorphine 6-O-methyl ether in which positions 6 and 14 are joined by a -CH2CH2- bridge, one of the hydrogens of the N-methyl group is substituted by cyclopropyl, and a hydrogen at position 7 is substituted by a 2-hydroxy-3,3-dimethylbutan-2-yl group. It is highly effective for the treatment of opioid use disorder and is also increasingly being used in the treatment of chronic pain.', 'fda_labels': 74, 'rgb': 28, 'CHEBI_ROLE_analgesic': True, 'CHEBI_ROLE_opioid_agent': True, 'sp2_c': 0, 'sp3_c': 23, 'CHEBI_ROLE_antagonist': True, 'CHEBI_ROLE_agonist': True, 'CHEBI_ROLE_opioid_analgesic': True, 'cd_formula': 'C29H41NO4', 'alogs': -4.44, 'CHEBI_ROLE_opioid_receptor_agonist': True, 'id': 'PUBCHEM.COMPOUND:644073', 'CHEBI_ROLE_drug': True, 'CHEBI_ROLE_neurotransmitter_agent': True, 'lipinski': 0, 'rotb': 5, 'o_n': 5, 'halogen': 0, 'CHEBI_ROLE_mu_opioid_agent': True, 'cd_molweight': 467.65, 'CHEBI_ROLE_delta_opioid_receptor_antagonist': True, 'CHEBI_ROLE_pharmaceutical': True, 'clogp': 3.99, 'oh_nh': 2, 'hetero_sp2_c': 0, 'equivalent_identifiers': ['GTOPDB:1670', 'CAS:52485-79-7', 'INCHIKEY:RMRJXGBAOAMLHD-IHFGGWKQSA-N', 'CHEBI:3216', 'CHEMBL.COMPOUND:CHEMBL560511', 'HMDB:HMDB0015057', 'UNII:40D3SCR4GZ', 'KEGG.COMPOUND:C08007', 'DrugCentral:434', 'DRUGBANK:DB00921', 'PUBCHEM.COMPOUND:644073', 'MESH:D002047', 'UMLS:C0006405'], 'CHEBI_ROLE_kappa_opioid_receptor_antagonist': True, 'arom_c': 6, 'CHEBI_ROLE_pharmacological_role': True, 'sp_c': 0, 'mrdef': 'A derivative of the opioid alkaloid THEBAINE that is a more potent and longer lasting analgesic than MORPHINE. It appears to act as a partial agonist at mu and kappa opioid receptors and as an antagonist at delta receptors. The lack of delta-agonist activity has been suggested to account for the observation that buprenorphine tolerance may not develop with chronic use.', 'name': 'Buprenorphine', 'CHEBI_ROLE_kappa_opioid_agent': True, 'CHEBI_ROLE_mu_opioid_receptor_agonist': True, 'tpsa': 62.16, 'CHEBI_ROLE_opioid_receptor_antagonist': True, 'information_content': 100.0, 'status': 'OFP'}> n1_0=<Node element_id='5316835' labels=frozenset({'biolink:GeneProductMixin', 'biolink:GenomicEntity', 'biolink:Entity', 'biolink:NamedThing', 'biolink:ChemicalEntityOrGeneOrGeneProduct', 'biolink:PhysicalEssenceOrOccurrent', 'biolink:ThingWithTaxon', 'biolink:OntologyClass', 'biolink:GeneOrGeneProduct', 'biolink:Polypeptide', 'biolink:BiologicalEntity', 'biolink:ChemicalEntityOrProteinOrPolypeptide', 'biolink:Gene', 'biolink:PhysicalEssence', 'biolink:MacromolecularMachineMixin', 'biolink:Protein'}) properties={'symbol': 'CYP2D6', 'locus_group': 'protein-coding gene', 'name': 'CYP2D6', 'location': '22q13.2', 'taxon': 'NCBITaxon:9606', 'id': 'NCBIGene:1565', 'NCBITaxon': '9606', 'equivalent_identifiers': ['ENSEMBL:ENSP00000483677', 'UMLS:C1332830', 'UniProtKB:Q5Y7H2', 'UMLS:C3887685', 'OMIM:124030', 'NCBIGene:1565', 'UniProtKB:P10635', 'UniProtKB:C1ID52', 'ENSEMBL:ENSG00000100197', 'PR:P10635', 'ENSEMBL:ENSP00000483677.1', 'HGNC:2625']}> n2_0=<Node element_id='5171187' labels=frozenset({'biolink:Entity', 'biolink:ThingWithTaxon', 'biolink:PhenotypicFeature', 'biolink:NamedThing', 'biolink:BiologicalEntity', 'biolink:DiseaseOrPhenotypicFeature'}) properties={'name': 'Tremor', 'description': 'An unintentional, oscillating to-and-fro muscle movement about a joint axis.', 'id': 'HP:0001337', 'equivalent_identifiers': ['UMLS:C1527384', 'NCIT:C38038', 'MEDDRA:10044562', 'SNOMEDCT:26079004', 'HP:0001337', 'MEDDRA:10044563', 'SNOMEDCT:267079009', 'MESH:D014202', 'UMLS:C0040822', 'MEDDRA:10040528', 'MEDDRA:10044565', 'UMLS:C0234369']}> r0_0=<Relationship element_id='8608859' nodes=(<Node element_id='5316835' labels=frozenset({'biolink:GeneProductMixin', 'biolink:GenomicEntity', 'biolink:Entity', 'biolink:NamedThing', 'biolink:ChemicalEntityOrGeneOrGeneProduct', 'biolink:PhysicalEssenceOrOccurrent', 'biolink:ThingWithTaxon', 'biolink:OntologyClass', 'biolink:GeneOrGeneProduct', 'biolink:Polypeptide', 'biolink:BiologicalEntity', 'biolink:ChemicalEntityOrProteinOrPolypeptide', 'biolink:Gene', 'biolink:PhysicalEssence', 'biolink:MacromolecularMachineMixin', 'biolink:Protein'}) properties={'symbol': 'CYP2D6', 'locus_group': 'protein-coding gene', 'name': 'CYP2D6', 'location': '22q13.2', 'taxon': 'NCBITaxon:9606', 'id': 'NCBIGene:1565', 'NCBITaxon': '9606', 'equivalent_identifiers': ['ENSEMBL:ENSP00000483677', 'UMLS:C1332830', 'UniProtKB:Q5Y7H2', 'UMLS:C3887685', 'OMIM:124030', 'NCBIGene:1565', 'UniProtKB:P10635', 'UniProtKB:C1ID52', 'ENSEMBL:ENSG00000100197', 'PR:P10635', 'ENSEMBL:ENSP00000483677.1', 'HGNC:2625']}>, <Node element_id='8421444' labels=frozenset({'biolink:Entity', 'biolink:ChemicalEntity', 'biolink:NamedThing', 'biolink:ChemicalEntityOrProteinOrPolypeptide', 'biolink:PhysicalEssence', 'biolink:MolecularEntity', 'biolink:ChemicalEntityOrGeneOrGeneProduct', 'biolink:PhysicalEssenceOrOccurrent', 'biolink:SmallMolecule', 'biolink:ChemicalOrDrugOrTreatment'}) properties={'CHEBI_ROLE_delta_opioid_agent': True, 'smiles': 'CO[C@]12CC[C@@]3(C[C@@H]1[C@](C)(O)C(C)(C)C)[C@H]1CC4=CC=C(O)C5=C4[C@@]3(CCN1CC1CC1)[C@H]2O5', 'description': 'A morphinane alkaloid that is 7,8-dihydromorphine 6-O-methyl ether in which positions 6 and 14 are joined by a -CH2CH2- bridge, one of the hydrogens of the N-methyl group is substituted by cyclopropyl, and a hydrogen at position 7 is substituted by a 2-hydroxy-3,3-dimethylbutan-2-yl group. It is highly effective for the treatment of opioid use disorder and is also increasingly being used in the treatment of chronic pain.', 'fda_labels': 74, 'rgb': 28, 'CHEBI_ROLE_analgesic': True, 'CHEBI_ROLE_opioid_agent': True, 'sp2_c': 0, 'sp3_c': 23, 'CHEBI_ROLE_antagonist': True, 'CHEBI_ROLE_agonist': True, 'CHEBI_ROLE_opioid_analgesic': True, 'cd_formula': 'C29H41NO4', 'alogs': -4.44, 'CHEBI_ROLE_opioid_receptor_agonist': True, 'id': 'PUBCHEM.COMPOUND:644073', 'CHEBI_ROLE_drug': True, 'CHEBI_ROLE_neurotransmitter_agent': True, 'lipinski': 0, 'rotb': 5, 'o_n': 5, 'halogen': 0, 'CHEBI_ROLE_mu_opioid_agent': True, 'cd_molweight': 467.65, 'CHEBI_ROLE_delta_opioid_receptor_antagonist': True, 'CHEBI_ROLE_pharmaceutical': True, 'clogp': 3.99, 'oh_nh': 2, 'hetero_sp2_c': 0, 'equivalent_identifiers': ['GTOPDB:1670', 'CAS:52485-79-7', 'INCHIKEY:RMRJXGBAOAMLHD-IHFGGWKQSA-N', 'CHEBI:3216', 'CHEMBL.COMPOUND:CHEMBL560511', 'HMDB:HMDB0015057', 'UNII:40D3SCR4GZ', 'KEGG.COMPOUND:C08007', 'DrugCentral:434', 'DRUGBANK:DB00921', 'PUBCHEM.COMPOUND:644073', 'MESH:D002047', 'UMLS:C0006405'], 'CHEBI_ROLE_kappa_opioid_receptor_antagonist': True, 'arom_c': 6, 'CHEBI_ROLE_pharmacological_role': True, 'sp_c': 0, 'mrdef': 'A derivative of the opioid alkaloid THEBAINE that is a more potent and longer lasting analgesic than MORPHINE. It appears to act as a partial agonist at mu and kappa opioid receptors and as an antagonist at delta receptors. The lack of delta-agonist activity has been suggested to account for the observation that buprenorphine tolerance may not develop with chronic use.', 'name': 'Buprenorphine', 'CHEBI_ROLE_kappa_opioid_agent': True, 'CHEBI_ROLE_mu_opioid_receptor_agonist': True, 'tpsa': 62.16, 'CHEBI_ROLE_opioid_receptor_antagonist': True, 'information_content': 100.0, 'status': 'OFP'}>) type='biolink:affects' properties={'object_direction_qualifier': 'increased', 'qualified_predicate': 'biolink:causes', 'biolink:primary_knowledge_source': 'infores:ctd', 'description': 'increases metabolic processing of', 'NCBITaxon': '9606', 'object_aspect_qualifier': 'metabolic_processing', 'publications': ['PMID:12756210']}> r1_0=<Relationship element_id='75966132' nodes=(<Node element_id='5316835' labels=frozenset({'biolink:GeneProductMixin', 'biolink:GenomicEntity', 'biolink:Entity', 'biolink:NamedThing', 'biolink:ChemicalEntityOrGeneOrGeneProduct', 'biolink:PhysicalEssenceOrOccurrent', 'biolink:ThingWithTaxon', 'biolink:OntologyClass', 'biolink:GeneOrGeneProduct', 'biolink:Polypeptide', 'biolink:BiologicalEntity', 'biolink:ChemicalEntityOrProteinOrPolypeptide', 'biolink:Gene', 'biolink:PhysicalEssence', 'biolink:MacromolecularMachineMixin', 'biolink:Protein'}) properties={'symbol': 'CYP2D6', 'locus_group': 'protein-coding gene', 'name': 'CYP2D6', 'location': '22q13.2', 'taxon': 'NCBITaxon:9606', 'id': 'NCBIGene:1565', 'NCBITaxon': '9606', 'equivalent_identifiers': ['ENSEMBL:ENSP00000483677', 'UMLS:C1332830', 'UniProtKB:Q5Y7H2', 'UMLS:C3887685', 'OMIM:124030', 'NCBIGene:1565', 'UniProtKB:P10635', 'UniProtKB:C1ID52', 'ENSEMBL:ENSG00000100197', 'PR:P10635', 'ENSEMBL:ENSP00000483677.1', 'HGNC:2625']}>, <Node element_id='5171187' labels=frozenset({'biolink:Entity', 'biolink:ThingWithTaxon', 'biolink:PhenotypicFeature', 'biolink:NamedThing', 'biolink:BiologicalEntity', 'biolink:DiseaseOrPhenotypicFeature'}) properties={'name': 'Tremor', 'description': 'An unintentional, oscillating to-and-fro muscle movement about a joint axis.', 'id': 'HP:0001337', 'equivalent_identifiers': ['UMLS:C1527384', 'NCIT:C38038', 'MEDDRA:10044562', 'SNOMEDCT:26079004', 'HP:0001337', 'MEDDRA:10044563', 'SNOMEDCT:267079009', 'MESH:D014202', 'UMLS:C0040822', 'MEDDRA:10040528', 'MEDDRA:10044565', 'UMLS:C0234369']}>) type='biolink:genetic_association' properties={'score': 0.3, 'biolink:primary_knowledge_source': 'infores:disgenet', 'biolink:aggregator_knowledge_source': ['infores:pharos']}>>\n",
      "<Record n0_0=<Node element_id='8421444' labels=frozenset({'biolink:Entity', 'biolink:ChemicalEntity', 'biolink:NamedThing', 'biolink:ChemicalEntityOrProteinOrPolypeptide', 'biolink:PhysicalEssence', 'biolink:MolecularEntity', 'biolink:ChemicalEntityOrGeneOrGeneProduct', 'biolink:PhysicalEssenceOrOccurrent', 'biolink:SmallMolecule', 'biolink:ChemicalOrDrugOrTreatment'}) properties={'CHEBI_ROLE_delta_opioid_agent': True, 'smiles': 'CO[C@]12CC[C@@]3(C[C@@H]1[C@](C)(O)C(C)(C)C)[C@H]1CC4=CC=C(O)C5=C4[C@@]3(CCN1CC1CC1)[C@H]2O5', 'description': 'A morphinane alkaloid that is 7,8-dihydromorphine 6-O-methyl ether in which positions 6 and 14 are joined by a -CH2CH2- bridge, one of the hydrogens of the N-methyl group is substituted by cyclopropyl, and a hydrogen at position 7 is substituted by a 2-hydroxy-3,3-dimethylbutan-2-yl group. It is highly effective for the treatment of opioid use disorder and is also increasingly being used in the treatment of chronic pain.', 'fda_labels': 74, 'rgb': 28, 'CHEBI_ROLE_analgesic': True, 'CHEBI_ROLE_opioid_agent': True, 'sp2_c': 0, 'sp3_c': 23, 'CHEBI_ROLE_antagonist': True, 'CHEBI_ROLE_agonist': True, 'CHEBI_ROLE_opioid_analgesic': True, 'cd_formula': 'C29H41NO4', 'alogs': -4.44, 'CHEBI_ROLE_opioid_receptor_agonist': True, 'id': 'PUBCHEM.COMPOUND:644073', 'CHEBI_ROLE_drug': True, 'CHEBI_ROLE_neurotransmitter_agent': True, 'lipinski': 0, 'rotb': 5, 'o_n': 5, 'halogen': 0, 'CHEBI_ROLE_mu_opioid_agent': True, 'cd_molweight': 467.65, 'CHEBI_ROLE_delta_opioid_receptor_antagonist': True, 'CHEBI_ROLE_pharmaceutical': True, 'clogp': 3.99, 'oh_nh': 2, 'hetero_sp2_c': 0, 'equivalent_identifiers': ['GTOPDB:1670', 'CAS:52485-79-7', 'INCHIKEY:RMRJXGBAOAMLHD-IHFGGWKQSA-N', 'CHEBI:3216', 'CHEMBL.COMPOUND:CHEMBL560511', 'HMDB:HMDB0015057', 'UNII:40D3SCR4GZ', 'KEGG.COMPOUND:C08007', 'DrugCentral:434', 'DRUGBANK:DB00921', 'PUBCHEM.COMPOUND:644073', 'MESH:D002047', 'UMLS:C0006405'], 'CHEBI_ROLE_kappa_opioid_receptor_antagonist': True, 'arom_c': 6, 'CHEBI_ROLE_pharmacological_role': True, 'sp_c': 0, 'mrdef': 'A derivative of the opioid alkaloid THEBAINE that is a more potent and longer lasting analgesic than MORPHINE. It appears to act as a partial agonist at mu and kappa opioid receptors and as an antagonist at delta receptors. The lack of delta-agonist activity has been suggested to account for the observation that buprenorphine tolerance may not develop with chronic use.', 'name': 'Buprenorphine', 'CHEBI_ROLE_kappa_opioid_agent': True, 'CHEBI_ROLE_mu_opioid_receptor_agonist': True, 'tpsa': 62.16, 'CHEBI_ROLE_opioid_receptor_antagonist': True, 'information_content': 100.0, 'status': 'OFP'}> n1_0=<Node element_id='5316835' labels=frozenset({'biolink:GeneProductMixin', 'biolink:GenomicEntity', 'biolink:Entity', 'biolink:NamedThing', 'biolink:ChemicalEntityOrGeneOrGeneProduct', 'biolink:PhysicalEssenceOrOccurrent', 'biolink:ThingWithTaxon', 'biolink:OntologyClass', 'biolink:GeneOrGeneProduct', 'biolink:Polypeptide', 'biolink:BiologicalEntity', 'biolink:ChemicalEntityOrProteinOrPolypeptide', 'biolink:Gene', 'biolink:PhysicalEssence', 'biolink:MacromolecularMachineMixin', 'biolink:Protein'}) properties={'symbol': 'CYP2D6', 'locus_group': 'protein-coding gene', 'name': 'CYP2D6', 'location': '22q13.2', 'taxon': 'NCBITaxon:9606', 'id': 'NCBIGene:1565', 'NCBITaxon': '9606', 'equivalent_identifiers': ['ENSEMBL:ENSP00000483677', 'UMLS:C1332830', 'UniProtKB:Q5Y7H2', 'UMLS:C3887685', 'OMIM:124030', 'NCBIGene:1565', 'UniProtKB:P10635', 'UniProtKB:C1ID52', 'ENSEMBL:ENSG00000100197', 'PR:P10635', 'ENSEMBL:ENSP00000483677.1', 'HGNC:2625']}> n2_0=<Node element_id='5171187' labels=frozenset({'biolink:Entity', 'biolink:ThingWithTaxon', 'biolink:PhenotypicFeature', 'biolink:NamedThing', 'biolink:BiologicalEntity', 'biolink:DiseaseOrPhenotypicFeature'}) properties={'name': 'Tremor', 'description': 'An unintentional, oscillating to-and-fro muscle movement about a joint axis.', 'id': 'HP:0001337', 'equivalent_identifiers': ['UMLS:C1527384', 'NCIT:C38038', 'MEDDRA:10044562', 'SNOMEDCT:26079004', 'HP:0001337', 'MEDDRA:10044563', 'SNOMEDCT:267079009', 'MESH:D014202', 'UMLS:C0040822', 'MEDDRA:10040528', 'MEDDRA:10044565', 'UMLS:C0234369']}> r0_0=<Relationship element_id='79325668' nodes=(<Node element_id='8421444' labels=frozenset({'biolink:Entity', 'biolink:ChemicalEntity', 'biolink:NamedThing', 'biolink:ChemicalEntityOrProteinOrPolypeptide', 'biolink:PhysicalEssence', 'biolink:MolecularEntity', 'biolink:ChemicalEntityOrGeneOrGeneProduct', 'biolink:PhysicalEssenceOrOccurrent', 'biolink:SmallMolecule', 'biolink:ChemicalOrDrugOrTreatment'}) properties={'CHEBI_ROLE_delta_opioid_agent': True, 'smiles': 'CO[C@]12CC[C@@]3(C[C@@H]1[C@](C)(O)C(C)(C)C)[C@H]1CC4=CC=C(O)C5=C4[C@@]3(CCN1CC1CC1)[C@H]2O5', 'description': 'A morphinane alkaloid that is 7,8-dihydromorphine 6-O-methyl ether in which positions 6 and 14 are joined by a -CH2CH2- bridge, one of the hydrogens of the N-methyl group is substituted by cyclopropyl, and a hydrogen at position 7 is substituted by a 2-hydroxy-3,3-dimethylbutan-2-yl group. It is highly effective for the treatment of opioid use disorder and is also increasingly being used in the treatment of chronic pain.', 'fda_labels': 74, 'rgb': 28, 'CHEBI_ROLE_analgesic': True, 'CHEBI_ROLE_opioid_agent': True, 'sp2_c': 0, 'sp3_c': 23, 'CHEBI_ROLE_antagonist': True, 'CHEBI_ROLE_agonist': True, 'CHEBI_ROLE_opioid_analgesic': True, 'cd_formula': 'C29H41NO4', 'alogs': -4.44, 'CHEBI_ROLE_opioid_receptor_agonist': True, 'id': 'PUBCHEM.COMPOUND:644073', 'CHEBI_ROLE_drug': True, 'CHEBI_ROLE_neurotransmitter_agent': True, 'lipinski': 0, 'rotb': 5, 'o_n': 5, 'halogen': 0, 'CHEBI_ROLE_mu_opioid_agent': True, 'cd_molweight': 467.65, 'CHEBI_ROLE_delta_opioid_receptor_antagonist': True, 'CHEBI_ROLE_pharmaceutical': True, 'clogp': 3.99, 'oh_nh': 2, 'hetero_sp2_c': 0, 'equivalent_identifiers': ['GTOPDB:1670', 'CAS:52485-79-7', 'INCHIKEY:RMRJXGBAOAMLHD-IHFGGWKQSA-N', 'CHEBI:3216', 'CHEMBL.COMPOUND:CHEMBL560511', 'HMDB:HMDB0015057', 'UNII:40D3SCR4GZ', 'KEGG.COMPOUND:C08007', 'DrugCentral:434', 'DRUGBANK:DB00921', 'PUBCHEM.COMPOUND:644073', 'MESH:D002047', 'UMLS:C0006405'], 'CHEBI_ROLE_kappa_opioid_receptor_antagonist': True, 'arom_c': 6, 'CHEBI_ROLE_pharmacological_role': True, 'sp_c': 0, 'mrdef': 'A derivative of the opioid alkaloid THEBAINE that is a more potent and longer lasting analgesic than MORPHINE. It appears to act as a partial agonist at mu and kappa opioid receptors and as an antagonist at delta receptors. The lack of delta-agonist activity has been suggested to account for the observation that buprenorphine tolerance may not develop with chronic use.', 'name': 'Buprenorphine', 'CHEBI_ROLE_kappa_opioid_agent': True, 'CHEBI_ROLE_mu_opioid_receptor_agonist': True, 'tpsa': 62.16, 'CHEBI_ROLE_opioid_receptor_antagonist': True, 'information_content': 100.0, 'status': 'OFP'}>, <Node element_id='5316835' labels=frozenset({'biolink:GeneProductMixin', 'biolink:GenomicEntity', 'biolink:Entity', 'biolink:NamedThing', 'biolink:ChemicalEntityOrGeneOrGeneProduct', 'biolink:PhysicalEssenceOrOccurrent', 'biolink:ThingWithTaxon', 'biolink:OntologyClass', 'biolink:GeneOrGeneProduct', 'biolink:Polypeptide', 'biolink:BiologicalEntity', 'biolink:ChemicalEntityOrProteinOrPolypeptide', 'biolink:Gene', 'biolink:PhysicalEssence', 'biolink:MacromolecularMachineMixin', 'biolink:Protein'}) properties={'symbol': 'CYP2D6', 'locus_group': 'protein-coding gene', 'name': 'CYP2D6', 'location': '22q13.2', 'taxon': 'NCBITaxon:9606', 'id': 'NCBIGene:1565', 'NCBITaxon': '9606', 'equivalent_identifiers': ['ENSEMBL:ENSP00000483677', 'UMLS:C1332830', 'UniProtKB:Q5Y7H2', 'UMLS:C3887685', 'OMIM:124030', 'NCBIGene:1565', 'UniProtKB:P10635', 'UniProtKB:C1ID52', 'ENSEMBL:ENSG00000100197', 'PR:P10635', 'ENSEMBL:ENSP00000483677.1', 'HGNC:2625']}>) type='biolink:regulates' properties={'object_direction_qualifier': 'downregulated', 'sentences': 'Buprenorphine exhibited potent, competitive inhibition of CYP2D6 (Ki 10 +/- 2 microM and 1.8 +/- 0.2 microM) and CYP3A4 (Ki 40 +/- 1.6 microM and 19 +/- 1.2 microM) in microsomes from human liver and cDNA-expressing lymphoblasts, respectively.|PMID:12756210', 'biolink:primary_knowledge_source': 'infores:textminingkp', 'biolink:tmkp_confidence_score': '0.99969625', 'tmkp_ids': ['tmkp:12699a64cae70b20411935b5e5028d220ccbe4f7a0ad13a81978026cb43111bf'], 'publications': ['PMID:12756210']}> r1_0=<Relationship element_id='75966132' nodes=(<Node element_id='5316835' labels=frozenset({'biolink:GeneProductMixin', 'biolink:GenomicEntity', 'biolink:Entity', 'biolink:NamedThing', 'biolink:ChemicalEntityOrGeneOrGeneProduct', 'biolink:PhysicalEssenceOrOccurrent', 'biolink:ThingWithTaxon', 'biolink:OntologyClass', 'biolink:GeneOrGeneProduct', 'biolink:Polypeptide', 'biolink:BiologicalEntity', 'biolink:ChemicalEntityOrProteinOrPolypeptide', 'biolink:Gene', 'biolink:PhysicalEssence', 'biolink:MacromolecularMachineMixin', 'biolink:Protein'}) properties={'symbol': 'CYP2D6', 'locus_group': 'protein-coding gene', 'name': 'CYP2D6', 'location': '22q13.2', 'taxon': 'NCBITaxon:9606', 'id': 'NCBIGene:1565', 'NCBITaxon': '9606', 'equivalent_identifiers': ['ENSEMBL:ENSP00000483677', 'UMLS:C1332830', 'UniProtKB:Q5Y7H2', 'UMLS:C3887685', 'OMIM:124030', 'NCBIGene:1565', 'UniProtKB:P10635', 'UniProtKB:C1ID52', 'ENSEMBL:ENSG00000100197', 'PR:P10635', 'ENSEMBL:ENSP00000483677.1', 'HGNC:2625']}>, <Node element_id='5171187' labels=frozenset({'biolink:Entity', 'biolink:ThingWithTaxon', 'biolink:PhenotypicFeature', 'biolink:NamedThing', 'biolink:BiologicalEntity', 'biolink:DiseaseOrPhenotypicFeature'}) properties={'name': 'Tremor', 'description': 'An unintentional, oscillating to-and-fro muscle movement about a joint axis.', 'id': 'HP:0001337', 'equivalent_identifiers': ['UMLS:C1527384', 'NCIT:C38038', 'MEDDRA:10044562', 'SNOMEDCT:26079004', 'HP:0001337', 'MEDDRA:10044563', 'SNOMEDCT:267079009', 'MESH:D014202', 'UMLS:C0040822', 'MEDDRA:10040528', 'MEDDRA:10044565', 'UMLS:C0234369']}>) type='biolink:genetic_association' properties={'score': 0.3, 'biolink:primary_knowledge_source': 'infores:disgenet', 'biolink:aggregator_knowledge_source': ['infores:pharos']}>>\n",
      "<Record n0_0=<Node element_id='8421444' labels=frozenset({'biolink:Entity', 'biolink:ChemicalEntity', 'biolink:NamedThing', 'biolink:ChemicalEntityOrProteinOrPolypeptide', 'biolink:PhysicalEssence', 'biolink:MolecularEntity', 'biolink:ChemicalEntityOrGeneOrGeneProduct', 'biolink:PhysicalEssenceOrOccurrent', 'biolink:SmallMolecule', 'biolink:ChemicalOrDrugOrTreatment'}) properties={'CHEBI_ROLE_delta_opioid_agent': True, 'smiles': 'CO[C@]12CC[C@@]3(C[C@@H]1[C@](C)(O)C(C)(C)C)[C@H]1CC4=CC=C(O)C5=C4[C@@]3(CCN1CC1CC1)[C@H]2O5', 'description': 'A morphinane alkaloid that is 7,8-dihydromorphine 6-O-methyl ether in which positions 6 and 14 are joined by a -CH2CH2- bridge, one of the hydrogens of the N-methyl group is substituted by cyclopropyl, and a hydrogen at position 7 is substituted by a 2-hydroxy-3,3-dimethylbutan-2-yl group. It is highly effective for the treatment of opioid use disorder and is also increasingly being used in the treatment of chronic pain.', 'fda_labels': 74, 'rgb': 28, 'CHEBI_ROLE_analgesic': True, 'CHEBI_ROLE_opioid_agent': True, 'sp2_c': 0, 'sp3_c': 23, 'CHEBI_ROLE_antagonist': True, 'CHEBI_ROLE_agonist': True, 'CHEBI_ROLE_opioid_analgesic': True, 'cd_formula': 'C29H41NO4', 'alogs': -4.44, 'CHEBI_ROLE_opioid_receptor_agonist': True, 'id': 'PUBCHEM.COMPOUND:644073', 'CHEBI_ROLE_drug': True, 'CHEBI_ROLE_neurotransmitter_agent': True, 'lipinski': 0, 'rotb': 5, 'o_n': 5, 'halogen': 0, 'CHEBI_ROLE_mu_opioid_agent': True, 'cd_molweight': 467.65, 'CHEBI_ROLE_delta_opioid_receptor_antagonist': True, 'CHEBI_ROLE_pharmaceutical': True, 'clogp': 3.99, 'oh_nh': 2, 'hetero_sp2_c': 0, 'equivalent_identifiers': ['GTOPDB:1670', 'CAS:52485-79-7', 'INCHIKEY:RMRJXGBAOAMLHD-IHFGGWKQSA-N', 'CHEBI:3216', 'CHEMBL.COMPOUND:CHEMBL560511', 'HMDB:HMDB0015057', 'UNII:40D3SCR4GZ', 'KEGG.COMPOUND:C08007', 'DrugCentral:434', 'DRUGBANK:DB00921', 'PUBCHEM.COMPOUND:644073', 'MESH:D002047', 'UMLS:C0006405'], 'CHEBI_ROLE_kappa_opioid_receptor_antagonist': True, 'arom_c': 6, 'CHEBI_ROLE_pharmacological_role': True, 'sp_c': 0, 'mrdef': 'A derivative of the opioid alkaloid THEBAINE that is a more potent and longer lasting analgesic than MORPHINE. It appears to act as a partial agonist at mu and kappa opioid receptors and as an antagonist at delta receptors. The lack of delta-agonist activity has been suggested to account for the observation that buprenorphine tolerance may not develop with chronic use.', 'name': 'Buprenorphine', 'CHEBI_ROLE_kappa_opioid_agent': True, 'CHEBI_ROLE_mu_opioid_receptor_agonist': True, 'tpsa': 62.16, 'CHEBI_ROLE_opioid_receptor_antagonist': True, 'information_content': 100.0, 'status': 'OFP'}> n1_0=<Node element_id='5316835' labels=frozenset({'biolink:GeneProductMixin', 'biolink:GenomicEntity', 'biolink:Entity', 'biolink:NamedThing', 'biolink:ChemicalEntityOrGeneOrGeneProduct', 'biolink:PhysicalEssenceOrOccurrent', 'biolink:ThingWithTaxon', 'biolink:OntologyClass', 'biolink:GeneOrGeneProduct', 'biolink:Polypeptide', 'biolink:BiologicalEntity', 'biolink:ChemicalEntityOrProteinOrPolypeptide', 'biolink:Gene', 'biolink:PhysicalEssence', 'biolink:MacromolecularMachineMixin', 'biolink:Protein'}) properties={'symbol': 'CYP2D6', 'locus_group': 'protein-coding gene', 'name': 'CYP2D6', 'location': '22q13.2', 'taxon': 'NCBITaxon:9606', 'id': 'NCBIGene:1565', 'NCBITaxon': '9606', 'equivalent_identifiers': ['ENSEMBL:ENSP00000483677', 'UMLS:C1332830', 'UniProtKB:Q5Y7H2', 'UMLS:C3887685', 'OMIM:124030', 'NCBIGene:1565', 'UniProtKB:P10635', 'UniProtKB:C1ID52', 'ENSEMBL:ENSG00000100197', 'PR:P10635', 'ENSEMBL:ENSP00000483677.1', 'HGNC:2625']}> n2_0=<Node element_id='5171187' labels=frozenset({'biolink:Entity', 'biolink:ThingWithTaxon', 'biolink:PhenotypicFeature', 'biolink:NamedThing', 'biolink:BiologicalEntity', 'biolink:DiseaseOrPhenotypicFeature'}) properties={'name': 'Tremor', 'description': 'An unintentional, oscillating to-and-fro muscle movement about a joint axis.', 'id': 'HP:0001337', 'equivalent_identifiers': ['UMLS:C1527384', 'NCIT:C38038', 'MEDDRA:10044562', 'SNOMEDCT:26079004', 'HP:0001337', 'MEDDRA:10044563', 'SNOMEDCT:267079009', 'MESH:D014202', 'UMLS:C0040822', 'MEDDRA:10040528', 'MEDDRA:10044565', 'UMLS:C0234369']}> r0_0=<Relationship element_id='88245379' nodes=(<Node element_id='8421444' labels=frozenset({'biolink:Entity', 'biolink:ChemicalEntity', 'biolink:NamedThing', 'biolink:ChemicalEntityOrProteinOrPolypeptide', 'biolink:PhysicalEssence', 'biolink:MolecularEntity', 'biolink:ChemicalEntityOrGeneOrGeneProduct', 'biolink:PhysicalEssenceOrOccurrent', 'biolink:SmallMolecule', 'biolink:ChemicalOrDrugOrTreatment'}) properties={'CHEBI_ROLE_delta_opioid_agent': True, 'smiles': 'CO[C@]12CC[C@@]3(C[C@@H]1[C@](C)(O)C(C)(C)C)[C@H]1CC4=CC=C(O)C5=C4[C@@]3(CCN1CC1CC1)[C@H]2O5', 'description': 'A morphinane alkaloid that is 7,8-dihydromorphine 6-O-methyl ether in which positions 6 and 14 are joined by a -CH2CH2- bridge, one of the hydrogens of the N-methyl group is substituted by cyclopropyl, and a hydrogen at position 7 is substituted by a 2-hydroxy-3,3-dimethylbutan-2-yl group. It is highly effective for the treatment of opioid use disorder and is also increasingly being used in the treatment of chronic pain.', 'fda_labels': 74, 'rgb': 28, 'CHEBI_ROLE_analgesic': True, 'CHEBI_ROLE_opioid_agent': True, 'sp2_c': 0, 'sp3_c': 23, 'CHEBI_ROLE_antagonist': True, 'CHEBI_ROLE_agonist': True, 'CHEBI_ROLE_opioid_analgesic': True, 'cd_formula': 'C29H41NO4', 'alogs': -4.44, 'CHEBI_ROLE_opioid_receptor_agonist': True, 'id': 'PUBCHEM.COMPOUND:644073', 'CHEBI_ROLE_drug': True, 'CHEBI_ROLE_neurotransmitter_agent': True, 'lipinski': 0, 'rotb': 5, 'o_n': 5, 'halogen': 0, 'CHEBI_ROLE_mu_opioid_agent': True, 'cd_molweight': 467.65, 'CHEBI_ROLE_delta_opioid_receptor_antagonist': True, 'CHEBI_ROLE_pharmaceutical': True, 'clogp': 3.99, 'oh_nh': 2, 'hetero_sp2_c': 0, 'equivalent_identifiers': ['GTOPDB:1670', 'CAS:52485-79-7', 'INCHIKEY:RMRJXGBAOAMLHD-IHFGGWKQSA-N', 'CHEBI:3216', 'CHEMBL.COMPOUND:CHEMBL560511', 'HMDB:HMDB0015057', 'UNII:40D3SCR4GZ', 'KEGG.COMPOUND:C08007', 'DrugCentral:434', 'DRUGBANK:DB00921', 'PUBCHEM.COMPOUND:644073', 'MESH:D002047', 'UMLS:C0006405'], 'CHEBI_ROLE_kappa_opioid_receptor_antagonist': True, 'arom_c': 6, 'CHEBI_ROLE_pharmacological_role': True, 'sp_c': 0, 'mrdef': 'A derivative of the opioid alkaloid THEBAINE that is a more potent and longer lasting analgesic than MORPHINE. It appears to act as a partial agonist at mu and kappa opioid receptors and as an antagonist at delta receptors. The lack of delta-agonist activity has been suggested to account for the observation that buprenorphine tolerance may not develop with chronic use.', 'name': 'Buprenorphine', 'CHEBI_ROLE_kappa_opioid_agent': True, 'CHEBI_ROLE_mu_opioid_receptor_agonist': True, 'tpsa': 62.16, 'CHEBI_ROLE_opioid_receptor_antagonist': True, 'information_content': 100.0, 'status': 'OFP'}>, <Node element_id='5316835' labels=frozenset({'biolink:GeneProductMixin', 'biolink:GenomicEntity', 'biolink:Entity', 'biolink:NamedThing', 'biolink:ChemicalEntityOrGeneOrGeneProduct', 'biolink:PhysicalEssenceOrOccurrent', 'biolink:ThingWithTaxon', 'biolink:OntologyClass', 'biolink:GeneOrGeneProduct', 'biolink:Polypeptide', 'biolink:BiologicalEntity', 'biolink:ChemicalEntityOrProteinOrPolypeptide', 'biolink:Gene', 'biolink:PhysicalEssence', 'biolink:MacromolecularMachineMixin', 'biolink:Protein'}) properties={'symbol': 'CYP2D6', 'locus_group': 'protein-coding gene', 'name': 'CYP2D6', 'location': '22q13.2', 'taxon': 'NCBITaxon:9606', 'id': 'NCBIGene:1565', 'NCBITaxon': '9606', 'equivalent_identifiers': ['ENSEMBL:ENSP00000483677', 'UMLS:C1332830', 'UniProtKB:Q5Y7H2', 'UMLS:C3887685', 'OMIM:124030', 'NCBIGene:1565', 'UniProtKB:P10635', 'UniProtKB:C1ID52', 'ENSEMBL:ENSG00000100197', 'PR:P10635', 'ENSEMBL:ENSP00000483677.1', 'HGNC:2625']}>) type='biolink:directly_physically_interacts_with' properties={'biolink:primary_knowledge_source': 'infores:hetionet', 'hetio_source': ['DrugBank (enzyme)']}> r1_0=<Relationship element_id='75966132' nodes=(<Node element_id='5316835' labels=frozenset({'biolink:GeneProductMixin', 'biolink:GenomicEntity', 'biolink:Entity', 'biolink:NamedThing', 'biolink:ChemicalEntityOrGeneOrGeneProduct', 'biolink:PhysicalEssenceOrOccurrent', 'biolink:ThingWithTaxon', 'biolink:OntologyClass', 'biolink:GeneOrGeneProduct', 'biolink:Polypeptide', 'biolink:BiologicalEntity', 'biolink:ChemicalEntityOrProteinOrPolypeptide', 'biolink:Gene', 'biolink:PhysicalEssence', 'biolink:MacromolecularMachineMixin', 'biolink:Protein'}) properties={'symbol': 'CYP2D6', 'locus_group': 'protein-coding gene', 'name': 'CYP2D6', 'location': '22q13.2', 'taxon': 'NCBITaxon:9606', 'id': 'NCBIGene:1565', 'NCBITaxon': '9606', 'equivalent_identifiers': ['ENSEMBL:ENSP00000483677', 'UMLS:C1332830', 'UniProtKB:Q5Y7H2', 'UMLS:C3887685', 'OMIM:124030', 'NCBIGene:1565', 'UniProtKB:P10635', 'UniProtKB:C1ID52', 'ENSEMBL:ENSG00000100197', 'PR:P10635', 'ENSEMBL:ENSP00000483677.1', 'HGNC:2625']}>, <Node element_id='5171187' labels=frozenset({'biolink:Entity', 'biolink:ThingWithTaxon', 'biolink:PhenotypicFeature', 'biolink:NamedThing', 'biolink:BiologicalEntity', 'biolink:DiseaseOrPhenotypicFeature'}) properties={'name': 'Tremor', 'description': 'An unintentional, oscillating to-and-fro muscle movement about a joint axis.', 'id': 'HP:0001337', 'equivalent_identifiers': ['UMLS:C1527384', 'NCIT:C38038', 'MEDDRA:10044562', 'SNOMEDCT:26079004', 'HP:0001337', 'MEDDRA:10044563', 'SNOMEDCT:267079009', 'MESH:D014202', 'UMLS:C0040822', 'MEDDRA:10040528', 'MEDDRA:10044565', 'UMLS:C0234369']}>) type='biolink:genetic_association' properties={'score': 0.3, 'biolink:primary_knowledge_source': 'infores:disgenet', 'biolink:aggregator_knowledge_source': ['infores:pharos']}>>\n",
      "<Record n0_0=<Node element_id='8421444' labels=frozenset({'biolink:Entity', 'biolink:ChemicalEntity', 'biolink:NamedThing', 'biolink:ChemicalEntityOrProteinOrPolypeptide', 'biolink:PhysicalEssence', 'biolink:MolecularEntity', 'biolink:ChemicalEntityOrGeneOrGeneProduct', 'biolink:PhysicalEssenceOrOccurrent', 'biolink:SmallMolecule', 'biolink:ChemicalOrDrugOrTreatment'}) properties={'CHEBI_ROLE_delta_opioid_agent': True, 'smiles': 'CO[C@]12CC[C@@]3(C[C@@H]1[C@](C)(O)C(C)(C)C)[C@H]1CC4=CC=C(O)C5=C4[C@@]3(CCN1CC1CC1)[C@H]2O5', 'description': 'A morphinane alkaloid that is 7,8-dihydromorphine 6-O-methyl ether in which positions 6 and 14 are joined by a -CH2CH2- bridge, one of the hydrogens of the N-methyl group is substituted by cyclopropyl, and a hydrogen at position 7 is substituted by a 2-hydroxy-3,3-dimethylbutan-2-yl group. It is highly effective for the treatment of opioid use disorder and is also increasingly being used in the treatment of chronic pain.', 'fda_labels': 74, 'rgb': 28, 'CHEBI_ROLE_analgesic': True, 'CHEBI_ROLE_opioid_agent': True, 'sp2_c': 0, 'sp3_c': 23, 'CHEBI_ROLE_antagonist': True, 'CHEBI_ROLE_agonist': True, 'CHEBI_ROLE_opioid_analgesic': True, 'cd_formula': 'C29H41NO4', 'alogs': -4.44, 'CHEBI_ROLE_opioid_receptor_agonist': True, 'id': 'PUBCHEM.COMPOUND:644073', 'CHEBI_ROLE_drug': True, 'CHEBI_ROLE_neurotransmitter_agent': True, 'lipinski': 0, 'rotb': 5, 'o_n': 5, 'halogen': 0, 'CHEBI_ROLE_mu_opioid_agent': True, 'cd_molweight': 467.65, 'CHEBI_ROLE_delta_opioid_receptor_antagonist': True, 'CHEBI_ROLE_pharmaceutical': True, 'clogp': 3.99, 'oh_nh': 2, 'hetero_sp2_c': 0, 'equivalent_identifiers': ['GTOPDB:1670', 'CAS:52485-79-7', 'INCHIKEY:RMRJXGBAOAMLHD-IHFGGWKQSA-N', 'CHEBI:3216', 'CHEMBL.COMPOUND:CHEMBL560511', 'HMDB:HMDB0015057', 'UNII:40D3SCR4GZ', 'KEGG.COMPOUND:C08007', 'DrugCentral:434', 'DRUGBANK:DB00921', 'PUBCHEM.COMPOUND:644073', 'MESH:D002047', 'UMLS:C0006405'], 'CHEBI_ROLE_kappa_opioid_receptor_antagonist': True, 'arom_c': 6, 'CHEBI_ROLE_pharmacological_role': True, 'sp_c': 0, 'mrdef': 'A derivative of the opioid alkaloid THEBAINE that is a more potent and longer lasting analgesic than MORPHINE. It appears to act as a partial agonist at mu and kappa opioid receptors and as an antagonist at delta receptors. The lack of delta-agonist activity has been suggested to account for the observation that buprenorphine tolerance may not develop with chronic use.', 'name': 'Buprenorphine', 'CHEBI_ROLE_kappa_opioid_agent': True, 'CHEBI_ROLE_mu_opioid_receptor_agonist': True, 'tpsa': 62.16, 'CHEBI_ROLE_opioid_receptor_antagonist': True, 'information_content': 100.0, 'status': 'OFP'}> n1_0=<Node element_id='5316835' labels=frozenset({'biolink:GeneProductMixin', 'biolink:GenomicEntity', 'biolink:Entity', 'biolink:NamedThing', 'biolink:ChemicalEntityOrGeneOrGeneProduct', 'biolink:PhysicalEssenceOrOccurrent', 'biolink:ThingWithTaxon', 'biolink:OntologyClass', 'biolink:GeneOrGeneProduct', 'biolink:Polypeptide', 'biolink:BiologicalEntity', 'biolink:ChemicalEntityOrProteinOrPolypeptide', 'biolink:Gene', 'biolink:PhysicalEssence', 'biolink:MacromolecularMachineMixin', 'biolink:Protein'}) properties={'symbol': 'CYP2D6', 'locus_group': 'protein-coding gene', 'name': 'CYP2D6', 'location': '22q13.2', 'taxon': 'NCBITaxon:9606', 'id': 'NCBIGene:1565', 'NCBITaxon': '9606', 'equivalent_identifiers': ['ENSEMBL:ENSP00000483677', 'UMLS:C1332830', 'UniProtKB:Q5Y7H2', 'UMLS:C3887685', 'OMIM:124030', 'NCBIGene:1565', 'UniProtKB:P10635', 'UniProtKB:C1ID52', 'ENSEMBL:ENSG00000100197', 'PR:P10635', 'ENSEMBL:ENSP00000483677.1', 'HGNC:2625']}> n2_0=<Node element_id='5171187' labels=frozenset({'biolink:Entity', 'biolink:ThingWithTaxon', 'biolink:PhenotypicFeature', 'biolink:NamedThing', 'biolink:BiologicalEntity', 'biolink:DiseaseOrPhenotypicFeature'}) properties={'name': 'Tremor', 'description': 'An unintentional, oscillating to-and-fro muscle movement about a joint axis.', 'id': 'HP:0001337', 'equivalent_identifiers': ['UMLS:C1527384', 'NCIT:C38038', 'MEDDRA:10044562', 'SNOMEDCT:26079004', 'HP:0001337', 'MEDDRA:10044563', 'SNOMEDCT:267079009', 'MESH:D014202', 'UMLS:C0040822', 'MEDDRA:10040528', 'MEDDRA:10044565', 'UMLS:C0234369']}> r0_0=<Relationship element_id='113499113' nodes=(<Node element_id='8421444' labels=frozenset({'biolink:Entity', 'biolink:ChemicalEntity', 'biolink:NamedThing', 'biolink:ChemicalEntityOrProteinOrPolypeptide', 'biolink:PhysicalEssence', 'biolink:MolecularEntity', 'biolink:ChemicalEntityOrGeneOrGeneProduct', 'biolink:PhysicalEssenceOrOccurrent', 'biolink:SmallMolecule', 'biolink:ChemicalOrDrugOrTreatment'}) properties={'CHEBI_ROLE_delta_opioid_agent': True, 'smiles': 'CO[C@]12CC[C@@]3(C[C@@H]1[C@](C)(O)C(C)(C)C)[C@H]1CC4=CC=C(O)C5=C4[C@@]3(CCN1CC1CC1)[C@H]2O5', 'description': 'A morphinane alkaloid that is 7,8-dihydromorphine 6-O-methyl ether in which positions 6 and 14 are joined by a -CH2CH2- bridge, one of the hydrogens of the N-methyl group is substituted by cyclopropyl, and a hydrogen at position 7 is substituted by a 2-hydroxy-3,3-dimethylbutan-2-yl group. It is highly effective for the treatment of opioid use disorder and is also increasingly being used in the treatment of chronic pain.', 'fda_labels': 74, 'rgb': 28, 'CHEBI_ROLE_analgesic': True, 'CHEBI_ROLE_opioid_agent': True, 'sp2_c': 0, 'sp3_c': 23, 'CHEBI_ROLE_antagonist': True, 'CHEBI_ROLE_agonist': True, 'CHEBI_ROLE_opioid_analgesic': True, 'cd_formula': 'C29H41NO4', 'alogs': -4.44, 'CHEBI_ROLE_opioid_receptor_agonist': True, 'id': 'PUBCHEM.COMPOUND:644073', 'CHEBI_ROLE_drug': True, 'CHEBI_ROLE_neurotransmitter_agent': True, 'lipinski': 0, 'rotb': 5, 'o_n': 5, 'halogen': 0, 'CHEBI_ROLE_mu_opioid_agent': True, 'cd_molweight': 467.65, 'CHEBI_ROLE_delta_opioid_receptor_antagonist': True, 'CHEBI_ROLE_pharmaceutical': True, 'clogp': 3.99, 'oh_nh': 2, 'hetero_sp2_c': 0, 'equivalent_identifiers': ['GTOPDB:1670', 'CAS:52485-79-7', 'INCHIKEY:RMRJXGBAOAMLHD-IHFGGWKQSA-N', 'CHEBI:3216', 'CHEMBL.COMPOUND:CHEMBL560511', 'HMDB:HMDB0015057', 'UNII:40D3SCR4GZ', 'KEGG.COMPOUND:C08007', 'DrugCentral:434', 'DRUGBANK:DB00921', 'PUBCHEM.COMPOUND:644073', 'MESH:D002047', 'UMLS:C0006405'], 'CHEBI_ROLE_kappa_opioid_receptor_antagonist': True, 'arom_c': 6, 'CHEBI_ROLE_pharmacological_role': True, 'sp_c': 0, 'mrdef': 'A derivative of the opioid alkaloid THEBAINE that is a more potent and longer lasting analgesic than MORPHINE. It appears to act as a partial agonist at mu and kappa opioid receptors and as an antagonist at delta receptors. The lack of delta-agonist activity has been suggested to account for the observation that buprenorphine tolerance may not develop with chronic use.', 'name': 'Buprenorphine', 'CHEBI_ROLE_kappa_opioid_agent': True, 'CHEBI_ROLE_mu_opioid_receptor_agonist': True, 'tpsa': 62.16, 'CHEBI_ROLE_opioid_receptor_antagonist': True, 'information_content': 100.0, 'status': 'OFP'}>, <Node element_id='5316835' labels=frozenset({'biolink:GeneProductMixin', 'biolink:GenomicEntity', 'biolink:Entity', 'biolink:NamedThing', 'biolink:ChemicalEntityOrGeneOrGeneProduct', 'biolink:PhysicalEssenceOrOccurrent', 'biolink:ThingWithTaxon', 'biolink:OntologyClass', 'biolink:GeneOrGeneProduct', 'biolink:Polypeptide', 'biolink:BiologicalEntity', 'biolink:ChemicalEntityOrProteinOrPolypeptide', 'biolink:Gene', 'biolink:PhysicalEssence', 'biolink:MacromolecularMachineMixin', 'biolink:Protein'}) properties={'symbol': 'CYP2D6', 'locus_group': 'protein-coding gene', 'name': 'CYP2D6', 'location': '22q13.2', 'taxon': 'NCBITaxon:9606', 'id': 'NCBIGene:1565', 'NCBITaxon': '9606', 'equivalent_identifiers': ['ENSEMBL:ENSP00000483677', 'UMLS:C1332830', 'UniProtKB:Q5Y7H2', 'UMLS:C3887685', 'OMIM:124030', 'NCBIGene:1565', 'UniProtKB:P10635', 'UniProtKB:C1ID52', 'ENSEMBL:ENSG00000100197', 'PR:P10635', 'ENSEMBL:ENSP00000483677.1', 'HGNC:2625']}>) type='biolink:affects' properties={'object_direction_qualifier': 'decreased', 'qualified_predicate': 'biolink:causes', 'biolink:primary_knowledge_source': 'infores:ctd', 'description': 'decreases activity of', 'NCBITaxon': '9606', 'object_aspect_qualifier': 'activity', 'publications': ['PMID:12756210']}> r1_0=<Relationship element_id='50901981' nodes=(<Node element_id='5316835' labels=frozenset({'biolink:GeneProductMixin', 'biolink:GenomicEntity', 'biolink:Entity', 'biolink:NamedThing', 'biolink:ChemicalEntityOrGeneOrGeneProduct', 'biolink:PhysicalEssenceOrOccurrent', 'biolink:ThingWithTaxon', 'biolink:OntologyClass', 'biolink:GeneOrGeneProduct', 'biolink:Polypeptide', 'biolink:BiologicalEntity', 'biolink:ChemicalEntityOrProteinOrPolypeptide', 'biolink:Gene', 'biolink:PhysicalEssence', 'biolink:MacromolecularMachineMixin', 'biolink:Protein'}) properties={'symbol': 'CYP2D6', 'locus_group': 'protein-coding gene', 'name': 'CYP2D6', 'location': '22q13.2', 'taxon': 'NCBITaxon:9606', 'id': 'NCBIGene:1565', 'NCBITaxon': '9606', 'equivalent_identifiers': ['ENSEMBL:ENSP00000483677', 'UMLS:C1332830', 'UniProtKB:Q5Y7H2', 'UMLS:C3887685', 'OMIM:124030', 'NCBIGene:1565', 'UniProtKB:P10635', 'UniProtKB:C1ID52', 'ENSEMBL:ENSG00000100197', 'PR:P10635', 'ENSEMBL:ENSP00000483677.1', 'HGNC:2625']}>, <Node element_id='5171187' labels=frozenset({'biolink:Entity', 'biolink:ThingWithTaxon', 'biolink:PhenotypicFeature', 'biolink:NamedThing', 'biolink:BiologicalEntity', 'biolink:DiseaseOrPhenotypicFeature'}) properties={'name': 'Tremor', 'description': 'An unintentional, oscillating to-and-fro muscle movement about a joint axis.', 'id': 'HP:0001337', 'equivalent_identifiers': ['UMLS:C1527384', 'NCIT:C38038', 'MEDDRA:10044562', 'SNOMEDCT:26079004', 'HP:0001337', 'MEDDRA:10044563', 'SNOMEDCT:267079009', 'MESH:D014202', 'UMLS:C0040822', 'MEDDRA:10040528', 'MEDDRA:10044565', 'UMLS:C0234369']}>) type='biolink:genetic_association' properties={'biolink:primary_knowledge_source': 'infores:ctd', 'biolink:aggregator_knowledge_source': ['infores:pharos']}>>\n",
      "<Record n0_0=<Node element_id='8421444' labels=frozenset({'biolink:Entity', 'biolink:ChemicalEntity', 'biolink:NamedThing', 'biolink:ChemicalEntityOrProteinOrPolypeptide', 'biolink:PhysicalEssence', 'biolink:MolecularEntity', 'biolink:ChemicalEntityOrGeneOrGeneProduct', 'biolink:PhysicalEssenceOrOccurrent', 'biolink:SmallMolecule', 'biolink:ChemicalOrDrugOrTreatment'}) properties={'CHEBI_ROLE_delta_opioid_agent': True, 'smiles': 'CO[C@]12CC[C@@]3(C[C@@H]1[C@](C)(O)C(C)(C)C)[C@H]1CC4=CC=C(O)C5=C4[C@@]3(CCN1CC1CC1)[C@H]2O5', 'description': 'A morphinane alkaloid that is 7,8-dihydromorphine 6-O-methyl ether in which positions 6 and 14 are joined by a -CH2CH2- bridge, one of the hydrogens of the N-methyl group is substituted by cyclopropyl, and a hydrogen at position 7 is substituted by a 2-hydroxy-3,3-dimethylbutan-2-yl group. It is highly effective for the treatment of opioid use disorder and is also increasingly being used in the treatment of chronic pain.', 'fda_labels': 74, 'rgb': 28, 'CHEBI_ROLE_analgesic': True, 'CHEBI_ROLE_opioid_agent': True, 'sp2_c': 0, 'sp3_c': 23, 'CHEBI_ROLE_antagonist': True, 'CHEBI_ROLE_agonist': True, 'CHEBI_ROLE_opioid_analgesic': True, 'cd_formula': 'C29H41NO4', 'alogs': -4.44, 'CHEBI_ROLE_opioid_receptor_agonist': True, 'id': 'PUBCHEM.COMPOUND:644073', 'CHEBI_ROLE_drug': True, 'CHEBI_ROLE_neurotransmitter_agent': True, 'lipinski': 0, 'rotb': 5, 'o_n': 5, 'halogen': 0, 'CHEBI_ROLE_mu_opioid_agent': True, 'cd_molweight': 467.65, 'CHEBI_ROLE_delta_opioid_receptor_antagonist': True, 'CHEBI_ROLE_pharmaceutical': True, 'clogp': 3.99, 'oh_nh': 2, 'hetero_sp2_c': 0, 'equivalent_identifiers': ['GTOPDB:1670', 'CAS:52485-79-7', 'INCHIKEY:RMRJXGBAOAMLHD-IHFGGWKQSA-N', 'CHEBI:3216', 'CHEMBL.COMPOUND:CHEMBL560511', 'HMDB:HMDB0015057', 'UNII:40D3SCR4GZ', 'KEGG.COMPOUND:C08007', 'DrugCentral:434', 'DRUGBANK:DB00921', 'PUBCHEM.COMPOUND:644073', 'MESH:D002047', 'UMLS:C0006405'], 'CHEBI_ROLE_kappa_opioid_receptor_antagonist': True, 'arom_c': 6, 'CHEBI_ROLE_pharmacological_role': True, 'sp_c': 0, 'mrdef': 'A derivative of the opioid alkaloid THEBAINE that is a more potent and longer lasting analgesic than MORPHINE. It appears to act as a partial agonist at mu and kappa opioid receptors and as an antagonist at delta receptors. The lack of delta-agonist activity has been suggested to account for the observation that buprenorphine tolerance may not develop with chronic use.', 'name': 'Buprenorphine', 'CHEBI_ROLE_kappa_opioid_agent': True, 'CHEBI_ROLE_mu_opioid_receptor_agonist': True, 'tpsa': 62.16, 'CHEBI_ROLE_opioid_receptor_antagonist': True, 'information_content': 100.0, 'status': 'OFP'}> n1_0=<Node element_id='5316835' labels=frozenset({'biolink:GeneProductMixin', 'biolink:GenomicEntity', 'biolink:Entity', 'biolink:NamedThing', 'biolink:ChemicalEntityOrGeneOrGeneProduct', 'biolink:PhysicalEssenceOrOccurrent', 'biolink:ThingWithTaxon', 'biolink:OntologyClass', 'biolink:GeneOrGeneProduct', 'biolink:Polypeptide', 'biolink:BiologicalEntity', 'biolink:ChemicalEntityOrProteinOrPolypeptide', 'biolink:Gene', 'biolink:PhysicalEssence', 'biolink:MacromolecularMachineMixin', 'biolink:Protein'}) properties={'symbol': 'CYP2D6', 'locus_group': 'protein-coding gene', 'name': 'CYP2D6', 'location': '22q13.2', 'taxon': 'NCBITaxon:9606', 'id': 'NCBIGene:1565', 'NCBITaxon': '9606', 'equivalent_identifiers': ['ENSEMBL:ENSP00000483677', 'UMLS:C1332830', 'UniProtKB:Q5Y7H2', 'UMLS:C3887685', 'OMIM:124030', 'NCBIGene:1565', 'UniProtKB:P10635', 'UniProtKB:C1ID52', 'ENSEMBL:ENSG00000100197', 'PR:P10635', 'ENSEMBL:ENSP00000483677.1', 'HGNC:2625']}> n2_0=<Node element_id='5171187' labels=frozenset({'biolink:Entity', 'biolink:ThingWithTaxon', 'biolink:PhenotypicFeature', 'biolink:NamedThing', 'biolink:BiologicalEntity', 'biolink:DiseaseOrPhenotypicFeature'}) properties={'name': 'Tremor', 'description': 'An unintentional, oscillating to-and-fro muscle movement about a joint axis.', 'id': 'HP:0001337', 'equivalent_identifiers': ['UMLS:C1527384', 'NCIT:C38038', 'MEDDRA:10044562', 'SNOMEDCT:26079004', 'HP:0001337', 'MEDDRA:10044563', 'SNOMEDCT:267079009', 'MESH:D014202', 'UMLS:C0040822', 'MEDDRA:10040528', 'MEDDRA:10044565', 'UMLS:C0234369']}> r0_0=<Relationship element_id='8608859' nodes=(<Node element_id='5316835' labels=frozenset({'biolink:GeneProductMixin', 'biolink:GenomicEntity', 'biolink:Entity', 'biolink:NamedThing', 'biolink:ChemicalEntityOrGeneOrGeneProduct', 'biolink:PhysicalEssenceOrOccurrent', 'biolink:ThingWithTaxon', 'biolink:OntologyClass', 'biolink:GeneOrGeneProduct', 'biolink:Polypeptide', 'biolink:BiologicalEntity', 'biolink:ChemicalEntityOrProteinOrPolypeptide', 'biolink:Gene', 'biolink:PhysicalEssence', 'biolink:MacromolecularMachineMixin', 'biolink:Protein'}) properties={'symbol': 'CYP2D6', 'locus_group': 'protein-coding gene', 'name': 'CYP2D6', 'location': '22q13.2', 'taxon': 'NCBITaxon:9606', 'id': 'NCBIGene:1565', 'NCBITaxon': '9606', 'equivalent_identifiers': ['ENSEMBL:ENSP00000483677', 'UMLS:C1332830', 'UniProtKB:Q5Y7H2', 'UMLS:C3887685', 'OMIM:124030', 'NCBIGene:1565', 'UniProtKB:P10635', 'UniProtKB:C1ID52', 'ENSEMBL:ENSG00000100197', 'PR:P10635', 'ENSEMBL:ENSP00000483677.1', 'HGNC:2625']}>, <Node element_id='8421444' labels=frozenset({'biolink:Entity', 'biolink:ChemicalEntity', 'biolink:NamedThing', 'biolink:ChemicalEntityOrProteinOrPolypeptide', 'biolink:PhysicalEssence', 'biolink:MolecularEntity', 'biolink:ChemicalEntityOrGeneOrGeneProduct', 'biolink:PhysicalEssenceOrOccurrent', 'biolink:SmallMolecule', 'biolink:ChemicalOrDrugOrTreatment'}) properties={'CHEBI_ROLE_delta_opioid_agent': True, 'smiles': 'CO[C@]12CC[C@@]3(C[C@@H]1[C@](C)(O)C(C)(C)C)[C@H]1CC4=CC=C(O)C5=C4[C@@]3(CCN1CC1CC1)[C@H]2O5', 'description': 'A morphinane alkaloid that is 7,8-dihydromorphine 6-O-methyl ether in which positions 6 and 14 are joined by a -CH2CH2- bridge, one of the hydrogens of the N-methyl group is substituted by cyclopropyl, and a hydrogen at position 7 is substituted by a 2-hydroxy-3,3-dimethylbutan-2-yl group. It is highly effective for the treatment of opioid use disorder and is also increasingly being used in the treatment of chronic pain.', 'fda_labels': 74, 'rgb': 28, 'CHEBI_ROLE_analgesic': True, 'CHEBI_ROLE_opioid_agent': True, 'sp2_c': 0, 'sp3_c': 23, 'CHEBI_ROLE_antagonist': True, 'CHEBI_ROLE_agonist': True, 'CHEBI_ROLE_opioid_analgesic': True, 'cd_formula': 'C29H41NO4', 'alogs': -4.44, 'CHEBI_ROLE_opioid_receptor_agonist': True, 'id': 'PUBCHEM.COMPOUND:644073', 'CHEBI_ROLE_drug': True, 'CHEBI_ROLE_neurotransmitter_agent': True, 'lipinski': 0, 'rotb': 5, 'o_n': 5, 'halogen': 0, 'CHEBI_ROLE_mu_opioid_agent': True, 'cd_molweight': 467.65, 'CHEBI_ROLE_delta_opioid_receptor_antagonist': True, 'CHEBI_ROLE_pharmaceutical': True, 'clogp': 3.99, 'oh_nh': 2, 'hetero_sp2_c': 0, 'equivalent_identifiers': ['GTOPDB:1670', 'CAS:52485-79-7', 'INCHIKEY:RMRJXGBAOAMLHD-IHFGGWKQSA-N', 'CHEBI:3216', 'CHEMBL.COMPOUND:CHEMBL560511', 'HMDB:HMDB0015057', 'UNII:40D3SCR4GZ', 'KEGG.COMPOUND:C08007', 'DrugCentral:434', 'DRUGBANK:DB00921', 'PUBCHEM.COMPOUND:644073', 'MESH:D002047', 'UMLS:C0006405'], 'CHEBI_ROLE_kappa_opioid_receptor_antagonist': True, 'arom_c': 6, 'CHEBI_ROLE_pharmacological_role': True, 'sp_c': 0, 'mrdef': 'A derivative of the opioid alkaloid THEBAINE that is a more potent and longer lasting analgesic than MORPHINE. It appears to act as a partial agonist at mu and kappa opioid receptors and as an antagonist at delta receptors. The lack of delta-agonist activity has been suggested to account for the observation that buprenorphine tolerance may not develop with chronic use.', 'name': 'Buprenorphine', 'CHEBI_ROLE_kappa_opioid_agent': True, 'CHEBI_ROLE_mu_opioid_receptor_agonist': True, 'tpsa': 62.16, 'CHEBI_ROLE_opioid_receptor_antagonist': True, 'information_content': 100.0, 'status': 'OFP'}>) type='biolink:affects' properties={'object_direction_qualifier': 'increased', 'qualified_predicate': 'biolink:causes', 'biolink:primary_knowledge_source': 'infores:ctd', 'description': 'increases metabolic processing of', 'NCBITaxon': '9606', 'object_aspect_qualifier': 'metabolic_processing', 'publications': ['PMID:12756210']}> r1_0=<Relationship element_id='50901981' nodes=(<Node element_id='5316835' labels=frozenset({'biolink:GeneProductMixin', 'biolink:GenomicEntity', 'biolink:Entity', 'biolink:NamedThing', 'biolink:ChemicalEntityOrGeneOrGeneProduct', 'biolink:PhysicalEssenceOrOccurrent', 'biolink:ThingWithTaxon', 'biolink:OntologyClass', 'biolink:GeneOrGeneProduct', 'biolink:Polypeptide', 'biolink:BiologicalEntity', 'biolink:ChemicalEntityOrProteinOrPolypeptide', 'biolink:Gene', 'biolink:PhysicalEssence', 'biolink:MacromolecularMachineMixin', 'biolink:Protein'}) properties={'symbol': 'CYP2D6', 'locus_group': 'protein-coding gene', 'name': 'CYP2D6', 'location': '22q13.2', 'taxon': 'NCBITaxon:9606', 'id': 'NCBIGene:1565', 'NCBITaxon': '9606', 'equivalent_identifiers': ['ENSEMBL:ENSP00000483677', 'UMLS:C1332830', 'UniProtKB:Q5Y7H2', 'UMLS:C3887685', 'OMIM:124030', 'NCBIGene:1565', 'UniProtKB:P10635', 'UniProtKB:C1ID52', 'ENSEMBL:ENSG00000100197', 'PR:P10635', 'ENSEMBL:ENSP00000483677.1', 'HGNC:2625']}>, <Node element_id='5171187' labels=frozenset({'biolink:Entity', 'biolink:ThingWithTaxon', 'biolink:PhenotypicFeature', 'biolink:NamedThing', 'biolink:BiologicalEntity', 'biolink:DiseaseOrPhenotypicFeature'}) properties={'name': 'Tremor', 'description': 'An unintentional, oscillating to-and-fro muscle movement about a joint axis.', 'id': 'HP:0001337', 'equivalent_identifiers': ['UMLS:C1527384', 'NCIT:C38038', 'MEDDRA:10044562', 'SNOMEDCT:26079004', 'HP:0001337', 'MEDDRA:10044563', 'SNOMEDCT:267079009', 'MESH:D014202', 'UMLS:C0040822', 'MEDDRA:10040528', 'MEDDRA:10044565', 'UMLS:C0234369']}>) type='biolink:genetic_association' properties={'biolink:primary_knowledge_source': 'infores:ctd', 'biolink:aggregator_knowledge_source': ['infores:pharos']}>>\n",
      "<Record n0_0=<Node element_id='8421444' labels=frozenset({'biolink:Entity', 'biolink:ChemicalEntity', 'biolink:NamedThing', 'biolink:ChemicalEntityOrProteinOrPolypeptide', 'biolink:PhysicalEssence', 'biolink:MolecularEntity', 'biolink:ChemicalEntityOrGeneOrGeneProduct', 'biolink:PhysicalEssenceOrOccurrent', 'biolink:SmallMolecule', 'biolink:ChemicalOrDrugOrTreatment'}) properties={'CHEBI_ROLE_delta_opioid_agent': True, 'smiles': 'CO[C@]12CC[C@@]3(C[C@@H]1[C@](C)(O)C(C)(C)C)[C@H]1CC4=CC=C(O)C5=C4[C@@]3(CCN1CC1CC1)[C@H]2O5', 'description': 'A morphinane alkaloid that is 7,8-dihydromorphine 6-O-methyl ether in which positions 6 and 14 are joined by a -CH2CH2- bridge, one of the hydrogens of the N-methyl group is substituted by cyclopropyl, and a hydrogen at position 7 is substituted by a 2-hydroxy-3,3-dimethylbutan-2-yl group. It is highly effective for the treatment of opioid use disorder and is also increasingly being used in the treatment of chronic pain.', 'fda_labels': 74, 'rgb': 28, 'CHEBI_ROLE_analgesic': True, 'CHEBI_ROLE_opioid_agent': True, 'sp2_c': 0, 'sp3_c': 23, 'CHEBI_ROLE_antagonist': True, 'CHEBI_ROLE_agonist': True, 'CHEBI_ROLE_opioid_analgesic': True, 'cd_formula': 'C29H41NO4', 'alogs': -4.44, 'CHEBI_ROLE_opioid_receptor_agonist': True, 'id': 'PUBCHEM.COMPOUND:644073', 'CHEBI_ROLE_drug': True, 'CHEBI_ROLE_neurotransmitter_agent': True, 'lipinski': 0, 'rotb': 5, 'o_n': 5, 'halogen': 0, 'CHEBI_ROLE_mu_opioid_agent': True, 'cd_molweight': 467.65, 'CHEBI_ROLE_delta_opioid_receptor_antagonist': True, 'CHEBI_ROLE_pharmaceutical': True, 'clogp': 3.99, 'oh_nh': 2, 'hetero_sp2_c': 0, 'equivalent_identifiers': ['GTOPDB:1670', 'CAS:52485-79-7', 'INCHIKEY:RMRJXGBAOAMLHD-IHFGGWKQSA-N', 'CHEBI:3216', 'CHEMBL.COMPOUND:CHEMBL560511', 'HMDB:HMDB0015057', 'UNII:40D3SCR4GZ', 'KEGG.COMPOUND:C08007', 'DrugCentral:434', 'DRUGBANK:DB00921', 'PUBCHEM.COMPOUND:644073', 'MESH:D002047', 'UMLS:C0006405'], 'CHEBI_ROLE_kappa_opioid_receptor_antagonist': True, 'arom_c': 6, 'CHEBI_ROLE_pharmacological_role': True, 'sp_c': 0, 'mrdef': 'A derivative of the opioid alkaloid THEBAINE that is a more potent and longer lasting analgesic than MORPHINE. It appears to act as a partial agonist at mu and kappa opioid receptors and as an antagonist at delta receptors. The lack of delta-agonist activity has been suggested to account for the observation that buprenorphine tolerance may not develop with chronic use.', 'name': 'Buprenorphine', 'CHEBI_ROLE_kappa_opioid_agent': True, 'CHEBI_ROLE_mu_opioid_receptor_agonist': True, 'tpsa': 62.16, 'CHEBI_ROLE_opioid_receptor_antagonist': True, 'information_content': 100.0, 'status': 'OFP'}> n1_0=<Node element_id='5316835' labels=frozenset({'biolink:GeneProductMixin', 'biolink:GenomicEntity', 'biolink:Entity', 'biolink:NamedThing', 'biolink:ChemicalEntityOrGeneOrGeneProduct', 'biolink:PhysicalEssenceOrOccurrent', 'biolink:ThingWithTaxon', 'biolink:OntologyClass', 'biolink:GeneOrGeneProduct', 'biolink:Polypeptide', 'biolink:BiologicalEntity', 'biolink:ChemicalEntityOrProteinOrPolypeptide', 'biolink:Gene', 'biolink:PhysicalEssence', 'biolink:MacromolecularMachineMixin', 'biolink:Protein'}) properties={'symbol': 'CYP2D6', 'locus_group': 'protein-coding gene', 'name': 'CYP2D6', 'location': '22q13.2', 'taxon': 'NCBITaxon:9606', 'id': 'NCBIGene:1565', 'NCBITaxon': '9606', 'equivalent_identifiers': ['ENSEMBL:ENSP00000483677', 'UMLS:C1332830', 'UniProtKB:Q5Y7H2', 'UMLS:C3887685', 'OMIM:124030', 'NCBIGene:1565', 'UniProtKB:P10635', 'UniProtKB:C1ID52', 'ENSEMBL:ENSG00000100197', 'PR:P10635', 'ENSEMBL:ENSP00000483677.1', 'HGNC:2625']}> n2_0=<Node element_id='5171187' labels=frozenset({'biolink:Entity', 'biolink:ThingWithTaxon', 'biolink:PhenotypicFeature', 'biolink:NamedThing', 'biolink:BiologicalEntity', 'biolink:DiseaseOrPhenotypicFeature'}) properties={'name': 'Tremor', 'description': 'An unintentional, oscillating to-and-fro muscle movement about a joint axis.', 'id': 'HP:0001337', 'equivalent_identifiers': ['UMLS:C1527384', 'NCIT:C38038', 'MEDDRA:10044562', 'SNOMEDCT:26079004', 'HP:0001337', 'MEDDRA:10044563', 'SNOMEDCT:267079009', 'MESH:D014202', 'UMLS:C0040822', 'MEDDRA:10040528', 'MEDDRA:10044565', 'UMLS:C0234369']}> r0_0=<Relationship element_id='79325668' nodes=(<Node element_id='8421444' labels=frozenset({'biolink:Entity', 'biolink:ChemicalEntity', 'biolink:NamedThing', 'biolink:ChemicalEntityOrProteinOrPolypeptide', 'biolink:PhysicalEssence', 'biolink:MolecularEntity', 'biolink:ChemicalEntityOrGeneOrGeneProduct', 'biolink:PhysicalEssenceOrOccurrent', 'biolink:SmallMolecule', 'biolink:ChemicalOrDrugOrTreatment'}) properties={'CHEBI_ROLE_delta_opioid_agent': True, 'smiles': 'CO[C@]12CC[C@@]3(C[C@@H]1[C@](C)(O)C(C)(C)C)[C@H]1CC4=CC=C(O)C5=C4[C@@]3(CCN1CC1CC1)[C@H]2O5', 'description': 'A morphinane alkaloid that is 7,8-dihydromorphine 6-O-methyl ether in which positions 6 and 14 are joined by a -CH2CH2- bridge, one of the hydrogens of the N-methyl group is substituted by cyclopropyl, and a hydrogen at position 7 is substituted by a 2-hydroxy-3,3-dimethylbutan-2-yl group. It is highly effective for the treatment of opioid use disorder and is also increasingly being used in the treatment of chronic pain.', 'fda_labels': 74, 'rgb': 28, 'CHEBI_ROLE_analgesic': True, 'CHEBI_ROLE_opioid_agent': True, 'sp2_c': 0, 'sp3_c': 23, 'CHEBI_ROLE_antagonist': True, 'CHEBI_ROLE_agonist': True, 'CHEBI_ROLE_opioid_analgesic': True, 'cd_formula': 'C29H41NO4', 'alogs': -4.44, 'CHEBI_ROLE_opioid_receptor_agonist': True, 'id': 'PUBCHEM.COMPOUND:644073', 'CHEBI_ROLE_drug': True, 'CHEBI_ROLE_neurotransmitter_agent': True, 'lipinski': 0, 'rotb': 5, 'o_n': 5, 'halogen': 0, 'CHEBI_ROLE_mu_opioid_agent': True, 'cd_molweight': 467.65, 'CHEBI_ROLE_delta_opioid_receptor_antagonist': True, 'CHEBI_ROLE_pharmaceutical': True, 'clogp': 3.99, 'oh_nh': 2, 'hetero_sp2_c': 0, 'equivalent_identifiers': ['GTOPDB:1670', 'CAS:52485-79-7', 'INCHIKEY:RMRJXGBAOAMLHD-IHFGGWKQSA-N', 'CHEBI:3216', 'CHEMBL.COMPOUND:CHEMBL560511', 'HMDB:HMDB0015057', 'UNII:40D3SCR4GZ', 'KEGG.COMPOUND:C08007', 'DrugCentral:434', 'DRUGBANK:DB00921', 'PUBCHEM.COMPOUND:644073', 'MESH:D002047', 'UMLS:C0006405'], 'CHEBI_ROLE_kappa_opioid_receptor_antagonist': True, 'arom_c': 6, 'CHEBI_ROLE_pharmacological_role': True, 'sp_c': 0, 'mrdef': 'A derivative of the opioid alkaloid THEBAINE that is a more potent and longer lasting analgesic than MORPHINE. It appears to act as a partial agonist at mu and kappa opioid receptors and as an antagonist at delta receptors. The lack of delta-agonist activity has been suggested to account for the observation that buprenorphine tolerance may not develop with chronic use.', 'name': 'Buprenorphine', 'CHEBI_ROLE_kappa_opioid_agent': True, 'CHEBI_ROLE_mu_opioid_receptor_agonist': True, 'tpsa': 62.16, 'CHEBI_ROLE_opioid_receptor_antagonist': True, 'information_content': 100.0, 'status': 'OFP'}>, <Node element_id='5316835' labels=frozenset({'biolink:GeneProductMixin', 'biolink:GenomicEntity', 'biolink:Entity', 'biolink:NamedThing', 'biolink:ChemicalEntityOrGeneOrGeneProduct', 'biolink:PhysicalEssenceOrOccurrent', 'biolink:ThingWithTaxon', 'biolink:OntologyClass', 'biolink:GeneOrGeneProduct', 'biolink:Polypeptide', 'biolink:BiologicalEntity', 'biolink:ChemicalEntityOrProteinOrPolypeptide', 'biolink:Gene', 'biolink:PhysicalEssence', 'biolink:MacromolecularMachineMixin', 'biolink:Protein'}) properties={'symbol': 'CYP2D6', 'locus_group': 'protein-coding gene', 'name': 'CYP2D6', 'location': '22q13.2', 'taxon': 'NCBITaxon:9606', 'id': 'NCBIGene:1565', 'NCBITaxon': '9606', 'equivalent_identifiers': ['ENSEMBL:ENSP00000483677', 'UMLS:C1332830', 'UniProtKB:Q5Y7H2', 'UMLS:C3887685', 'OMIM:124030', 'NCBIGene:1565', 'UniProtKB:P10635', 'UniProtKB:C1ID52', 'ENSEMBL:ENSG00000100197', 'PR:P10635', 'ENSEMBL:ENSP00000483677.1', 'HGNC:2625']}>) type='biolink:regulates' properties={'object_direction_qualifier': 'downregulated', 'sentences': 'Buprenorphine exhibited potent, competitive inhibition of CYP2D6 (Ki 10 +/- 2 microM and 1.8 +/- 0.2 microM) and CYP3A4 (Ki 40 +/- 1.6 microM and 19 +/- 1.2 microM) in microsomes from human liver and cDNA-expressing lymphoblasts, respectively.|PMID:12756210', 'biolink:primary_knowledge_source': 'infores:textminingkp', 'biolink:tmkp_confidence_score': '0.99969625', 'tmkp_ids': ['tmkp:12699a64cae70b20411935b5e5028d220ccbe4f7a0ad13a81978026cb43111bf'], 'publications': ['PMID:12756210']}> r1_0=<Relationship element_id='50901981' nodes=(<Node element_id='5316835' labels=frozenset({'biolink:GeneProductMixin', 'biolink:GenomicEntity', 'biolink:Entity', 'biolink:NamedThing', 'biolink:ChemicalEntityOrGeneOrGeneProduct', 'biolink:PhysicalEssenceOrOccurrent', 'biolink:ThingWithTaxon', 'biolink:OntologyClass', 'biolink:GeneOrGeneProduct', 'biolink:Polypeptide', 'biolink:BiologicalEntity', 'biolink:ChemicalEntityOrProteinOrPolypeptide', 'biolink:Gene', 'biolink:PhysicalEssence', 'biolink:MacromolecularMachineMixin', 'biolink:Protein'}) properties={'symbol': 'CYP2D6', 'locus_group': 'protein-coding gene', 'name': 'CYP2D6', 'location': '22q13.2', 'taxon': 'NCBITaxon:9606', 'id': 'NCBIGene:1565', 'NCBITaxon': '9606', 'equivalent_identifiers': ['ENSEMBL:ENSP00000483677', 'UMLS:C1332830', 'UniProtKB:Q5Y7H2', 'UMLS:C3887685', 'OMIM:124030', 'NCBIGene:1565', 'UniProtKB:P10635', 'UniProtKB:C1ID52', 'ENSEMBL:ENSG00000100197', 'PR:P10635', 'ENSEMBL:ENSP00000483677.1', 'HGNC:2625']}>, <Node element_id='5171187' labels=frozenset({'biolink:Entity', 'biolink:ThingWithTaxon', 'biolink:PhenotypicFeature', 'biolink:NamedThing', 'biolink:BiologicalEntity', 'biolink:DiseaseOrPhenotypicFeature'}) properties={'name': 'Tremor', 'description': 'An unintentional, oscillating to-and-fro muscle movement about a joint axis.', 'id': 'HP:0001337', 'equivalent_identifiers': ['UMLS:C1527384', 'NCIT:C38038', 'MEDDRA:10044562', 'SNOMEDCT:26079004', 'HP:0001337', 'MEDDRA:10044563', 'SNOMEDCT:267079009', 'MESH:D014202', 'UMLS:C0040822', 'MEDDRA:10040528', 'MEDDRA:10044565', 'UMLS:C0234369']}>) type='biolink:genetic_association' properties={'biolink:primary_knowledge_source': 'infores:ctd', 'biolink:aggregator_knowledge_source': ['infores:pharos']}>>\n",
      "<Record n0_0=<Node element_id='8421444' labels=frozenset({'biolink:Entity', 'biolink:ChemicalEntity', 'biolink:NamedThing', 'biolink:ChemicalEntityOrProteinOrPolypeptide', 'biolink:PhysicalEssence', 'biolink:MolecularEntity', 'biolink:ChemicalEntityOrGeneOrGeneProduct', 'biolink:PhysicalEssenceOrOccurrent', 'biolink:SmallMolecule', 'biolink:ChemicalOrDrugOrTreatment'}) properties={'CHEBI_ROLE_delta_opioid_agent': True, 'smiles': 'CO[C@]12CC[C@@]3(C[C@@H]1[C@](C)(O)C(C)(C)C)[C@H]1CC4=CC=C(O)C5=C4[C@@]3(CCN1CC1CC1)[C@H]2O5', 'description': 'A morphinane alkaloid that is 7,8-dihydromorphine 6-O-methyl ether in which positions 6 and 14 are joined by a -CH2CH2- bridge, one of the hydrogens of the N-methyl group is substituted by cyclopropyl, and a hydrogen at position 7 is substituted by a 2-hydroxy-3,3-dimethylbutan-2-yl group. It is highly effective for the treatment of opioid use disorder and is also increasingly being used in the treatment of chronic pain.', 'fda_labels': 74, 'rgb': 28, 'CHEBI_ROLE_analgesic': True, 'CHEBI_ROLE_opioid_agent': True, 'sp2_c': 0, 'sp3_c': 23, 'CHEBI_ROLE_antagonist': True, 'CHEBI_ROLE_agonist': True, 'CHEBI_ROLE_opioid_analgesic': True, 'cd_formula': 'C29H41NO4', 'alogs': -4.44, 'CHEBI_ROLE_opioid_receptor_agonist': True, 'id': 'PUBCHEM.COMPOUND:644073', 'CHEBI_ROLE_drug': True, 'CHEBI_ROLE_neurotransmitter_agent': True, 'lipinski': 0, 'rotb': 5, 'o_n': 5, 'halogen': 0, 'CHEBI_ROLE_mu_opioid_agent': True, 'cd_molweight': 467.65, 'CHEBI_ROLE_delta_opioid_receptor_antagonist': True, 'CHEBI_ROLE_pharmaceutical': True, 'clogp': 3.99, 'oh_nh': 2, 'hetero_sp2_c': 0, 'equivalent_identifiers': ['GTOPDB:1670', 'CAS:52485-79-7', 'INCHIKEY:RMRJXGBAOAMLHD-IHFGGWKQSA-N', 'CHEBI:3216', 'CHEMBL.COMPOUND:CHEMBL560511', 'HMDB:HMDB0015057', 'UNII:40D3SCR4GZ', 'KEGG.COMPOUND:C08007', 'DrugCentral:434', 'DRUGBANK:DB00921', 'PUBCHEM.COMPOUND:644073', 'MESH:D002047', 'UMLS:C0006405'], 'CHEBI_ROLE_kappa_opioid_receptor_antagonist': True, 'arom_c': 6, 'CHEBI_ROLE_pharmacological_role': True, 'sp_c': 0, 'mrdef': 'A derivative of the opioid alkaloid THEBAINE that is a more potent and longer lasting analgesic than MORPHINE. It appears to act as a partial agonist at mu and kappa opioid receptors and as an antagonist at delta receptors. The lack of delta-agonist activity has been suggested to account for the observation that buprenorphine tolerance may not develop with chronic use.', 'name': 'Buprenorphine', 'CHEBI_ROLE_kappa_opioid_agent': True, 'CHEBI_ROLE_mu_opioid_receptor_agonist': True, 'tpsa': 62.16, 'CHEBI_ROLE_opioid_receptor_antagonist': True, 'information_content': 100.0, 'status': 'OFP'}> n1_0=<Node element_id='5316835' labels=frozenset({'biolink:GeneProductMixin', 'biolink:GenomicEntity', 'biolink:Entity', 'biolink:NamedThing', 'biolink:ChemicalEntityOrGeneOrGeneProduct', 'biolink:PhysicalEssenceOrOccurrent', 'biolink:ThingWithTaxon', 'biolink:OntologyClass', 'biolink:GeneOrGeneProduct', 'biolink:Polypeptide', 'biolink:BiologicalEntity', 'biolink:ChemicalEntityOrProteinOrPolypeptide', 'biolink:Gene', 'biolink:PhysicalEssence', 'biolink:MacromolecularMachineMixin', 'biolink:Protein'}) properties={'symbol': 'CYP2D6', 'locus_group': 'protein-coding gene', 'name': 'CYP2D6', 'location': '22q13.2', 'taxon': 'NCBITaxon:9606', 'id': 'NCBIGene:1565', 'NCBITaxon': '9606', 'equivalent_identifiers': ['ENSEMBL:ENSP00000483677', 'UMLS:C1332830', 'UniProtKB:Q5Y7H2', 'UMLS:C3887685', 'OMIM:124030', 'NCBIGene:1565', 'UniProtKB:P10635', 'UniProtKB:C1ID52', 'ENSEMBL:ENSG00000100197', 'PR:P10635', 'ENSEMBL:ENSP00000483677.1', 'HGNC:2625']}> n2_0=<Node element_id='5171187' labels=frozenset({'biolink:Entity', 'biolink:ThingWithTaxon', 'biolink:PhenotypicFeature', 'biolink:NamedThing', 'biolink:BiologicalEntity', 'biolink:DiseaseOrPhenotypicFeature'}) properties={'name': 'Tremor', 'description': 'An unintentional, oscillating to-and-fro muscle movement about a joint axis.', 'id': 'HP:0001337', 'equivalent_identifiers': ['UMLS:C1527384', 'NCIT:C38038', 'MEDDRA:10044562', 'SNOMEDCT:26079004', 'HP:0001337', 'MEDDRA:10044563', 'SNOMEDCT:267079009', 'MESH:D014202', 'UMLS:C0040822', 'MEDDRA:10040528', 'MEDDRA:10044565', 'UMLS:C0234369']}> r0_0=<Relationship element_id='88245379' nodes=(<Node element_id='8421444' labels=frozenset({'biolink:Entity', 'biolink:ChemicalEntity', 'biolink:NamedThing', 'biolink:ChemicalEntityOrProteinOrPolypeptide', 'biolink:PhysicalEssence', 'biolink:MolecularEntity', 'biolink:ChemicalEntityOrGeneOrGeneProduct', 'biolink:PhysicalEssenceOrOccurrent', 'biolink:SmallMolecule', 'biolink:ChemicalOrDrugOrTreatment'}) properties={'CHEBI_ROLE_delta_opioid_agent': True, 'smiles': 'CO[C@]12CC[C@@]3(C[C@@H]1[C@](C)(O)C(C)(C)C)[C@H]1CC4=CC=C(O)C5=C4[C@@]3(CCN1CC1CC1)[C@H]2O5', 'description': 'A morphinane alkaloid that is 7,8-dihydromorphine 6-O-methyl ether in which positions 6 and 14 are joined by a -CH2CH2- bridge, one of the hydrogens of the N-methyl group is substituted by cyclopropyl, and a hydrogen at position 7 is substituted by a 2-hydroxy-3,3-dimethylbutan-2-yl group. It is highly effective for the treatment of opioid use disorder and is also increasingly being used in the treatment of chronic pain.', 'fda_labels': 74, 'rgb': 28, 'CHEBI_ROLE_analgesic': True, 'CHEBI_ROLE_opioid_agent': True, 'sp2_c': 0, 'sp3_c': 23, 'CHEBI_ROLE_antagonist': True, 'CHEBI_ROLE_agonist': True, 'CHEBI_ROLE_opioid_analgesic': True, 'cd_formula': 'C29H41NO4', 'alogs': -4.44, 'CHEBI_ROLE_opioid_receptor_agonist': True, 'id': 'PUBCHEM.COMPOUND:644073', 'CHEBI_ROLE_drug': True, 'CHEBI_ROLE_neurotransmitter_agent': True, 'lipinski': 0, 'rotb': 5, 'o_n': 5, 'halogen': 0, 'CHEBI_ROLE_mu_opioid_agent': True, 'cd_molweight': 467.65, 'CHEBI_ROLE_delta_opioid_receptor_antagonist': True, 'CHEBI_ROLE_pharmaceutical': True, 'clogp': 3.99, 'oh_nh': 2, 'hetero_sp2_c': 0, 'equivalent_identifiers': ['GTOPDB:1670', 'CAS:52485-79-7', 'INCHIKEY:RMRJXGBAOAMLHD-IHFGGWKQSA-N', 'CHEBI:3216', 'CHEMBL.COMPOUND:CHEMBL560511', 'HMDB:HMDB0015057', 'UNII:40D3SCR4GZ', 'KEGG.COMPOUND:C08007', 'DrugCentral:434', 'DRUGBANK:DB00921', 'PUBCHEM.COMPOUND:644073', 'MESH:D002047', 'UMLS:C0006405'], 'CHEBI_ROLE_kappa_opioid_receptor_antagonist': True, 'arom_c': 6, 'CHEBI_ROLE_pharmacological_role': True, 'sp_c': 0, 'mrdef': 'A derivative of the opioid alkaloid THEBAINE that is a more potent and longer lasting analgesic than MORPHINE. It appears to act as a partial agonist at mu and kappa opioid receptors and as an antagonist at delta receptors. The lack of delta-agonist activity has been suggested to account for the observation that buprenorphine tolerance may not develop with chronic use.', 'name': 'Buprenorphine', 'CHEBI_ROLE_kappa_opioid_agent': True, 'CHEBI_ROLE_mu_opioid_receptor_agonist': True, 'tpsa': 62.16, 'CHEBI_ROLE_opioid_receptor_antagonist': True, 'information_content': 100.0, 'status': 'OFP'}>, <Node element_id='5316835' labels=frozenset({'biolink:GeneProductMixin', 'biolink:GenomicEntity', 'biolink:Entity', 'biolink:NamedThing', 'biolink:ChemicalEntityOrGeneOrGeneProduct', 'biolink:PhysicalEssenceOrOccurrent', 'biolink:ThingWithTaxon', 'biolink:OntologyClass', 'biolink:GeneOrGeneProduct', 'biolink:Polypeptide', 'biolink:BiologicalEntity', 'biolink:ChemicalEntityOrProteinOrPolypeptide', 'biolink:Gene', 'biolink:PhysicalEssence', 'biolink:MacromolecularMachineMixin', 'biolink:Protein'}) properties={'symbol': 'CYP2D6', 'locus_group': 'protein-coding gene', 'name': 'CYP2D6', 'location': '22q13.2', 'taxon': 'NCBITaxon:9606', 'id': 'NCBIGene:1565', 'NCBITaxon': '9606', 'equivalent_identifiers': ['ENSEMBL:ENSP00000483677', 'UMLS:C1332830', 'UniProtKB:Q5Y7H2', 'UMLS:C3887685', 'OMIM:124030', 'NCBIGene:1565', 'UniProtKB:P10635', 'UniProtKB:C1ID52', 'ENSEMBL:ENSG00000100197', 'PR:P10635', 'ENSEMBL:ENSP00000483677.1', 'HGNC:2625']}>) type='biolink:directly_physically_interacts_with' properties={'biolink:primary_knowledge_source': 'infores:hetionet', 'hetio_source': ['DrugBank (enzyme)']}> r1_0=<Relationship element_id='50901981' nodes=(<Node element_id='5316835' labels=frozenset({'biolink:GeneProductMixin', 'biolink:GenomicEntity', 'biolink:Entity', 'biolink:NamedThing', 'biolink:ChemicalEntityOrGeneOrGeneProduct', 'biolink:PhysicalEssenceOrOccurrent', 'biolink:ThingWithTaxon', 'biolink:OntologyClass', 'biolink:GeneOrGeneProduct', 'biolink:Polypeptide', 'biolink:BiologicalEntity', 'biolink:ChemicalEntityOrProteinOrPolypeptide', 'biolink:Gene', 'biolink:PhysicalEssence', 'biolink:MacromolecularMachineMixin', 'biolink:Protein'}) properties={'symbol': 'CYP2D6', 'locus_group': 'protein-coding gene', 'name': 'CYP2D6', 'location': '22q13.2', 'taxon': 'NCBITaxon:9606', 'id': 'NCBIGene:1565', 'NCBITaxon': '9606', 'equivalent_identifiers': ['ENSEMBL:ENSP00000483677', 'UMLS:C1332830', 'UniProtKB:Q5Y7H2', 'UMLS:C3887685', 'OMIM:124030', 'NCBIGene:1565', 'UniProtKB:P10635', 'UniProtKB:C1ID52', 'ENSEMBL:ENSG00000100197', 'PR:P10635', 'ENSEMBL:ENSP00000483677.1', 'HGNC:2625']}>, <Node element_id='5171187' labels=frozenset({'biolink:Entity', 'biolink:ThingWithTaxon', 'biolink:PhenotypicFeature', 'biolink:NamedThing', 'biolink:BiologicalEntity', 'biolink:DiseaseOrPhenotypicFeature'}) properties={'name': 'Tremor', 'description': 'An unintentional, oscillating to-and-fro muscle movement about a joint axis.', 'id': 'HP:0001337', 'equivalent_identifiers': ['UMLS:C1527384', 'NCIT:C38038', 'MEDDRA:10044562', 'SNOMEDCT:26079004', 'HP:0001337', 'MEDDRA:10044563', 'SNOMEDCT:267079009', 'MESH:D014202', 'UMLS:C0040822', 'MEDDRA:10040528', 'MEDDRA:10044565', 'UMLS:C0234369']}>) type='biolink:genetic_association' properties={'biolink:primary_knowledge_source': 'infores:ctd', 'biolink:aggregator_knowledge_source': ['infores:pharos']}>>\n"
     ]
    }
   ],
   "source": [
    "#cypher = f'MATCH (a:`biolink:Gene`) RETURN a LIMIT 1'\n",
    "cypher = f\"MATCH (n0_0:`biolink:ChemicalEntity`)-[r0_0]-(n1_0:`biolink:Gene`)-[r1_0]-(n2_0:`biolink:DiseaseOrPhenotypicFeature`) WHERE n0_0.name IN ['Buprenorphine'] AND n2_0.name IN ['Tremor'] RETURN * LIMIT 100\"\n",
    "with driver.session() as session:\n",
    "    results = session.run(cypher)\n",
    "    for result in results:\n",
    "        print(result)\n",
    "\n",
    "    #print(results)\n",
    "    if (results) == 0:\n",
    "        print(\"No results found\")\n",
    "\n"
   ]
  },
  {
   "cell_type": "markdown",
   "metadata": {},
   "source": [
    "You can also send the cypher through the automat interface instead:"
   ]
  },
  {
   "cell_type": "code",
   "execution_count": null,
   "metadata": {},
   "outputs": [],
   "source": [
    "j = {'query': cypher}\n",
    "results = requests.post('https://automat.renci.org/robokopkg/cypher',json=j)"
   ]
  },
  {
   "cell_type": "code",
   "execution_count": null,
   "metadata": {},
   "outputs": [],
   "source": [
    "print(results)"
   ]
  },
  {
   "cell_type": "code",
   "execution_count": null,
   "metadata": {},
   "outputs": [],
   "source": [
    "print(results.json())"
   ]
  },
  {
   "cell_type": "code",
   "execution_count": null,
   "metadata": {},
   "outputs": [],
   "source": []
  }
 ],
 "metadata": {
  "kernelspec": {
   "display_name": "Python 3",
   "language": "python",
   "name": "python3"
  },
  "language_info": {
   "codemirror_mode": {
    "name": "ipython",
    "version": 3
   },
   "file_extension": ".py",
   "mimetype": "text/x-python",
   "name": "python",
   "nbconvert_exporter": "python",
   "pygments_lexer": "ipython3",
   "version": "3.7.3"
  }
 },
 "nbformat": 4,
 "nbformat_minor": 5
}
