{
 "cells": [
  {
   "cell_type": "code",
   "execution_count": 1,
   "id": "9738a66e",
   "metadata": {},
   "outputs": [],
   "source": [
    "import requests\n",
    "import json"
   ]
  },
  {
   "cell_type": "markdown",
   "id": "e79dedfa",
   "metadata": {},
   "source": [
    "This document provides a high level overview of the different ways to access ROBOKOP information programmatically. The first two examples rely on the Translator Reasoner API (TRAPI) format for both the query submission and return of results. The first TRAPI example is submitted directly to the Automat system, which hosts the ROBOKOP knowledgegraph. This query is submitted without preprocessing and returned without postprocessing of the results. An alternative is the Aragorn interface, which accepts a TRAPI query and returns a TRAPI query. This interface will expand the query to include synonomous concepts and postprocesses the results to score the results for potential relevance. The final two examples illustrate how to query the ROBOKOP knowledgegraph directly using the Neo4j query language Cypher. This includes both a direct query against the standalone instance of the ROBOKOP knowledgegraph as well as the version hosted via the Automat system.  The latter instance is the knowledge source for all TRAPI interfaces.\n",
    "More info about accessing ROBOKOP KG via TRAPI is available in the `HelloRobokop_TRAPI` and Cypher options are provided in much more detail in `HelloRobokop_Cypher`."
   ]
  },
  {
   "cell_type": "markdown",
   "id": "4273e707-628f-4f6e-b354-011d21c105fd",
   "metadata": {},
   "source": [
    "## TRAPI"
   ]
  },
  {
   "cell_type": "markdown",
   "id": "60d3b1ff",
   "metadata": {},
   "source": [
    "The first example uses the TRAPI format to query the ROBOKOP instance hosted on the Automat system.\n",
    "\n",
    "The TRAPI Documentation is available here: https://github.com/NCATSTranslator/ReasonerAPI\n",
    "\n",
    "Most TRAPI documents contain a `message` key.  Within that `message` are a `query_graph` denoting the user query,\n",
    "a `knowledge_graph` consisting of the union of all nodes and edges that match the `query_graph` pattern, and a list of `results` that bind `query_graph` elements to `knowledge_graph` elements.\n",
    "\n",
    "When a user submits a query, the message contains only the `query_graph`.  The query graph below consists of 3 nodes connected together in a line.   Two of the nodes (`n00` and `n02`) have specified identifiers, while the middle node of the line does not.  Rather the middle node has a list of `categories` that are acceptable. Nodes and edges are specified as defined lists to ensure the correct ordering of output strings at the end of this Notebook. This is not required for running the queries or retrieving results.\n",
    "\n",
    "This query asks \"Find me a Biological Process or Activity, or a Gene, or a Pathway that is related to both `PUBCHEM.COMPOUND:644073` (Buprenorphine) and `HP:0001337` (Tremor)."
   ]
  },
  {
   "cell_type": "code",
   "execution_count": 2,
   "id": "6a7c651a",
   "metadata": {},
   "outputs": [],
   "source": [
    "edges = [\"e00\", \"e01\"]\n",
    "nodes = [\"n00\", \"n01\", \"n02\"]\n",
    "query={\n",
    "    \"message\": {\n",
    "      \"query_graph\": {\n",
    "        \"edges\": {\n",
    "         edges[0] : {\n",
    "            \"subject\": nodes[0],\n",
    "              \"object\": nodes[1],\n",
    "          \"predicates\":[\"biolink:related_to\"]\n",
    "          },\n",
    "          edges[1]: {\n",
    "            \"subject\": nodes[1],\n",
    "              \"object\": nodes[2],\n",
    "          \"predicates\":[\"biolink:related_to\"]\n",
    "          }\n",
    "        },\n",
    "        \"nodes\": {\n",
    "          nodes[0]: {\n",
    "            \"ids\": [\"PUBCHEM.COMPOUND:644073\"],\n",
    "            \"categories\": [\"biolink:ChemicalEntity\"]\n",
    "          },\n",
    "          nodes[1]: {\n",
    "              \"categories\": [\"biolink:BiologicalProcessOrActivity\",\"biolink:Gene\",\"biolink:Pathway\"]\n",
    "          },\n",
    "          nodes[2]: {\n",
    "            \"ids\": [\"HP:0001337\"],\n",
    "            \"categories\": [\"biolink:DiseaseOrPhenotypicFeature\"]\n",
    "          }\n",
    "        }\n",
    "      }\n",
    "    }\n",
    "  }\n"
   ]
  },
  {
   "cell_type": "markdown",
   "id": "a2f5be88",
   "metadata": {},
   "source": [
    "This query can be sent to various components of Translator as needed.  It can be sent directly to the ROBOKOP knowledgegraph hosted in the Automat system like this:"
   ]
  },
  {
   "cell_type": "code",
   "execution_count": 3,
   "id": "f8313669",
   "metadata": {},
   "outputs": [],
   "source": [
    "robokop_submit_url = \"http://automat-u24.apps.renci.org/robokopkg/1.3/query\"\n",
    "response = requests.post(robokop_submit_url,json=query)"
   ]
  },
  {
   "cell_type": "code",
   "execution_count": 4,
   "id": "7fa8d193",
   "metadata": {},
   "outputs": [
    {
     "name": "stdout",
     "output_type": "stream",
     "text": [
      "200\n"
     ]
    }
   ],
   "source": [
    "print(response.status_code)"
   ]
  },
  {
   "cell_type": "code",
   "execution_count": 5,
   "id": "4e7c11cb",
   "metadata": {},
   "outputs": [
    {
     "name": "stdout",
     "output_type": "stream",
     "text": [
      "7\n"
     ]
    }
   ],
   "source": [
    "print(len(response.json()['message']['results']))"
   ]
  },
  {
   "cell_type": "markdown",
   "id": "02c01716",
   "metadata": {},
   "source": [
    "The response in JSON form is a python dictionary with three main keys, the `message`, `log_level`, and `workflow`.  The `message` component contains the `query_graph` from the input query, ROBOKOP has added the `knowledge_graph`, and `results` which in combination contain the answer to the query graph. While we'll continue querying the response for the next few sections to reinforce the structure of the response, we'll go ahead and create separate variables for the three components to make future queries easier to read.\n",
    "\n",
    "Additional details about each of these components can be found in `HelloRobokop_TRAPI.ipynb`."
   ]
  },
  {
   "cell_type": "code",
   "execution_count": 6,
   "id": "39362080",
   "metadata": {},
   "outputs": [],
   "source": [
    "import pprint\n",
    "pp = pprint.PrettyPrinter(indent=5)"
   ]
  },
  {
   "cell_type": "code",
   "execution_count": 7,
   "id": "c263c6b2",
   "metadata": {},
   "outputs": [
    {
     "name": "stdout",
     "output_type": "stream",
     "text": [
      "dict_keys(['message', 'log_level', 'workflow'])\n",
      "dict_keys(['query_graph', 'knowledge_graph', 'results'])\n"
     ]
    }
   ],
   "source": [
    "print(response.json().keys())\n",
    "print(response.json()['message'].keys())"
   ]
  },
  {
   "cell_type": "markdown",
   "id": "289c8cf3",
   "metadata": {},
   "source": [
    "Next we will summarize all results to provide an overview of the different result graphs matching our query. Each node and edge has all the additional info shown above available for further inspection. Additional info can be found in `HelloRobokop_TRAPI.ipynb`.  Results are printed below."
   ]
  },
  {
   "cell_type": "code",
   "execution_count": 8,
   "id": "f161cb99",
   "metadata": {},
   "outputs": [],
   "source": [
    "result_summaries = []\n",
    "for r in response.json()['message']['results']:\n",
    "    rs = \"\"\n",
    "    j = 0\n",
    "    while j < len(nodes):\n",
    "        node_id = r['node_bindings'][nodes[j]][0]['id']\n",
    "        node_name = response.json()['message']['knowledge_graph']['nodes'][node_id]['name']\n",
    "        rs = rs + f\"{node_name} ({node_id})\"\n",
    "        if j < len(edges):\n",
    "            edge_id = r['edge_bindings'][edges[j]][0]['id']\n",
    "            edge_name = response.json()['message']['knowledge_graph']['edges'][edge_id]['predicate']\n",
    "            rs = rs + f\"--{edge_name}-->\"\n",
    "        j = j + 1\n",
    "    result_summaries.append(rs)"
   ]
  },
  {
   "cell_type": "code",
   "execution_count": 9,
   "id": "4f5ff5af",
   "metadata": {},
   "outputs": [
    {
     "name": "stdout",
     "output_type": "stream",
     "text": [
      "Buprenorphine (PUBCHEM.COMPOUND:644073)--biolink:directly_physically_interacts_with-->CYP2D6 (NCBIGene:1565)--biolink:genetic_association-->Limb tremor (HP:0200085)\n",
      "Buprenorphine (PUBCHEM.COMPOUND:644073)--biolink:directly_physically_interacts_with-->CYP2D6 (NCBIGene:1565)--biolink:genetic_association-->Action tremor (HP:0002345)\n",
      "Buprenorphine (PUBCHEM.COMPOUND:644073)--biolink:directly_physically_interacts_with-->CYP2D6 (NCBIGene:1565)--biolink:genetic_association-->Pill-rolling tremor (HP:0025387)\n",
      "Buprenorphine (PUBCHEM.COMPOUND:644073)--biolink:directly_physically_interacts_with-->CYP2D6 (NCBIGene:1565)--biolink:genetic_association-->Tremor (HP:0001337)\n",
      "Buprenorphine (PUBCHEM.COMPOUND:644073)--biolink:directly_physically_interacts_with-->CYP2D6 (NCBIGene:1565)--biolink:genetic_association-->Resting tremor (HP:0002322)\n",
      "Buprenorphine (PUBCHEM.COMPOUND:644073)--biolink:directly_physically_interacts_with-->CYP2D6 (NCBIGene:1565)--biolink:genetic_association-->Postural tremor (HP:0002174)\n",
      "Buprenorphine (PUBCHEM.COMPOUND:644073)--biolink:affects-->OPRM1 (NCBIGene:4988)--biolink:genetic_association-->Asterixis (HP:0012164)\n"
     ]
    }
   ],
   "source": [
    "for rs in result_summaries:\n",
    "    print(rs)"
   ]
  },
  {
   "cell_type": "markdown",
   "id": "3a5872c9-1dc4-4ea9-a903-5172bfbc971b",
   "metadata": {},
   "source": [
    "## Cypher"
   ]
  },
  {
   "cell_type": "markdown",
   "id": "c5930a89-5856-44f2-b2d7-fc626f861202",
   "metadata": {},
   "source": [
    "You can also bypass TRAPI entirely and just use cypher to talk to the graph.  There are two instances.  There is one at http://robokopkg.renci.org which has a cypher browser on it, or you can write cypher and post it there. This requires the neo4j package, which is likely not installed if you haven't accessed a neo4j database before. The code below should work, but if you encounter errors, look into how to best install this package for your local setup."
   ]
  },
  {
   "cell_type": "markdown",
   "id": "f0ab32c8-7185-4891-86f1-e92c74b15386",
   "metadata": {},
   "source": [
    "Cypher queries can be posted to either the neo4j browser at robokopkg.renci.org or through automat at automat.renci.org (recommended).  Depending on how the Cypher query is structured, results may be returned differently between the two access points.  The query below is asking for slightly different information than the TRAPI message above.  The TRAPI query asks for results related to `Buprenorphine` and `Tremor` that are of the type `Gene`, `Pathway`, or `BiologicalProcessOrActivity`.  Because no results were present for `Pathway` or `BiologicalProcessOrActivity`, a Cypher query including these would return 0 results, so the below query has been modified to ask for results related to `Buprenorphine` and `Tremor` that are of the type `Gene`."
   ]
  },
  {
   "cell_type": "code",
   "execution_count": null,
   "id": "9e82cc64-3229-4aec-ac9a-8cdd2e290db3",
   "metadata": {},
   "outputs": [],
   "source": [
    "j = {'query': cypher}\n",
    "results = requests.post('https://automat.renci.org/robokopkg/cypher',json=j)\n",
    "print(results.status_code)\n",
    "results_json = results.json()"
   ]
  },
  {
   "cell_type": "code",
   "execution_count": 14,
   "id": "f5f164c3-68f6-448a-9235-37049bda8c3d",
   "metadata": {},
   "outputs": [
    {
     "name": "stdout",
     "output_type": "stream",
     "text": [
      "<Response [200]>\n"
     ]
    }
   ],
   "source": [
    "print(results)"
   ]
  },
  {
   "cell_type": "code",
   "execution_count": null,
   "id": "225f203c-18f0-4bba-873a-ce9744a2ace7",
   "metadata": {},
   "outputs": [],
   "source": [
    "print(results.json())"
   ]
  },
  {
   "cell_type": "markdown",
   "id": "636f8d97-5b27-404e-be21-23c8a6603193",
   "metadata": {},
   "source": [
    "## Question Builder and ExEmPLAR"
   ]
  },
  {
   "cell_type": "markdown",
   "id": "432ea11e-6ecf-404c-85f8-43423686ca22",
   "metadata": {},
   "source": [
    "Two GUI-based tools are available in the form of the ROBOKOP Question Builder `https://robokop.renci.org/question-builder` and ExEmPLAR `https://www.exemplar.mml.unc.edu/`.  The ROBOKOP Question Builder allows users to build queries by specifying nodes and predicates with the aid of a graph showing what the full query looks like.  This returns a list of pathways with related terms, where each pathway can be expanded to show all individual edges.  The ExEmPLAR tool also allows users to build queries by specifying nodes and predicates, this time returning pathways with all individual edges and only the specific terms used in the query."
   ]
  },
  {
   "cell_type": "markdown",
   "id": "e943d0ae-6bf6-4994-95d7-a4ee0d81a0e3",
   "metadata": {},
   "source": [
    "More details on these GUI can be found in `HelloRobokop_Question_Builder.ipynb` for the ROBOKOP Question Builder and in `HelloRobokop_ExEmPLAR.ipynb` for ExEmPLAR."
   ]
  },
  {
   "cell_type": "code",
   "execution_count": null,
   "id": "43dab147-0d7e-4ab4-a162-625330113874",
   "metadata": {},
   "outputs": [],
   "source": []
  }
 ],
 "metadata": {
  "kernelspec": {
   "display_name": "Python 3 (ipykernel)",
   "language": "python",
   "name": "python3"
  },
  "language_info": {
   "codemirror_mode": {
    "name": "ipython",
    "version": 3
   },
   "file_extension": ".py",
   "mimetype": "text/x-python",
   "name": "python",
   "nbconvert_exporter": "python",
   "pygments_lexer": "ipython3",
   "version": "3.8.10"
  }
 },
 "nbformat": 4,
 "nbformat_minor": 5
}
