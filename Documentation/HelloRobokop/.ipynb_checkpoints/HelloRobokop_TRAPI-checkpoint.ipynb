{
 "cells": [
  {
   "cell_type": "code",
   "execution_count": 3,
   "metadata": {},
   "outputs": [],
   "source": [
    "import requests\n",
    "import json"
   ]
  },
  {
   "cell_type": "markdown",
   "metadata": {},
   "source": [
    "TRAPI Documentation: https://github.com/NCATSTranslator/ReasonerAPI\n",
    "\n",
    "Most TRAPI documents contain a `message` key.  Within that `message` are a `query_graph` denoting the user query,\n",
    "a `knowledge_graph` consisting of the union of all nodes and edges that match the `query_graph` pattern, and a list of `results` that bind `query_graph` elements to `knowledge_graph` elements.\n",
    "\n",
    "The following message contains only a `query_graph`.  This query graph consists of 3 nodes connected together in a line.   Two of the nodes (`n00` and `n02`) have specified identifiers, while the middle node of the line does not.  Rather the middle node has a list of `categories` that are acceptable.\n",
    "\n",
    "For a researcher who is starting from a `name` who wants to use TRAPI, they can use the Name Resolver tool to get the identifers for the nodes.  This is illustrated in the \"HelloRobokop_TRAPI_multiple_IDs\" notebook. \n",
    "\n",
    "This query asks \"Find me a Biological Process or Activity, or a Gene, or a Pathway that is related to both `PUBCHEM.COMPOUND:644073` (Buprenorphine) and `HP:0001337` (Tremor)."
   ]
  },
  {
   "cell_type": "code",
   "execution_count": 2,
   "metadata": {},
   "outputs": [],
   "source": [
    "query={\n",
    "    \"message\": {\n",
    "      \"query_graph\": {\n",
    "        \"edges\": {\n",
    "          \"e00\": {\n",
    "            \"subject\": \"n00\",\n",
    "              \"object\": \"n01\",\n",
    "          \"predicates\":[\"biolink:related_to\"]\n",
    "          },\n",
    "          \"e01\": {\n",
    "            \"subject\": \"n01\",\n",
    "              \"object\": \"n02\",\n",
    "          \"predicates\":[\"biolink:related_to\"]\n",
    "          }\n",
    "        },\n",
    "        \"nodes\": {\n",
    "          \"n00\": {\n",
    "            \"ids\": [\"PUBCHEM.COMPOUND:644073\"],\n",
    "            \"categories\": [\"biolink:ChemicalEntity\"]\n",
    "          },\n",
    "          \"n01\": {\n",
    "              \"categories\": [\"biolink:BiologicalProcessOrActivity\",\"biolink:Gene\",\"biolink:Pathway\"]\n",
    "          },\n",
    "          \"n02\": {\n",
    "            \"ids\": [\"HP:0001337\"],\n",
    "            \"categories\": [\"biolink:DiseaseOrPhenotypicFeature\"]\n",
    "          }\n",
    "        }\n",
    "      }\n",
    "    }\n",
    "  }\n"
   ]
  },
  {
   "cell_type": "markdown",
   "metadata": {},
   "source": [
    "This query can be sent to various components of Translator as needed.  It can be sent directly to the ROBOKOP database like this:"
   ]
  },
  {
   "cell_type": "code",
   "execution_count": 3,
   "metadata": {},
   "outputs": [
    {
     "name": "stdout",
     "output_type": "stream",
     "text": [
      "200\n",
      "7\n"
     ]
    }
   ],
   "source": [
    "robokop_submit_url = \"https://automat.renci.org/robokopkg/1.3/query\"\n",
    "response = requests.post(robokop_submit_url,json=query)\n",
    "print(response.status_code)\n",
    "number_pathway_results = len(response.json()['message']['results'])\n",
    "print(len(response.json()['message']['results']))"
   ]
  },
  {
   "cell_type": "code",
   "execution_count": 4,
   "metadata": {},
   "outputs": [],
   "source": [
    "import pprint\n",
    "pp = pprint.PrettyPrinter(indent=5)"
   ]
  },
  {
   "cell_type": "markdown",
   "metadata": {},
   "source": [
    "The response in JSON form is a python dictionary with three main keys, the `message`, `log_level`, and `workflow`.  The `message` property contains the `query_graph`, `knowledge_graph`, and `results` from the query."
   ]
  },
  {
   "cell_type": "code",
   "execution_count": 5,
   "metadata": {},
   "outputs": [
    {
     "name": "stdout",
     "output_type": "stream",
     "text": [
      "dict_keys(['message', 'log_level', 'workflow'])\n",
      "dict_keys(['query_graph', 'knowledge_graph', 'results'])\n"
     ]
    }
   ],
   "source": [
    "print(response.json().keys())\n",
    "print(response.json()['message'].keys())"
   ]
  },
  {
   "cell_type": "markdown",
   "metadata": {},
   "source": [
    "The `results` property contains pathways resulting from the query message. Each pathway is organized into edge_bindings and node bindings and contains results for the edges and nodes specified in the query message.  Results are defined using the node and edge identifiers. The attributes for those nodes and edges (including the names) are available via the `knowledge_graph` component of the `message` section of the response."
   ]
  },
  {
   "cell_type": "code",
   "execution_count": 6,
   "metadata": {},
   "outputs": [
    {
     "name": "stdout",
     "output_type": "stream",
     "text": [
      "[    {    'edge_bindings': {    'e00': [    {    'attributes': None,\n",
      "                                                 'id': '114862569'},\n",
      "                                            {    'attributes': None,\n",
      "                                                 'id': '89338256'},\n",
      "                                            {    'attributes': None,\n",
      "                                                 'id': '8697234'}],\n",
      "                                'e01': [    {    'attributes': None,\n",
      "                                                 'id': '51570037'},\n",
      "                                            {    'attributes': None,\n",
      "                                                 'id': '76915076'}]},\n",
      "          'node_bindings': {    'n00': [    {    'attributes': None,\n",
      "                                                 'id': 'PUBCHEM.COMPOUND:644073',\n",
      "                                                 'qnode_id': 'PUBCHEM.COMPOUND:644073',\n",
      "                                                 'query_id': None}],\n",
      "                                'n01': [    {    'attributes': None,\n",
      "                                                 'id': 'NCBIGene:1565',\n",
      "                                                 'query_id': None}],\n",
      "                                'n02': [    {    'attributes': None,\n",
      "                                                 'id': 'HP:0001337',\n",
      "                                                 'qnode_id': 'HP:0001337',\n",
      "                                                 'query_id': None}]},\n",
      "          'score': None},\n",
      "     {    'edge_bindings': {    'e00': [    {    'attributes': None,\n",
      "                                                 'id': '114862569'},\n",
      "                                            {    'attributes': None,\n",
      "                                                 'id': '89338256'},\n",
      "                                            {    'attributes': None,\n",
      "                                                 'id': '8697234'}],\n",
      "                                'e01': [    {    'attributes': None,\n",
      "                                                 'id': '77744428'}]},\n",
      "          'node_bindings': {    'n00': [    {    'attributes': None,\n",
      "                                                 'id': 'PUBCHEM.COMPOUND:644073',\n",
      "                                                 'qnode_id': 'PUBCHEM.COMPOUND:644073',\n",
      "                                                 'query_id': None}],\n",
      "                                'n01': [    {    'attributes': None,\n",
      "                                                 'id': 'NCBIGene:1565',\n",
      "                                                 'query_id': None}],\n",
      "                                'n02': [    {    'attributes': None,\n",
      "                                                 'id': 'HP:0200085',\n",
      "                                                 'qnode_id': 'HP:0001337',\n",
      "                                                 'query_id': None}]},\n",
      "          'score': None},\n",
      "     {    'edge_bindings': {    'e00': [    {    'attributes': None,\n",
      "                                                 'id': '114862569'},\n",
      "                                            {    'attributes': None,\n",
      "                                                 'id': '89338256'},\n",
      "                                            {    'attributes': None,\n",
      "                                                 'id': '8697234'}],\n",
      "                                'e01': [    {    'attributes': None,\n",
      "                                                 'id': '94798077'}]},\n",
      "          'node_bindings': {    'n00': [    {    'attributes': None,\n",
      "                                                 'id': 'PUBCHEM.COMPOUND:644073',\n",
      "                                                 'qnode_id': 'PUBCHEM.COMPOUND:644073',\n",
      "                                                 'query_id': None}],\n",
      "                                'n01': [    {    'attributes': None,\n",
      "                                                 'id': 'NCBIGene:1565',\n",
      "                                                 'query_id': None}],\n",
      "                                'n02': [    {    'attributes': None,\n",
      "                                                 'id': 'HP:0002345',\n",
      "                                                 'qnode_id': 'HP:0001337',\n",
      "                                                 'query_id': None}]},\n",
      "          'score': None},\n",
      "     {    'edge_bindings': {    'e00': [    {    'attributes': None,\n",
      "                                                 'id': '114862569'},\n",
      "                                            {    'attributes': None,\n",
      "                                                 'id': '89338256'},\n",
      "                                            {    'attributes': None,\n",
      "                                                 'id': '8697234'}],\n",
      "                                'e01': [    {    'attributes': None,\n",
      "                                                 'id': '63371901'}]},\n",
      "          'node_bindings': {    'n00': [    {    'attributes': None,\n",
      "                                                 'id': 'PUBCHEM.COMPOUND:644073',\n",
      "                                                 'qnode_id': 'PUBCHEM.COMPOUND:644073',\n",
      "                                                 'query_id': None}],\n",
      "                                'n01': [    {    'attributes': None,\n",
      "                                                 'id': 'NCBIGene:1565',\n",
      "                                                 'query_id': None}],\n",
      "                                'n02': [    {    'attributes': None,\n",
      "                                                 'id': 'HP:0002174',\n",
      "                                                 'qnode_id': 'HP:0001337',\n",
      "                                                 'query_id': None}]},\n",
      "          'score': None},\n",
      "     {    'edge_bindings': {    'e00': [    {    'attributes': None,\n",
      "                                                 'id': '17185078'},\n",
      "                                            {    'attributes': None,\n",
      "                                                 'id': '113956192'},\n",
      "                                            {    'attributes': None,\n",
      "                                                 'id': '99611941'},\n",
      "                                            {    'attributes': None,\n",
      "                                                 'id': '53350880'},\n",
      "                                            {    'attributes': None,\n",
      "                                                 'id': '69936825'},\n",
      "                                            {    'attributes': None,\n",
      "                                                 'id': '73724977'}],\n",
      "                                'e01': [    {    'attributes': None,\n",
      "                                                 'id': '122475227'}]},\n",
      "          'node_bindings': {    'n00': [    {    'attributes': None,\n",
      "                                                 'id': 'PUBCHEM.COMPOUND:644073',\n",
      "                                                 'qnode_id': 'PUBCHEM.COMPOUND:644073',\n",
      "                                                 'query_id': None}],\n",
      "                                'n01': [    {    'attributes': None,\n",
      "                                                 'id': 'NCBIGene:4988',\n",
      "                                                 'query_id': None}],\n",
      "                                'n02': [    {    'attributes': None,\n",
      "                                                 'id': 'HP:0012164',\n",
      "                                                 'qnode_id': 'HP:0001337',\n",
      "                                                 'query_id': None}]},\n",
      "          'score': None},\n",
      "     {    'edge_bindings': {    'e00': [    {    'attributes': None,\n",
      "                                                 'id': '114862569'},\n",
      "                                            {    'attributes': None,\n",
      "                                                 'id': '89338256'},\n",
      "                                            {    'attributes': None,\n",
      "                                                 'id': '8697234'}],\n",
      "                                'e01': [{'attributes': None, 'id': '1498880'}]},\n",
      "          'node_bindings': {    'n00': [    {    'attributes': None,\n",
      "                                                 'id': 'PUBCHEM.COMPOUND:644073',\n",
      "                                                 'qnode_id': 'PUBCHEM.COMPOUND:644073',\n",
      "                                                 'query_id': None}],\n",
      "                                'n01': [    {    'attributes': None,\n",
      "                                                 'id': 'NCBIGene:1565',\n",
      "                                                 'query_id': None}],\n",
      "                                'n02': [    {    'attributes': None,\n",
      "                                                 'id': 'HP:0002322',\n",
      "                                                 'qnode_id': 'HP:0001337',\n",
      "                                                 'query_id': None}]},\n",
      "          'score': None},\n",
      "     {    'edge_bindings': {    'e00': [    {    'attributes': None,\n",
      "                                                 'id': '114862569'},\n",
      "                                            {    'attributes': None,\n",
      "                                                 'id': '89338256'},\n",
      "                                            {    'attributes': None,\n",
      "                                                 'id': '8697234'}],\n",
      "                                'e01': [    {    'attributes': None,\n",
      "                                                 'id': '59984979'}]},\n",
      "          'node_bindings': {    'n00': [    {    'attributes': None,\n",
      "                                                 'id': 'PUBCHEM.COMPOUND:644073',\n",
      "                                                 'qnode_id': 'PUBCHEM.COMPOUND:644073',\n",
      "                                                 'query_id': None}],\n",
      "                                'n01': [    {    'attributes': None,\n",
      "                                                 'id': 'NCBIGene:1565',\n",
      "                                                 'query_id': None}],\n",
      "                                'n02': [    {    'attributes': None,\n",
      "                                                 'id': 'HP:0025387',\n",
      "                                                 'qnode_id': 'HP:0001337',\n",
      "                                                 'query_id': None}]},\n",
      "          'score': None}]\n"
     ]
    }
   ],
   "source": [
    "pp.pprint(response.json()['message']['results'])"
   ]
  },
  {
   "cell_type": "markdown",
   "metadata": {},
   "source": [
    "The `knowledge_graph` contains information about each of the Nodes and Edges found in `results`.  An example of a Node and an Edge are shown below.  "
   ]
  },
  {
   "cell_type": "code",
   "execution_count": 10,
   "metadata": {},
   "outputs": [
    {
     "name": "stdout",
     "output_type": "stream",
     "text": [
      "dict_keys(['nodes', 'edges'])\n"
     ]
    }
   ],
   "source": [
    "pp.pprint(response.json()['message']['knowledge_graph'].keys())"
   ]
  },
  {
   "cell_type": "markdown",
   "metadata": {},
   "source": [
    "Information returned for the each Node includes the concept ID (key), biolink categories, the name/label, attributes, the value type, and others.  Note that each entry under the `nodes` level is itemized in dictionary format with the key corresponding to the identifier used to define the `Result`.  The content for one Node is shown below."
   ]
  },
  {
   "cell_type": "code",
   "execution_count": 16,
   "metadata": {},
   "outputs": [
    {
     "data": {
      "text/plain": [
       "('HP:0012164',\n",
       " {'categories': ['biolink:Entity',\n",
       "   'biolink:DiseaseOrPhenotypicFeature',\n",
       "   'biolink:PhenotypicFeature',\n",
       "   'biolink:NamedThing',\n",
       "   'biolink:BiologicalEntity',\n",
       "   'biolink:ThingWithTaxon'],\n",
       "  'name': 'Asterixis',\n",
       "  'attributes': [{'attribute_type_id': 'biolink:same_as',\n",
       "    'value': ['MEDDRA:10003547',\n",
       "     'MEDDRA:10057580',\n",
       "     'HP:0012164',\n",
       "     'NCIT:C86048',\n",
       "     'UMLS:C0232766',\n",
       "     'SNOMEDCT:32838008'],\n",
       "    'value_type_id': 'metatype:uriorcurie',\n",
       "    'original_attribute_name': 'equivalent_identifiers',\n",
       "    'value_url': None,\n",
       "    'attribute_source': None,\n",
       "    'description': None,\n",
       "    'attributes': None}]})"
      ]
     },
     "execution_count": 16,
     "metadata": {},
     "output_type": "execute_result"
    }
   ],
   "source": [
    "next(iter( response.json()['message']['knowledge_graph']['nodes'].items() ))"
   ]
  },
  {
   "cell_type": "markdown",
   "metadata": {},
   "source": [
    "Information returned for the each Edge includes the edge ID (key), the subject's concept ID, the object's concept ID, the edge's predicate, any qualifiers, and attributes.  Note that each entry under the `edges` level is itemized in dictionary format  with the key corresponding to the identifier used to define the `Result`.  The content for one Edge is shown below."
   ]
  },
  {
   "cell_type": "code",
   "execution_count": 17,
   "metadata": {},
   "outputs": [
    {
     "data": {
      "text/plain": [
       "('1498880',\n",
       " {'subject': 'NCBIGene:1565',\n",
       "  'object': 'HP:0002322',\n",
       "  'predicate': 'biolink:genetic_association',\n",
       "  'qualifiers': None,\n",
       "  'attributes': [{'attribute_type_id': 'biolink:aggregator_knowledge_source',\n",
       "    'value': ['infores:pharos', 'infores:automat-robokop'],\n",
       "    'value_type_id': 'biolink:InformationResource',\n",
       "    'original_attribute_name': 'biolink:aggregator_knowledge_source',\n",
       "    'value_url': None,\n",
       "    'attribute_source': 'infores:automat-robokop',\n",
       "    'description': None,\n",
       "    'attributes': None},\n",
       "   {'attribute_type_id': 'biolink:primary_knowledge_source',\n",
       "    'value': 'infores:disgenet',\n",
       "    'value_type_id': 'biolink:InformationResource',\n",
       "    'original_attribute_name': 'biolink:primary_knowledge_source',\n",
       "    'value_url': None,\n",
       "    'attribute_source': 'infores:automat-robokop',\n",
       "    'description': None,\n",
       "    'attributes': None}]})"
      ]
     },
     "execution_count": 17,
     "metadata": {},
     "output_type": "execute_result"
    }
   ],
   "source": [
    "next(iter( response.json()['message']['knowledge_graph']['edges'].items() ))"
   ]
  },
  {
   "cell_type": "markdown",
   "metadata": {},
   "source": [
    "Since the edge and node contents are returned as CURIES (Compact URIs) instead of labels, a sample workflow was written to convert the CURIES to labels. We start by collecting the node names and storing them in a dictionary."
   ]
  },
  {
   "cell_type": "code",
   "execution_count": 13,
   "metadata": {},
   "outputs": [],
   "source": [
    "import pandas as pd\n",
    "from pathlib import Path\n",
    "\n",
    "nodes = response.json()['message']['results'][0]['node_bindings'].keys()\n",
    "output_dict = {}\n",
    "for key in nodes:\n",
    "    output_dict[key] = {}"
   ]
  },
  {
   "cell_type": "code",
   "execution_count": 14,
   "metadata": {},
   "outputs": [
    {
     "name": "stdout",
     "output_type": "stream",
     "text": [
      "{    'edge_bindings': {    'e00': [    {'attributes': None, 'id': '114862569'},\n",
      "                                       {'attributes': None, 'id': '89338256'},\n",
      "                                       {'attributes': None, 'id': '8697234'}],\n",
      "                           'e01': [    {'attributes': None, 'id': '51570037'},\n",
      "                                       {'attributes': None, 'id': '76915076'}]},\n",
      "     'node_bindings': {    'n00': [    {    'attributes': None,\n",
      "                                            'id': 'PUBCHEM.COMPOUND:644073',\n",
      "                                            'qnode_id': 'PUBCHEM.COMPOUND:644073',\n",
      "                                            'query_id': None}],\n",
      "                           'n01': [    {    'attributes': None,\n",
      "                                            'id': 'NCBIGene:1565',\n",
      "                                            'query_id': None}],\n",
      "                           'n02': [    {    'attributes': None,\n",
      "                                            'id': 'HP:0001337',\n",
      "                                            'qnode_id': 'HP:0001337',\n",
      "                                            'query_id': None}]},\n",
      "     'score': None}\n"
     ]
    }
   ],
   "source": [
    "# Illustrating the structure of each pathway result from the message property\n",
    "pp.pprint(response.json()['message']['results'][0])"
   ]
  },
  {
   "cell_type": "markdown",
   "metadata": {},
   "source": [
    "First we pull the node identifiers from the `results` component of the answer."
   ]
  },
  {
   "cell_type": "code",
   "execution_count": 16,
   "metadata": {},
   "outputs": [
    {
     "name": "stdout",
     "output_type": "stream",
     "text": [
      "{    'n00': {    0: 'PUBCHEM.COMPOUND:644073',\n",
      "                 1: 'PUBCHEM.COMPOUND:644073',\n",
      "                 2: 'PUBCHEM.COMPOUND:644073',\n",
      "                 3: 'PUBCHEM.COMPOUND:644073',\n",
      "                 4: 'PUBCHEM.COMPOUND:644073',\n",
      "                 5: 'PUBCHEM.COMPOUND:644073',\n",
      "                 6: 'PUBCHEM.COMPOUND:644073'},\n",
      "     'n01': {    0: 'NCBIGene:1565',\n",
      "                 1: 'NCBIGene:1565',\n",
      "                 2: 'NCBIGene:1565',\n",
      "                 3: 'NCBIGene:1565',\n",
      "                 4: 'NCBIGene:4988',\n",
      "                 5: 'NCBIGene:1565',\n",
      "                 6: 'NCBIGene:1565'},\n",
      "     'n02': {    0: 'HP:0001337',\n",
      "                 1: 'HP:0200085',\n",
      "                 2: 'HP:0002345',\n",
      "                 3: 'HP:0002174',\n",
      "                 4: 'HP:0012164',\n",
      "                 5: 'HP:0002322',\n",
      "                 6: 'HP:0025387'}}\n"
     ]
    }
   ],
   "source": [
    "i = 0\n",
    "for entry in response.json()['message']['results']:\n",
    "    for node_id in nodes:\n",
    "        output_dict[node_id][i] = entry['node_bindings'][node_id][0]['id']\n",
    "    i = i + 1\n",
    "    \n",
    "pp.pprint(output_dict)"
   ]
  },
  {
   "cell_type": "markdown",
   "metadata": {},
   "source": [
    "Then we substitute the names for each node, which are obtained from the knowledge_graph component of the answer using the identifiers shown above."
   ]
  },
  {
   "cell_type": "code",
   "execution_count": 17,
   "metadata": {},
   "outputs": [
    {
     "name": "stdout",
     "output_type": "stream",
     "text": [
      "{    'n00': {    0: 'Buprenorphine',\n",
      "                 1: 'Buprenorphine',\n",
      "                 2: 'Buprenorphine',\n",
      "                 3: 'Buprenorphine',\n",
      "                 4: 'Buprenorphine',\n",
      "                 5: 'Buprenorphine',\n",
      "                 6: 'Buprenorphine'},\n",
      "     'n01': {    0: 'CYP2D6',\n",
      "                 1: 'CYP2D6',\n",
      "                 2: 'CYP2D6',\n",
      "                 3: 'CYP2D6',\n",
      "                 4: 'OPRM1',\n",
      "                 5: 'CYP2D6',\n",
      "                 6: 'CYP2D6'},\n",
      "     'n02': {    0: 'Tremor',\n",
      "                 1: 'Limb tremor',\n",
      "                 2: 'Action tremor',\n",
      "                 3: 'Postural tremor',\n",
      "                 4: 'Asterixis',\n",
      "                 5: 'Resting tremor',\n",
      "                 6: 'Pill-rolling tremor'}}\n"
     ]
    }
   ],
   "source": [
    "node_list = [x for x in output_dict.keys() if 'n' in x]\n",
    "\n",
    "for node_id in node_list:\n",
    "    for node_index, node_value in output_dict[node_id].items():\n",
    "        # Converting from curies to Node Labels\n",
    "        output_dict[node_id][node_index] = response.json()['message']['knowledge_graph']['nodes'][node_value]['name']\n",
    "        \n",
    "pp.pprint(output_dict)"
   ]
  },
  {
   "cell_type": "markdown",
   "metadata": {},
   "source": [
    "To export the node information into a csv file, we create a directory with today's date to hold the output file and then convert our output dictionary into a table, which can be printed to the file."
   ]
  },
  {
   "cell_type": "code",
   "execution_count": 20,
   "metadata": {},
   "outputs": [],
   "source": [
    "from datetime import datetime\n",
    "from pathlib import Path\n",
    "\n",
    "now = datetime.now()\n",
    "dt_string = now.strftime(\"%Y-%m-%d_%H%M%S\")\n",
    "write_dir = Path(\"output/TRAPI\",str(dt_string))\n",
    "write_dir.mkdir(parents=True, exist_ok=True)"
   ]
  },
  {
   "cell_type": "markdown",
   "metadata": {},
   "source": [
    "The code below writes out nodes from our `results`, but NOT the edges connecting the nodes."
   ]
  },
  {
   "cell_type": "code",
   "execution_count": 21,
   "metadata": {},
   "outputs": [
    {
     "name": "stdout",
     "output_type": "stream",
     "text": [
      "[    'Buprenorphine_CYP2D6_Tremor',\n",
      "     'Buprenorphine_CYP2D6_Limb_tremor',\n",
      "     'Buprenorphine_CYP2D6_Action_tremor',\n",
      "     'Buprenorphine_CYP2D6_Postural_tremor',\n",
      "     'Buprenorphine_OPRM1_Asterixis',\n",
      "     'Buprenorphine_CYP2D6_Resting_tremor',\n",
      "     'Buprenorphine_CYP2D6_Pill-rolling_tremor']\n"
     ]
    }
   ],
   "source": [
    "import pandas as pd\n",
    "import os\n",
    "\n",
    "# Convert JSON String to CSV File\n",
    "# Read json from String\n",
    "json_str = json.dumps(output_dict, indent=4)\n",
    "df = pd.read_json(json_str)\n",
    "cols = df.columns.tolist()\n",
    "cols.sort()\n",
    "df = df[cols]\n",
    "df.to_csv(os.path.join(write_dir,'results_TRAPI_automat.csv'))\n",
    "\n",
    "combined_node_list = [\"_\".join([row[0].replace(\" \", \"_\"), row[1].replace(\" \", \"_\"), row[2].replace(\" \", \"_\")]) for row in df[cols].to_numpy()]\n",
    "pp.pprint(combined_node_list)"
   ]
  },
  {
   "cell_type": "markdown",
   "metadata": {},
   "source": [
    "The edge IDs are then retrieved from the `results` and used to find the corresponding `predicate` label in the `knowledge_graph`. Two nodes can have more than one edge connecting them because each edge represents a distinct type of association derived from a single data source. Because of this, the number of rows in this report may differ from the set of results above. For an answer with three nodes such as this one, there will be at least one edge between nodes 1 and 2 as well as nodes 2 and 3. The direction of the edge connecting two nodes can differ as well, such as for \"Buprenorphine\" and \"CYP2D6\" below. Sometimes a single association type will be derived from multiple data sources. In the code below, we print a single edge for each association type and include the count of the number of data sources where that association was found. The following writes out all unique edges for each of the results in the format of `subject` -> `predicate` -> `object`."
   ]
  },
  {
   "cell_type": "code",
   "execution_count": 23,
   "metadata": {},
   "outputs": [
    {
     "name": "stdout",
     "output_type": "stream",
     "text": [
      "Pathway result: Buprenorphine_CYP2D6_Tremor\n",
      "{    'Buprenorphine -> biolink:affects -> CYP2D6': 1,\n",
      "     'Buprenorphine -> biolink:directly_physically_interacts_with -> CYP2D6': 1,\n",
      "     'CYP2D6 -> biolink:affects -> Buprenorphine': 1,\n",
      "     'CYP2D6 -> biolink:genetic_association -> Tremor': 2}\n",
      "\n",
      "Pathway result: Buprenorphine_CYP2D6_Limb_tremor\n",
      "{    'Buprenorphine -> biolink:affects -> CYP2D6': 1,\n",
      "     'Buprenorphine -> biolink:directly_physically_interacts_with -> CYP2D6': 1,\n",
      "     'CYP2D6 -> biolink:affects -> Buprenorphine': 1,\n",
      "     'CYP2D6 -> biolink:genetic_association -> Limb tremor': 1}\n",
      "\n",
      "Pathway result: Buprenorphine_CYP2D6_Action_tremor\n",
      "{    'Buprenorphine -> biolink:affects -> CYP2D6': 1,\n",
      "     'Buprenorphine -> biolink:directly_physically_interacts_with -> CYP2D6': 1,\n",
      "     'CYP2D6 -> biolink:affects -> Buprenorphine': 1,\n",
      "     'CYP2D6 -> biolink:genetic_association -> Action tremor': 1}\n",
      "\n",
      "Pathway result: Buprenorphine_CYP2D6_Postural_tremor\n",
      "{    'Buprenorphine -> biolink:affects -> CYP2D6': 1,\n",
      "     'Buprenorphine -> biolink:directly_physically_interacts_with -> CYP2D6': 1,\n",
      "     'CYP2D6 -> biolink:affects -> Buprenorphine': 1,\n",
      "     'CYP2D6 -> biolink:genetic_association -> Postural tremor': 1}\n",
      "\n",
      "Pathway result: Buprenorphine_OPRM1_Asterixis\n",
      "{    'Buprenorphine -> biolink:affects -> OPRM1': 4,\n",
      "     'Buprenorphine -> biolink:directly_physically_interacts_with -> OPRM1': 1,\n",
      "     'Buprenorphine -> biolink:related_to -> OPRM1': 1,\n",
      "     'OPRM1 -> biolink:genetic_association -> Asterixis': 1}\n",
      "\n",
      "Pathway result: Buprenorphine_CYP2D6_Resting_tremor\n",
      "{    'Buprenorphine -> biolink:affects -> CYP2D6': 1,\n",
      "     'Buprenorphine -> biolink:directly_physically_interacts_with -> CYP2D6': 1,\n",
      "     'CYP2D6 -> biolink:affects -> Buprenorphine': 1,\n",
      "     'CYP2D6 -> biolink:genetic_association -> Resting tremor': 1}\n",
      "\n",
      "Pathway result: Buprenorphine_CYP2D6_Pill-rolling_tremor\n",
      "{    'Buprenorphine -> biolink:affects -> CYP2D6': 1,\n",
      "     'Buprenorphine -> biolink:directly_physically_interacts_with -> CYP2D6': 1,\n",
      "     'CYP2D6 -> biolink:affects -> Buprenorphine': 1,\n",
      "     'CYP2D6 -> biolink:genetic_association -> Pill-rolling tremor': 1}\n",
      "\n"
     ]
    }
   ],
   "source": [
    "from collections import Counter\n",
    "import json\n",
    "import pprint\n",
    "pp = pprint.PrettyPrinter(indent=5)\n",
    "\n",
    "for i in range(number_pathway_results):\n",
    "    # if i >= 1:\n",
    "        # break\n",
    "    print(f\"Pathway result: {combined_node_list[i]}\")\n",
    "    edge_bindings = response.json()['message']['results'][i]['edge_bindings']\n",
    "    # print(edge_bindings)\n",
    "\n",
    "    edge_ids = []\n",
    "    for edge_name, edge_list in edge_bindings.items():\n",
    "        edge_ids.append({edge_name: [x['id'] for x in edge_list]})\n",
    "\n",
    "    # print(edge_ids)\n",
    "    string_out_list = []\n",
    "    for edge_dict in edge_ids:\n",
    "        for edge_name, edge_list in edge_dict.items():\n",
    "            # print(f\"{edge_name}: {edge_list}\")\n",
    "            for edge_id in edge_list:\n",
    "                subject_id = response.json()['message']['knowledge_graph']['edges'][edge_id]['subject']\n",
    "                subject = response.json()['message']['knowledge_graph']['nodes'][subject_id]['name']\n",
    "                predicate = response.json()['message']['knowledge_graph']['edges'][edge_id]['predicate']\n",
    "                object_id = response.json()['message']['knowledge_graph']['edges'][edge_id]['object']\n",
    "                object = response.json()['message']['knowledge_graph']['nodes'][object_id]['name']\n",
    "                string_out = f\"{subject} -> {predicate} -> {object}\"\n",
    "                string_out_list.append(string_out)\n",
    "    string_out_dict = dict(Counter(string_out_list).items())\n",
    "    pp.pprint(string_out_dict)\n",
    "    print(\"\")\n",
    "    \n",
    "    with open(os.path.join(write_dir,combined_node_list[i]+\".txt\"), 'w') as convert_file:\n",
    "        convert_file.write(json.dumps(string_out_dict))\n",
    "        "
   ]
  },
  {
   "cell_type": "markdown",
   "metadata": {},
   "source": [
    "## Aragorn.\n",
    "\n",
    "The results above are just database matches, there are no scores or other additions.  You can instead send the TRAPI to the robokop application using Aragorn (rather than just to the graph)"
   ]
  },
  {
   "cell_type": "code",
   "execution_count": 24,
   "metadata": {},
   "outputs": [],
   "source": [
    "ara_robokop_submit_url = \"https://aragorn.renci.org/robokop/query\"\n",
    "response_ara = requests.post(ara_robokop_submit_url,json=query)"
   ]
  },
  {
   "cell_type": "code",
   "execution_count": 25,
   "metadata": {},
   "outputs": [
    {
     "data": {
      "text/plain": [
       "200"
      ]
     },
     "execution_count": 25,
     "metadata": {},
     "output_type": "execute_result"
    }
   ],
   "source": [
    "response_ara.status_code"
   ]
  },
  {
   "cell_type": "code",
   "execution_count": 75,
   "metadata": {},
   "outputs": [
    {
     "name": "stdout",
     "output_type": "stream",
     "text": [
      "dict_keys(['node_bindings', 'edge_bindings', 'score'])\n",
      "{    'n00': [    {    'id': 'PUBCHEM.COMPOUND:644073',\n",
      "                      'qnode_id': 'PUBCHEM.COMPOUND:644073'}],\n",
      "     'n01': [{'id': 'NCBIGene:1565'}],\n",
      "     'n02': [{'id': 'HP:0001337', 'qnode_id': 'HP:0001337'}]}\n",
      "dict_keys(['e00', 'e01', 's2', 's5', 's6'])\n",
      "0.4306377466353769\n"
     ]
    }
   ],
   "source": [
    "len(response_ara.json()['message']['results'])\n",
    "pp.pprint(response_ara.json()['message']['results'][0].keys())\n",
    "pp.pprint(response_ara.json()['message']['results'][0]['node_bindings'])\n",
    "pp.pprint(response_ara.json()['message']['results'][0]['edge_bindings'].keys())\n",
    "pp.pprint(response_ara.json()['message']['results'][0]['score'])"
   ]
  },
  {
   "cell_type": "markdown",
   "metadata": {},
   "source": [
    "The following assumes that the node names will sort in the correct order. This exports the results showing the nodes and the score assigned to each result."
   ]
  },
  {
   "cell_type": "code",
   "execution_count": 84,
   "metadata": {},
   "outputs": [
    {
     "name": "stdout",
     "output_type": "stream",
     "text": [
      "                       n00       n00_name            n01 n01_name         n02  \\\n",
      "0  PUBCHEM.COMPOUND:644073  Buprenorphine  NCBIGene:1565   CYP2D6  HP:0001337   \n",
      "1  PUBCHEM.COMPOUND:644073  Buprenorphine  NCBIGene:4988    OPRM1  HP:0012164   \n",
      "2  PUBCHEM.COMPOUND:644073  Buprenorphine  NCBIGene:1565   CYP2D6  HP:0002322   \n",
      "3  PUBCHEM.COMPOUND:644073  Buprenorphine  NCBIGene:1565   CYP2D6  HP:0002345   \n",
      "4  PUBCHEM.COMPOUND:644073  Buprenorphine  NCBIGene:1565   CYP2D6  HP:0025387   \n",
      "5  PUBCHEM.COMPOUND:644073  Buprenorphine  NCBIGene:1565   CYP2D6  HP:0200085   \n",
      "6  PUBCHEM.COMPOUND:644073  Buprenorphine  NCBIGene:1565   CYP2D6  HP:0002174   \n",
      "\n",
      "              n02_name     score  \n",
      "0               Tremor  0.430638  \n",
      "1            Asterixis  0.263952  \n",
      "2       Resting tremor  0.235553  \n",
      "3        Action tremor  0.234348  \n",
      "4  Pill-rolling tremor  0.233694  \n",
      "5          Limb tremor  0.233694  \n",
      "6      Postural tremor  0.233694  \n"
     ]
    }
   ],
   "source": [
    "kg = response_ara.json()['message']['knowledge_graph']\n",
    "cols = []\n",
    "for node in sorted(response_ara.json()['message']['results'][0]['node_bindings'].keys()):\n",
    "    cols.append(node)\n",
    "    cols.append(node + '_name')\n",
    "results_df = pd.DataFrame(columns = cols)\n",
    "\n",
    "for result in response_ara.json()['message']['results']:\n",
    "    result_dict = {}\n",
    "    for node in result['node_bindings'].keys():\n",
    "        node_id = result['node_bindings'][node][0]['id']\n",
    "        result_dict[node] = node_id\n",
    "        result_dict[node + '_name'] = kg['nodes'][node_id]['name']\n",
    "    result_dict['score'] = result['score']\n",
    "    #print(result_dict)\n",
    "\n",
    "    results_df = results_df.append(result_dict, ignore_index=True)\n",
    "print(results_df)\n",
    "results_df.to_csv(os.path.join(write_dir,'results_TRAPI_aragorn.csv'))\n"
   ]
  }
 ],
 "metadata": {
  "kernelspec": {
   "display_name": "Python 3",
   "language": "python",
   "name": "python3"
  },
  "language_info": {
   "codemirror_mode": {
    "name": "ipython",
    "version": 3
   },
   "file_extension": ".py",
   "mimetype": "text/x-python",
   "name": "python",
   "nbconvert_exporter": "python",
   "pygments_lexer": "ipython3",
   "version": "3.7.3"
  }
 },
 "nbformat": 4,
 "nbformat_minor": 5
}
