{
 "cells": [
  {
   "cell_type": "code",
   "execution_count": 1,
   "id": "spatial-chrome",
   "metadata": {},
   "outputs": [],
   "source": [
    "import requests\n",
    "import json"
   ]
  },
  {
   "cell_type": "markdown",
   "id": "radio-buyer",
   "metadata": {},
   "source": [
    "A separate name resolver is shown here.  The name-resolver: https://name-resolution-sri.renci.org/docs has a lookup function that can take a string and return potential identifiers.  Here, we look up the string \"tremor\""
   ]
  },
  {
   "cell_type": "code",
   "execution_count": 11,
   "id": "geographic-grove",
   "metadata": {},
   "outputs": [],
   "source": [
    "search_string = 'tremor'\n",
    "results = requests.post(f'https://name-resolution-sri.renci.org/lookup?string={search_string}&offset=0&limit=10')"
   ]
  },
  {
   "cell_type": "code",
   "execution_count": 12,
   "id": "musical-strip",
   "metadata": {},
   "outputs": [
    {
     "name": "stdout",
     "output_type": "stream",
     "text": [
      "{\n",
      "    \"HP:0001337\": [\n",
      "        \"Tremor\",\n",
      "        \"tremor\",\n",
      "        \"TREMOR\",\n",
      "        \"TREMORS\",\n",
      "        \"Tremors\",\n",
      "        \"tremors\",\n",
      "        \"d tremors\",\n",
      "        \"Tremor NOS\",\n",
      "        \"Tremor, NOS\",\n",
      "        \"Has a tremor\",\n",
      "        \"A46-A47 TREMORS\",\n",
      "        \"Shaking/Tremors\",\n",
      "        \"Tremor (finding)\",\n",
      "        \"tremors as symptom\",\n",
      "        \"tremor (diagnosis)\",\n",
      "        \"Tremor, unspecified\",\n",
      "        \"tremor (physical finding)\",\n",
      "        \"motor exam involuntary movements tremor trembles\",\n",
      "        \"involuntary shaking or trembling movements (tremor)\",\n",
      "        \"shake\",\n",
      "        \"shakes\",\n",
      "        \"quiver\",\n",
      "        \"Shakes\",\n",
      "        \"tremble\",\n",
      "        \"Shaking\",\n",
      "        \"shaking\",\n",
      "        \"Tremble\",\n",
      "        \"quivers\",\n",
      "        \"SHAKING\",\n",
      "        \"Trembled\",\n",
      "        \"Quivered\",\n",
      "        \"trembles\",\n",
      "        \"Trembles\",\n",
      "        \"TREMBLING\",\n",
      "        \"TREMULOUS\",\n",
      "        \"Trembling\",\n",
      "        \"trembling\",\n",
      "        \"Quivering\",\n",
      "        \"quivering\",\n",
      "        \"tremulous\",\n",
      "        \"The shakes\",\n",
      "        \"the shakes\",\n",
      "        \"Shaking all over\",\n",
      "        \"Trembles (finding)\",\n",
      "        \"Involuntary quiver\",\n",
      "        \"Involuntary Quiver\",\n",
      "        \"Involuntary Quivers\",\n",
      "        \"Quiver, Involuntary\",\n",
      "        \"Involuntary shaking\",\n",
      "        \"Quivers, Involuntary\",\n",
      "        \"Involuntary trembling\",\n",
      "        \"trembles (physical finding)\",\n",
      "        \"involuntary shaking or trembling movements\",\n",
      "        \"involuntary shaking or trembling movements (symptom)\"\n",
      "    ],\n",
      "    \"NCIT:C55596\": [\n",
      "        \"Tremor\",\n",
      "        \"Tremor, CTCAE_3\",\n",
      "        \"Tremor, CTCAE 3.0\"\n",
      "    ],\n",
      "    \"NCIT:C146780\": [\n",
      "        \"Tremor\",\n",
      "        \"Tremor, CTCAE_5\",\n",
      "        \"Tremor, CTCAE 5.0\"\n",
      "    ],\n",
      "    \"PUBCHEM.COMPOUND:5534\": [\n",
      "        \"Tremorine\",\n",
      "        \"TREMORINE\",\n",
      "        \"CHEMBL1483237\",\n",
      "        \"1-[4-(1-pyrrolidinyl)but-2-ynyl]pyrrolidine\"\n",
      "    ],\n",
      "    \"UMLS:C1836697\": [\n",
      "        \"No tremor\"\n",
      "    ],\n",
      "    \"PUBCHEM.COMPOUND:337313\": [\n",
      "        \"tremortin\",\n",
      "        \"Tremortin A\"\n",
      "    ],\n",
      "    \"HMDB:HMDB0242736\": [\n",
      "        \"Tremortin\",\n",
      "        \"Tremortin a\",\n",
      "        \"Tremortin b\",\n",
      "        \"Penitrems\",\n",
      "        \"penitrem A\",\n",
      "        \"Penitrem b\",\n",
      "        \"Penitrem e\",\n",
      "        \"Penitrem D\"\n",
      "    ],\n",
      "    \"UMLS:C0240081\": [\n",
      "        \"JAW TREMOR\",\n",
      "        \"jaw tremor\",\n",
      "        \"jaw tremors\"\n",
      "    ],\n",
      "    \"HP:0032006\": [\n",
      "        \"Lip tremor\",\n",
      "        \"tremor lip\",\n",
      "        \"lip tremor\",\n",
      "        \"LIP TREMOR\",\n",
      "        \"lip tremors\"\n",
      "    ],\n",
      "    \"UMLS:C1961111\": [\n",
      "        \"Tremor NEC\",\n",
      "        \"Tremor NEC in ICD9CM_2014\",\n",
      "        \"Essential and other specified forms of tremor\"\n",
      "    ]\n",
      "}\n"
     ]
    }
   ],
   "source": [
    "print(json.dumps(results.json(),indent=4))"
   ]
  },
  {
   "cell_type": "markdown",
   "id": "satellite-crazy",
   "metadata": {},
   "source": [
    "The node normalizer (https://nodenormalization-sri.renci.org/docs) takes CURIES and returns all other CURIES that are synonymous with the input. It also returns labels for the node, the biolink classes of the node, and often the information content of the node."
   ]
  },
  {
   "cell_type": "code",
   "execution_count": 13,
   "id": "south-preservation",
   "metadata": {},
   "outputs": [],
   "source": [
    "nn_query = {\n",
    "  \"curies\": [\n",
    "    \"NCBIGene:4988\",\n",
    "  ],\n",
    "  \"conflate\": True\n",
    "}\n",
    "results = requests.post('https://nodenormalization-sri.renci.org/get_normalized_nodes',json=nn_query)"
   ]
  },
  {
   "cell_type": "code",
   "execution_count": 14,
   "id": "absent-array",
   "metadata": {},
   "outputs": [
    {
     "name": "stdout",
     "output_type": "stream",
     "text": [
      "{\n",
      "    \"NCBIGene:4988\": {\n",
      "        \"id\": {\n",
      "            \"identifier\": \"NCBIGene:4988\",\n",
      "            \"label\": \"OPRM1\"\n",
      "        },\n",
      "        \"equivalent_identifiers\": [\n",
      "            {\n",
      "                \"identifier\": \"NCBIGene:4988\",\n",
      "                \"label\": \"OPRM1\"\n",
      "            },\n",
      "            {\n",
      "                \"identifier\": \"ENSEMBL:ENSG00000112038\"\n",
      "            },\n",
      "            {\n",
      "                \"identifier\": \"HGNC:8156\",\n",
      "                \"label\": \"OPRM1\"\n",
      "            },\n",
      "            {\n",
      "                \"identifier\": \"OMIM:600018\"\n",
      "            },\n",
      "            {\n",
      "                \"identifier\": \"UMLS:C1417965\",\n",
      "                \"label\": \"OPRM1 gene\"\n",
      "            },\n",
      "            {\n",
      "                \"identifier\": \"UniProtKB:B8K2Q5\",\n",
      "                \"label\": \"B8K2Q5_HUMAN Mu opioid receptor splice variant MOR-1H (Fragment) (trembl)\"\n",
      "            },\n",
      "            {\n",
      "                \"identifier\": \"UniProtKB:G8XRH4\",\n",
      "                \"label\": \"G8XRH4_HUMAN Mu opioid receptor splice variant hMOR-1S (trembl)\"\n",
      "            },\n",
      "            {\n",
      "                \"identifier\": \"UniProtKB:G8XRH5\",\n",
      "                \"label\": \"G8XRH5_HUMAN Mu-type opioid receptor (trembl)\"\n",
      "            },\n",
      "            {\n",
      "                \"identifier\": \"UniProtKB:L0E130\",\n",
      "                \"label\": \"L0E130_HUMAN Mu-type opioid receptor (trembl)\"\n",
      "            },\n",
      "            {\n",
      "                \"identifier\": \"ENSEMBL:ENSP00000353598.5\"\n",
      "            },\n",
      "            {\n",
      "                \"identifier\": \"UniProtKB:P35372\",\n",
      "                \"label\": \"OPRM_HUMAN Mu-type opioid receptor (sprot)\"\n",
      "            },\n",
      "            {\n",
      "                \"identifier\": \"PR:P35372\",\n",
      "                \"label\": \"mu-type opioid receptor (human)\"\n",
      "            },\n",
      "            {\n",
      "                \"identifier\": \"UMLS:C1436808\",\n",
      "                \"label\": \"OPRM1 protein, human\"\n",
      "            }\n",
      "        ],\n",
      "        \"type\": [\n",
      "            \"biolink:Gene\",\n",
      "            \"biolink:GeneOrGeneProduct\",\n",
      "            \"biolink:GenomicEntity\",\n",
      "            \"biolink:ChemicalEntityOrGeneOrGeneProduct\",\n",
      "            \"biolink:PhysicalEssence\",\n",
      "            \"biolink:OntologyClass\",\n",
      "            \"biolink:BiologicalEntity\",\n",
      "            \"biolink:NamedThing\",\n",
      "            \"biolink:Entity\",\n",
      "            \"biolink:PhysicalEssenceOrOccurrent\",\n",
      "            \"biolink:ThingWithTaxon\",\n",
      "            \"biolink:MacromolecularMachineMixin\",\n",
      "            \"biolink:Protein\",\n",
      "            \"biolink:GeneProductMixin\",\n",
      "            \"biolink:Polypeptide\",\n",
      "            \"biolink:ChemicalEntityOrProteinOrPolypeptide\"\n",
      "        ],\n",
      "        \"information_content\": 100.0\n",
      "    }\n",
      "}\n"
     ]
    }
   ],
   "source": [
    "print(json.dumps(results.json(),indent=4))"
   ]
  },
  {
   "cell_type": "markdown",
   "id": "expensive-broad",
   "metadata": {},
   "source": [
    "The results above are just database matches, there are no scores or other additions.  You can instead send the TRAPI to the robokop application using Aragorn (rather than just to the graph)"
   ]
  },
  {
   "cell_type": "code",
   "execution_count": 15,
   "id": "fleet-digit",
   "metadata": {},
   "outputs": [
    {
     "name": "stdout",
     "output_type": "stream",
     "text": [
      "0.17813345082933518\n",
      "0.1425630949413046\n",
      "0.13187243298012225\n",
      "0.11703906793268541\n",
      "0.11044291163893882\n",
      "0.11020806196762686\n",
      "0.10694929389416649\n",
      "0.1062578101411532\n",
      "0.10610022630555455\n",
      "0.10201048277292121\n",
      "0.10139427809144123\n",
      "0.10108536708640792\n",
      "0.1010853670864079\n",
      "0.1010853670864079\n"
     ]
    }
   ],
   "source": [
    "for result in response.json()['message']['results']:\n",
    "    print(result['score'])"
   ]
  },
  {
   "cell_type": "markdown",
   "id": "younger-affect",
   "metadata": {},
   "source": [
    "You can also bypass TRAPI entirely and just use cypher to talk to the graph.  There are two instances.  There is one at http://robokopkg.renci.org which has a cypher browser on it, or you can write cypher and post it there."
   ]
  }
 ],
 "metadata": {
  "kernelspec": {
   "display_name": "Python 3 (ipykernel)",
   "language": "python",
   "name": "python3"
  },
  "language_info": {
   "codemirror_mode": {
    "name": "ipython",
    "version": 3
   },
   "file_extension": ".py",
   "mimetype": "text/x-python",
   "name": "python",
   "nbconvert_exporter": "python",
   "pygments_lexer": "ipython3",
   "version": "3.8.10"
  }
 },
 "nbformat": 4,
 "nbformat_minor": 5
}
