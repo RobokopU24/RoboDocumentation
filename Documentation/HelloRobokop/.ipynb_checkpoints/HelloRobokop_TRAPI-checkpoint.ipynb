{
 "cells": [
  {
   "cell_type": "code",
   "execution_count": 1,
   "id": "spatial-chrome",
   "metadata": {},
   "outputs": [],
   "source": [
    "import requests\n",
    "import json"
   ]
  },
  {
   "cell_type": "markdown",
   "id": "reasonable-nicholas",
   "metadata": {},
   "source": [
    "TRAPI Documentation: https://github.com/NCATSTranslator/ReasonerAPI\n",
    "\n",
    "Most TRAPI documents contain a `message` key.  Within that `message` are a `query_graph` denoting the user query,\n",
    "a `knowledge_graph` consisting of the union of all nodes and edges that match the `query_graph` pattern, and a list of `results` that bind `query_graph` elements to `knowledge_graph` elements.\n",
    "\n",
    "The following message contains only a `query_graph`.  This query graph consists of 3 nodes connected together in a line.   Two of the nodes (`n00` and `n02`) have specified identifiers, while the middle node of the line does not.  Rather the middle node has a list of `categories` that are acceptable.\n",
    "\n",
    "For a researcher who is starting from a `name` who wants to use TRAPI, they can use the Node Resolver tool to get the identifers for the nodes.  For example, finding IDs for `Tremor` and `Buprenorphine` are below.\n",
    "\n",
    "This query asks \"Find me a Biological Process or Activity, or a Gene, or a Pathway that is related to both `PUBCHEM.COMPOUND:644073` (Buprenorphine) and `HP:0001337` (Tremor)."
   ]
  },
  {
   "cell_type": "code",
   "execution_count": 2,
   "id": "pressing-genesis",
   "metadata": {},
   "outputs": [],
   "source": [
    "query={\n",
    "    \"message\": {\n",
    "      \"query_graph\": {\n",
    "        \"edges\": {\n",
    "          \"e00\": {\n",
    "            \"subject\": \"n00\",\n",
    "              \"object\": \"n01\",\n",
    "          \"predicates\":[\"biolink:related_to\"]\n",
    "          },\n",
    "          \"e01\": {\n",
    "            \"subject\": \"n01\",\n",
    "              \"object\": \"n02\",\n",
    "          \"predicates\":[\"biolink:related_to\"]\n",
    "          }\n",
    "        },\n",
    "        \"nodes\": {\n",
    "          \"n00\": {\n",
    "            \"ids\": [\"PUBCHEM.COMPOUND:644073\"],\n",
    "            \"categories\": [\"biolink:ChemicalEntity\"]\n",
    "          },\n",
    "          \"n01\": {\n",
    "              \"categories\": [\"biolink:BiologicalProcessOrActivity\",\"biolink:Gene\",\"biolink:Pathway\"]\n",
    "          },\n",
    "          \"n02\": {\n",
    "            \"ids\": [\"HP:0001337\"],\n",
    "            \"categories\": [\"biolink:DiseaseOrPhenotypicFeature\"]\n",
    "          }\n",
    "        }\n",
    "      }\n",
    "    }\n",
    "  }\n"
   ]
  },
  {
   "cell_type": "markdown",
   "id": "figured-wesley",
   "metadata": {},
   "source": [
    "This query can be sent to various components of Translator as needed.  It can be sent directly to the ROBOKOP database like this:"
   ]
  },
  {
   "cell_type": "code",
   "execution_count": 3,
   "id": "greek-warrant",
   "metadata": {},
   "outputs": [],
   "source": [
    "robokop_submit_url = \"https://automat.renci.org/robokopkg/1.3/query\"\n",
    "response = requests.post(robokop_submit_url,json=query)"
   ]
  },
  {
   "cell_type": "code",
   "execution_count": 4,
   "id": "respective-participation",
   "metadata": {},
   "outputs": [
    {
     "name": "stdout",
     "output_type": "stream",
     "text": [
      "200\n"
     ]
    }
   ],
   "source": [
    "print(response.status_code)"
   ]
  },
  {
   "cell_type": "code",
   "execution_count": 5,
   "id": "elect-artist",
   "metadata": {},
   "outputs": [
    {
     "name": "stdout",
     "output_type": "stream",
     "text": [
      "7\n"
     ]
    }
   ],
   "source": [
    "print(len(response.json()['message']['results']))"
   ]
  },
  {
   "cell_type": "code",
   "execution_count": 6,
   "id": "91cf025e-2064-4b72-9020-f2aec6db11f6",
   "metadata": {},
   "outputs": [],
   "source": [
    "import pprint\n",
    "pp = pprint.PrettyPrinter(indent=5)"
   ]
  },
  {
   "cell_type": "markdown",
   "id": "c699bcf6-ff46-40fe-b515-914ea5aa707e",
   "metadata": {},
   "source": [
    "The response in JSON form is a python dictionary with three main keys, the `message`, `log_level`, and `workflow`.  The `message` component contains the `query_graph`, `knowledge_graph`, and `results` from the query."
   ]
  },
  {
   "cell_type": "code",
   "execution_count": 7,
   "id": "723de57e-3741-4243-9e52-b9309b2a9469",
   "metadata": {},
   "outputs": [
    {
     "name": "stdout",
     "output_type": "stream",
     "text": [
      "dict_keys(['message', 'log_level', 'workflow'])\n",
      "dict_keys(['query_graph', 'knowledge_graph', 'results'])\n"
     ]
    }
   ],
   "source": [
    "print(response.json().keys())\n",
    "print(response.json()['message'].keys())"
   ]
  },
  {
   "cell_type": "markdown",
   "id": "f6afbea5-c52b-4a06-a4d1-0fee3b4d5bc8",
   "metadata": {},
   "source": [
    "The `results` component contains pathways resulting from the query message. Each pathway is organized into edge_bindings and node bindings and contains results for the edges and nodes specified in the query message.  Results are represented in identifier form, which can be found in the `knowledge_graph` component of the `message` section of the response."
   ]
  },
  {
   "cell_type": "code",
   "execution_count": null,
   "id": "fd29b0c0-d185-42b7-a32e-19a3738cef11",
   "metadata": {},
   "outputs": [],
   "source": [
    "print(response.json()['message']['results'])"
   ]
  },
  {
   "cell_type": "code",
   "execution_count": null,
   "id": "e74cda7c-2541-4d6c-97d0-325505ab435b",
   "metadata": {},
   "outputs": [],
   "source": [
    "print(response.json()['message']['knowledge_graph'])"
   ]
  },
  {
   "cell_type": "markdown",
   "id": "d5775775-294c-4fe2-a199-b1771dd984b2",
   "metadata": {},
   "source": [
    "The `knowledge_graph` contains information about each of the Nodes and Edges found in `results`.  An example of a Node and an Edge are shown below."
   ]
  },
  {
   "cell_type": "code",
   "execution_count": 53,
   "id": "e87f0afc-0f5f-4158-8036-11ab0cadf2ba",
   "metadata": {},
   "outputs": [
    {
     "name": "stdout",
     "output_type": "stream",
     "text": [
      "dict_keys(['nodes', 'edges'])\n"
     ]
    }
   ],
   "source": [
    "pp.pprint(response.json()['message']['knowledge_graph'].keys())\n"
   ]
  },
  {
   "cell_type": "markdown",
   "id": "96b8b435-0518-4995-9b1e-c498a8d8c325",
   "metadata": {},
   "source": [
    "Information returned for the each Node includes the concept ID (key), biolink categories, the name/label, attributes, the value type, and others.  Note that each entry under the `nodes` level is itemized in dictionary format and not lists.  The content for one Node is shown below."
   ]
  },
  {
   "cell_type": "code",
   "execution_count": 54,
   "id": "55280b02-94c3-4478-9596-8b8961c92a1a",
   "metadata": {},
   "outputs": [
    {
     "data": {
      "text/plain": [
       "('HP:0012164',\n",
       " {'categories': ['biolink:ThingWithTaxon',\n",
       "   'biolink:DiseaseOrPhenotypicFeature',\n",
       "   'biolink:BiologicalEntity',\n",
       "   'biolink:Entity',\n",
       "   'biolink:NamedThing',\n",
       "   'biolink:PhenotypicFeature'],\n",
       "  'name': 'Asterixis',\n",
       "  'attributes': [{'attribute_type_id': 'biolink:same_as',\n",
       "    'value': ['SNOMEDCT:32838008',\n",
       "     'MEDDRA:10003547',\n",
       "     'HP:0012164',\n",
       "     'MEDDRA:10057580',\n",
       "     'NCIT:C86048',\n",
       "     'UMLS:C0232766'],\n",
       "    'value_type_id': 'metatype:uriorcurie',\n",
       "    'original_attribute_name': 'equivalent_identifiers',\n",
       "    'value_url': None,\n",
       "    'attribute_source': None,\n",
       "    'description': None,\n",
       "    'attributes': None},\n",
       "   {'attribute_type_id': 'biolink:Attribute',\n",
       "    'value': 100.0,\n",
       "    'value_type_id': 'EDAM:data_0006',\n",
       "    'original_attribute_name': 'information_content',\n",
       "    'value_url': None,\n",
       "    'attribute_source': None,\n",
       "    'description': None,\n",
       "    'attributes': None}]})"
      ]
     },
     "execution_count": 54,
     "metadata": {},
     "output_type": "execute_result"
    }
   ],
   "source": [
    "next(iter( response.json()['message']['knowledge_graph']['nodes'].items() ))"
   ]
  },
  {
   "cell_type": "markdown",
   "id": "f5427165-8500-4ebb-b933-2dc38c071636",
   "metadata": {},
   "source": [
    "Information returned for the each Edge includes the edge ID (key), the subject's concept ID, the object's concept ID, the edge's predicate, any qualifiers, and attributes.  Note that each entry under the `edges` level is itemized in dictionary format and not lists.  The content for one Edge is shown below."
   ]
  },
  {
   "cell_type": "code",
   "execution_count": 55,
   "id": "dc1f6149-0499-42b1-9426-43f2d5470305",
   "metadata": {},
   "outputs": [
    {
     "data": {
      "text/plain": [
       "('29138268',\n",
       " {'subject': 'PUBCHEM.COMPOUND:644073',\n",
       "  'object': 'NCBIGene:1565',\n",
       "  'predicate': 'biolink:directly_physically_interacts_with',\n",
       "  'qualifiers': None,\n",
       "  'attributes': [{'attribute_type_id': 'biolink:aggregator_knowledge_source',\n",
       "    'value': ['infores:automat-robokop'],\n",
       "    'value_type_id': 'biolink:InformationResource',\n",
       "    'original_attribute_name': 'biolink:aggregator_knowledge_source',\n",
       "    'value_url': None,\n",
       "    'attribute_source': 'infores:automat-robokop',\n",
       "    'description': None,\n",
       "    'attributes': None},\n",
       "   {'attribute_type_id': 'biolink:Attribute',\n",
       "    'value': ['DrugBank (enzyme)'],\n",
       "    'value_type_id': 'EDAM:data_0006',\n",
       "    'original_attribute_name': 'hetio_source',\n",
       "    'value_url': None,\n",
       "    'attribute_source': None,\n",
       "    'description': None,\n",
       "    'attributes': None},\n",
       "   {'attribute_type_id': 'biolink:primary_knowledge_source',\n",
       "    'value': 'infores:hetio',\n",
       "    'value_type_id': 'biolink:InformationResource',\n",
       "    'original_attribute_name': 'biolink:primary_knowledge_source',\n",
       "    'value_url': None,\n",
       "    'attribute_source': 'infores:automat-robokop',\n",
       "    'description': None,\n",
       "    'attributes': None}]})"
      ]
     },
     "execution_count": 55,
     "metadata": {},
     "output_type": "execute_result"
    }
   ],
   "source": [
    "next(iter( response.json()['message']['knowledge_graph']['edges'].items() ))"
   ]
  },
  {
   "cell_type": "markdown",
   "id": "056aee28-ea91-49be-bc87-164a6f9284fd",
   "metadata": {},
   "source": [
    "Since the edge and node contents are returned as CURIES (Compact URIs) instead of labels, a sample workflow was written to show how to use the above edge information and the Node Normalizer tool to convert results into a human readble form.  This workflow does the following steps:\n",
    "- combine edge_binding IDs and convert edge IDs to labels for each result\n",
    "- use output from the `knowledge_graph` to convert node IDs to labels\n",
    "- write the output dictionary as a CSV"
   ]
  },
  {
   "cell_type": "code",
   "execution_count": 109,
   "id": "b1de0960-b877-4bde-b4a4-e308c36742a4",
   "metadata": {},
   "outputs": [
    {
     "name": "stdout",
     "output_type": "stream",
     "text": [
      "['e00', 'e01', 'n00', 'n01', 'n02']\n",
      "{'n02': {}, 'n01': {}, 'n00': {}}\n"
     ]
    }
   ],
   "source": [
    "edges = response.json()['message']['results'][0]['edge_bindings'].keys()\n",
    "nodes = response.json()['message']['results'][0]['node_bindings'].keys()\n",
    "edges_nodes = sorted(edges|nodes)\n",
    "\n",
    "edges_nodes_keys = [s for s in edges_nodes if not s.startswith('s')]\n",
    "print(edges_nodes_keys)\n",
    "\n",
    "# Initializing a base dictionary containing edge and node IDs from message results\n",
    "base_dict = {}\n",
    "for key in nodes:\n",
    "    base_dict[key] = {}\n",
    "print(base_dict)"
   ]
  },
  {
   "cell_type": "code",
   "execution_count": 36,
   "id": "b9579057-99d6-43d1-b1a1-90439649d7d3",
   "metadata": {},
   "outputs": [
    {
     "name": "stdout",
     "output_type": "stream",
     "text": [
      "{    'edge_bindings': {    'e00': [    {'attributes': None, 'id': '52499821'},\n",
      "                                       {'attributes': None, 'id': '74263186'},\n",
      "                                       {'attributes': None, 'id': '17332614'},\n",
      "                                       {'attributes': None, 'id': '70496519'},\n",
      "                                       {'attributes': None, 'id': '53736753'},\n",
      "                                       {'attributes': None, 'id': '114858437'}],\n",
      "                           'e01': [{'attributes': None, 'id': '122488121'}]},\n",
      "     'node_bindings': {    'n00': [    {    'attributes': None,\n",
      "                                            'id': 'PUBCHEM.COMPOUND:644073',\n",
      "                                            'qnode_id': 'PUBCHEM.COMPOUND:644073',\n",
      "                                            'query_id': None}],\n",
      "                           'n01': [    {    'attributes': None,\n",
      "                                            'id': 'NCBIGene:4988',\n",
      "                                            'query_id': None}],\n",
      "                           'n02': [    {    'attributes': None,\n",
      "                                            'id': 'HP:0012164',\n",
      "                                            'qnode_id': 'HP:0001337',\n",
      "                                            'query_id': None}]},\n",
      "     'score': None}\n"
     ]
    }
   ],
   "source": [
    "# Illustrating the structure of each pathway result from the message component\n",
    "pp.pprint(response.json()['message']['results'][0])"
   ]
  },
  {
   "cell_type": "code",
   "execution_count": 110,
   "id": "41bc5a47-dbe4-478c-905a-34c2a98064bf",
   "metadata": {},
   "outputs": [
    {
     "name": "stdout",
     "output_type": "stream",
     "text": [
      "{    'n00': {    0: 'PUBCHEM.COMPOUND:644073',\n",
      "                 1: 'PUBCHEM.COMPOUND:644073',\n",
      "                 2: 'PUBCHEM.COMPOUND:644073',\n",
      "                 3: 'PUBCHEM.COMPOUND:644073',\n",
      "                 4: 'PUBCHEM.COMPOUND:644073',\n",
      "                 5: 'PUBCHEM.COMPOUND:644073',\n",
      "                 6: 'PUBCHEM.COMPOUND:644073'},\n",
      "     'n01': {    0: 'NCBIGene:4988',\n",
      "                 1: 'NCBIGene:1565',\n",
      "                 2: 'NCBIGene:1565',\n",
      "                 3: 'NCBIGene:1565',\n",
      "                 4: 'NCBIGene:1565',\n",
      "                 5: 'NCBIGene:1565',\n",
      "                 6: 'NCBIGene:1565'},\n",
      "     'n02': {    0: 'HP:0012164',\n",
      "                 1: 'HP:0002174',\n",
      "                 2: 'HP:0025387',\n",
      "                 3: 'HP:0200085',\n",
      "                 4: 'HP:0002345',\n",
      "                 5: 'HP:0001337',\n",
      "                 6: 'HP:0002322'}}\n"
     ]
    }
   ],
   "source": [
    "# - populate base_dict with entries from response.json()['message']['results']\n",
    "i = 0\n",
    "for entry in response.json()['message']['results']:\n",
    "    # for edge_id in edges:\n",
    "    #     base_dict[edge_id][i] = entry['edge_bindings'][edge_id][0]['id']\n",
    "    for node_id in nodes:\n",
    "        base_dict[node_id][i] = entry['node_bindings'][node_id][0]['id']\n",
    "    i = i + 1\n",
    "        \n",
    "pp.pprint(base_dict)"
   ]
  },
  {
   "cell_type": "code",
   "execution_count": 111,
   "id": "cc460449-1f57-4b02-b1d4-76bc4321e5c7",
   "metadata": {},
   "outputs": [
    {
     "name": "stdout",
     "output_type": "stream",
     "text": [
      "e00: ['115753223', '29138268', '8786159']\n",
      "Buprenorphine -> biolink:affects -> CYP2D6\n",
      "Buprenorphine -> biolink:directly_physically_interacts_with -> CYP2D6\n",
      "CYP2D6 -> biolink:affects -> Buprenorphine\n",
      "\n",
      "\n",
      "e01: ['104677555', '14735496']\n",
      "CYP2D6 -> biolink:genetic_association -> Tremor\n",
      "[{'attribute_type_id': 'biolink:primary_knowledge_source', 'value': 'DisGeNET', 'value_type_id': 'biolink:InformationResource', 'original_attribute_name': 'biolink:primary_knowledge_source', 'value_url': None, 'attribute_source': 'infores:automat-robokop', 'description': None, 'attributes': None}, {'attribute_type_id': 'biolink:aggregator_knowledge_source', 'value': ['infores:pharos', 'infores:automat-robokop'], 'value_type_id': 'biolink:InformationResource', 'original_attribute_name': 'biolink:aggregator_knowledge_source', 'value_url': None, 'attribute_source': 'infores:automat-robokop', 'description': None, 'attributes': None}]\n",
      "CYP2D6 -> biolink:genetic_association -> Tremor\n",
      "[{'attribute_type_id': 'biolink:primary_knowledge_source', 'value': 'CTD', 'value_type_id': 'biolink:InformationResource', 'original_attribute_name': 'biolink:primary_knowledge_source', 'value_url': None, 'attribute_source': 'infores:automat-robokop', 'description': None, 'attributes': None}, {'attribute_type_id': 'biolink:aggregator_knowledge_source', 'value': ['infores:pharos', 'infores:automat-robokop'], 'value_type_id': 'biolink:InformationResource', 'original_attribute_name': 'biolink:aggregator_knowledge_source', 'value_url': None, 'attribute_source': 'infores:automat-robokop', 'description': None, 'attributes': None}]\n",
      "\n",
      "\n"
     ]
    }
   ],
   "source": [
    "# Manually extracting Buprenorphine -> CYP2D6 -> Tremor from Results and then extracting edge info from the Knowledge Graph\n",
    "\n",
    "desired_result = [i for i in base_dict['n02'] if base_dict['n02'][i]==\"HP:0001337\"]\n",
    "# print(desired_result[0])\n",
    "# print(base_dict['n02'][desired_result[0]])\n",
    "edge_bindings = response.json()['message']['results'][desired_result[0]]['edge_bindings']\n",
    "# print(edge_bindings)\n",
    "\n",
    "edge_ids = []\n",
    "for edge_name, edge_list in edge_bindings.items():\n",
    "    edge_ids.append({edge_name: [x['id'] for x in edge_list]})\n",
    "\n",
    "# print(edge_ids)\n",
    "\n",
    "for desired_edge_dict in edge_ids:\n",
    "    # print(desired_edge_list.keys())\n",
    "    # print(desired_edge_dict)\n",
    "    # desired_edge_list = list(desired_edge_dict.values())[0]\n",
    "    for edge_name, desired_edge_list in desired_edge_dict.items():\n",
    "        print(f\"{edge_name}: {desired_edge_list}\")\n",
    "        for edge_id in desired_edge_list:\n",
    "            subject_id = response.json()['message']['knowledge_graph']['edges'][edge_id]['subject']\n",
    "            subject = response.json()['message']['knowledge_graph']['nodes'][subject_id]['name']\n",
    "            predicate = response.json()['message']['knowledge_graph']['edges'][edge_id]['predicate']\n",
    "            object_id = response.json()['message']['knowledge_graph']['edges'][edge_id]['object']\n",
    "            object = response.json()['message']['knowledge_graph']['nodes'][object_id]['name']\n",
    "            print(f\"{subject} -> {predicate} -> {object}\")\n",
    "            if edge_name == 'e01':\n",
    "                print(response.json()['message']['knowledge_graph']['edges'][edge_id]['attributes'])\n",
    "        print(\"\\n\")"
   ]
  },
  {
   "cell_type": "code",
   "execution_count": 112,
   "id": "2b5887c6-5bd3-406c-b5e7-e687a9631aa8",
   "metadata": {},
   "outputs": [],
   "source": [
    "import copy\n",
    "output_dict = copy.deepcopy(base_dict)\n",
    "edge_list = [x for x in output_dict.keys() if 'e' in x]\n",
    "#print(edge_list)\n",
    "\n",
    "# - convert and combine edge_binding IDs for each result\n",
    "# for edge_id in edge_list:\n",
    "#     for edge_index, edge_number in output_dict[edge_id].items():\n",
    "#         # Getting the predicate/label using the edge_binding ID from the knowledge graph\n",
    "#         output_dict[edge_id][edge_index] = response.json()['message']['knowledge_graph']['edges'][edge_number]['predicate']\n",
    "\n",
    "# pp.pprint(output_dict)"
   ]
  },
  {
   "cell_type": "code",
   "execution_count": 113,
   "id": "4397ca11-b789-4cbf-9d2f-8aaa378bd896",
   "metadata": {},
   "outputs": [
    {
     "name": "stdout",
     "output_type": "stream",
     "text": [
      "{    'n00': {    0: 'Buprenorphine',\n",
      "                 1: 'Buprenorphine',\n",
      "                 2: 'Buprenorphine',\n",
      "                 3: 'Buprenorphine',\n",
      "                 4: 'Buprenorphine',\n",
      "                 5: 'Buprenorphine',\n",
      "                 6: 'Buprenorphine'},\n",
      "     'n01': {    0: 'OPRM1',\n",
      "                 1: 'CYP2D6',\n",
      "                 2: 'CYP2D6',\n",
      "                 3: 'CYP2D6',\n",
      "                 4: 'CYP2D6',\n",
      "                 5: 'CYP2D6',\n",
      "                 6: 'CYP2D6'},\n",
      "     'n02': {    0: 'Asterixis',\n",
      "                 1: 'Postural tremor',\n",
      "                 2: 'Pill-rolling tremor',\n",
      "                 3: 'Limb tremor',\n",
      "                 4: 'Action tremor',\n",
      "                 5: 'Tremor',\n",
      "                 6: 'Resting tremor'}}\n"
     ]
    }
   ],
   "source": [
    "node_list = [x for x in output_dict.keys() if 'n' in x]\n",
    "\n",
    "for node_id in node_list:\n",
    "    for node_index, node_value in output_dict[node_id].items():\n",
    "        # Getting the 'name' label using the node ID from the knowledge graph\n",
    "        output_dict[node_id][node_index] = response.json()['message']['knowledge_graph']['nodes'][node_value]['name']\n",
    "        \n",
    "pp.pprint(output_dict)"
   ]
  },
  {
   "cell_type": "code",
   "execution_count": 114,
   "id": "1c5a0700-b3cd-4a31-8982-e0dad5ed606f",
   "metadata": {},
   "outputs": [],
   "source": [
    "import pandas as pd\n",
    "\n",
    "# Convert JSON String to CSV File\n",
    "# Read json from String\n",
    "json_str = json.dumps(output_dict, indent=4)\n",
    "df = pd.read_json(json_str)\n",
    "df.to_csv('output/results_TRAPI_automat.csv')"
   ]
  },
  {
   "cell_type": "markdown",
   "id": "expensive-broad",
   "metadata": {},
   "source": [
    "The results above are just database matches, there are no scores or other additions.  You can instead send the TRAPI to the robokop application using Aragorn (rather than just to the graph)"
   ]
  },
  {
   "cell_type": "code",
   "execution_count": null,
   "id": "chronic-gregory",
   "metadata": {},
   "outputs": [],
   "source": [
    "ara_robokop_submit_url = \"https://aragorn.renci.org/robokop/query\"\n",
    "response = requests.post(ara_robokop_submit_url,json=query)"
   ]
  },
  {
   "cell_type": "code",
   "execution_count": 50,
   "id": "marked-relevance",
   "metadata": {},
   "outputs": [
    {
     "data": {
      "text/plain": [
       "500"
      ]
     },
     "execution_count": 50,
     "metadata": {},
     "output_type": "execute_result"
    }
   ],
   "source": [
    "response.status_code"
   ]
  },
  {
   "cell_type": "code",
   "execution_count": 48,
   "id": "tough-iraqi",
   "metadata": {},
   "outputs": [
    {
     "ename": "NameError",
     "evalue": "name 'response_ara' is not defined",
     "output_type": "error",
     "traceback": [
      "\u001b[1;31m---------------------------------------------------------------------------\u001b[0m",
      "\u001b[1;31mNameError\u001b[0m                                 Traceback (most recent call last)",
      "Cell \u001b[1;32mIn [48], line 1\u001b[0m\n\u001b[1;32m----> 1\u001b[0m \u001b[38;5;28mlen\u001b[39m(\u001b[43mresponse_ara\u001b[49m\u001b[38;5;241m.\u001b[39mjson()[\u001b[38;5;124m'\u001b[39m\u001b[38;5;124mmessage\u001b[39m\u001b[38;5;124m'\u001b[39m][\u001b[38;5;124m'\u001b[39m\u001b[38;5;124mresults\u001b[39m\u001b[38;5;124m'\u001b[39m])\n",
      "\u001b[1;31mNameError\u001b[0m: name 'response_ara' is not defined"
     ]
    }
   ],
   "source": [
    "len(response_ara.json()['message']['results'])"
   ]
  },
  {
   "cell_type": "code",
   "execution_count": null,
   "id": "cb4dcf32-c88d-46ce-9d9d-553f279f1806",
   "metadata": {},
   "outputs": [],
   "source": [
    "pp.pprint(response_ara.json()['message']['results'])"
   ]
  },
  {
   "cell_type": "code",
   "execution_count": null,
   "id": "fleet-digit",
   "metadata": {},
   "outputs": [],
   "source": [
    "for result in response.json()['message']['results']:\n",
    "    print(result['score'])"
   ]
  }
 ],
 "metadata": {
  "kernelspec": {
   "display_name": "Python 3 (ipykernel)",
   "language": "python",
   "name": "python3"
  },
  "language_info": {
   "codemirror_mode": {
    "name": "ipython",
    "version": 3
   },
   "file_extension": ".py",
   "mimetype": "text/x-python",
   "name": "python",
   "nbconvert_exporter": "python",
   "pygments_lexer": "ipython3",
   "version": "3.8.10"
  }
 },
 "nbformat": 4,
 "nbformat_minor": 5
}
