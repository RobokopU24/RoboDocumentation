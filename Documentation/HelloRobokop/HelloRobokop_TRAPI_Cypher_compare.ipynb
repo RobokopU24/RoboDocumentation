{
 "cells": [
  {
   "cell_type": "markdown",
   "id": "ba56d6fc-c573-4646-b9cd-db20a5ce824e",
   "metadata": {},
   "source": [
    "## TRAPI query results"
   ]
  },
  {
   "cell_type": "code",
   "execution_count": 105,
   "id": "a5e225d1-0f71-418f-80be-c1a647a4ab71",
   "metadata": {},
   "outputs": [
    {
     "name": "stdout",
     "output_type": "stream",
     "text": [
      "200\n",
      "8\n"
     ]
    }
   ],
   "source": [
    "import requests\n",
    "import json\n",
    "\n",
    "import pprint\n",
    "pp = pprint.PrettyPrinter(indent=5)\n",
    "\n",
    "search_string = 'Buprenorphine'\n",
    "results = requests.post(f'https://name-resolution-sri.renci.org/lookup?string={search_string}&offset=0&limit=10')\n",
    "results_json = results.json()\n",
    "input_node_id_list = list(results_json.keys())\n",
    "\n",
    "nn_query = {\n",
    "  \"curies\": input_node_id_list,\n",
    "  \"conflate\": True\n",
    "}\n",
    "\n",
    "results = requests.post('https://nodenormalization-sri.renci.org/get_normalized_nodes',json=nn_query)\n",
    "\n",
    "query={\n",
    "    \"message\": {\n",
    "      \"query_graph\": {\n",
    "        \"edges\": {\n",
    "          \"e00\": {\n",
    "            \"subject\": \"n00\",\n",
    "              \"object\": \"n01\",\n",
    "          \"predicates\":[\"biolink:related_to\"]\n",
    "          },\n",
    "          \"e01\": {\n",
    "            \"subject\": \"n01\",\n",
    "              \"object\": \"n02\",\n",
    "          \"predicates\":[\"biolink:related_to\"]\n",
    "          }\n",
    "        },\n",
    "        \"nodes\": {\n",
    "          \"n00\": {\n",
    "            \"ids\": input_node_id_list,\n",
    "            \"categories\": [\"biolink:ChemicalEntity\"]\n",
    "          },\n",
    "          \"n01\": {\n",
    "              \"categories\": [\"biolink:BiologicalProcessOrActivity\",\"biolink:Gene\",\"biolink:Pathway\"]\n",
    "          },\n",
    "          \"n02\": {\n",
    "            \"ids\": [\"HP:0001337\"],\n",
    "            \"categories\": [\"biolink:DiseaseOrPhenotypicFeature\"]\n",
    "          }\n",
    "        }\n",
    "      }\n",
    "    }\n",
    "  }\n",
    "\n",
    "robokop_submit_url = \"https://automat.renci.org/robokopkg/1.3/query\"\n",
    "response = requests.post(robokop_submit_url,json=query)\n",
    "print(response.status_code)\n",
    "number_pathway_results = len(response.json()['message']['results'])\n",
    "print(len(response.json()['message']['results']))"
   ]
  },
  {
   "cell_type": "code",
   "execution_count": 28,
   "id": "878e4e4d-f768-4b85-9b4c-1210e15b51af",
   "metadata": {},
   "outputs": [],
   "source": [
    "from datetime import datetime\n",
    "from pathlib import Path\n",
    "\n",
    "now = datetime.now()\n",
    "dt_string = now.strftime(\"%Y-%m-%d_%H%M%S\")\n",
    "write_dir = Path(\"output/TRAPI\",str(dt_string))\n",
    "write_dir.mkdir(parents=True, exist_ok=True)"
   ]
  },
  {
   "cell_type": "code",
   "execution_count": 106,
   "id": "104212a4-5d14-480e-a7f4-573d84db78f1",
   "metadata": {},
   "outputs": [
    {
     "name": "stdout",
     "output_type": "stream",
     "text": [
      "{    'n00': {    0: 'Buprenorphine',\n",
      "                 1: 'Buprenorphine',\n",
      "                 2: 'Buprenorphine',\n",
      "                 3: 'Buprenorphine',\n",
      "                 4: 'Buprenorphine',\n",
      "                 5: 'Brixadi',\n",
      "                 6: 'Buprenorphine',\n",
      "                 7: 'Buprenorphine'},\n",
      "     'n01': {    0: 'CYP2D6',\n",
      "                 1: 'CYP2D6',\n",
      "                 2: 'CYP2D6',\n",
      "                 3: 'CYP2D6',\n",
      "                 4: 'OPRM1',\n",
      "                 5: 'OPRM1',\n",
      "                 6: 'CYP2D6',\n",
      "                 7: 'CYP2D6'},\n",
      "     'n02': {    0: 'Limb tremor',\n",
      "                 1: 'Pill-rolling tremor',\n",
      "                 2: 'Tremor',\n",
      "                 3: 'Postural tremor',\n",
      "                 4: 'Asterixis',\n",
      "                 5: 'Asterixis',\n",
      "                 6: 'Resting tremor',\n",
      "                 7: 'Action tremor'}}\n"
     ]
    }
   ],
   "source": [
    "import pandas as pd\n",
    "from pathlib import Path\n",
    "\n",
    "nodes = response.json()['message']['results'][0]['node_bindings'].keys()\n",
    "output_dict = {}\n",
    "for key in nodes:\n",
    "    output_dict[key] = {}\n",
    "    \n",
    "i = 0\n",
    "for entry in response.json()['message']['results']:\n",
    "    # for edge_id in edges:\n",
    "    #     output_dict[edge_id][i] = entry['edge_bindings'][edge_id][0]['id']\n",
    "    for node_id in nodes:\n",
    "        output_dict[node_id][i] = entry['node_bindings'][node_id][0]['id']\n",
    "    i = i + 1\n",
    "    \n",
    "node_list = [x for x in output_dict.keys() if 'n' in x]\n",
    "\n",
    "for node_id in node_list:\n",
    "    for node_index, node_value in output_dict[node_id].items():\n",
    "        # Getting the 'name' label using the node ID from the knowledge graph\n",
    "        output_dict[node_id][node_index] = response.json()['message']['knowledge_graph']['nodes'][node_value]['name']\n",
    "        \n",
    "pp.pprint(output_dict)\n",
    "json_str = json.dumps(output_dict, indent=4)\n",
    "df = pd.read_json(json_str)\n",
    "cols = df.columns.tolist()\n",
    "cols.sort()\n",
    "df = df[cols]\n",
    "df.to_csv(Path(write_dir,'pathways_TRAPI_automat.csv'))\n",
    "\n",
    "combined_node_list = [\"_\".join([row[0].replace(\" \", \"_\"), row[1].replace(\" \", \"_\"), row[2].replace(\" \", \"_\")]) for row in df[cols].to_numpy()]\n",
    "pp.pprint(combined_node_list)"
   ]
  },
  {
   "cell_type": "code",
   "execution_count": 107,
   "id": "03bfe490-43f0-4e29-be75-f2a22252844a",
   "metadata": {},
   "outputs": [
    {
     "name": "stdout",
     "output_type": "stream",
     "text": [
      "output\\Cypher_automat\\2023-03-29_081046\\Buprenorphine_CYP2D6_Limb_tremor.txt\n",
      "output\\Cypher_automat\\2023-03-29_081046\\Buprenorphine_CYP2D6_Pill-rolling_tremor.txt\n",
      "output\\Cypher_automat\\2023-03-29_081046\\Buprenorphine_CYP2D6_Tremor.txt\n",
      "output\\Cypher_automat\\2023-03-29_081046\\Buprenorphine_CYP2D6_Postural_tremor.txt\n",
      "output\\Cypher_automat\\2023-03-29_081046\\Buprenorphine_OPRM1_Asterixis.txt\n",
      "output\\Cypher_automat\\2023-03-29_081046\\Brixadi_OPRM1_Asterixis.txt\n",
      "output\\Cypher_automat\\2023-03-29_081046\\Buprenorphine_CYP2D6_Resting_tremor.txt\n",
      "output\\Cypher_automat\\2023-03-29_081046\\Buprenorphine_CYP2D6_Action_tremor.txt\n"
     ]
    }
   ],
   "source": [
    "colnames = df.columns.values.tolist()\n",
    "colnames.sort()\n",
    "\n",
    "combined_node_list = [\"_\".join([row[0].replace(\" \", \"_\"), row[1].replace(\" \", \"_\"), row[2].replace(\" \", \"_\")]) for row in df[colnames].to_numpy()]\n",
    "# pp.pprint(combined_node_list)\n",
    "for node_set in combined_node_list:\n",
    "    print(os.path.join(write_dir,node_set+\".txt\"))"
   ]
  },
  {
   "cell_type": "code",
   "execution_count": 108,
   "id": "5edd8509-73b1-409c-89b1-a891cede0fb2",
   "metadata": {},
   "outputs": [
    {
     "name": "stdout",
     "output_type": "stream",
     "text": [
      "Pathway result: Buprenorphine_CYP2D6_Limb_tremor\n",
      "{    'Buprenorphine -> biolink:affects -> CYP2D6': 1,\n",
      "     'Buprenorphine -> biolink:directly_physically_interacts_with -> CYP2D6': 1,\n",
      "     'CYP2D6 -> biolink:affects -> Buprenorphine': 1,\n",
      "     'CYP2D6 -> biolink:genetic_association -> Limb tremor': 1}\n",
      "\n",
      "Pathway result: Buprenorphine_CYP2D6_Pill-rolling_tremor\n",
      "{    'Buprenorphine -> biolink:affects -> CYP2D6': 1,\n",
      "     'Buprenorphine -> biolink:directly_physically_interacts_with -> CYP2D6': 1,\n",
      "     'CYP2D6 -> biolink:affects -> Buprenorphine': 1,\n",
      "     'CYP2D6 -> biolink:genetic_association -> Pill-rolling tremor': 1}\n",
      "\n",
      "Pathway result: Buprenorphine_CYP2D6_Tremor\n",
      "{    'Buprenorphine -> biolink:affects -> CYP2D6': 1,\n",
      "     'Buprenorphine -> biolink:directly_physically_interacts_with -> CYP2D6': 1,\n",
      "     'CYP2D6 -> biolink:affects -> Buprenorphine': 1,\n",
      "     'CYP2D6 -> biolink:genetic_association -> Tremor': 2}\n",
      "\n",
      "Pathway result: Buprenorphine_CYP2D6_Postural_tremor\n",
      "{    'Buprenorphine -> biolink:affects -> CYP2D6': 1,\n",
      "     'Buprenorphine -> biolink:directly_physically_interacts_with -> CYP2D6': 1,\n",
      "     'CYP2D6 -> biolink:affects -> Buprenorphine': 1,\n",
      "     'CYP2D6 -> biolink:genetic_association -> Postural tremor': 1}\n",
      "\n",
      "Pathway result: Buprenorphine_OPRM1_Asterixis\n",
      "{    'Buprenorphine -> biolink:affects -> OPRM1': 4,\n",
      "     'Buprenorphine -> biolink:directly_physically_interacts_with -> OPRM1': 1,\n",
      "     'Buprenorphine -> biolink:related_to -> OPRM1': 1,\n",
      "     'OPRM1 -> biolink:genetic_association -> Asterixis': 1}\n",
      "\n",
      "Pathway result: Brixadi_OPRM1_Asterixis\n",
      "{    'Brixadi -> biolink:affects -> OPRM1': 1,\n",
      "     'OPRM1 -> biolink:genetic_association -> Asterixis': 1}\n",
      "\n",
      "Pathway result: Buprenorphine_CYP2D6_Resting_tremor\n",
      "{    'Buprenorphine -> biolink:affects -> CYP2D6': 1,\n",
      "     'Buprenorphine -> biolink:directly_physically_interacts_with -> CYP2D6': 1,\n",
      "     'CYP2D6 -> biolink:affects -> Buprenorphine': 1,\n",
      "     'CYP2D6 -> biolink:genetic_association -> Resting tremor': 1}\n",
      "\n",
      "Pathway result: Buprenorphine_CYP2D6_Action_tremor\n",
      "{    'Buprenorphine -> biolink:affects -> CYP2D6': 1,\n",
      "     'Buprenorphine -> biolink:directly_physically_interacts_with -> CYP2D6': 1,\n",
      "     'CYP2D6 -> biolink:affects -> Buprenorphine': 1,\n",
      "     'CYP2D6 -> biolink:genetic_association -> Action tremor': 1}\n",
      "\n"
     ]
    }
   ],
   "source": [
    "from collections import Counter\n",
    "import json\n",
    "import pprint\n",
    "pp = pprint.PrettyPrinter(indent=5)\n",
    "\n",
    "for i in range(number_pathway_results):\n",
    "    # if i >= 1:\n",
    "        # break\n",
    "    print(f\"Pathway result: {combined_node_list[i]}\")\n",
    "    edge_bindings = response.json()['message']['results'][i]['edge_bindings']\n",
    "    # print(edge_bindings)\n",
    "\n",
    "    edge_ids = []\n",
    "    for edge_name, edge_list in edge_bindings.items():\n",
    "        edge_ids.append({edge_name: [x['id'] for x in edge_list]})\n",
    "\n",
    "    # print(edge_ids)\n",
    "    string_out_list = []\n",
    "    for edge_dict in edge_ids:\n",
    "        for edge_name, edge_list in edge_dict.items():\n",
    "            # print(f\"{edge_name}: {edge_list}\")\n",
    "            for edge_id in edge_list:\n",
    "                subject_id = response.json()['message']['knowledge_graph']['edges'][edge_id]['subject']\n",
    "                subject = response.json()['message']['knowledge_graph']['nodes'][subject_id]['name']\n",
    "                predicate = response.json()['message']['knowledge_graph']['edges'][edge_id]['predicate']\n",
    "                object_id = response.json()['message']['knowledge_graph']['edges'][edge_id]['object']\n",
    "                object = response.json()['message']['knowledge_graph']['nodes'][object_id]['name']\n",
    "                # print(f\"\\t{subject} -> {predicate} -> {object}\")\n",
    "                string_out = f\"{subject} -> {predicate} -> {object}\"\n",
    "                string_out_list.append(string_out)\n",
    "                # if edge_name == 'e01':\n",
    "                #     print(response.json()['message']['knowledge_graph']['edges'][edge_id]['attributes'])\n",
    "    string_out_dict = dict(Counter(string_out_list).items())\n",
    "    pp.pprint(string_out_dict)\n",
    "    print(\"\")\n",
    "    \n",
    "    with open(os.path.join(write_dir,combined_node_list[i]+\".txt\"), 'w') as convert_file:\n",
    "        convert_file.write(json.dumps(string_out_dict))\n",
    "        "
   ]
  },
  {
   "cell_type": "markdown",
   "id": "467a79a1-4f9f-4b52-afbf-8f151ac91ae4",
   "metadata": {},
   "source": [
    "## Cypher query results (automat.renci.org)"
   ]
  },
  {
   "cell_type": "code",
   "execution_count": 84,
   "id": "b37ed5c2-bc50-4fb4-a53a-f1d612f29349",
   "metadata": {},
   "outputs": [],
   "source": [
    "from datetime import datetime\n",
    "from pathlib import Path\n",
    "\n",
    "now = datetime.now()\n",
    "dt_string = now.strftime(\"%Y-%m-%d_%H%M%S\")\n",
    "write_dir = Path(\"output/Cypher_automat\",str(dt_string))\n",
    "write_dir.mkdir(parents=True, exist_ok=True)"
   ]
  },
  {
   "cell_type": "code",
   "execution_count": 110,
   "id": "0548bd20-4aa7-4e2d-9c51-11b93b769ba1",
   "metadata": {},
   "outputs": [
    {
     "name": "stdout",
     "output_type": "stream",
     "text": [
      "['edge_1', 'edge_2', 'node_names']\n",
      "200\n"
     ]
    }
   ],
   "source": [
    "cypher = f\"MATCH (n0_0:`biolink:ChemicalEntity`)-[r0_0]-(n1_0:`biolink:Gene`)-[r1_0]-(n2_0:`biolink:DiseaseOrPhenotypicFeature`) WHERE n0_0.name IN ['Buprenorphine'] AND n2_0.name IN ['Tremor'] RETURN [startNode(r0_0),[type(r0_0),properties(r0_0)],endNode(r0_0)] as edge_1, [startNode(r1_0),[type(r1_0),properties(r1_0)],endNode(r1_0)] as edge_2, [n0_0.name, n1_0.name, n2_0.name] as node_names LIMIT 100\"\n",
    "\n",
    "j = {'query': cypher}\n",
    "results = requests.post('https://automat.renci.org/robokopkg/cypher',json=j)\n",
    "results_json = results.json()\n",
    "print(results_json['results'][0]['columns'])\n",
    "column_names = results_json['results'][0]['columns']\n",
    "print(results.status_code)"
   ]
  },
  {
   "cell_type": "code",
   "execution_count": 119,
   "id": "1954cabb-08a6-4bce-8a91-f8db837e4dca",
   "metadata": {},
   "outputs": [
    {
     "name": "stdout",
     "output_type": "stream",
     "text": [
      "Buprenorphine_CYP2D6_Tremor\n",
      "{    'Buprenorphine -> biolink:affects -> CYP2D6': 1,\n",
      "     'Buprenorphine -> biolink:directly_physically_interacts_with -> CYP2D6': 1,\n",
      "     'CYP2D6 -> biolink:affects -> Buprenorphine': 1,\n",
      "     'CYP2D6 -> biolink:genetic_association -> Tremor': 2}\n"
     ]
    }
   ],
   "source": [
    "i = 0\n",
    "\n",
    "string_out_list = []\n",
    "for result in results_json['results'][0]['data']:\n",
    "    # print(f'Result: {i+1}')\n",
    "    j = 0\n",
    "    for item in result['row'][0:2]:\n",
    "        # print(item)\n",
    "        # print(f\"{column_names[j]}: {item[0]['name']} -> {item[1][0]} -> {item[2]['name']}\")\n",
    "        # print(f\"Edge properties: {item[1][1]}\\n\")\n",
    "        # print(f\"{item[0]['name']} -> {item[1][0]} -> {item[2]['name']}\")\n",
    "        # string_out = f\"{item[0]['name']} -> {item[1][0]} -> {item[2]['name']}\"\n",
    "        string_out_test = f\"{item[0]['name']} -> {item[1][0]} -> {item[2]['name']}||{item[1][1]}\"\n",
    "        if string_out_test not in string_out_list:\n",
    "            string_out_list.append(string_out_test)\n",
    "        j = j + 1\n",
    "    # print(\"\")\n",
    "\n",
    "    i = i + 1\n",
    "    # if i > 0:\n",
    "    #     break\n",
    "    \n",
    "combined_node_list = \"_\".join(results_json['results'][0]['data'][0]['row'][2]).replace(\" \", \"_\")\n",
    "print(combined_node_list)\n",
    "\n",
    "string_out_list = [i.split('||', 1)[0] for i in string_out_list]\n",
    "\n",
    "string_out_dict = dict(Counter(string_out_list).items())\n",
    "pp.pprint(string_out_dict)\n",
    "\n",
    "with open(os.path.join(write_dir,combined_node_list+\".txt\"), 'w') as convert_file:\n",
    "    convert_file.write(json.dumps(string_out_dict))"
   ]
  },
  {
   "cell_type": "markdown",
   "id": "35d7205e-406e-485b-b706-3551a38d5bb2",
   "metadata": {
    "tags": []
   },
   "source": [
    "## compare_results() function\n",
    "\n",
    "Below is a demo of using `compare_results()` to compare the output from the Pathway `Buprenorphine` - `CYP2D6` - `Tremor` as extracted from the results above.  These are expected to return the same results since they queried against `automat.renci.org`.  After this first demo, a second demo will be done to show differences found between `automat.renci.org` and `robokopkg.renci.org` on the same pathway, where as of 03/29/2023, one difference is expected, being the `Buprenorphine` -> `regulates` -> `CYP2D6`."
   ]
  },
  {
   "cell_type": "code",
   "execution_count": null,
   "id": "b4866b03-bfff-4603-b582-dc78c81855fb",
   "metadata": {},
   "outputs": [],
   "source": [
    "import pprint\n",
    "pp = pprint.PrettyPrinter(indent=5)"
   ]
  },
  {
   "cell_type": "code",
   "execution_count": 226,
   "id": "bef6d1d8-ab69-4bbf-838f-ba52d73d7268",
   "metadata": {},
   "outputs": [
    {
     "name": "stdout",
     "output_type": "stream",
     "text": [
      "{    'Buprenorphine -> biolink:affects -> CYP2D6': 2,\n",
      "     'Buprenorphine -> biolink:directctly_physically_interacts_with -> CYP2D6': 1,\n",
      "     'CYP2D6 -> biolink:affects -> Buprenorphine': 1,\n",
      "     'CYP2D6 -> biolink:genetic_association -> Tremor': 2}\n"
     ]
    }
   ],
   "source": [
    "# Reading from TRAPI results\n",
    "file_to_read = \"output/compare/test/trapi_Buprenorphine_CYP2D6_Tremor.txt\"\n",
    "with open(file_to_read, 'r') as file:\n",
    "    jsonString = file.read()\n",
    "dict_trapi = json.loads(jsonString)\n",
    "pp.pprint(dict_trapi)"
   ]
  },
  {
   "cell_type": "code",
   "execution_count": 227,
   "id": "3264a10c-c0a1-47a6-9770-0945f605f25e",
   "metadata": {},
   "outputs": [
    {
     "name": "stdout",
     "output_type": "stream",
     "text": [
      "{    'Buprenorphine -> biolink:affects -> CYP2D6': 1,\n",
      "     'Buprenorphine -> biolink:directly_physically_interacts_with -> CYP2D6': 1,\n",
      "     'CYP2D6 -> biolink:affects -> Buprenorphine': 1,\n",
      "     'CYP2D6 -> biolink:genetic_association -> Tremor': 2}\n"
     ]
    }
   ],
   "source": [
    "# Reading from the Cypher (automat) query results\n",
    "file_to_read = \"output/compare/test/automat_Buprenorphine_CYP2D6_Tremor.txt\"\n",
    "with open(file_to_read, 'r') as file:\n",
    "    jsonString = file.read()\n",
    "dict_cypher_automat = json.loads(jsonString)\n",
    "pp.pprint(dict_cypher_automat)"
   ]
  },
  {
   "cell_type": "code",
   "execution_count": 228,
   "id": "0e8d87d3-9104-41de-b28f-445061d7e985",
   "metadata": {},
   "outputs": [
    {
     "name": "stdout",
     "output_type": "stream",
     "text": [
      "{    'Buprenorphine -> biolink:affects -> CYP2D6': 1,\n",
      "     'Buprenorphine -> biolink:directly_physically_interacts_with -> CYP2D6': 1,\n",
      "     'Buprenorphine -> biolink:regulates -> CYP2D6': 1,\n",
      "     'CYP2D6 -> biolink:affects -> Buprenorphine': 1,\n",
      "     'CYP2D6 -> biolink:genetic_association -> Tremor': 2}\n"
     ]
    }
   ],
   "source": [
    "# Reading from the Cypher (robokopkg) query results\n",
    "file_to_read = \"output/compare/test/robokopkg_Buprenorphine_CYP2D6_Tremor.txt\"\n",
    "with open(file_to_read, 'r') as file:\n",
    "    jsonString = file.read()\n",
    "dict_cypher_robokopkg = json.loads(jsonString)\n",
    "pp.pprint(dict_cypher_robokopkg)"
   ]
  },
  {
   "cell_type": "code",
   "execution_count": 165,
   "id": "43cfab04-a812-4a23-9eab-28ac20609c21",
   "metadata": {},
   "outputs": [],
   "source": [
    "from datetime import datetime\n",
    "from pathlib import Path\n",
    "\n",
    "now = datetime.now()\n",
    "dt_string = now.strftime(\"%Y-%m-%d_%H%M%S\")\n",
    "write_dir = Path(\"output/compare\",str(dt_string))\n",
    "write_dir.mkdir(parents=True, exist_ok=True)"
   ]
  },
  {
   "cell_type": "code",
   "execution_count": 254,
   "id": "f07ac729-f5a2-44ed-a59a-fcc4a818fdfc",
   "metadata": {},
   "outputs": [],
   "source": [
    "# library\n",
    "import matplotlib.pyplot as plt\n",
    "from matplotlib_venn import venn2\n",
    "\n",
    "def compare_results(dict_one, dict_two, output_file_name):\n",
    "    with open(output_file_name, \"w\") as f:\n",
    "        common_edge_same_list = []\n",
    "        common_edge_diff_list = []\n",
    "        input_one_only_list = []\n",
    "        input_two_only_list = []\n",
    "        for key in dict_one.keys():\n",
    "            if key in dict_two.keys():\n",
    "                if dict_one[key] == dict_two[key]:\n",
    "                    common_edge_same_list.append(f\"{key} - {dict_two[key]}\")\n",
    "                else:\n",
    "                    common_edge_diff_list.append(f\"{key}\\n\\tInput ONE - {dict_one[key]}\\n\\tInput TWO - {dict_two[key]}\")\n",
    "            else:\n",
    "                input_one_only_list.append(f\"{key} - {dict_one[key]}\")\n",
    "\n",
    "        for key in dict_two.keys():\n",
    "            if key not in dict_one.keys():\n",
    "                input_two_only_list.append(f\"{key} - {dict_two[key]}\")\n",
    "\n",
    "        f.write(\"Common edges:\\n\")\n",
    "        for edge in common_edge_same_list:\n",
    "            f.write(edge)\n",
    "            f.write(\"\\n\")\n",
    "        f.write(\"\\nCommon edges with different count:\\n\")\n",
    "        for edge in common_edge_diff_list:\n",
    "            f.write(edge)\n",
    "            f.write(\"\\n\")\n",
    "        f.write(\"\\nInput ONE only:\\n\")\n",
    "        for edge in input_one_only_list:\n",
    "            f.write(edge)\n",
    "            f.write(\"\\n\")\n",
    "        f.write(\"\\nInput TWO only:\\n\")\n",
    "        for edge in input_two_only_list:\n",
    "            f.write(edge)\n",
    "            f.write(\"\\n\")\n",
    "    \n",
    "    # Use the venn2 function\n",
    "    venn2(subsets = (len(input_one_only_list), len(input_two_only_list), len(common_edge_same_list)), set_labels = ('Input ONE', 'Input TWO'))\n",
    "    plt.show()\n",
    "        "
   ]
  },
  {
   "cell_type": "code",
   "execution_count": 255,
   "id": "0432de0b-5fc7-48f1-84df-2d6270e85c8c",
   "metadata": {},
   "outputs": [
    {
     "data": {
      "image/png": "[encoded data removed]",
      "text/plain": [
       "<Figure size 640x480 with 1 Axes>"
      ]
     },
     "metadata": {},
     "output_type": "display_data"
    }
   ],
   "source": [
    "output_file_name = os.path.join(write_dir,\"compare_trapi_cypher_robokop_kg.txt\")\n",
    "compare_results(dict_trapi,dict_cypher_automat, output_file_name)"
   ]
  },
  {
   "cell_type": "code",
   "execution_count": 256,
   "id": "f569e3de-0f28-4f54-af9a-0a84c5a69ce8",
   "metadata": {},
   "outputs": [
    {
     "data": {
      "image/png": "[encoded data removed]",
      "text/plain": [
       "<Figure size 640x480 with 1 Axes>"
      ]
     },
     "metadata": {},
     "output_type": "display_data"
    }
   ],
   "source": [
    "output_file_name = os.path.join(write_dir,\"compare_trapi_cypher_automat.txt\")\n",
    "compare_results(dict_cypher_robokopkg, dict_trapi, output_file_name)"
   ]
  },
  {
   "cell_type": "markdown",
   "id": "93dd3621-4a0f-4917-8c6e-9b2fccd285db",
   "metadata": {},
   "source": [
    "## Development section for function compare_result()\n",
    "\n",
    "Comparing TRAPI and robokopkg output in the test folder"
   ]
  },
  {
   "cell_type": "code",
   "execution_count": 230,
   "id": "cf370941-70a9-4c2b-8c95-37424767fbef",
   "metadata": {},
   "outputs": [
    {
     "name": "stdout",
     "output_type": "stream",
     "text": [
      "Common edges: \n",
      "\tCYP2D6 -> biolink:affects -> Buprenorphine - 1\n",
      "\tCYP2D6 -> biolink:genetic_association -> Tremor - 2\n"
     ]
    }
   ],
   "source": [
    "# Outputting to log file for common edges\n",
    "print(f\"Common edges: \")\n",
    "common_edges = set(dict_trapi.items()).intersection(set(dict_cypher_robokopkg.items()))\n",
    "for edge in common_edges:\n",
    "    print(f\"\\t{edge[0]} - {edge[1]}\")"
   ]
  },
  {
   "cell_type": "code",
   "execution_count": 233,
   "id": "bddf5cb7-44bd-49e7-b80c-c2910e1d9d36",
   "metadata": {},
   "outputs": [
    {
     "name": "stdout",
     "output_type": "stream",
     "text": [
      "Buprenorphine -> biolink:affects -> CYP2D6\n",
      "\tCypher ROBOKOPKG - 1\n",
      "\tTRAPI: 2\n",
      "Common edge found: CYP2D6 -> biolink:genetic_association -> Tremor - 2\n",
      "Common edge found: CYP2D6 -> biolink:affects -> Buprenorphine - 1\n",
      "Cypher ROBOKOPKG only: Buprenorphine -> biolink:regulates -> CYP2D6 - 1\n",
      "Cypher ROBOKOPKG only: Buprenorphine -> biolink:directly_physically_interacts_with -> CYP2D6 - 1\n",
      "TRAPI only: Buprenorphine -> biolink:directctly_physically_interacts_with -> CYP2D6 - 1\n"
     ]
    }
   ],
   "source": [
    "# Outputting to log file for common edges with different counts\n",
    "\n",
    "for key in dict_cypher_robokopkg.keys():\n",
    "    if key in dict_trapi.keys():\n",
    "        if dict_cypher_robokopkg[key] == dict_trapi[key]:\n",
    "            print(f\"Common edge found: {key} - {dict_trapi[key]}\")\n",
    "        else:\n",
    "            print(f\"{key}\\n\\tCypher ROBOKOPKG - {dict_cypher_robokopkg[key]}\\n\\tTRAPI - {dict_trapi[key]}\")\n",
    "    else:\n",
    "        print(f\"Cypher ROBOKOPKG only: {key} - {dict_cypher_robokopkg[key]}\")\n",
    "\n",
    "for key in dict_trapi.keys():\n",
    "    if key not in dict_cypher_robokopkg.keys():\n",
    "        print(f\"TRAPI only: {key} - {dict_trapi[key]}\")\n",
    "\n",
    "# set_cypher_kg = set(dict_cypher_robokopkg.items()).difference(set(dict_trapi.items()))\n",
    "# cypher_kg_edges = set(map(lambda x: x[0], set_cypher_kg))\n",
    "# cypher_kg_edges_counts = set(map(lambda x: x[1], set_cypher_kg))\n",
    "\n",
    "# set_trapi = set(dict_trapi.items()).difference(set(dict_cypher_robokopkg.items()))\n",
    "# trapi_edges = set(map(lambda x: x[0], set_trapi))\n",
    "# trapi_edges_counts = set(map(lambda x: x[1], set_trapi))"
   ]
  },
  {
   "cell_type": "code",
   "execution_count": 241,
   "id": "f2186844-1ab6-49f2-a128-7492e30012e2",
   "metadata": {},
   "outputs": [
    {
     "name": "stdout",
     "output_type": "stream",
     "text": [
      "Common edges:\n",
      "CYP2D6 -> biolink:genetic_association -> Tremor - 2\n",
      "CYP2D6 -> biolink:affects -> Buprenorphine - 1\n",
      "\n",
      "Common edges with different count:\n",
      "Buprenorphine -> biolink:affects -> CYP2D6\n",
      "\tCypher ROBOKOPKG - 1\n",
      "\tTRAPI - 2\n",
      "\n",
      "Cypher ROBOKOPKG only:\n",
      "Buprenorphine -> biolink:regulates -> CYP2D6 - 1\n",
      "Buprenorphine -> biolink:directly_physically_interacts_with -> CYP2D6 - 1\n",
      "\n",
      "TRAPI only:\n",
      "Buprenorphine -> biolink:directctly_physically_interacts_with -> CYP2D6 - 1\n"
     ]
    }
   ],
   "source": [
    "# Outputting to log file for common edges with different counts\n",
    "\n",
    "common_edge_same_list = []\n",
    "common_edge_diff_list = []\n",
    "cypher_robokopkg_only_list = []\n",
    "trapi_only_list = []\n",
    "for key in dict_cypher_robokopkg.keys():\n",
    "    if key in dict_trapi.keys():\n",
    "        if dict_cypher_robokopkg[key] == dict_trapi[key]:\n",
    "            common_edge_same_list.append(f\"{key} - {dict_trapi[key]}\")\n",
    "        else:\n",
    "            common_edge_diff_list.append(f\"{key}\\n\\tCypher ROBOKOPKG - {dict_cypher_robokopkg[key]}\\n\\tTRAPI - {dict_trapi[key]}\")\n",
    "    else:\n",
    "        cypher_robokopkg_only_list.append(f\"{key} - {dict_cypher_robokopkg[key]}\")\n",
    "\n",
    "for key in dict_trapi.keys():\n",
    "    if key not in dict_cypher_robokopkg.keys():\n",
    "        trapi_only_list.append(f\"{key} - {dict_trapi[key]}\")\n",
    "\n",
    "print(\"Common edges:\")\n",
    "# pp.pprint(common_edge_same_list)\n",
    "for edge in common_edge_same_list:\n",
    "    print(edge)\n",
    "print(\"\\nCommon edges with different count:\")\n",
    "# pp.pprint(common_edge_diff_list)\n",
    "for edge in common_edge_diff_list:\n",
    "    print(edge)\n",
    "print(\"\\nCypher ROBOKOPKG only:\")\n",
    "# pp.pprint(cypher_robokopkg_only_list)\n",
    "for edge in cypher_robokopkg_only_list:\n",
    "    print(edge)\n",
    "print(\"\\nTRAPI only:\")\n",
    "# pp.pprint(trapi_only_list)\n",
    "for edge in trapi_only_list:\n",
    "    print(edge)"
   ]
  },
  {
   "cell_type": "code",
   "execution_count": 237,
   "id": "ec1ad2ca-b8b4-49fd-96ad-2ee69786417e",
   "metadata": {},
   "outputs": [
    {
     "data": {
      "image/png": "[encoded data removed]",
      "text/plain": [
       "<Figure size 640x480 with 1 Axes>"
      ]
     },
     "metadata": {},
     "output_type": "display_data"
    }
   ],
   "source": [
    "# library\n",
    "import matplotlib.pyplot as plt\n",
    "from matplotlib_venn import venn2\n",
    "\n",
    "# Use the venn2 function\n",
    "venn2(subsets = (len(trapi_only_list), len(cypher_robokopkg_only_list), len(common_edge_same_list)), set_labels = ('TRAPI', 'Cypher ROBOKOPKG'))\n",
    "plt.show()"
   ]
  },
  {
   "cell_type": "code",
   "execution_count": null,
   "id": "bb45415a-d38c-4be4-afdc-ff0df7497fdd",
   "metadata": {},
   "outputs": [],
   "source": []
  }
 ],
 "metadata": {
  "kernelspec": {
   "display_name": "Python 3 (ipykernel)",
   "language": "python",
   "name": "python3"
  },
  "language_info": {
   "codemirror_mode": {
    "name": "ipython",
    "version": 3
   },
   "file_extension": ".py",
   "mimetype": "text/x-python",
   "name": "python",
   "nbconvert_exporter": "python",
   "pygments_lexer": "ipython3",
   "version": "3.8.10"
  }
 },
 "nbformat": 4,
 "nbformat_minor": 5
}
