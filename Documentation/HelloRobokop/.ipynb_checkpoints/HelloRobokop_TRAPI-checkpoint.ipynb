{
 "cells": [
  {
   "cell_type": "code",
   "execution_count": 3,
   "metadata": {},
   "outputs": [],
   "source": [
    "import requests\n",
    "import json"
   ]
  },
  {
   "cell_type": "markdown",
   "metadata": {},
   "source": [
    "TRAPI Documentation: https://github.com/NCATSTranslator/ReasonerAPI\n",
    "\n",
    "Most TRAPI documents contain a `message` key.  Within that `message` are a `query_graph` denoting the user query,\n",
    "a `knowledge_graph` consisting of the union of all nodes and edges that match the `query_graph` pattern, and a list of `results` that bind `query_graph` elements to `knowledge_graph` elements.\n",
    "\n",
    "The following message contains only a `query_graph`.  This query graph consists of 3 nodes connected together in a line.   Two of the nodes (`n00` and `n02`) have specified identifiers, while the middle node of the line does not.  Rather the middle node has a list of `categories` that are acceptable.\n",
    "\n",
    "For a researcher who is starting from a `name` who wants to use TRAPI, they can use the Name Resolver tool to get the identifers for the nodes.  This is illustrated in the \"HelloRobokop_TRAPI_multiple_IDs\" notebook. \n",
    "\n",
    "This query asks \"Find me a Biological Process or Activity, or a Gene, or a Pathway that is related to both `PUBCHEM.COMPOUND:644073` (Buprenorphine) and `HP:0001337` (Tremor)."
   ]
  },
  {
   "cell_type": "code",
   "execution_count": 12,
   "metadata": {},
   "outputs": [],
   "source": [
    "query={\n",
    "    \"message\": {\n",
    "      \"query_graph\": {\n",
    "        \"edges\": {\n",
    "          \"e00\": {\n",
    "            \"subject\": \"n00\",\n",
    "              \"object\": \"n01\",\n",
    "          \"predicates\":[\"biolink:related_to\"]\n",
    "          },\n",
    "          \"e01\": {\n",
    "            \"subject\": \"n01\",\n",
    "              \"object\": \"n02\",\n",
    "          \"predicates\":[\"biolink:related_to\"]\n",
    "          }\n",
    "        },\n",
    "        \"nodes\": {\n",
    "          \"n00\": {\n",
    "            \"ids\": [\"PUBCHEM.COMPOUND:644073\"],\n",
    "            \"categories\": [\"biolink:ChemicalEntity\"]\n",
    "          },\n",
    "          \"n01\": {\n",
    "              \"categories\": [\"biolink:BiologicalProcessOrActivity\",\"biolink:Gene\",\"biolink:Pathway\"]\n",
    "          },\n",
    "          \"n02\": {\n",
    "            \"ids\": [\"HP:0001337\"],\n",
    "            \"categories\": [\"biolink:DiseaseOrPhenotypicFeature\"]\n",
    "          }\n",
    "        }\n",
    "      }\n",
    "    }\n",
    "  }\n"
   ]
  },
  {
   "cell_type": "markdown",
   "metadata": {},
   "source": [
    "This query can be sent to various components of Translator as needed.  It can be sent directly to the ROBOKOP database like this:"
   ]
  },
  {
   "cell_type": "code",
   "execution_count": 5,
   "metadata": {},
   "outputs": [
    {
     "name": "stdout",
     "output_type": "stream",
     "text": [
      "200\n",
      "7\n"
     ]
    }
   ],
   "source": [
    "robokop_submit_url = \"https://automat.renci.org/robokopkg/1.3/query\"\n",
    "response = requests.post(robokop_submit_url,json=query)\n",
    "print(response.status_code)\n",
    "number_pathway_results = len(response.json()['message']['results'])\n",
    "print(len(response.json()['message']['results']))"
   ]
  },
  {
   "cell_type": "code",
   "execution_count": 6,
   "metadata": {},
   "outputs": [],
   "source": [
    "import pprint\n",
    "pp = pprint.PrettyPrinter(indent=5)"
   ]
  },
  {
   "cell_type": "markdown",
   "metadata": {},
   "source": [
    "The response in JSON form is a python dictionary with three main keys, the `message`, `log_level`, and `workflow`.  The `message` property contains the `query_graph`, `knowledge_graph`, and `results` from the query."
   ]
  },
  {
   "cell_type": "code",
   "execution_count": 7,
   "metadata": {},
   "outputs": [
    {
     "name": "stdout",
     "output_type": "stream",
     "text": [
      "dict_keys(['message', 'log_level', 'workflow'])\n",
      "dict_keys(['query_graph', 'knowledge_graph', 'results'])\n"
     ]
    }
   ],
   "source": [
    "print(response.json().keys())\n",
    "print(response.json()['message'].keys())"
   ]
  },
  {
   "cell_type": "markdown",
   "metadata": {},
   "source": [
    "The `results` property contains pathways resulting from the query message. Each pathway is organized into edge_bindings and node bindings and contains results for the edges and nodes specified in the query message.  Results are defined using the node and edge identifiers. The attributes for those nodes and edges (including the names) are available via the `knowledge_graph` component of the `message` section of the response."
   ]
  },
  {
   "cell_type": "code",
   "execution_count": 8,
   "metadata": {},
   "outputs": [
    {
     "name": "stdout",
     "output_type": "stream",
     "text": [
      "[    {    'edge_bindings': {    'e00': [    {    'attributes': None,\n",
      "                                                 'id': '114862569'},\n",
      "                                            {    'attributes': None,\n",
      "                                                 'id': '89338256'},\n",
      "                                            {    'attributes': None,\n",
      "                                                 'id': '8697234'}],\n",
      "                                'e01': [    {    'attributes': None,\n",
      "                                                 'id': '59984979'}]},\n",
      "          'node_bindings': {    'n00': [    {    'attributes': None,\n",
      "                                                 'id': 'PUBCHEM.COMPOUND:644073',\n",
      "                                                 'qnode_id': 'PUBCHEM.COMPOUND:644073',\n",
      "                                                 'query_id': None}],\n",
      "                                'n01': [    {    'attributes': None,\n",
      "                                                 'id': 'NCBIGene:1565',\n",
      "                                                 'query_id': None}],\n",
      "                                'n02': [    {    'attributes': None,\n",
      "                                                 'id': 'HP:0025387',\n",
      "                                                 'qnode_id': 'HP:0001337',\n",
      "                                                 'query_id': None}]},\n",
      "          'score': None},\n",
      "     {    'edge_bindings': {    'e00': [    {    'attributes': None,\n",
      "                                                 'id': '114862569'},\n",
      "                                            {    'attributes': None,\n",
      "                                                 'id': '89338256'},\n",
      "                                            {    'attributes': None,\n",
      "                                                 'id': '8697234'}],\n",
      "                                'e01': [    {    'attributes': None,\n",
      "                                                 'id': '77744428'}]},\n",
      "          'node_bindings': {    'n00': [    {    'attributes': None,\n",
      "                                                 'id': 'PUBCHEM.COMPOUND:644073',\n",
      "                                                 'qnode_id': 'PUBCHEM.COMPOUND:644073',\n",
      "                                                 'query_id': None}],\n",
      "                                'n01': [    {    'attributes': None,\n",
      "                                                 'id': 'NCBIGene:1565',\n",
      "                                                 'query_id': None}],\n",
      "                                'n02': [    {    'attributes': None,\n",
      "                                                 'id': 'HP:0200085',\n",
      "                                                 'qnode_id': 'HP:0001337',\n",
      "                                                 'query_id': None}]},\n",
      "          'score': None},\n",
      "     {    'edge_bindings': {    'e00': [    {    'attributes': None,\n",
      "                                                 'id': '114862569'},\n",
      "                                            {    'attributes': None,\n",
      "                                                 'id': '89338256'},\n",
      "                                            {    'attributes': None,\n",
      "                                                 'id': '8697234'}],\n",
      "                                'e01': [    {    'attributes': None,\n",
      "                                                 'id': '94798077'}]},\n",
      "          'node_bindings': {    'n00': [    {    'attributes': None,\n",
      "                                                 'id': 'PUBCHEM.COMPOUND:644073',\n",
      "                                                 'qnode_id': 'PUBCHEM.COMPOUND:644073',\n",
      "                                                 'query_id': None}],\n",
      "                                'n01': [    {    'attributes': None,\n",
      "                                                 'id': 'NCBIGene:1565',\n",
      "                                                 'query_id': None}],\n",
      "                                'n02': [    {    'attributes': None,\n",
      "                                                 'id': 'HP:0002345',\n",
      "                                                 'qnode_id': 'HP:0001337',\n",
      "                                                 'query_id': None}]},\n",
      "          'score': None},\n",
      "     {    'edge_bindings': {    'e00': [    {    'attributes': None,\n",
      "                                                 'id': '113956192'},\n",
      "                                            {    'attributes': None,\n",
      "                                                 'id': '99611941'},\n",
      "                                            {    'attributes': None,\n",
      "                                                 'id': '53350880'},\n",
      "                                            {    'attributes': None,\n",
      "                                                 'id': '69936825'},\n",
      "                                            {    'attributes': None,\n",
      "                                                 'id': '17185078'},\n",
      "                                            {    'attributes': None,\n",
      "                                                 'id': '73724977'}],\n",
      "                                'e01': [    {    'attributes': None,\n",
      "                                                 'id': '122475227'}]},\n",
      "          'node_bindings': {    'n00': [    {    'attributes': None,\n",
      "                                                 'id': 'PUBCHEM.COMPOUND:644073',\n",
      "                                                 'qnode_id': 'PUBCHEM.COMPOUND:644073',\n",
      "                                                 'query_id': None}],\n",
      "                                'n01': [    {    'attributes': None,\n",
      "                                                 'id': 'NCBIGene:4988',\n",
      "                                                 'query_id': None}],\n",
      "                                'n02': [    {    'attributes': None,\n",
      "                                                 'id': 'HP:0012164',\n",
      "                                                 'qnode_id': 'HP:0001337',\n",
      "                                                 'query_id': None}]},\n",
      "          'score': None},\n",
      "     {    'edge_bindings': {    'e00': [    {    'attributes': None,\n",
      "                                                 'id': '114862569'},\n",
      "                                            {    'attributes': None,\n",
      "                                                 'id': '89338256'},\n",
      "                                            {    'attributes': None,\n",
      "                                                 'id': '8697234'}],\n",
      "                                'e01': [    {    'attributes': None,\n",
      "                                                 'id': '51570037'},\n",
      "                                            {    'attributes': None,\n",
      "                                                 'id': '76915076'}]},\n",
      "          'node_bindings': {    'n00': [    {    'attributes': None,\n",
      "                                                 'id': 'PUBCHEM.COMPOUND:644073',\n",
      "                                                 'qnode_id': 'PUBCHEM.COMPOUND:644073',\n",
      "                                                 'query_id': None}],\n",
      "                                'n01': [    {    'attributes': None,\n",
      "                                                 'id': 'NCBIGene:1565',\n",
      "                                                 'query_id': None}],\n",
      "                                'n02': [    {    'attributes': None,\n",
      "                                                 'id': 'HP:0001337',\n",
      "                                                 'qnode_id': 'HP:0001337',\n",
      "                                                 'query_id': None}]},\n",
      "          'score': None},\n",
      "     {    'edge_bindings': {    'e00': [    {    'attributes': None,\n",
      "                                                 'id': '114862569'},\n",
      "                                            {    'attributes': None,\n",
      "                                                 'id': '89338256'},\n",
      "                                            {    'attributes': None,\n",
      "                                                 'id': '8697234'}],\n",
      "                                'e01': [{'attributes': None, 'id': '1498880'}]},\n",
      "          'node_bindings': {    'n00': [    {    'attributes': None,\n",
      "                                                 'id': 'PUBCHEM.COMPOUND:644073',\n",
      "                                                 'qnode_id': 'PUBCHEM.COMPOUND:644073',\n",
      "                                                 'query_id': None}],\n",
      "                                'n01': [    {    'attributes': None,\n",
      "                                                 'id': 'NCBIGene:1565',\n",
      "                                                 'query_id': None}],\n",
      "                                'n02': [    {    'attributes': None,\n",
      "                                                 'id': 'HP:0002322',\n",
      "                                                 'qnode_id': 'HP:0001337',\n",
      "                                                 'query_id': None}]},\n",
      "          'score': None},\n",
      "     {    'edge_bindings': {    'e00': [    {    'attributes': None,\n",
      "                                                 'id': '114862569'},\n",
      "                                            {    'attributes': None,\n",
      "                                                 'id': '89338256'},\n",
      "                                            {    'attributes': None,\n",
      "                                                 'id': '8697234'}],\n",
      "                                'e01': [    {    'attributes': None,\n",
      "                                                 'id': '63371901'}]},\n",
      "          'node_bindings': {    'n00': [    {    'attributes': None,\n",
      "                                                 'id': 'PUBCHEM.COMPOUND:644073',\n",
      "                                                 'qnode_id': 'PUBCHEM.COMPOUND:644073',\n",
      "                                                 'query_id': None}],\n",
      "                                'n01': [    {    'attributes': None,\n",
      "                                                 'id': 'NCBIGene:1565',\n",
      "                                                 'query_id': None}],\n",
      "                                'n02': [    {    'attributes': None,\n",
      "                                                 'id': 'HP:0002174',\n",
      "                                                 'qnode_id': 'HP:0001337',\n",
      "                                                 'query_id': None}]},\n",
      "          'score': None}]\n"
     ]
    }
   ],
   "source": [
    "pp.pprint(response.json()['message']['results'])"
   ]
  },
  {
   "cell_type": "markdown",
   "metadata": {},
   "source": [
    "The `knowledge_graph` contains information about each of the Nodes and Edges found in `results`.  An example of a Node and an Edge are shown below.  "
   ]
  },
  {
   "cell_type": "code",
   "execution_count": 9,
   "metadata": {},
   "outputs": [
    {
     "name": "stdout",
     "output_type": "stream",
     "text": [
      "dict_keys(['nodes', 'edges'])\n"
     ]
    }
   ],
   "source": [
    "pp.pprint(response.json()['message']['knowledge_graph'].keys())"
   ]
  },
  {
   "cell_type": "markdown",
   "metadata": {},
   "source": [
    "Information returned for the each Node includes the concept ID (key), biolink categories, the name/label, attributes, the value type, and others.  Note that each entry under the `nodes` level is itemized in dictionary format with the key corresponding to the identifier used to define the `Result`.  The content for one Node is shown below."
   ]
  },
  {
   "cell_type": "code",
   "execution_count": 10,
   "metadata": {},
   "outputs": [
    {
     "data": {
      "text/plain": [
       "('HP:0012164',\n",
       " {'categories': ['biolink:Entity',\n",
       "   'biolink:DiseaseOrPhenotypicFeature',\n",
       "   'biolink:PhenotypicFeature',\n",
       "   'biolink:NamedThing',\n",
       "   'biolink:BiologicalEntity',\n",
       "   'biolink:ThingWithTaxon'],\n",
       "  'name': 'Asterixis',\n",
       "  'attributes': [{'attribute_type_id': 'biolink:same_as',\n",
       "    'value': ['MEDDRA:10003547',\n",
       "     'MEDDRA:10057580',\n",
       "     'HP:0012164',\n",
       "     'NCIT:C86048',\n",
       "     'UMLS:C0232766',\n",
       "     'SNOMEDCT:32838008'],\n",
       "    'value_type_id': 'metatype:uriorcurie',\n",
       "    'original_attribute_name': 'equivalent_identifiers',\n",
       "    'value_url': None,\n",
       "    'attribute_source': None,\n",
       "    'description': None,\n",
       "    'attributes': None}]})"
      ]
     },
     "execution_count": 10,
     "metadata": {},
     "output_type": "execute_result"
    }
   ],
   "source": [
    "next(iter( response.json()['message']['knowledge_graph']['nodes'].items() ))"
   ]
  },
  {
   "cell_type": "markdown",
   "metadata": {},
   "source": [
    "Information returned for the each Edge includes the edge ID (key), the subject's concept ID, the object's concept ID, the edge's predicate, any qualifiers, and attributes.  Note that each entry under the `edges` level is itemized in dictionary format  with the key corresponding to the identifier used to define the `Result`.  The content for one Edge is shown below."
   ]
  },
  {
   "cell_type": "code",
   "execution_count": 11,
   "metadata": {},
   "outputs": [
    {
     "data": {
      "text/plain": [
       "('1498880',\n",
       " {'subject': 'NCBIGene:1565',\n",
       "  'object': 'HP:0002322',\n",
       "  'predicate': 'biolink:genetic_association',\n",
       "  'qualifiers': None,\n",
       "  'attributes': [{'attribute_type_id': 'biolink:aggregator_knowledge_source',\n",
       "    'value': ['infores:pharos', 'infores:automat-robokop'],\n",
       "    'value_type_id': 'biolink:InformationResource',\n",
       "    'original_attribute_name': 'biolink:aggregator_knowledge_source',\n",
       "    'value_url': None,\n",
       "    'attribute_source': 'infores:automat-robokop',\n",
       "    'description': None,\n",
       "    'attributes': None},\n",
       "   {'attribute_type_id': 'biolink:primary_knowledge_source',\n",
       "    'value': 'infores:disgenet',\n",
       "    'value_type_id': 'biolink:InformationResource',\n",
       "    'original_attribute_name': 'biolink:primary_knowledge_source',\n",
       "    'value_url': None,\n",
       "    'attribute_source': 'infores:automat-robokop',\n",
       "    'description': None,\n",
       "    'attributes': None}]})"
      ]
     },
     "execution_count": 11,
     "metadata": {},
     "output_type": "execute_result"
    }
   ],
   "source": [
    "next(iter( response.json()['message']['knowledge_graph']['edges'].items() ))"
   ]
  },
  {
   "cell_type": "markdown",
   "metadata": {},
   "source": [
    "The following sections show how the `knowledge_graph` can be used to annotate the `results`, which serve to bind the components of the `knowedge_graph` to the original `query_graph` used to find the `knowledge_graph`. A single result is shown below to highlight the features we'll use for the subsequent summaries. The `node_bindings` link the components of the `query_graph` to the identifiers of the nodes within the `knowledge_graph`. The keys for these bindings correspond to the identifiers used to define the `query_graph` above. For this example nodes are defined with an \"n\" followed by a number corresponding to the order of the node in the `query_graph`. The `edge_bindings` have identifiers defined with \"e\" plus a number specifying the order. In both cases, the `id` field corresponds to the corresponding identifier in the `knowledge_graph`. The `result` includes a score field, which is not used when directly querying ROBOKOP using TRAPI. We'll show the score field below when we cover the Aragorn API for querying ROBOKOP. "
   ]
  },
  {
   "cell_type": "code",
   "execution_count": 13,
   "metadata": {},
   "outputs": [
    {
     "name": "stdout",
     "output_type": "stream",
     "text": [
      "{    'edge_bindings': {    'e00': [    {'attributes': None, 'id': '114862569'},\n",
      "                                       {'attributes': None, 'id': '89338256'},\n",
      "                                       {'attributes': None, 'id': '8697234'}],\n",
      "                           'e01': [{'attributes': None, 'id': '59984979'}]},\n",
      "     'node_bindings': {    'n00': [    {    'attributes': None,\n",
      "                                            'id': 'PUBCHEM.COMPOUND:644073',\n",
      "                                            'qnode_id': 'PUBCHEM.COMPOUND:644073',\n",
      "                                            'query_id': None}],\n",
      "                           'n01': [    {    'attributes': None,\n",
      "                                            'id': 'NCBIGene:1565',\n",
      "                                            'query_id': None}],\n",
      "                           'n02': [    {    'attributes': None,\n",
      "                                            'id': 'HP:0025387',\n",
      "                                            'qnode_id': 'HP:0001337',\n",
      "                                            'query_id': None}]},\n",
      "     'score': None}\n"
     ]
    }
   ],
   "source": [
    "# Illustrating the structure of each pathway result from the message property\n",
    "pp.pprint(response.json()['message']['results'][0])"
   ]
  },
  {
   "cell_type": "markdown",
   "metadata": {},
   "source": [
    "To export the results from our query, we create a directory with today's date to hold the output files and then convert our output dictionaries into a set of tables, which can be easily exported."
   ]
  },
  {
   "cell_type": "code",
   "execution_count": 14,
   "metadata": {},
   "outputs": [],
   "source": [
    "from datetime import datetime\n",
    "from pathlib import Path\n",
    "\n",
    "now = datetime.now()\n",
    "dt_string = now.strftime(\"%Y-%m-%d_%H%M%S\")\n",
    "write_dir = Path(\"output/TRAPI\",str(dt_string))\n",
    "write_dir.mkdir(parents=True, exist_ok=True)"
   ]
  },
  {
   "cell_type": "markdown",
   "metadata": {},
   "source": [
    "The code below writes out nodes from our `results`, but NOT the edges connecting the nodes."
   ]
  },
  {
   "cell_type": "code",
   "execution_count": 16,
   "metadata": {},
   "outputs": [
    {
     "data": {
      "text/html": [
       "<div>\n",
       "<style scoped>\n",
       "    .dataframe tbody tr th:only-of-type {\n",
       "        vertical-align: middle;\n",
       "    }\n",
       "\n",
       "    .dataframe tbody tr th {\n",
       "        vertical-align: top;\n",
       "    }\n",
       "\n",
       "    .dataframe thead th {\n",
       "        text-align: right;\n",
       "    }\n",
       "</style>\n",
       "<table border=\"1\" class=\"dataframe\">\n",
       "  <thead>\n",
       "    <tr style=\"text-align: right;\">\n",
       "      <th></th>\n",
       "      <th>n02</th>\n",
       "      <th>n02_name</th>\n",
       "      <th>n01</th>\n",
       "      <th>n01_name</th>\n",
       "      <th>n00</th>\n",
       "      <th>n00_name</th>\n",
       "    </tr>\n",
       "  </thead>\n",
       "  <tbody>\n",
       "    <tr>\n",
       "      <th>0</th>\n",
       "      <td>HP:0025387</td>\n",
       "      <td>Pill-rolling tremor</td>\n",
       "      <td>NCBIGene:1565</td>\n",
       "      <td>CYP2D6</td>\n",
       "      <td>PUBCHEM.COMPOUND:644073</td>\n",
       "      <td>Buprenorphine</td>\n",
       "    </tr>\n",
       "    <tr>\n",
       "      <th>0</th>\n",
       "      <td>HP:0200085</td>\n",
       "      <td>Limb tremor</td>\n",
       "      <td>NCBIGene:1565</td>\n",
       "      <td>CYP2D6</td>\n",
       "      <td>PUBCHEM.COMPOUND:644073</td>\n",
       "      <td>Buprenorphine</td>\n",
       "    </tr>\n",
       "    <tr>\n",
       "      <th>0</th>\n",
       "      <td>HP:0002345</td>\n",
       "      <td>Action tremor</td>\n",
       "      <td>NCBIGene:1565</td>\n",
       "      <td>CYP2D6</td>\n",
       "      <td>PUBCHEM.COMPOUND:644073</td>\n",
       "      <td>Buprenorphine</td>\n",
       "    </tr>\n",
       "    <tr>\n",
       "      <th>0</th>\n",
       "      <td>HP:0012164</td>\n",
       "      <td>Asterixis</td>\n",
       "      <td>NCBIGene:4988</td>\n",
       "      <td>OPRM1</td>\n",
       "      <td>PUBCHEM.COMPOUND:644073</td>\n",
       "      <td>Buprenorphine</td>\n",
       "    </tr>\n",
       "    <tr>\n",
       "      <th>0</th>\n",
       "      <td>HP:0001337</td>\n",
       "      <td>Tremor</td>\n",
       "      <td>NCBIGene:1565</td>\n",
       "      <td>CYP2D6</td>\n",
       "      <td>PUBCHEM.COMPOUND:644073</td>\n",
       "      <td>Buprenorphine</td>\n",
       "    </tr>\n",
       "    <tr>\n",
       "      <th>0</th>\n",
       "      <td>HP:0002322</td>\n",
       "      <td>Resting tremor</td>\n",
       "      <td>NCBIGene:1565</td>\n",
       "      <td>CYP2D6</td>\n",
       "      <td>PUBCHEM.COMPOUND:644073</td>\n",
       "      <td>Buprenorphine</td>\n",
       "    </tr>\n",
       "    <tr>\n",
       "      <th>0</th>\n",
       "      <td>HP:0002174</td>\n",
       "      <td>Postural tremor</td>\n",
       "      <td>NCBIGene:1565</td>\n",
       "      <td>CYP2D6</td>\n",
       "      <td>PUBCHEM.COMPOUND:644073</td>\n",
       "      <td>Buprenorphine</td>\n",
       "    </tr>\n",
       "  </tbody>\n",
       "</table>\n",
       "</div>"
      ],
      "text/plain": [
       "          n02             n02_name            n01 n01_name  \\\n",
       "0  HP:0025387  Pill-rolling tremor  NCBIGene:1565   CYP2D6   \n",
       "0  HP:0200085          Limb tremor  NCBIGene:1565   CYP2D6   \n",
       "0  HP:0002345        Action tremor  NCBIGene:1565   CYP2D6   \n",
       "0  HP:0012164            Asterixis  NCBIGene:4988    OPRM1   \n",
       "0  HP:0001337               Tremor  NCBIGene:1565   CYP2D6   \n",
       "0  HP:0002322       Resting tremor  NCBIGene:1565   CYP2D6   \n",
       "0  HP:0002174      Postural tremor  NCBIGene:1565   CYP2D6   \n",
       "\n",
       "                       n00       n00_name  \n",
       "0  PUBCHEM.COMPOUND:644073  Buprenorphine  \n",
       "0  PUBCHEM.COMPOUND:644073  Buprenorphine  \n",
       "0  PUBCHEM.COMPOUND:644073  Buprenorphine  \n",
       "0  PUBCHEM.COMPOUND:644073  Buprenorphine  \n",
       "0  PUBCHEM.COMPOUND:644073  Buprenorphine  \n",
       "0  PUBCHEM.COMPOUND:644073  Buprenorphine  \n",
       "0  PUBCHEM.COMPOUND:644073  Buprenorphine  "
      ]
     },
     "metadata": {},
     "output_type": "display_data"
    },
    {
     "name": "stdout",
     "output_type": "stream",
     "text": [
      "[    'Buprenorphine_CYP2D6_Pill-rolling_tremor',\n",
      "     'Buprenorphine_CYP2D6_Limb_tremor',\n",
      "     'Buprenorphine_CYP2D6_Action_tremor',\n",
      "     'Buprenorphine_OPRM1_Asterixis',\n",
      "     'Buprenorphine_CYP2D6_Tremor',\n",
      "     'Buprenorphine_CYP2D6_Resting_tremor',\n",
      "     'Buprenorphine_CYP2D6_Postural_tremor']\n"
     ]
    }
   ],
   "source": [
    "import pandas as pd\n",
    "import os\n",
    "\n",
    "kg = response.json()['message']['knowledge_graph']\n",
    "cols = []\n",
    "for node in sorted(response.json()['message']['results'][0]['node_bindings'].keys()):\n",
    "    cols.append(node)\n",
    "    cols.append(node + '_name')\n",
    "results_df = pd.DataFrame(columns = cols)\n",
    "\n",
    "results_list = []\n",
    "for result in response.json()['message']['results']:\n",
    "    result_dict = {}\n",
    "    for node in result['node_bindings'].keys():\n",
    "        node_id = result['node_bindings'][node][0]['id']\n",
    "        result_dict[node] = node_id\n",
    "        result_dict[node + '_name'] = kg['nodes'][node_id]['name']\n",
    "    # print(result_dict)\n",
    "\n",
    "    results_list.append(pd.DataFrame([result_dict]))\n",
    "results_df = pd.concat(results_list)\n",
    "display(results_df)\n",
    "results_df.to_csv(os.path.join(write_dir,'results_TRAPI.csv'), index=False)\n",
    "\n",
    "combined_node_list = [\"_\".join([row[1].replace(\" \", \"_\"), row[3].replace(\" \", \"_\"), row[5].replace(\" \", \"_\")]) for row in results_df[cols].to_numpy()]\n",
    "pp.pprint(combined_node_list)"
   ]
  },
  {
   "cell_type": "markdown",
   "metadata": {},
   "source": [
    "The edge IDs are then retrieved from the `results` and used to find the corresponding `predicate` label in the `knowledge_graph`. Two nodes can have more than one edge connecting them because each edge represents a distinct type of association derived from a single data source. Because of this, the number of rows in this report may differ from the set of results above. For an answer with three nodes such as this one, there will be at least one edge between nodes 1 and 2 as well as nodes 2 and 3. The direction of the edge connecting two nodes can differ as well, such as for \"Buprenorphine\" and \"CYP2D6\" below. Sometimes a single association type will be derived from multiple data sources. In the code below, we print a single edge for each association type and include the count of the number of data sources where that association was found. The following writes out all unique edges for each of the results in the format of `subject` -> `predicate` -> `object` and exports the information into a single file per `result`."
   ]
  },
  {
   "cell_type": "code",
   "execution_count": 17,
   "metadata": {},
   "outputs": [
    {
     "name": "stdout",
     "output_type": "stream",
     "text": [
      "Pathway result: Buprenorphine_CYP2D6_Pill-rolling_tremor\n",
      "{    'Buprenorphine -> biolink:affects -> CYP2D6': 1,\n",
      "     'Buprenorphine -> biolink:directly_physically_interacts_with -> CYP2D6': 1,\n",
      "     'CYP2D6 -> biolink:affects -> Buprenorphine': 1,\n",
      "     'CYP2D6 -> biolink:genetic_association -> Pill-rolling tremor': 1}\n",
      "\n",
      "Pathway result: Buprenorphine_CYP2D6_Limb_tremor\n",
      "{    'Buprenorphine -> biolink:affects -> CYP2D6': 1,\n",
      "     'Buprenorphine -> biolink:directly_physically_interacts_with -> CYP2D6': 1,\n",
      "     'CYP2D6 -> biolink:affects -> Buprenorphine': 1,\n",
      "     'CYP2D6 -> biolink:genetic_association -> Limb tremor': 1}\n",
      "\n",
      "Pathway result: Buprenorphine_CYP2D6_Action_tremor\n",
      "{    'Buprenorphine -> biolink:affects -> CYP2D6': 1,\n",
      "     'Buprenorphine -> biolink:directly_physically_interacts_with -> CYP2D6': 1,\n",
      "     'CYP2D6 -> biolink:affects -> Buprenorphine': 1,\n",
      "     'CYP2D6 -> biolink:genetic_association -> Action tremor': 1}\n",
      "\n",
      "Pathway result: Buprenorphine_OPRM1_Asterixis\n",
      "{    'Buprenorphine -> biolink:affects -> OPRM1': 4,\n",
      "     'Buprenorphine -> biolink:directly_physically_interacts_with -> OPRM1': 1,\n",
      "     'Buprenorphine -> biolink:related_to -> OPRM1': 1,\n",
      "     'OPRM1 -> biolink:genetic_association -> Asterixis': 1}\n",
      "\n",
      "Pathway result: Buprenorphine_CYP2D6_Tremor\n",
      "{    'Buprenorphine -> biolink:affects -> CYP2D6': 1,\n",
      "     'Buprenorphine -> biolink:directly_physically_interacts_with -> CYP2D6': 1,\n",
      "     'CYP2D6 -> biolink:affects -> Buprenorphine': 1,\n",
      "     'CYP2D6 -> biolink:genetic_association -> Tremor': 2}\n",
      "\n",
      "Pathway result: Buprenorphine_CYP2D6_Resting_tremor\n",
      "{    'Buprenorphine -> biolink:affects -> CYP2D6': 1,\n",
      "     'Buprenorphine -> biolink:directly_physically_interacts_with -> CYP2D6': 1,\n",
      "     'CYP2D6 -> biolink:affects -> Buprenorphine': 1,\n",
      "     'CYP2D6 -> biolink:genetic_association -> Resting tremor': 1}\n",
      "\n",
      "Pathway result: Buprenorphine_CYP2D6_Postural_tremor\n",
      "{    'Buprenorphine -> biolink:affects -> CYP2D6': 1,\n",
      "     'Buprenorphine -> biolink:directly_physically_interacts_with -> CYP2D6': 1,\n",
      "     'CYP2D6 -> biolink:affects -> Buprenorphine': 1,\n",
      "     'CYP2D6 -> biolink:genetic_association -> Postural tremor': 1}\n",
      "\n"
     ]
    }
   ],
   "source": [
    "from collections import Counter\n",
    "import json\n",
    "import pprint\n",
    "pp = pprint.PrettyPrinter(indent=5)\n",
    "\n",
    "for i in range(number_pathway_results):\n",
    "    # if i >= 1:\n",
    "        # break\n",
    "    print(f\"Pathway result: {combined_node_list[i]}\")\n",
    "    edge_bindings = response.json()['message']['results'][i]['edge_bindings']\n",
    "    # print(edge_bindings)\n",
    "\n",
    "    edge_ids = []\n",
    "    for edge_name, edge_list in edge_bindings.items():\n",
    "        edge_ids.append({edge_name: [x['id'] for x in edge_list]})\n",
    "\n",
    "    # print(edge_ids)\n",
    "    string_out_list = []\n",
    "    for edge_dict in edge_ids:\n",
    "        for edge_name, edge_list in edge_dict.items():\n",
    "            # print(f\"{edge_name}: {edge_list}\")\n",
    "            for edge_id in edge_list:\n",
    "                subject_id = response.json()['message']['knowledge_graph']['edges'][edge_id]['subject']\n",
    "                subject = response.json()['message']['knowledge_graph']['nodes'][subject_id]['name']\n",
    "                predicate = response.json()['message']['knowledge_graph']['edges'][edge_id]['predicate']\n",
    "                object_id = response.json()['message']['knowledge_graph']['edges'][edge_id]['object']\n",
    "                object = response.json()['message']['knowledge_graph']['nodes'][object_id]['name']\n",
    "                string_out = f\"{subject} -> {predicate} -> {object}\"\n",
    "                string_out_list.append(string_out)\n",
    "    string_out_dict = dict(Counter(string_out_list).items())\n",
    "    pp.pprint(string_out_dict)\n",
    "    print(\"\")\n",
    "    \n",
    "    with open(os.path.join(write_dir,combined_node_list[i]+\".txt\"), 'w') as convert_file:\n",
    "        convert_file.write(json.dumps(string_out_dict))\n",
    "        "
   ]
  },
  {
   "cell_type": "markdown",
   "metadata": {},
   "source": [
    "We see that the connection between Buprenorphine and CYP2D6 consists of two edge types `biolink:affects` and `biolink:directly_physically_interacts_with`. The `biolink:affects` relationship is bidirectional with one edge starting with Buprenorphine (`Buprenorphine -> biolink:affects -> CYP2D6`) and one starting with CYP2D6 (`CYP2D6 -> biolink:affects -> Buprenorphine`). These three edges are repeated for all results that include Buprenorphine and CYP2D6 as the first two nodes. Those results differ in the type of tremor found for the third node. There are three edges connecting Buprenorphine and OPRM1 (`biolink:affects`, `biolink:directly_physically_interacts_with`, `biolink:related_to`). Of note, the `biolink:affects` was identified in 4 different knowledge sources as indicated by the count reported after the colon."
   ]
  },
  {
   "cell_type": "markdown",
   "metadata": {},
   "source": [
    "## Aragorn.\n",
    "\n",
    "The results above are just database matches, there are no scores or other additions.  You can instead send the TRAPI to the robokop application using Aragorn (rather than just to the graph)"
   ]
  },
  {
   "cell_type": "code",
   "execution_count": 21,
   "metadata": {},
   "outputs": [
    {
     "name": "stdout",
     "output_type": "stream",
     "text": [
      "200\n",
      "7\n"
     ]
    }
   ],
   "source": [
    "ara_robokop_submit_url = \"https://aragorn.renci.org/robokop/query\"\n",
    "response_ara = requests.post(ara_robokop_submit_url,json=query)\n",
    "print(response_ara.status_code)\n",
    "print(len(response_ara.json()['message']['results']))"
   ]
  },
  {
   "cell_type": "code",
   "execution_count": 23,
   "metadata": {},
   "outputs": [
    {
     "name": "stdout",
     "output_type": "stream",
     "text": [
      "dict_keys(['node_bindings', 'edge_bindings', 'score'])\n",
      "dict_keys(['n02', 'n01', 'n00'])\n",
      "dict_keys(['e00', 'e01', 's2', 's5', 's6'])\n",
      "0.4306377466353769\n"
     ]
    }
   ],
   "source": [
    "pp.pprint(response_ara.json()['message']['results'][0].keys())\n",
    "pp.pprint(response_ara.json()['message']['results'][0]['node_bindings'].keys())\n",
    "pp.pprint(response_ara.json()['message']['results'][0]['edge_bindings'].keys())\n",
    "pp.pprint(response_ara.json()['message']['results'][0]['score'])"
   ]
  },
  {
   "cell_type": "markdown",
   "metadata": {},
   "source": [
    "The following assumes that the node names will sort in the correct order, which is the case with the default naming conventions. This exports the results showing the nodes and the score assigned to each result."
   ]
  },
  {
   "cell_type": "code",
   "execution_count": 25,
   "metadata": {},
   "outputs": [
    {
     "name": "stdout",
     "output_type": "stream",
     "text": [
      "                       n00       n00_name            n01 n01_name         n02  \\\n",
      "0  PUBCHEM.COMPOUND:644073  Buprenorphine  NCBIGene:1565   CYP2D6  HP:0001337   \n",
      "1  PUBCHEM.COMPOUND:644073  Buprenorphine  NCBIGene:4988    OPRM1  HP:0012164   \n",
      "2  PUBCHEM.COMPOUND:644073  Buprenorphine  NCBIGene:1565   CYP2D6  HP:0002322   \n",
      "3  PUBCHEM.COMPOUND:644073  Buprenorphine  NCBIGene:1565   CYP2D6  HP:0002345   \n",
      "4  PUBCHEM.COMPOUND:644073  Buprenorphine  NCBIGene:1565   CYP2D6  HP:0002174   \n",
      "5  PUBCHEM.COMPOUND:644073  Buprenorphine  NCBIGene:1565   CYP2D6  HP:0025387   \n",
      "6  PUBCHEM.COMPOUND:644073  Buprenorphine  NCBIGene:1565   CYP2D6  HP:0200085   \n",
      "\n",
      "              n02_name     score  \n",
      "0               Tremor  0.430638  \n",
      "1            Asterixis  0.263952  \n",
      "2       Resting tremor  0.235553  \n",
      "3        Action tremor  0.234348  \n",
      "4      Postural tremor  0.233694  \n",
      "5  Pill-rolling tremor  0.233694  \n",
      "6          Limb tremor  0.233694  \n"
     ]
    }
   ],
   "source": [
    "kg = response_ara.json()['message']['knowledge_graph']\n",
    "cols = []\n",
    "for node in sorted(response_ara.json()['message']['results'][0]['node_bindings'].keys()):\n",
    "    cols.append(node)\n",
    "    cols.append(node + '_name')\n",
    "results_df = pd.DataFrame(columns = cols)\n",
    "\n",
    "for result in response_ara.json()['message']['results']:\n",
    "    result_dict = {}\n",
    "    for node in result['node_bindings'].keys():\n",
    "        node_id = result['node_bindings'][node][0]['id']\n",
    "        result_dict[node] = node_id\n",
    "        result_dict[node + '_name'] = kg['nodes'][node_id]['name']\n",
    "    result_dict['score'] = result['score']\n",
    "    #print(result_dict)\n",
    "\n",
    "    results_df = results_df.append(result_dict, ignore_index=True)\n",
    "print(results_df)\n",
    "results_df.to_csv(os.path.join(write_dir,'results_TRAPI_aragorn.csv'))\n"
   ]
  },
  {
   "cell_type": "code",
   "execution_count": null,
   "metadata": {},
   "outputs": [],
   "source": []
  }
 ],
 "metadata": {
  "kernelspec": {
   "display_name": "Python 3",
   "language": "python",
   "name": "python3"
  },
  "language_info": {
   "codemirror_mode": {
    "name": "ipython",
    "version": 3
   },
   "file_extension": ".py",
   "mimetype": "text/x-python",
   "name": "python",
   "nbconvert_exporter": "python",
   "pygments_lexer": "ipython3",
   "version": "3.7.3"
  }
 },
 "nbformat": 4,
 "nbformat_minor": 5
}
