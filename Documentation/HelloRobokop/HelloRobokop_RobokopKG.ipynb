{
 "cells": [
  {
   "cell_type": "code",
   "execution_count": 12,
   "id": "a58266f4-8324-4b9c-8072-f3f38def719b",
   "metadata": {},
   "outputs": [],
   "source": [
    "# Parameter inputs\n",
    "robokopkg_bolt_url = \"bolt://robokopkg.renci.org:7687\"\n",
    "user = 'neo4j'\n",
    "pw = ''\n",
    "\n",
    "# Initializing directory to write\n",
    "from datetime import datetime\n",
    "from pathlib import Path\n",
    "\n",
    "now = datetime.now()\n",
    "dt_string = now.strftime(\"%Y-%m-%d_%H%M%S\")\n",
    "write_dir = Path(\"output/Cypher_robokopkg\",str(dt_string))\n",
    "write_dir.mkdir(parents=True, exist_ok=True)\n",
    "\n",
    "# Initializing Neo4j connection class\n",
    "from neo4j import GraphDatabase\n",
    "class Neo4jConnection:\n",
    "    \n",
    "    def __init__(self, uri, user, pwd):\n",
    "        self.__uri = uri\n",
    "        self.__user = user\n",
    "        self.__pwd = pwd\n",
    "        self.__driver = None\n",
    "        try:\n",
    "            self.__driver = GraphDatabase.driver(self.__uri, auth=(self.__user, self.__pwd))\n",
    "        except Exception as e:\n",
    "            print(\"Failed to create the driver:\", e)\n",
    "        \n",
    "    def close(self):\n",
    "        if self.__driver is not None:\n",
    "            self.__driver.close()\n",
    "        \n",
    "    def query(self, query, db=None):\n",
    "        assert self.__driver is not None, \"Driver not initialized!\"\n",
    "        session = None\n",
    "        response = None\n",
    "        try: \n",
    "            session = self.__driver.session(database=db) if db is not None else self.__driver.session()\n",
    "            response = list(session.run(query))\n",
    "        except Exception as e:\n",
    "            print(\"Query failed:\", e)\n",
    "        finally: \n",
    "            if session is not None:\n",
    "                session.close()\n",
    "        return response"
   ]
  },
  {
   "cell_type": "code",
   "execution_count": 13,
   "id": "e08945f3",
   "metadata": {},
   "outputs": [],
   "source": [
    "import requests\n",
    "import json"
   ]
  },
  {
   "cell_type": "code",
   "execution_count": 14,
   "id": "766ccb76",
   "metadata": {},
   "outputs": [],
   "source": [
    "import pprint\n",
    "pp = pprint.PrettyPrinter(indent=5)"
   ]
  },
  {
   "cell_type": "markdown",
   "id": "c98d9446",
   "metadata": {},
   "source": [
    "## Cypher - robokopkg.renci.org"
   ]
  },
  {
   "cell_type": "markdown",
   "id": "f0de52be",
   "metadata": {
    "tags": []
   },
   "source": [
    "A separate access point to ROBOKOP can be found at `robokopkg.renci.org` as compared to the method outlined in `HelloRobokop_Cypher.ipynb`.  A cypher query here is sent to http://robokopkg.renci.org using the bolt protocol.  After defining the helper Neo4jConnection class, the query is sent and results can be extracted below."
   ]
  },
  {
   "cell_type": "code",
   "execution_count": 15,
   "id": "c028f2de",
   "metadata": {},
   "outputs": [],
   "source": [
    "# Buprenorphine -> [Gene] -> Tremor\n",
    "cypher = f\"\"\"MATCH (n0_0:`biolink:ChemicalEntity`)-[r0_0]-(n1_0:`biolink:Gene`)-[r1_0]-(n2_0:`biolink:DiseaseOrPhenotypicFeature`)\n",
    "WHERE n0_0.name IN ['Buprenorphine'] AND n2_0.name IN ['Tremor']\n",
    "RETURN [startNode(r0_0),[type(r0_0),properties(r0_0)],endNode(r0_0)] as edge_1,\n",
    "[startNode(r1_0),[type(r1_0),properties(r1_0)],endNode(r1_0)] as edge_2,\n",
    "[n0_0.name, n1_0.name, n2_0.name] as node_names LIMIT 100\"\"\""
   ]
  },
  {
   "cell_type": "code",
   "execution_count": 16,
   "id": "0cd07b8f",
   "metadata": {},
   "outputs": [],
   "source": [
    "conn = Neo4jConnection(uri=robokopkg_bolt_url, user = user, pwd = pw)\n",
    "record_list = conn.query(cypher)"
   ]
  },
  {
   "cell_type": "markdown",
   "id": "02dc21f4",
   "metadata": {},
   "source": [
    "\n",
    "A list of records is returned from the query. The structure of each record is defined by the `RETURN` section of the query above.\n",
    "```\n",
    "<Record edge_1=[<Node element containing properties for first node of r0_0>,\n",
    "                 [list containing the type and properties for the edge],\n",
    "                 <Node element containing properties for second node of r0_0>]\n",
    "         edge_2=[<Node element containing properties for first node of r1_0>,\n",
    "                 [list containing the type and properties for the edge],\n",
    "                 <Node element containing properties for second node of r1_0>]\n",
    "         node_names=[list of node names]>\n",
    "```"
   ]
  },
  {
   "cell_type": "code",
   "execution_count": 17,
   "id": "2aec8c80",
   "metadata": {},
   "outputs": [
    {
     "name": "stdout",
     "output_type": "stream",
     "text": [
      "<Record edge_1=[<Node element_id='8421444' labels=frozenset({'biolink:NamedThing', 'biolink:PhysicalEssenceOrOccurrent', 'biolink:ChemicalOrDrugOrTreatment', 'biolink:ChemicalEntity', 'biolink:Entity', 'biolink:PhysicalEssence', 'biolink:ChemicalEntityOrProteinOrPolypeptide', 'biolink:SmallMolecule', 'biolink:MolecularEntity', 'biolink:ChemicalEntityOrGeneOrGeneProduct'}) properties={'CHEBI_ROLE_delta_opioid_agent': True, 'smiles': 'CO[C@]12CC[C@@]3(C[C@@H]1[C@](C)(O)C(C)(C)C)[C@H]1CC4=CC=C(O)C5=C4[C@@]3(CCN1CC1CC1)[C@H]2O5', 'description': 'A morphinane alkaloid that is 7,8-dihydromorphine 6-O-methyl ether in which positions 6 and 14 are joined by a -CH2CH2- bridge, one of the hydrogens of the N-methyl group is substituted by cyclopropyl, and a hydrogen at position 7 is substituted by a 2-hydroxy-3,3-dimethylbutan-2-yl group. It is highly effective for the treatment of opioid use disorder and is also increasingly being used in the treatment of chronic pain.', 'fda_labels': 74, 'rgb': 28, 'CHEBI_ROLE_analgesic': True, 'CHEBI_ROLE_opioid_agent': True, 'sp2_c': 0, 'sp3_c': 23, 'CHEBI_ROLE_antagonist': True, 'CHEBI_ROLE_agonist': True, 'CHEBI_ROLE_opioid_analgesic': True, 'cd_formula': 'C29H41NO4', 'alogs': -4.44, 'CHEBI_ROLE_opioid_receptor_agonist': True, 'id': 'PUBCHEM.COMPOUND:644073', 'CHEBI_ROLE_drug': True, 'CHEBI_ROLE_neurotransmitter_agent': True, 'lipinski': 0, 'rotb': 5, 'o_n': 5, 'halogen': 0, 'CHEBI_ROLE_mu_opioid_agent': True, 'cd_molweight': 467.65, 'CHEBI_ROLE_delta_opioid_receptor_antagonist': True, 'CHEBI_ROLE_pharmaceutical': True, 'clogp': 3.99, 'oh_nh': 2, 'hetero_sp2_c': 0, 'equivalent_identifiers': ['GTOPDB:1670', 'CAS:52485-79-7', 'INCHIKEY:RMRJXGBAOAMLHD-IHFGGWKQSA-N', 'CHEBI:3216', 'CHEMBL.COMPOUND:CHEMBL560511', 'HMDB:HMDB0015057', 'UNII:40D3SCR4GZ', 'KEGG.COMPOUND:C08007', 'DrugCentral:434', 'DRUGBANK:DB00921', 'PUBCHEM.COMPOUND:644073', 'MESH:D002047', 'UMLS:C0006405'], 'CHEBI_ROLE_kappa_opioid_receptor_antagonist': True, 'arom_c': 6, 'CHEBI_ROLE_pharmacological_role': True, 'sp_c': 0, 'mrdef': 'A derivative of the opioid alkaloid THEBAINE that is a more potent and longer lasting analgesic than MORPHINE. It appears to act as a partial agonist at mu and kappa opioid receptors and as an antagonist at delta receptors. The lack of delta-agonist activity has been suggested to account for the observation that buprenorphine tolerance may not develop with chronic use.', 'name': 'Buprenorphine', 'CHEBI_ROLE_kappa_opioid_agent': True, 'CHEBI_ROLE_mu_opioid_receptor_agonist': True, 'tpsa': 62.16, 'CHEBI_ROLE_opioid_receptor_antagonist': True, 'information_content': 100.0, 'status': 'OFP'}>, ['biolink:affects', {'object_direction_qualifier': 'decreased', 'qualified_predicate': 'biolink:causes', 'biolink:primary_knowledge_source': 'infores:ctd', 'description': 'decreases activity of', 'NCBITaxon': '9606', 'object_aspect_qualifier': 'activity', 'publications': ['PMID:12756210']}], <Node element_id='5316835' labels=frozenset({'biolink:BiologicalEntity', 'biolink:PhysicalEssence', 'biolink:OntologyClass', 'biolink:ChemicalEntityOrGeneOrGeneProduct', 'biolink:NamedThing', 'biolink:GeneOrGeneProduct', 'biolink:PhysicalEssenceOrOccurrent', 'biolink:Gene', 'biolink:ThingWithTaxon', 'biolink:GeneProductMixin', 'biolink:Entity', 'biolink:Polypeptide', 'biolink:Protein', 'biolink:MacromolecularMachineMixin', 'biolink:ChemicalEntityOrProteinOrPolypeptide', 'biolink:GenomicEntity'}) properties={'symbol': 'CYP2D6', 'locus_group': 'protein-coding gene', 'name': 'CYP2D6', 'location': '22q13.2', 'taxon': 'NCBITaxon:9606', 'id': 'NCBIGene:1565', 'NCBITaxon': '9606', 'equivalent_identifiers': ['ENSEMBL:ENSP00000483677', 'UMLS:C1332830', 'UniProtKB:Q5Y7H2', 'UMLS:C3887685', 'OMIM:124030', 'NCBIGene:1565', 'UniProtKB:P10635', 'UniProtKB:C1ID52', 'ENSEMBL:ENSG00000100197', 'PR:P10635', 'ENSEMBL:ENSP00000483677.1', 'HGNC:2625']}>] edge_2=[<Node element_id='5316835' labels=frozenset({'biolink:BiologicalEntity', 'biolink:PhysicalEssence', 'biolink:OntologyClass', 'biolink:ChemicalEntityOrGeneOrGeneProduct', 'biolink:NamedThing', 'biolink:GeneOrGeneProduct', 'biolink:PhysicalEssenceOrOccurrent', 'biolink:Gene', 'biolink:ThingWithTaxon', 'biolink:GeneProductMixin', 'biolink:Entity', 'biolink:Polypeptide', 'biolink:Protein', 'biolink:MacromolecularMachineMixin', 'biolink:ChemicalEntityOrProteinOrPolypeptide', 'biolink:GenomicEntity'}) properties={'symbol': 'CYP2D6', 'locus_group': 'protein-coding gene', 'name': 'CYP2D6', 'location': '22q13.2', 'taxon': 'NCBITaxon:9606', 'id': 'NCBIGene:1565', 'NCBITaxon': '9606', 'equivalent_identifiers': ['ENSEMBL:ENSP00000483677', 'UMLS:C1332830', 'UniProtKB:Q5Y7H2', 'UMLS:C3887685', 'OMIM:124030', 'NCBIGene:1565', 'UniProtKB:P10635', 'UniProtKB:C1ID52', 'ENSEMBL:ENSG00000100197', 'PR:P10635', 'ENSEMBL:ENSP00000483677.1', 'HGNC:2625']}>, ['biolink:genetic_association', {'score': 0.3, 'biolink:primary_knowledge_source': 'infores:disgenet', 'biolink:aggregator_knowledge_source': ['infores:pharos']}], <Node element_id='5171187' labels=frozenset({'biolink:Entity', 'biolink:NamedThing', 'biolink:PhenotypicFeature', 'biolink:BiologicalEntity', 'biolink:DiseaseOrPhenotypicFeature', 'biolink:ThingWithTaxon'}) properties={'name': 'Tremor', 'description': 'An unintentional, oscillating to-and-fro muscle movement about a joint axis.', 'id': 'HP:0001337', 'equivalent_identifiers': ['UMLS:C1527384', 'NCIT:C38038', 'MEDDRA:10044562', 'SNOMEDCT:26079004', 'HP:0001337', 'MEDDRA:10044563', 'SNOMEDCT:267079009', 'MESH:D014202', 'UMLS:C0040822', 'MEDDRA:10040528', 'MEDDRA:10044565', 'UMLS:C0234369']}>] node_names=['Buprenorphine', 'CYP2D6', 'Tremor']>\n"
     ]
    }
   ],
   "source": [
    "record = record_list[0]\n",
    "print(record)"
   ]
  },
  {
   "cell_type": "markdown",
   "id": "d49884ab",
   "metadata": {},
   "source": [
    "The data can be accessed using the data() method. Known keys can be passed to data(), but leaving it blank will return everything as a Dictionary. Data in records are returned with keys based on the original query labels. "
   ]
  },
  {
   "cell_type": "code",
   "execution_count": 18,
   "id": "8dc4eca8",
   "metadata": {},
   "outputs": [
    {
     "name": "stdout",
     "output_type": "stream",
     "text": [
      "{    'edge_1': [    {    'CHEBI_ROLE_agonist': True,\n",
      "                         'CHEBI_ROLE_analgesic': True,\n",
      "                         'CHEBI_ROLE_antagonist': True,\n",
      "                         'CHEBI_ROLE_delta_opioid_agent': True,\n",
      "                         'CHEBI_ROLE_delta_opioid_receptor_antagonist': True,\n",
      "                         'CHEBI_ROLE_drug': True,\n",
      "                         'CHEBI_ROLE_kappa_opioid_agent': True,\n",
      "                         'CHEBI_ROLE_kappa_opioid_receptor_antagonist': True,\n",
      "                         'CHEBI_ROLE_mu_opioid_agent': True,\n",
      "                         'CHEBI_ROLE_mu_opioid_receptor_agonist': True,\n",
      "                         'CHEBI_ROLE_neurotransmitter_agent': True,\n",
      "                         'CHEBI_ROLE_opioid_agent': True,\n",
      "                         'CHEBI_ROLE_opioid_analgesic': True,\n",
      "                         'CHEBI_ROLE_opioid_receptor_agonist': True,\n",
      "                         'CHEBI_ROLE_opioid_receptor_antagonist': True,\n",
      "                         'CHEBI_ROLE_pharmaceutical': True,\n",
      "                         'CHEBI_ROLE_pharmacological_role': True,\n",
      "                         'alogs': -4.44,\n",
      "                         'arom_c': 6,\n",
      "                         'cd_formula': 'C29H41NO4',\n",
      "                         'cd_molweight': 467.65,\n",
      "                         'clogp': 3.99,\n",
      "                         'description': 'A morphinane alkaloid that is '\n",
      "                                        '7,8-dihydromorphine 6-O-methyl ether '\n",
      "                                        'in which positions 6 and 14 are '\n",
      "                                        'joined by a -CH2CH2- bridge, one of '\n",
      "                                        'the hydrogens of the N-methyl group '\n",
      "                                        'is substituted by cyclopropyl, and a '\n",
      "                                        'hydrogen at position 7 is substituted '\n",
      "                                        'by a 2-hydroxy-3,3-dimethylbutan-2-yl '\n",
      "                                        'group. It is highly effective for the '\n",
      "                                        'treatment of opioid use disorder and '\n",
      "                                        'is also increasingly being used in '\n",
      "                                        'the treatment of chronic pain.',\n",
      "                         'equivalent_identifiers': [    'GTOPDB:1670',\n",
      "                                                        'CAS:52485-79-7',\n",
      "                                                        'INCHIKEY:RMRJXGBAOAMLHD-IHFGGWKQSA-N',\n",
      "                                                        'CHEBI:3216',\n",
      "                                                        'CHEMBL.COMPOUND:CHEMBL560511',\n",
      "                                                        'HMDB:HMDB0015057',\n",
      "                                                        'UNII:40D3SCR4GZ',\n",
      "                                                        'KEGG.COMPOUND:C08007',\n",
      "                                                        'DrugCentral:434',\n",
      "                                                        'DRUGBANK:DB00921',\n",
      "                                                        'PUBCHEM.COMPOUND:644073',\n",
      "                                                        'MESH:D002047',\n",
      "                                                        'UMLS:C0006405'],\n",
      "                         'fda_labels': 74,\n",
      "                         'halogen': 0,\n",
      "                         'hetero_sp2_c': 0,\n",
      "                         'id': 'PUBCHEM.COMPOUND:644073',\n",
      "                         'information_content': 100.0,\n",
      "                         'lipinski': 0,\n",
      "                         'mrdef': 'A derivative of the opioid alkaloid '\n",
      "                                  'THEBAINE that is a more potent and longer '\n",
      "                                  'lasting analgesic than MORPHINE. It appears '\n",
      "                                  'to act as a partial agonist at mu and kappa '\n",
      "                                  'opioid receptors and as an antagonist at '\n",
      "                                  'delta receptors. The lack of delta-agonist '\n",
      "                                  'activity has been suggested to account for '\n",
      "                                  'the observation that buprenorphine '\n",
      "                                  'tolerance may not develop with chronic use.',\n",
      "                         'name': 'Buprenorphine',\n",
      "                         'o_n': 5,\n",
      "                         'oh_nh': 2,\n",
      "                         'rgb': 28,\n",
      "                         'rotb': 5,\n",
      "                         'smiles': 'CO[C@]12CC[C@@]3(C[C@@H]1[C@](C)(O)C(C)(C)C)[C@H]1CC4=CC=C(O)C5=C4[C@@]3(CCN1CC1CC1)[C@H]2O5',\n",
      "                         'sp2_c': 0,\n",
      "                         'sp3_c': 23,\n",
      "                         'sp_c': 0,\n",
      "                         'status': 'OFP',\n",
      "                         'tpsa': 62.16},\n",
      "                    [    'biolink:affects',\n",
      "                         {    'NCBITaxon': '9606',\n",
      "                              'biolink:primary_knowledge_source': 'infores:ctd',\n",
      "                              'description': 'decreases activity of',\n",
      "                              'object_aspect_qualifier': 'activity',\n",
      "                              'object_direction_qualifier': 'decreased',\n",
      "                              'publications': ['PMID:12756210'],\n",
      "                              'qualified_predicate': 'biolink:causes'}],\n",
      "                    {    'NCBITaxon': '9606',\n",
      "                         'equivalent_identifiers': [    'ENSEMBL:ENSP00000483677',\n",
      "                                                        'UMLS:C1332830',\n",
      "                                                        'UniProtKB:Q5Y7H2',\n",
      "                                                        'UMLS:C3887685',\n",
      "                                                        'OMIM:124030',\n",
      "                                                        'NCBIGene:1565',\n",
      "                                                        'UniProtKB:P10635',\n",
      "                                                        'UniProtKB:C1ID52',\n",
      "                                                        'ENSEMBL:ENSG00000100197',\n",
      "                                                        'PR:P10635',\n",
      "                                                        'ENSEMBL:ENSP00000483677.1',\n",
      "                                                        'HGNC:2625'],\n",
      "                         'id': 'NCBIGene:1565',\n",
      "                         'location': '22q13.2',\n",
      "                         'locus_group': 'protein-coding gene',\n",
      "                         'name': 'CYP2D6',\n",
      "                         'symbol': 'CYP2D6',\n",
      "                         'taxon': 'NCBITaxon:9606'}],\n",
      "     'edge_2': [    {    'NCBITaxon': '9606',\n",
      "                         'equivalent_identifiers': [    'ENSEMBL:ENSP00000483677',\n",
      "                                                        'UMLS:C1332830',\n",
      "                                                        'UniProtKB:Q5Y7H2',\n",
      "                                                        'UMLS:C3887685',\n",
      "                                                        'OMIM:124030',\n",
      "                                                        'NCBIGene:1565',\n",
      "                                                        'UniProtKB:P10635',\n",
      "                                                        'UniProtKB:C1ID52',\n",
      "                                                        'ENSEMBL:ENSG00000100197',\n",
      "                                                        'PR:P10635',\n",
      "                                                        'ENSEMBL:ENSP00000483677.1',\n",
      "                                                        'HGNC:2625'],\n",
      "                         'id': 'NCBIGene:1565',\n",
      "                         'location': '22q13.2',\n",
      "                         'locus_group': 'protein-coding gene',\n",
      "                         'name': 'CYP2D6',\n",
      "                         'symbol': 'CYP2D6',\n",
      "                         'taxon': 'NCBITaxon:9606'},\n",
      "                    [    'biolink:genetic_association',\n",
      "                         {    'biolink:aggregator_knowledge_source': [    'infores:pharos'],\n",
      "                              'biolink:primary_knowledge_source': 'infores:disgenet',\n",
      "                              'score': 0.3}],\n",
      "                    {    'description': 'An unintentional, oscillating '\n",
      "                                        'to-and-fro muscle movement about a '\n",
      "                                        'joint axis.',\n",
      "                         'equivalent_identifiers': [    'UMLS:C1527384',\n",
      "                                                        'NCIT:C38038',\n",
      "                                                        'MEDDRA:10044562',\n",
      "                                                        'SNOMEDCT:26079004',\n",
      "                                                        'HP:0001337',\n",
      "                                                        'MEDDRA:10044563',\n",
      "                                                        'SNOMEDCT:267079009',\n",
      "                                                        'MESH:D014202',\n",
      "                                                        'UMLS:C0040822',\n",
      "                                                        'MEDDRA:10040528',\n",
      "                                                        'MEDDRA:10044565',\n",
      "                                                        'UMLS:C0234369'],\n",
      "                         'id': 'HP:0001337',\n",
      "                         'name': 'Tremor'}],\n",
      "     'node_names': ['Buprenorphine', 'CYP2D6', 'Tremor']}\n"
     ]
    }
   ],
   "source": [
    "record_data = record.data()\n",
    "pp.pprint(record_data)"
   ]
  },
  {
   "cell_type": "markdown",
   "id": "7814532e",
   "metadata": {},
   "source": [
    "Results are extracted and stored in the format of subject -> predicate -> object, followed by the remaining edge properties. Including the edge properties helps to distinguish edges that may have the same predicates. Unique entries are appended to a list, counted, and then written to a text file.\n",
    "\n",
    "The code below extracts results based on the structure of the original cypher query in the section above.  Any changes to the `RETURN` part of the query will require adjustments to the code below."
   ]
  },
  {
   "cell_type": "code",
   "execution_count": 19,
   "id": "48a1e58c",
   "metadata": {},
   "outputs": [
    {
     "name": "stdout",
     "output_type": "stream",
     "text": [
      "Buprenorphine_CYP2D6_Tremor\n",
      "{    'edge_1 - Buprenorphine -> biolink:affects -> CYP2D6': 1,\n",
      "     'edge_1 - Buprenorphine -> biolink:directly_physically_interacts_with -> CYP2D6': 1,\n",
      "     'edge_1 - Buprenorphine -> biolink:regulates -> CYP2D6': 1,\n",
      "     'edge_1 - CYP2D6 -> biolink:affects -> Buprenorphine': 1,\n",
      "     'edge_2 - CYP2D6 -> biolink:genetic_association -> Tremor': 2}\n"
     ]
    }
   ],
   "source": [
    "import os\n",
    "from collections import Counter\n",
    "\n",
    "string_out_list = []\n",
    "for record in record_list: \n",
    "    record_data = record.data()\n",
    "    #only grab the edge information and skip the list of node names\n",
    "    record_data_first2 = {k: record_data[k] for k in list(record_data)[:2]}\n",
    "    for label, data in record_data_first2.items():\n",
    "        string_out = f\"{label} - {data[0]['name']} -> {data[1][0]} -> {data[2]['name']}||{data[1][1]}\"\n",
    "        # print(f\"{data[0]['name']} -> {data[1][0]} -> {data[2]['name']}\")\n",
    "        # print(f\"Edge properties: {data[1][1]}\")\n",
    "        if string_out not in string_out_list:\n",
    "            string_out_list.append(string_out)\n",
    "\n",
    "combined_node_list = \"_\".join(list(record_list[0].data('node_names').values())[0])\n",
    "print(combined_node_list)\n",
    "\n",
    "string_out_list = [i.split('||', 1)[0] for i in string_out_list]\n",
    "\n",
    "string_out_dict = dict(Counter(string_out_list).items())\n",
    "pp.pprint(string_out_dict)"
   ]
  },
  {
   "cell_type": "markdown",
   "id": "d1a3ada4",
   "metadata": {},
   "source": [
    "Writing results below after confirming that the output looks good."
   ]
  },
  {
   "cell_type": "code",
   "execution_count": 20,
   "id": "abef16ae",
   "metadata": {},
   "outputs": [],
   "source": [
    "with open(os.path.join(write_dir,combined_node_list+\".txt\"), 'w') as convert_file:\n",
    "    convert_file.write(json.dumps(string_out_dict))"
   ]
  },
  {
   "cell_type": "markdown",
   "id": "6ab7f6c5",
   "metadata": {},
   "source": [
    "Close the Cypher connection when finished."
   ]
  },
  {
   "cell_type": "code",
   "execution_count": 21,
   "id": "9a9a8a30",
   "metadata": {},
   "outputs": [],
   "source": [
    "conn.close()"
   ]
  },
  {
   "cell_type": "code",
   "execution_count": null,
   "id": "9416b9e0",
   "metadata": {},
   "outputs": [],
   "source": []
  }
 ],
 "metadata": {
  "kernelspec": {
   "display_name": "Python 3 (ipykernel)",
   "language": "python",
   "name": "python3"
  },
  "language_info": {
   "codemirror_mode": {
    "name": "ipython",
    "version": 3
   },
   "file_extension": ".py",
   "mimetype": "text/x-python",
   "name": "python",
   "nbconvert_exporter": "python",
   "pygments_lexer": "ipython3",
   "version": "3.8.10"
  }
 },
 "nbformat": 4,
 "nbformat_minor": 5
}
