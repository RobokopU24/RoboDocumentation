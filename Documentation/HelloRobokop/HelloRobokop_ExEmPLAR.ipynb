{
 "cells": [
  {
   "cell_type": "code",
   "execution_count": 1,
   "id": "e08945f3",
   "metadata": {},
   "outputs": [],
   "source": [
    "import requests\n",
    "import json"
   ]
  },
  {
   "cell_type": "code",
   "execution_count": 2,
   "id": "766ccb76",
   "metadata": {},
   "outputs": [],
   "source": [
    "import pprint\n",
    "pp = pprint.PrettyPrinter(indent=5)"
   ]
  },
  {
   "cell_type": "markdown",
   "id": "4d69d754",
   "metadata": {
    "tags": []
   },
   "source": [
    "## Intro to ExEmPLAR"
   ]
  },
  {
   "cell_type": "markdown",
   "id": "8e6136ec",
   "metadata": {},
   "source": [
    "ExEmPLAR (https://www.exemplar.mml.unc.edu/) is an additional GUI-based tool that uses Cypher to explore the ROBOKOP KG. More information on the use of this tool is available here: https://github.com/beasleyjonm/AOP-COP-Path-Extractor. Start and End Nodes can be specified by type and have multiple terms specified.  The labels applied to the Start and End Nodes can be checked against the KG for presence or absence.  Additionally, the number of nodes in-between can be specified along with edge types.  By default, a query from ExEmPLAR will return a collapsed version of edge results. This behavior can be changed by clicking the \"Get Result Metadata\" checkbox. Note that directionality is not preserved in the query results, but the orientation of the nodes are preserved.  For example, `Buprenorphine` - `CYP2D6` - `Tremor` will be returned with edge labels, but not which direction the edge applies.\n",
    "\n",
    "Using the same `Buprenorphine` - `Gene` - `Tremor` example as above, three rows are returned.  These are in a collapsed form of the results from queries to `robokopkg.renci.org` above, summarized below.\n",
    " - `Buprenorphine` - `affects` - `CYP2D6`\n",
    " - `Buprenorphine` - `directly physically interacts with` - `CYP2D6`\n",
    " - `Buprenorphine` - `regulates` - `CYP2D6`\n",
    " - `CYP2D6` - `genetic association` - `Tremor`"
   ]
  },
  {
   "cell_type": "markdown",
   "id": "ab801d2c",
   "metadata": {
    "tags": []
   },
   "source": [
    "## ExEmPLAR - RETURN * notation"
   ]
  },
  {
   "cell_type": "markdown",
   "id": "cbb7feab",
   "metadata": {},
   "source": [
    "ExEmPLAR also has a `Copy` tool that generates cypher queries after setting up a query pattern.  An example using the copied pre-genereated cypher query to each of `automat.renci.org` and `robokopkg.renci.org` is below.  This can be useful for setting up an initial Cypher query if a user is not familiar with writing in Cypher.\n",
    "\n",
    "The difficulty faced with the copied query is that \"RETURN \\*\" is not specific with the structures given back.  In the queries to `automat.renci.org` and `robokopkg.renci.org`, while the nodes and their respective information are preserved, the edges have differing amounts of information returned.  The query to `automat.renci.org` gets most of the edge properties except for the edge predicate and subject/object nodes, thus directionality.  The query to `robokopkg.renci.org` returns the opposite, where the edge predicate is solely returned with no edge properties, which makes the returned information appear redundant."
   ]
  },
  {
   "cell_type": "code",
   "execution_count": 12,
   "id": "321cf3d9",
   "metadata": {},
   "outputs": [],
   "source": [
    "cypher_exemplar = \"MATCH (n0_0:`biolink:ChemicalEntity`)-[r0_0]-(n1_0:`biolink:Gene`)-[r1_0]-(n2_0:`biolink:DiseaseOrPhenotypicFeature`) WHERE n0_0.name IN ['Buprenorphine'] AND n2_0.name IN ['Tremor'] RETURN * LIMIT 100\""
   ]
  },
  {
   "cell_type": "code",
   "execution_count": 13,
   "id": "0a93074e",
   "metadata": {},
   "outputs": [],
   "source": [
    "import pprint\n",
    "pp = pprint.PrettyPrinter(indent=5)"
   ]
  },
  {
   "cell_type": "code",
   "execution_count": 14,
   "id": "ef8fd7bb",
   "metadata": {},
   "outputs": [],
   "source": [
    "import requests\n",
    "import json\n",
    "\n",
    "j = {'query': cypher_exemplar}\n",
    "results = requests.post('https://automat.renci.org/robokopkg/cypher',json=j)\n",
    "results_json = results.json()"
   ]
  },
  {
   "cell_type": "code",
   "execution_count": 15,
   "id": "00a244da",
   "metadata": {},
   "outputs": [
    {
     "name": "stdout",
     "output_type": "stream",
     "text": [
      "Query to automat.renci.org\n",
      "Result 1\n",
      "Buprenorphine -> biolink:causes -> CYP2D6 -> NOT FOUND -> Tremor\n",
      "Edge 1 info: {'object_direction_qualifier': 'decreased', 'qualified_predicate': 'biolink:causes', 'biolink:primary_knowledge_source': 'infores:ctd', 'description': 'decreases activity of', 'NCBITaxon': '9606', 'object_aspect_qualifier': 'activity', 'publications': ['PMID:12756210']}\n",
      "Edge 2 info: {'score': 0.3, 'biolink:primary_knowledge_source': 'infores:disgenet', 'biolink:aggregator_knowledge_source': ['infores:pharos']}\n",
      "\n",
      "Result 2\n",
      "Buprenorphine -> biolink:causes -> CYP2D6 -> NOT FOUND -> Tremor\n",
      "Edge 1 info: {'object_direction_qualifier': 'increased', 'qualified_predicate': 'biolink:causes', 'biolink:primary_knowledge_source': 'infores:ctd', 'description': 'increases metabolic processing of', 'NCBITaxon': '9606', 'object_aspect_qualifier': 'metabolic_processing', 'publications': ['PMID:12756210']}\n",
      "Edge 2 info: {'score': 0.3, 'biolink:primary_knowledge_source': 'infores:disgenet', 'biolink:aggregator_knowledge_source': ['infores:pharos']}\n",
      "\n",
      "Result 3\n",
      "Buprenorphine -> NOT FOUND -> CYP2D6 -> NOT FOUND -> Tremor\n",
      "Edge 1 info: {'object_direction_qualifier': 'downregulated', 'sentences': 'Buprenorphine exhibited potent, competitive inhibition of CYP2D6 (Ki 10 +/- 2 microM and 1.8 +/- 0.2 microM) and CYP3A4 (Ki 40 +/- 1.6 microM and 19 +/- 1.2 microM) in microsomes from human liver and cDNA-expressing lymphoblasts, respectively.|PMID:12756210', 'biolink:primary_knowledge_source': 'infores:textminingkp', 'biolink:tmkp_confidence_score': '0.99969625', 'tmkp_ids': ['tmkp:12699a64cae70b20411935b5e5028d220ccbe4f7a0ad13a81978026cb43111bf'], 'publications': ['PMID:12756210']}\n",
      "Edge 2 info: {'score': 0.3, 'biolink:primary_knowledge_source': 'infores:disgenet', 'biolink:aggregator_knowledge_source': ['infores:pharos']}\n",
      "\n",
      "Result 4\n",
      "Buprenorphine -> NOT FOUND -> CYP2D6 -> NOT FOUND -> Tremor\n",
      "Edge 1 info: {'biolink:primary_knowledge_source': 'infores:hetionet', 'hetio_source': ['DrugBank (enzyme)']}\n",
      "Edge 2 info: {'score': 0.3, 'biolink:primary_knowledge_source': 'infores:disgenet', 'biolink:aggregator_knowledge_source': ['infores:pharos']}\n",
      "\n",
      "Result 5\n",
      "Buprenorphine -> biolink:causes -> CYP2D6 -> NOT FOUND -> Tremor\n",
      "Edge 1 info: {'object_direction_qualifier': 'decreased', 'qualified_predicate': 'biolink:causes', 'biolink:primary_knowledge_source': 'infores:ctd', 'description': 'decreases activity of', 'NCBITaxon': '9606', 'object_aspect_qualifier': 'activity', 'publications': ['PMID:12756210']}\n",
      "Edge 2 info: {'biolink:primary_knowledge_source': 'infores:ctd', 'biolink:aggregator_knowledge_source': ['infores:pharos']}\n",
      "\n",
      "Result 6\n",
      "Buprenorphine -> biolink:causes -> CYP2D6 -> NOT FOUND -> Tremor\n",
      "Edge 1 info: {'object_direction_qualifier': 'increased', 'qualified_predicate': 'biolink:causes', 'biolink:primary_knowledge_source': 'infores:ctd', 'description': 'increases metabolic processing of', 'NCBITaxon': '9606', 'object_aspect_qualifier': 'metabolic_processing', 'publications': ['PMID:12756210']}\n",
      "Edge 2 info: {'biolink:primary_knowledge_source': 'infores:ctd', 'biolink:aggregator_knowledge_source': ['infores:pharos']}\n",
      "\n",
      "Result 7\n",
      "Buprenorphine -> NOT FOUND -> CYP2D6 -> NOT FOUND -> Tremor\n",
      "Edge 1 info: {'object_direction_qualifier': 'downregulated', 'sentences': 'Buprenorphine exhibited potent, competitive inhibition of CYP2D6 (Ki 10 +/- 2 microM and 1.8 +/- 0.2 microM) and CYP3A4 (Ki 40 +/- 1.6 microM and 19 +/- 1.2 microM) in microsomes from human liver and cDNA-expressing lymphoblasts, respectively.|PMID:12756210', 'biolink:primary_knowledge_source': 'infores:textminingkp', 'biolink:tmkp_confidence_score': '0.99969625', 'tmkp_ids': ['tmkp:12699a64cae70b20411935b5e5028d220ccbe4f7a0ad13a81978026cb43111bf'], 'publications': ['PMID:12756210']}\n",
      "Edge 2 info: {'biolink:primary_knowledge_source': 'infores:ctd', 'biolink:aggregator_knowledge_source': ['infores:pharos']}\n",
      "\n",
      "Result 8\n",
      "Buprenorphine -> NOT FOUND -> CYP2D6 -> NOT FOUND -> Tremor\n",
      "Edge 1 info: {'biolink:primary_knowledge_source': 'infores:hetionet', 'hetio_source': ['DrugBank (enzyme)']}\n",
      "Edge 2 info: {'biolink:primary_knowledge_source': 'infores:ctd', 'biolink:aggregator_knowledge_source': ['infores:pharos']}\n",
      "\n"
     ]
    }
   ],
   "source": [
    "print(\"Query to automat.renci.org\")\n",
    "i = 0\n",
    "for result in results_json['results'][0]['data']:\n",
    "    i = i + 1\n",
    "    n1 = result['row'][0].get('name') or \"NOT FOUND\"\n",
    "    n2 = result['row'][1].get('name') or \"NOT FOUND\"\n",
    "    n3 = result['row'][2].get('name') or \"NOT FOUND\"\n",
    "    e1 = result['row'][3].get('qualified_predicate') or \"NOT FOUND\"\n",
    "    e2 = result['row'][4].get('qualified_predicate') or \"NOT FOUND\"\n",
    "    print(f\"Result {i}\")\n",
    "    print(f\"{n1} -> {e1} -> {n2} -> {e2} -> {n3}\")\n",
    "    print(f\"Edge 1 info: {result['row'][3]}\")\n",
    "    print(f\"Edge 2 info: {result['row'][4]}\\n\")\n",
    "    "
   ]
  },
  {
   "cell_type": "code",
   "execution_count": 4,
   "id": "0f99b3e8",
   "metadata": {
    "tags": []
   },
   "outputs": [],
   "source": [
    "from neo4j import GraphDatabase\n",
    "class Neo4jConnection:\n",
    "    \n",
    "    def __init__(self, uri, user, pwd):\n",
    "        self.__uri = uri\n",
    "        self.__user = user\n",
    "        self.__pwd = pwd\n",
    "        self.__driver = None\n",
    "        try:\n",
    "            self.__driver = GraphDatabase.driver(self.__uri, auth=(self.__user, self.__pwd))\n",
    "        except Exception as e:\n",
    "            print(\"Failed to create the driver:\", e)\n",
    "        \n",
    "    def close(self):\n",
    "        if self.__driver is not None:\n",
    "            self.__driver.close()\n",
    "        \n",
    "    def query(self, query, db=None):\n",
    "        assert self.__driver is not None, \"Driver not initialized!\"\n",
    "        session = None\n",
    "        response = None\n",
    "        try: \n",
    "            session = self.__driver.session(database=db) if db is not None else self.__driver.session()\n",
    "            response = list(session.run(query))\n",
    "        except Exception as e:\n",
    "            print(\"Query failed:\", e)\n",
    "        finally: \n",
    "            if session is not None:\n",
    "                session.close()\n",
    "        return response"
   ]
  },
  {
   "cell_type": "code",
   "execution_count": 16,
   "id": "96f112df",
   "metadata": {},
   "outputs": [],
   "source": [
    "pw = ''\n",
    "conn = Neo4jConnection(uri=\"bolt://robokopkg.renci.org:7687\", user = 'neo4j', pwd = pw)\n",
    "record_list = conn.query(cypher_exemplar)"
   ]
  },
  {
   "cell_type": "code",
   "execution_count": 17,
   "id": "88c90280",
   "metadata": {},
   "outputs": [
    {
     "name": "stdout",
     "output_type": "stream",
     "text": [
      "Query to robokopkg.renci.org\n",
      "Result 1:\n",
      "Buprenorphine - biolink:affects - CYP2D6\n",
      "CYP2D6 - biolink:genetic_association - Tremor\n",
      "\n",
      "Result 2:\n",
      "CYP2D6 - biolink:affects - Buprenorphine\n",
      "CYP2D6 - biolink:genetic_association - Tremor\n",
      "\n",
      "Result 3:\n",
      "Buprenorphine - biolink:regulates - CYP2D6\n",
      "CYP2D6 - biolink:genetic_association - Tremor\n",
      "\n",
      "Result 4:\n",
      "Buprenorphine - biolink:directly_physically_interacts_with - CYP2D6\n",
      "CYP2D6 - biolink:genetic_association - Tremor\n",
      "\n",
      "Result 5:\n",
      "Buprenorphine - biolink:affects - CYP2D6\n",
      "CYP2D6 - biolink:genetic_association - Tremor\n",
      "\n",
      "Result 6:\n",
      "CYP2D6 - biolink:affects - Buprenorphine\n",
      "CYP2D6 - biolink:genetic_association - Tremor\n",
      "\n",
      "Result 7:\n",
      "Buprenorphine - biolink:regulates - CYP2D6\n",
      "CYP2D6 - biolink:genetic_association - Tremor\n",
      "\n",
      "Result 8:\n",
      "Buprenorphine - biolink:directly_physically_interacts_with - CYP2D6\n",
      "CYP2D6 - biolink:genetic_association - Tremor\n",
      "\n"
     ]
    }
   ],
   "source": [
    "import os\n",
    "\n",
    "print(\"Query to robokopkg.renci.org\")\n",
    "\n",
    "i = 0\n",
    "for record in record_list: \n",
    "    i = i + 1\n",
    "    record_data = record.data()\n",
    "    \n",
    "    print(f\"Result {i}:\")\n",
    "    for label, data in record_data.items():\n",
    "        if 'r' in label:\n",
    "            print(f\"{data[0]['name']} - {data[1]} - {data[2]['name']}\")\n",
    "    print()"
   ]
  },
  {
   "cell_type": "markdown",
   "id": "c63bc84c",
   "metadata": {},
   "source": [
    "To summarize, we encountered issues with using the notation \"RETURN \\*\", mainly because this is not specific with what to return.  Queries to `automat` return edge properties, not including direction or predicates, but queries to `robokopkg.renci.org` return the direction and predicates, not including edge properties.  Above, for `robokopkg.renci.org`, it appears as if results 1 & 5, 2 & 6, 3 & 7, and 4 & 8 are duplicates of each other, while for `automat.renci.org`, edge predicates are missing.  We replaced the \"\\*\" with a format to get node pairs and specific relationship information, including the type and properties.  This is demonstrated in section [Cypher - robokopkg.renci.org](#Cypher---robokopkg.renci.org) in this notebook and in the HelloRobokop_Cypher notebook."
   ]
  },
  {
   "cell_type": "code",
   "execution_count": null,
   "id": "9416b9e0",
   "metadata": {},
   "outputs": [],
   "source": []
  }
 ],
 "metadata": {
  "kernelspec": {
   "display_name": "Python 3 (ipykernel)",
   "language": "python",
   "name": "python3"
  },
  "language_info": {
   "codemirror_mode": {
    "name": "ipython",
    "version": 3
   },
   "file_extension": ".py",
   "mimetype": "text/x-python",
   "name": "python",
   "nbconvert_exporter": "python",
   "pygments_lexer": "ipython3",
   "version": "3.8.10"
  }
 },
 "nbformat": 4,
 "nbformat_minor": 5
}
