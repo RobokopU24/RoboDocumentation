{
 "cells": [
  {
   "cell_type": "code",
   "execution_count": null,
   "id": "c2b5bd45",
   "metadata": {},
   "outputs": [],
   "source": [
    "import requests\n",
    "import json"
   ]
  },
  {
   "cell_type": "markdown",
   "id": "b8c458e3",
   "metadata": {},
   "source": [
    "This notebook provides a deeper dive into the TRAPI options for querying the ROBOKOP KG using the ARA functionality. It assumes you are familiar with the concepts covered in `HelloRobokop.ipynb` and `HelloRobokop_TRAPI.ipynb`.  This follows the same format and process as in `HelloRobokop_TRAPI.ipynb` except using the API to Aragorn and examining returned scoring information.\n",
    "\n",
    "TRAPI Documentation: https://github.com/NCATSTranslator/ReasonerAPI\n",
    "\n",
    "Most TRAPI documents contain a `message` key.  Within that `message` are a `query_graph` denoting the user query,\n",
    "a `knowledge_graph` consisting of the union of all nodes and edges that match the `query_graph` pattern, and a list of `results` that bind `query_graph` elements to `knowledge_graph` elements.\n",
    "\n",
    "The following message contains only a `query_graph`.  This query graph consists of 3 nodes connected together in a line.   Two of the nodes (`n00` and `n02`) have specified identifiers, while the middle node of the line does not.  Rather the middle node has a list of `categories` that are acceptable.\n",
    "\n",
    "For a researcher who is starting from a `name` who wants to use TRAPI, they can use the Name Resolver tool to get the identifers for the nodes.  This is illustrated in the `HelloRobokop_TRAPI_multiple_IDs.ipynb` notebook. \n",
    "\n",
    "This query asks \"Find me a Biological Process or Activity, or a Gene, or a Pathway that is related to both `PUBCHEM.COMPOUND:644073` (Buprenorphine) and `HP:0001337` (Tremor)."
   ]
  },
  {
   "cell_type": "code",
   "execution_count": null,
   "id": "35558066",
   "metadata": {},
   "outputs": [],
   "source": [
    "query={\n",
    "    \"message\": {\n",
    "      \"query_graph\": {\n",
    "        \"edges\": {\n",
    "          \"e00\": {\n",
    "            \"subject\": \"n00\",\n",
    "              \"object\": \"n01\",\n",
    "          \"predicates\":[\"biolink:related_to\"]\n",
    "          },\n",
    "          \"e01\": {\n",
    "            \"subject\": \"n01\",\n",
    "              \"object\": \"n02\",\n",
    "          \"predicates\":[\"biolink:related_to\"]\n",
    "          }\n",
    "        },\n",
    "        \"nodes\": {\n",
    "          \"n00\": {\n",
    "            \"ids\": [\"PUBCHEM.COMPOUND:644073\"],\n",
    "            \"categories\": [\"biolink:ChemicalEntity\"]\n",
    "          },\n",
    "          \"n01\": {\n",
    "              \"categories\": [\"biolink:BiologicalProcessOrActivity\",\"biolink:Gene\",\"biolink:Pathway\"]\n",
    "          },\n",
    "          \"n02\": {\n",
    "            \"ids\": [\"HP:0001337\"],\n",
    "            \"categories\": [\"biolink:DiseaseOrPhenotypicFeature\"]\n",
    "          }\n",
    "        }\n",
    "      }\n",
    "    }\n",
    "  }\n"
   ]
  },
  {
   "cell_type": "markdown",
   "id": "ac7b1047",
   "metadata": {},
   "source": [
    "This query can be sent to various components of Translator as needed.  It can be sent directly to the ROBOKOP KG hosted in the Automat system like this:"
   ]
  },
  {
   "cell_type": "code",
   "execution_count": null,
   "id": "8aabca1a",
   "metadata": {},
   "outputs": [],
   "source": [
    "aragorn_submit = \"https://aragorn-u24.apps.renci.org/robokop/query\"\n",
    "response = requests.post(aragorn_submit,json=query)\n",
    "print(response.status_code)\n",
    "number_pathway_results = len(response.json()['message']['results'])\n",
    "print(len(response.json()['message']['results']))"
   ]
  },
  {
   "cell_type": "code",
   "execution_count": null,
   "id": "0329c676",
   "metadata": {},
   "outputs": [],
   "source": [
    "import pprint\n",
    "pp = pprint.PrettyPrinter(indent=5)"
   ]
  },
  {
   "cell_type": "markdown",
   "id": "b251ce7c",
   "metadata": {},
   "source": [
    "The response in JSON form is a python dictionary with three main keys, the `message`, `log_level`, and `workflow`.  The `message` property contains the `query_graph`, `knowledge_graph`, and `results` from the query."
   ]
  },
  {
   "cell_type": "code",
   "execution_count": null,
   "id": "50bc1cf8",
   "metadata": {},
   "outputs": [],
   "source": [
    "print(response.json().keys())\n",
    "print(response.json()['message'].keys())\n",
    "\n",
    "query_out = response.json()['message']['query_graph']\n",
    "kg = response.json()['message']['knowledge_graph']\n",
    "results = response.json()['message']['results']"
   ]
  },
  {
   "cell_type": "markdown",
   "id": "63519735-e61f-44f1-a820-6e6ebf31204c",
   "metadata": {},
   "source": [
    "The original, submitted query graph with additional fields is returned with the `message` property in the `query_graph` property.\n",
    "\n",
    "The code below shows the changes between the submitted query graph and the results query graph. The results includes additional attributes such as `knowledge_type`, `attribute_constraints`, and `qualifier_constraints`.  These attributes can be explicitly defined when submitting to automat such that further filtering can be done.  Because nothing was specified for these attributes in the submitted query graph, their values in the returned query graph are blank."
   ]
  },
  {
   "cell_type": "code",
   "execution_count": null,
   "id": "a4e3a196-3c0a-4273-9315-67182f2fa16f",
   "metadata": {},
   "outputs": [],
   "source": [
    "edges = [\"e00\", \"e01\"]\n",
    "nodes = [\"n00\", \"n01\", \"n02\"]\n",
    "\n",
    "print(nodes)\n",
    "print(edges)\n",
    "pp.pprint(query)\n",
    "pp.pprint(query_out)"
   ]
  },
  {
   "cell_type": "markdown",
   "id": "525f0d1d",
   "metadata": {},
   "source": [
    "The `results` property contains pathways resulting from the query message. Each pathway is organized into edge_bindings and node bindings and contains results for the edges and nodes specified in the query message.  Results are defined using the node and edge identifiers. The attributes for those nodes and edges (including the names) are available via the `knowledge_graph` component of the `message` section of the response."
   ]
  },
  {
   "cell_type": "code",
   "execution_count": null,
   "id": "e98dcea6",
   "metadata": {},
   "outputs": [],
   "source": [
    "pp.pprint(results)"
   ]
  },
  {
   "cell_type": "markdown",
   "id": "1d4d6181",
   "metadata": {},
   "source": [
    "The `knowledge_graph` contains information about each of the Nodes and Edges found in `results`.  An example of a Node and an Edge are shown below.  "
   ]
  },
  {
   "cell_type": "code",
   "execution_count": null,
   "id": "1aa88f70",
   "metadata": {},
   "outputs": [],
   "source": [
    "pp.pprint(kg.keys())"
   ]
  },
  {
   "cell_type": "markdown",
   "id": "cea8e5c8",
   "metadata": {},
   "source": [
    "Information returned for the each Node includes the concept ID (key), biolink categories, the name/label, attributes, the value type, and others.  Note that each entry under the `nodes` level is itemized in dictionary format with the key corresponding to the identifier used to define the `Result`.  The content for one Node is shown below."
   ]
  },
  {
   "cell_type": "code",
   "execution_count": null,
   "id": "dce3e3c7",
   "metadata": {},
   "outputs": [],
   "source": [
    "next(iter( kg['nodes'].items() ))"
   ]
  },
  {
   "cell_type": "markdown",
   "id": "24130a8c",
   "metadata": {},
   "source": [
    "Information returned for the each Edge includes the edge ID (key), the subject's concept ID, the object's concept ID, the edge's predicate, any qualifiers, and attributes.  Note that each entry under the `edges` level is itemized in dictionary format  with the key corresponding to the identifier used to define the `Result`.  The content for one Edge is shown below."
   ]
  },
  {
   "cell_type": "code",
   "execution_count": null,
   "id": "8d1e2a3d",
   "metadata": {},
   "outputs": [],
   "source": [
    "next(iter( kg['edges'].items() ))"
   ]
  },
  {
   "cell_type": "markdown",
   "id": "07b69f86",
   "metadata": {},
   "source": [
    "The following sections show how the `knowledge_graph` can be used to annotate the `results`, which serve to bind the components of the `knowedge_graph` to the original `query_graph` used to find the `knowledge_graph`. A single result is shown below to highlight the features we'll use for the subsequent summaries. The `node_bindings` link the components of the `query_graph` to the identifiers of the nodes within the `knowledge_graph`. The keys for these bindings correspond to the identifiers used to define the `query_graph` above. For this example nodes are defined with an \"n\" followed by a number corresponding to the order of the node in the `query_graph`. The `edge_bindings` have identifiers defined with \"e\" plus a number specifying the order. In both cases, the `id` field corresponds to the corresponding identifier in the `knowledge_graph`. The `result` includes a score field defined with \"s\" plus a number, which is not used when directly querying ROBOKOP using TRAPI. This field is present here due to using the Aragorn API."
   ]
  },
  {
   "cell_type": "code",
   "execution_count": null,
   "id": "8cb2fc88",
   "metadata": {},
   "outputs": [],
   "source": [
    "# Illustrating the structure of each pathway result from the message property\n",
    "pp.pprint(results[0])"
   ]
  },
  {
   "cell_type": "markdown",
   "id": "b0609aed",
   "metadata": {},
   "source": [
    "To export the results from our query, we create a directory with today's date to hold the output files and then convert our output dictionaries into a set of tables, which can be easily exported."
   ]
  },
  {
   "cell_type": "code",
   "execution_count": null,
   "id": "e0e9dce4",
   "metadata": {},
   "outputs": [],
   "source": [
    "from datetime import datetime\n",
    "from pathlib import Path\n",
    "\n",
    "now = datetime.now()\n",
    "dt_string = now.strftime(\"%Y-%m-%d_%H%M%S\")\n",
    "write_dir = Path(\"output/TRAPI\",str(dt_string))\n",
    "write_dir.mkdir(parents=True, exist_ok=True)"
   ]
  },
  {
   "cell_type": "markdown",
   "id": "e174e457",
   "metadata": {},
   "source": [
    "The code below writes out nodes from our `results`, but NOT the edges connecting the nodes."
   ]
  },
  {
   "cell_type": "code",
   "execution_count": null,
   "id": "3e18935e",
   "metadata": {},
   "outputs": [],
   "source": [
    "import pandas as pd\n",
    "import os\n",
    "\n",
    "cols = []\n",
    "for node in sorted(results[0]['node_bindings'].keys()):\n",
    "    cols.append(node)\n",
    "    cols.append(node + '_name')\n",
    "results_df = pd.DataFrame(columns = cols)\n",
    "\n",
    "results_list = []\n",
    "for result in results:\n",
    "    result_dict = {}\n",
    "    for node in sorted(result['node_bindings'].keys()):\n",
    "        node_id = result['node_bindings'][node][0]['id']\n",
    "        result_dict[node] = node_id\n",
    "        result_dict[node + '_name'] = kg['nodes'][node_id]['name']\n",
    "\n",
    "    results_list.append(pd.DataFrame([result_dict]))\n",
    "results_df = pd.concat(results_list)\n",
    "display(results_df)\n",
    "results_df.to_csv(os.path.join(write_dir,'results_TRAPI.csv'), index=False)\n",
    "\n",
    "combined_node_list = [\"_\".join([row[1].replace(\" \", \"_\"), row[3].replace(\" \", \"_\"), row[5].replace(\" \", \"_\")]) for row in results_df[cols].to_numpy()]\n",
    "pp.pprint(combined_node_list)"
   ]
  },
  {
   "cell_type": "markdown",
   "id": "9725dca8",
   "metadata": {},
   "source": [
    "The edge IDs are then retrieved from the `results` and used to find the corresponding `predicate` label in the `knowledge_graph`. Two nodes can have more than one edge connecting them because each edge represents a distinct type of association derived from a single data source. Because of this, the number of rows in this report may differ from the set of results above. For an answer with three nodes such as this one, there will be at least one edge between nodes 1 and 2 as well as nodes 2 and 3. The direction of the edge connecting two nodes can differ as well, such as for \"Buprenorphine\" and \"CYP2D6\" below. Sometimes a single association type will be derived from multiple data sources. In the code below, we print a single edge for each association type and include the count of the number of data sources where that association was found. The following writes out all unique edges for each of the results in the format of `subject` -> `predicate` -> `object` and exports the information into a single file per `result`."
   ]
  },
  {
   "cell_type": "code",
   "execution_count": null,
   "id": "0b5e9964",
   "metadata": {},
   "outputs": [],
   "source": [
    "from collections import Counter\n",
    "import json\n",
    "import pprint\n",
    "pp = pprint.PrettyPrinter(indent=5)\n",
    "\n",
    "for i in range(number_pathway_results):\n",
    "    print(f\"Pathway result: {combined_node_list[i]}\")\n",
    "    edge_bindings = results[i]['edge_bindings']\n",
    "\n",
    "    edge_ids = []\n",
    "    for edge_name, edge_list in edge_bindings.items():\n",
    "        edge_ids.append({edge_name: [x['id'] for x in edge_list]})\n",
    "\n",
    "    string_out_list = []\n",
    "    for edge_dict in edge_ids:\n",
    "        for edge_name, edge_list in edge_dict.items():\n",
    "            for edge_id in edge_list:\n",
    "                subject_id = kg['edges'][edge_id]['subject']\n",
    "                subject = kg['nodes'][subject_id]['name']\n",
    "                predicate = kg['edges'][edge_id]['predicate']\n",
    "                object_id = kg['edges'][edge_id]['object']\n",
    "                object = kg['nodes'][object_id]['name']\n",
    "                string_out = f\"{subject} -> {predicate} -> {object}\"\n",
    "                string_out_list.append(string_out)\n",
    "    string_out_dict = dict(Counter(string_out_list).items())\n",
    "    pp.pprint(string_out_dict)\n",
    "    print(\"\")\n",
    "    \n",
    "    with open(os.path.join(write_dir,combined_node_list[i]+\".txt\"), 'w') as convert_file:\n",
    "        convert_file.write(json.dumps(string_out_dict))\n",
    "        "
   ]
  },
  {
   "cell_type": "markdown",
   "id": "0889f01a",
   "metadata": {},
   "source": [
    "We see that the connection between Buprenorphine and CYP2D6 consists of two edge types `biolink:affects` and `biolink:directly_physically_interacts_with`. The `biolink:affects` relationship is bidirectional with one edge starting with Buprenorphine (`Buprenorphine -> biolink:affects -> CYP2D6`) and one starting with CYP2D6 (`CYP2D6 -> biolink:affects -> Buprenorphine`). These three edges are repeated for all results that include Buprenorphine and CYP2D6 as the first two nodes. Those results differ in the type of tremor found for the third node. There are three edges connecting Buprenorphine and OPRM1 (`biolink:affects`, `biolink:directly_physically_interacts_with`, `biolink:related_to`). Of note, the `biolink:affects` was identified in 4 different knowledge sources as indicated by the count reported after the colon."
   ]
  },
  {
   "cell_type": "code",
   "execution_count": null,
   "id": "7873e085",
   "metadata": {},
   "outputs": [],
   "source": [
    "pp.pprint(results[0].keys())\n",
    "pp.pprint(results[0]['node_bindings'].keys())\n",
    "pp.pprint(results[0]['edge_bindings'].keys())\n",
    "pp.pprint(results[0]['score'])"
   ]
  },
  {
   "cell_type": "code",
   "execution_count": null,
   "id": "a5d31505-e956-4efa-8fa1-78a159cccc4e",
   "metadata": {},
   "outputs": [],
   "source": [
    "for result in results:\n",
    "    print(result['score'])"
   ]
  },
  {
   "cell_type": "code",
   "execution_count": null,
   "id": "ac803294-dd61-4969-a7fd-c6c0f90d2ca0",
   "metadata": {},
   "outputs": [],
   "source": [
    "aragorn_result_summaries = []\n",
    "for r in results:\n",
    "    rs = f\"Score={round(r['score'], 3)}: \"\n",
    "    j = 0\n",
    "    while j < len(nodes):\n",
    "        node_id = r['node_bindings'][nodes[j]][0]['id']\n",
    "        node_name = kg['nodes'][node_id]['name']\n",
    "        rs = rs + f\"{node_name} ({node_id})\"\n",
    "        if j < len(edges):\n",
    "            edge_id = r['edge_bindings'][edges[j]][0]['id']\n",
    "            edge_name = kg['edges'][edge_id]['predicate']\n",
    "            rs = rs + f\"--{edge_name}-->\"\n",
    "        j = j + 1\n",
    "    aragorn_result_summaries.append(rs)"
   ]
  },
  {
   "cell_type": "code",
   "execution_count": null,
   "id": "1ae8ab5b-f102-4574-8adf-033db0a37b68",
   "metadata": {},
   "outputs": [],
   "source": [
    "for rs in aragorn_result_summaries:\n",
    "    print(rs)"
   ]
  },
  {
   "cell_type": "markdown",
   "id": "7a6045b4",
   "metadata": {},
   "source": [
    "The following assumes that the node names will sort in the correct order, which is the case with the default naming conventions. This exports the results showing the nodes and the score assigned to each result."
   ]
  },
  {
   "cell_type": "code",
   "execution_count": null,
   "id": "682cd8bf",
   "metadata": {},
   "outputs": [],
   "source": [
    "cols = []\n",
    "for node in sorted(results[0]['node_bindings'].keys()):\n",
    "    cols.append(node)\n",
    "    cols.append(node + '_name')\n",
    "results_df = pd.DataFrame(columns = cols)\n",
    "\n",
    "for result in results:\n",
    "    result_dict = {}\n",
    "    for node in result['node_bindings'].keys():\n",
    "        node_id = result['node_bindings'][node][0]['id']\n",
    "        result_dict[node] = node_id\n",
    "        result_dict[node + '_name'] = kg['nodes'][node_id]['name']\n",
    "    result_dict['score'] = result['score']\n",
    "    #print(result_dict)\n",
    "\n",
    "    results_df = results_df.append(result_dict, ignore_index=True)\n",
    "print(results_df)\n",
    "results_df.to_csv(os.path.join(write_dir,'results_TRAPI_aragorn.csv'))\n"
   ]
  },
  {
   "cell_type": "code",
   "execution_count": null,
   "id": "cdf34a37",
   "metadata": {},
   "outputs": [],
   "source": [
    "pp.pprint(kg['edges'])"
   ]
  },
  {
   "cell_type": "code",
   "execution_count": null,
   "id": "3f83fc83-e4b8-473b-9a66-8b90e0a886d7",
   "metadata": {},
   "outputs": [],
   "source": []
  }
 ],
 "metadata": {
  "kernelspec": {
   "display_name": "Python 3 (ipykernel)",
   "language": "python",
   "name": "python3"
  },
  "language_info": {
   "codemirror_mode": {
    "name": "ipython",
    "version": 3
   },
   "file_extension": ".py",
   "mimetype": "text/x-python",
   "name": "python",
   "nbconvert_exporter": "python",
   "pygments_lexer": "ipython3",
   "version": "3.8.10"
  }
 },
 "nbformat": 4,
 "nbformat_minor": 5
}
